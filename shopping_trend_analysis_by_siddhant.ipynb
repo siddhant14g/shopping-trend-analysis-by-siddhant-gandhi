{
  "nbformat": 4,
  "nbformat_minor": 0,
  "metadata": {
    "colab": {
      "provenance": []
    },
    "kernelspec": {
      "name": "python3",
      "display_name": "Python 3"
    },
    "language_info": {
      "name": "python"
    }
  },
  "cells": [
    {
      "cell_type": "code",
      "execution_count": 67,
      "metadata": {
        "id": "vyPlWUgYKFd1"
      },
      "outputs": [],
      "source": [
        "import numpy as np\n",
        "import pandas as pd\n",
        "import seaborn as sns\n",
        "import matplotlib.pyplot as plt\n",
        "import plotly.express as px"
      ]
    },
    {
      "cell_type": "code",
      "source": [
        "\n",
        "df = pd.read_csv('shopping_trends_updated.csv')\n"
      ],
      "metadata": {
        "id": "xiK5MOvXMan3"
      },
      "execution_count": 68,
      "outputs": []
    },
    {
      "cell_type": "code",
      "source": [
        "df.shape"
      ],
      "metadata": {
        "colab": {
          "base_uri": "https://localhost:8080/"
        },
        "id": "DKcsF59hNN90",
        "outputId": "b6f849c4-528f-415c-e64e-43c9f70e248d"
      },
      "execution_count": 69,
      "outputs": [
        {
          "output_type": "execute_result",
          "data": {
            "text/plain": [
              "(3900, 18)"
            ]
          },
          "metadata": {},
          "execution_count": 69
        }
      ]
    },
    {
      "cell_type": "code",
      "source": [
        "df.to_excel('shopping_trends_updated.xlsx')"
      ],
      "metadata": {
        "id": "-jKO9SHgNUI1"
      },
      "execution_count": 70,
      "outputs": []
    },
    {
      "cell_type": "code",
      "source": [
        "df.head()"
      ],
      "metadata": {
        "colab": {
          "base_uri": "https://localhost:8080/",
          "height": 292
        },
        "id": "m9fsDk4cNbgS",
        "outputId": "b3aded4c-8830-4718-8dbf-41130ee904e4"
      },
      "execution_count": 71,
      "outputs": [
        {
          "output_type": "execute_result",
          "data": {
            "text/plain": [
              "   Customer ID  Age Gender Item Purchased  Category  Purchase Amount (USD)  \\\n",
              "0            1   55   Male         Blouse  Clothing                     53   \n",
              "1            2   19   Male        Sweater  Clothing                     64   \n",
              "2            3   50   Male          Jeans  Clothing                     73   \n",
              "3            4   21   Male        Sandals  Footwear                     90   \n",
              "4            5   45   Male         Blouse  Clothing                     49   \n",
              "\n",
              "        Location Size      Color  Season  Review Rating Subscription Status  \\\n",
              "0       Kentucky    L       Gray  Winter            3.1                 Yes   \n",
              "1          Maine    L     Maroon  Winter            3.1                 Yes   \n",
              "2  Massachusetts    S     Maroon  Spring            3.1                 Yes   \n",
              "3   Rhode Island    M     Maroon  Spring            3.5                 Yes   \n",
              "4         Oregon    M  Turquoise  Spring            2.7                 Yes   \n",
              "\n",
              "   Shipping Type Discount Applied Promo Code Used  Previous Purchases  \\\n",
              "0        Express              Yes             Yes                  14   \n",
              "1        Express              Yes             Yes                   2   \n",
              "2  Free Shipping              Yes             Yes                  23   \n",
              "3   Next Day Air              Yes             Yes                  49   \n",
              "4  Free Shipping              Yes             Yes                  31   \n",
              "\n",
              "  Payment Method Frequency of Purchases  \n",
              "0          Venmo            Fortnightly  \n",
              "1           Cash            Fortnightly  \n",
              "2    Credit Card                 Weekly  \n",
              "3         PayPal                 Weekly  \n",
              "4         PayPal               Annually  "
            ],
            "text/html": [
              "\n",
              "  <div id=\"df-e289f5a4-e5f0-4cc7-9c02-c22c5b2a7ea6\" class=\"colab-df-container\">\n",
              "    <div>\n",
              "<style scoped>\n",
              "    .dataframe tbody tr th:only-of-type {\n",
              "        vertical-align: middle;\n",
              "    }\n",
              "\n",
              "    .dataframe tbody tr th {\n",
              "        vertical-align: top;\n",
              "    }\n",
              "\n",
              "    .dataframe thead th {\n",
              "        text-align: right;\n",
              "    }\n",
              "</style>\n",
              "<table border=\"1\" class=\"dataframe\">\n",
              "  <thead>\n",
              "    <tr style=\"text-align: right;\">\n",
              "      <th></th>\n",
              "      <th>Customer ID</th>\n",
              "      <th>Age</th>\n",
              "      <th>Gender</th>\n",
              "      <th>Item Purchased</th>\n",
              "      <th>Category</th>\n",
              "      <th>Purchase Amount (USD)</th>\n",
              "      <th>Location</th>\n",
              "      <th>Size</th>\n",
              "      <th>Color</th>\n",
              "      <th>Season</th>\n",
              "      <th>Review Rating</th>\n",
              "      <th>Subscription Status</th>\n",
              "      <th>Shipping Type</th>\n",
              "      <th>Discount Applied</th>\n",
              "      <th>Promo Code Used</th>\n",
              "      <th>Previous Purchases</th>\n",
              "      <th>Payment Method</th>\n",
              "      <th>Frequency of Purchases</th>\n",
              "    </tr>\n",
              "  </thead>\n",
              "  <tbody>\n",
              "    <tr>\n",
              "      <th>0</th>\n",
              "      <td>1</td>\n",
              "      <td>55</td>\n",
              "      <td>Male</td>\n",
              "      <td>Blouse</td>\n",
              "      <td>Clothing</td>\n",
              "      <td>53</td>\n",
              "      <td>Kentucky</td>\n",
              "      <td>L</td>\n",
              "      <td>Gray</td>\n",
              "      <td>Winter</td>\n",
              "      <td>3.1</td>\n",
              "      <td>Yes</td>\n",
              "      <td>Express</td>\n",
              "      <td>Yes</td>\n",
              "      <td>Yes</td>\n",
              "      <td>14</td>\n",
              "      <td>Venmo</td>\n",
              "      <td>Fortnightly</td>\n",
              "    </tr>\n",
              "    <tr>\n",
              "      <th>1</th>\n",
              "      <td>2</td>\n",
              "      <td>19</td>\n",
              "      <td>Male</td>\n",
              "      <td>Sweater</td>\n",
              "      <td>Clothing</td>\n",
              "      <td>64</td>\n",
              "      <td>Maine</td>\n",
              "      <td>L</td>\n",
              "      <td>Maroon</td>\n",
              "      <td>Winter</td>\n",
              "      <td>3.1</td>\n",
              "      <td>Yes</td>\n",
              "      <td>Express</td>\n",
              "      <td>Yes</td>\n",
              "      <td>Yes</td>\n",
              "      <td>2</td>\n",
              "      <td>Cash</td>\n",
              "      <td>Fortnightly</td>\n",
              "    </tr>\n",
              "    <tr>\n",
              "      <th>2</th>\n",
              "      <td>3</td>\n",
              "      <td>50</td>\n",
              "      <td>Male</td>\n",
              "      <td>Jeans</td>\n",
              "      <td>Clothing</td>\n",
              "      <td>73</td>\n",
              "      <td>Massachusetts</td>\n",
              "      <td>S</td>\n",
              "      <td>Maroon</td>\n",
              "      <td>Spring</td>\n",
              "      <td>3.1</td>\n",
              "      <td>Yes</td>\n",
              "      <td>Free Shipping</td>\n",
              "      <td>Yes</td>\n",
              "      <td>Yes</td>\n",
              "      <td>23</td>\n",
              "      <td>Credit Card</td>\n",
              "      <td>Weekly</td>\n",
              "    </tr>\n",
              "    <tr>\n",
              "      <th>3</th>\n",
              "      <td>4</td>\n",
              "      <td>21</td>\n",
              "      <td>Male</td>\n",
              "      <td>Sandals</td>\n",
              "      <td>Footwear</td>\n",
              "      <td>90</td>\n",
              "      <td>Rhode Island</td>\n",
              "      <td>M</td>\n",
              "      <td>Maroon</td>\n",
              "      <td>Spring</td>\n",
              "      <td>3.5</td>\n",
              "      <td>Yes</td>\n",
              "      <td>Next Day Air</td>\n",
              "      <td>Yes</td>\n",
              "      <td>Yes</td>\n",
              "      <td>49</td>\n",
              "      <td>PayPal</td>\n",
              "      <td>Weekly</td>\n",
              "    </tr>\n",
              "    <tr>\n",
              "      <th>4</th>\n",
              "      <td>5</td>\n",
              "      <td>45</td>\n",
              "      <td>Male</td>\n",
              "      <td>Blouse</td>\n",
              "      <td>Clothing</td>\n",
              "      <td>49</td>\n",
              "      <td>Oregon</td>\n",
              "      <td>M</td>\n",
              "      <td>Turquoise</td>\n",
              "      <td>Spring</td>\n",
              "      <td>2.7</td>\n",
              "      <td>Yes</td>\n",
              "      <td>Free Shipping</td>\n",
              "      <td>Yes</td>\n",
              "      <td>Yes</td>\n",
              "      <td>31</td>\n",
              "      <td>PayPal</td>\n",
              "      <td>Annually</td>\n",
              "    </tr>\n",
              "  </tbody>\n",
              "</table>\n",
              "</div>\n",
              "    <div class=\"colab-df-buttons\">\n",
              "\n",
              "  <div class=\"colab-df-container\">\n",
              "    <button class=\"colab-df-convert\" onclick=\"convertToInteractive('df-e289f5a4-e5f0-4cc7-9c02-c22c5b2a7ea6')\"\n",
              "            title=\"Convert this dataframe to an interactive table.\"\n",
              "            style=\"display:none;\">\n",
              "\n",
              "  <svg xmlns=\"http://www.w3.org/2000/svg\" height=\"24px\" viewBox=\"0 -960 960 960\">\n",
              "    <path d=\"M120-120v-720h720v720H120Zm60-500h600v-160H180v160Zm220 220h160v-160H400v160Zm0 220h160v-160H400v160ZM180-400h160v-160H180v160Zm440 0h160v-160H620v160ZM180-180h160v-160H180v160Zm440 0h160v-160H620v160Z\"/>\n",
              "  </svg>\n",
              "    </button>\n",
              "\n",
              "  <style>\n",
              "    .colab-df-container {\n",
              "      display:flex;\n",
              "      gap: 12px;\n",
              "    }\n",
              "\n",
              "    .colab-df-convert {\n",
              "      background-color: #E8F0FE;\n",
              "      border: none;\n",
              "      border-radius: 50%;\n",
              "      cursor: pointer;\n",
              "      display: none;\n",
              "      fill: #1967D2;\n",
              "      height: 32px;\n",
              "      padding: 0 0 0 0;\n",
              "      width: 32px;\n",
              "    }\n",
              "\n",
              "    .colab-df-convert:hover {\n",
              "      background-color: #E2EBFA;\n",
              "      box-shadow: 0px 1px 2px rgba(60, 64, 67, 0.3), 0px 1px 3px 1px rgba(60, 64, 67, 0.15);\n",
              "      fill: #174EA6;\n",
              "    }\n",
              "\n",
              "    .colab-df-buttons div {\n",
              "      margin-bottom: 4px;\n",
              "    }\n",
              "\n",
              "    [theme=dark] .colab-df-convert {\n",
              "      background-color: #3B4455;\n",
              "      fill: #D2E3FC;\n",
              "    }\n",
              "\n",
              "    [theme=dark] .colab-df-convert:hover {\n",
              "      background-color: #434B5C;\n",
              "      box-shadow: 0px 1px 3px 1px rgba(0, 0, 0, 0.15);\n",
              "      filter: drop-shadow(0px 1px 2px rgba(0, 0, 0, 0.3));\n",
              "      fill: #FFFFFF;\n",
              "    }\n",
              "  </style>\n",
              "\n",
              "    <script>\n",
              "      const buttonEl =\n",
              "        document.querySelector('#df-e289f5a4-e5f0-4cc7-9c02-c22c5b2a7ea6 button.colab-df-convert');\n",
              "      buttonEl.style.display =\n",
              "        google.colab.kernel.accessAllowed ? 'block' : 'none';\n",
              "\n",
              "      async function convertToInteractive(key) {\n",
              "        const element = document.querySelector('#df-e289f5a4-e5f0-4cc7-9c02-c22c5b2a7ea6');\n",
              "        const dataTable =\n",
              "          await google.colab.kernel.invokeFunction('convertToInteractive',\n",
              "                                                    [key], {});\n",
              "        if (!dataTable) return;\n",
              "\n",
              "        const docLinkHtml = 'Like what you see? Visit the ' +\n",
              "          '<a target=\"_blank\" href=https://colab.research.google.com/notebooks/data_table.ipynb>data table notebook</a>'\n",
              "          + ' to learn more about interactive tables.';\n",
              "        element.innerHTML = '';\n",
              "        dataTable['output_type'] = 'display_data';\n",
              "        await google.colab.output.renderOutput(dataTable, element);\n",
              "        const docLink = document.createElement('div');\n",
              "        docLink.innerHTML = docLinkHtml;\n",
              "        element.appendChild(docLink);\n",
              "      }\n",
              "    </script>\n",
              "  </div>\n",
              "\n",
              "\n",
              "<div id=\"df-4c72b767-2837-4b40-89d1-9b811e3d7ca5\">\n",
              "  <button class=\"colab-df-quickchart\" onclick=\"quickchart('df-4c72b767-2837-4b40-89d1-9b811e3d7ca5')\"\n",
              "            title=\"Suggest charts\"\n",
              "            style=\"display:none;\">\n",
              "\n",
              "<svg xmlns=\"http://www.w3.org/2000/svg\" height=\"24px\"viewBox=\"0 0 24 24\"\n",
              "     width=\"24px\">\n",
              "    <g>\n",
              "        <path d=\"M19 3H5c-1.1 0-2 .9-2 2v14c0 1.1.9 2 2 2h14c1.1 0 2-.9 2-2V5c0-1.1-.9-2-2-2zM9 17H7v-7h2v7zm4 0h-2V7h2v10zm4 0h-2v-4h2v4z\"/>\n",
              "    </g>\n",
              "</svg>\n",
              "  </button>\n",
              "\n",
              "<style>\n",
              "  .colab-df-quickchart {\n",
              "      --bg-color: #E8F0FE;\n",
              "      --fill-color: #1967D2;\n",
              "      --hover-bg-color: #E2EBFA;\n",
              "      --hover-fill-color: #174EA6;\n",
              "      --disabled-fill-color: #AAA;\n",
              "      --disabled-bg-color: #DDD;\n",
              "  }\n",
              "\n",
              "  [theme=dark] .colab-df-quickchart {\n",
              "      --bg-color: #3B4455;\n",
              "      --fill-color: #D2E3FC;\n",
              "      --hover-bg-color: #434B5C;\n",
              "      --hover-fill-color: #FFFFFF;\n",
              "      --disabled-bg-color: #3B4455;\n",
              "      --disabled-fill-color: #666;\n",
              "  }\n",
              "\n",
              "  .colab-df-quickchart {\n",
              "    background-color: var(--bg-color);\n",
              "    border: none;\n",
              "    border-radius: 50%;\n",
              "    cursor: pointer;\n",
              "    display: none;\n",
              "    fill: var(--fill-color);\n",
              "    height: 32px;\n",
              "    padding: 0;\n",
              "    width: 32px;\n",
              "  }\n",
              "\n",
              "  .colab-df-quickchart:hover {\n",
              "    background-color: var(--hover-bg-color);\n",
              "    box-shadow: 0 1px 2px rgba(60, 64, 67, 0.3), 0 1px 3px 1px rgba(60, 64, 67, 0.15);\n",
              "    fill: var(--button-hover-fill-color);\n",
              "  }\n",
              "\n",
              "  .colab-df-quickchart-complete:disabled,\n",
              "  .colab-df-quickchart-complete:disabled:hover {\n",
              "    background-color: var(--disabled-bg-color);\n",
              "    fill: var(--disabled-fill-color);\n",
              "    box-shadow: none;\n",
              "  }\n",
              "\n",
              "  .colab-df-spinner {\n",
              "    border: 2px solid var(--fill-color);\n",
              "    border-color: transparent;\n",
              "    border-bottom-color: var(--fill-color);\n",
              "    animation:\n",
              "      spin 1s steps(1) infinite;\n",
              "  }\n",
              "\n",
              "  @keyframes spin {\n",
              "    0% {\n",
              "      border-color: transparent;\n",
              "      border-bottom-color: var(--fill-color);\n",
              "      border-left-color: var(--fill-color);\n",
              "    }\n",
              "    20% {\n",
              "      border-color: transparent;\n",
              "      border-left-color: var(--fill-color);\n",
              "      border-top-color: var(--fill-color);\n",
              "    }\n",
              "    30% {\n",
              "      border-color: transparent;\n",
              "      border-left-color: var(--fill-color);\n",
              "      border-top-color: var(--fill-color);\n",
              "      border-right-color: var(--fill-color);\n",
              "    }\n",
              "    40% {\n",
              "      border-color: transparent;\n",
              "      border-right-color: var(--fill-color);\n",
              "      border-top-color: var(--fill-color);\n",
              "    }\n",
              "    60% {\n",
              "      border-color: transparent;\n",
              "      border-right-color: var(--fill-color);\n",
              "    }\n",
              "    80% {\n",
              "      border-color: transparent;\n",
              "      border-right-color: var(--fill-color);\n",
              "      border-bottom-color: var(--fill-color);\n",
              "    }\n",
              "    90% {\n",
              "      border-color: transparent;\n",
              "      border-bottom-color: var(--fill-color);\n",
              "    }\n",
              "  }\n",
              "</style>\n",
              "\n",
              "  <script>\n",
              "    async function quickchart(key) {\n",
              "      const quickchartButtonEl =\n",
              "        document.querySelector('#' + key + ' button');\n",
              "      quickchartButtonEl.disabled = true;  // To prevent multiple clicks.\n",
              "      quickchartButtonEl.classList.add('colab-df-spinner');\n",
              "      try {\n",
              "        const charts = await google.colab.kernel.invokeFunction(\n",
              "            'suggestCharts', [key], {});\n",
              "      } catch (error) {\n",
              "        console.error('Error during call to suggestCharts:', error);\n",
              "      }\n",
              "      quickchartButtonEl.classList.remove('colab-df-spinner');\n",
              "      quickchartButtonEl.classList.add('colab-df-quickchart-complete');\n",
              "    }\n",
              "    (() => {\n",
              "      let quickchartButtonEl =\n",
              "        document.querySelector('#df-4c72b767-2837-4b40-89d1-9b811e3d7ca5 button');\n",
              "      quickchartButtonEl.style.display =\n",
              "        google.colab.kernel.accessAllowed ? 'block' : 'none';\n",
              "    })();\n",
              "  </script>\n",
              "</div>\n",
              "\n",
              "    </div>\n",
              "  </div>\n"
            ],
            "application/vnd.google.colaboratory.intrinsic+json": {
              "type": "dataframe",
              "variable_name": "df",
              "summary": "{\n  \"name\": \"df\",\n  \"rows\": 3900,\n  \"fields\": [\n    {\n      \"column\": \"Customer ID\",\n      \"properties\": {\n        \"dtype\": \"number\",\n        \"std\": 1125,\n        \"min\": 1,\n        \"max\": 3900,\n        \"num_unique_values\": 3900,\n        \"samples\": [\n          840,\n          1718,\n          322\n        ],\n        \"semantic_type\": \"\",\n        \"description\": \"\"\n      }\n    },\n    {\n      \"column\": \"Age\",\n      \"properties\": {\n        \"dtype\": \"number\",\n        \"std\": 15,\n        \"min\": 18,\n        \"max\": 70,\n        \"num_unique_values\": 53,\n        \"samples\": [\n          56,\n          24,\n          51\n        ],\n        \"semantic_type\": \"\",\n        \"description\": \"\"\n      }\n    },\n    {\n      \"column\": \"Gender\",\n      \"properties\": {\n        \"dtype\": \"category\",\n        \"num_unique_values\": 2,\n        \"samples\": [\n          \"Female\",\n          \"Male\"\n        ],\n        \"semantic_type\": \"\",\n        \"description\": \"\"\n      }\n    },\n    {\n      \"column\": \"Item Purchased\",\n      \"properties\": {\n        \"dtype\": \"category\",\n        \"num_unique_values\": 25,\n        \"samples\": [\n          \"Handbag\",\n          \"Jewelry\"\n        ],\n        \"semantic_type\": \"\",\n        \"description\": \"\"\n      }\n    },\n    {\n      \"column\": \"Category\",\n      \"properties\": {\n        \"dtype\": \"category\",\n        \"num_unique_values\": 4,\n        \"samples\": [\n          \"Footwear\",\n          \"Accessories\"\n        ],\n        \"semantic_type\": \"\",\n        \"description\": \"\"\n      }\n    },\n    {\n      \"column\": \"Purchase Amount (USD)\",\n      \"properties\": {\n        \"dtype\": \"number\",\n        \"std\": 23,\n        \"min\": 20,\n        \"max\": 100,\n        \"num_unique_values\": 81,\n        \"samples\": [\n          60,\n          53\n        ],\n        \"semantic_type\": \"\",\n        \"description\": \"\"\n      }\n    },\n    {\n      \"column\": \"Location\",\n      \"properties\": {\n        \"dtype\": \"category\",\n        \"num_unique_values\": 50,\n        \"samples\": [\n          \"New Hampshire\",\n          \"Connecticut\"\n        ],\n        \"semantic_type\": \"\",\n        \"description\": \"\"\n      }\n    },\n    {\n      \"column\": \"Size\",\n      \"properties\": {\n        \"dtype\": \"category\",\n        \"num_unique_values\": 4,\n        \"samples\": [\n          \"S\",\n          \"XL\"\n        ],\n        \"semantic_type\": \"\",\n        \"description\": \"\"\n      }\n    },\n    {\n      \"column\": \"Color\",\n      \"properties\": {\n        \"dtype\": \"category\",\n        \"num_unique_values\": 25,\n        \"samples\": [\n          \"Olive\",\n          \"Red\"\n        ],\n        \"semantic_type\": \"\",\n        \"description\": \"\"\n      }\n    },\n    {\n      \"column\": \"Season\",\n      \"properties\": {\n        \"dtype\": \"category\",\n        \"num_unique_values\": 4,\n        \"samples\": [\n          \"Spring\",\n          \"Fall\"\n        ],\n        \"semantic_type\": \"\",\n        \"description\": \"\"\n      }\n    },\n    {\n      \"column\": \"Review Rating\",\n      \"properties\": {\n        \"dtype\": \"number\",\n        \"std\": 0.7162228139312449,\n        \"min\": 2.5,\n        \"max\": 5.0,\n        \"num_unique_values\": 26,\n        \"samples\": [\n          4.9,\n          5.0\n        ],\n        \"semantic_type\": \"\",\n        \"description\": \"\"\n      }\n    },\n    {\n      \"column\": \"Subscription Status\",\n      \"properties\": {\n        \"dtype\": \"category\",\n        \"num_unique_values\": 2,\n        \"samples\": [\n          \"No\",\n          \"Yes\"\n        ],\n        \"semantic_type\": \"\",\n        \"description\": \"\"\n      }\n    },\n    {\n      \"column\": \"Shipping Type\",\n      \"properties\": {\n        \"dtype\": \"category\",\n        \"num_unique_values\": 6,\n        \"samples\": [\n          \"Express\",\n          \"Free Shipping\"\n        ],\n        \"semantic_type\": \"\",\n        \"description\": \"\"\n      }\n    },\n    {\n      \"column\": \"Discount Applied\",\n      \"properties\": {\n        \"dtype\": \"category\",\n        \"num_unique_values\": 2,\n        \"samples\": [\n          \"No\",\n          \"Yes\"\n        ],\n        \"semantic_type\": \"\",\n        \"description\": \"\"\n      }\n    },\n    {\n      \"column\": \"Promo Code Used\",\n      \"properties\": {\n        \"dtype\": \"category\",\n        \"num_unique_values\": 2,\n        \"samples\": [\n          \"No\",\n          \"Yes\"\n        ],\n        \"semantic_type\": \"\",\n        \"description\": \"\"\n      }\n    },\n    {\n      \"column\": \"Previous Purchases\",\n      \"properties\": {\n        \"dtype\": \"number\",\n        \"std\": 14,\n        \"min\": 1,\n        \"max\": 50,\n        \"num_unique_values\": 50,\n        \"samples\": [\n          36,\n          47\n        ],\n        \"semantic_type\": \"\",\n        \"description\": \"\"\n      }\n    },\n    {\n      \"column\": \"Payment Method\",\n      \"properties\": {\n        \"dtype\": \"category\",\n        \"num_unique_values\": 6,\n        \"samples\": [\n          \"Venmo\",\n          \"Cash\"\n        ],\n        \"semantic_type\": \"\",\n        \"description\": \"\"\n      }\n    },\n    {\n      \"column\": \"Frequency of Purchases\",\n      \"properties\": {\n        \"dtype\": \"category\",\n        \"num_unique_values\": 7,\n        \"samples\": [\n          \"Fortnightly\",\n          \"Weekly\"\n        ],\n        \"semantic_type\": \"\",\n        \"description\": \"\"\n      }\n    }\n  ]\n}"
            }
          },
          "metadata": {},
          "execution_count": 71
        }
      ]
    },
    {
      "cell_type": "code",
      "source": [
        "df.dtypes"
      ],
      "metadata": {
        "colab": {
          "base_uri": "https://localhost:8080/",
          "height": 648
        },
        "id": "6Um7GtJeNwLv",
        "outputId": "6235f6d4-25fc-424b-d643-77c5d2c8e05d"
      },
      "execution_count": 72,
      "outputs": [
        {
          "output_type": "execute_result",
          "data": {
            "text/plain": [
              "Customer ID                 int64\n",
              "Age                         int64\n",
              "Gender                     object\n",
              "Item Purchased             object\n",
              "Category                   object\n",
              "Purchase Amount (USD)       int64\n",
              "Location                   object\n",
              "Size                       object\n",
              "Color                      object\n",
              "Season                     object\n",
              "Review Rating             float64\n",
              "Subscription Status        object\n",
              "Shipping Type              object\n",
              "Discount Applied           object\n",
              "Promo Code Used            object\n",
              "Previous Purchases          int64\n",
              "Payment Method             object\n",
              "Frequency of Purchases     object\n",
              "dtype: object"
            ],
            "text/html": [
              "<div>\n",
              "<style scoped>\n",
              "    .dataframe tbody tr th:only-of-type {\n",
              "        vertical-align: middle;\n",
              "    }\n",
              "\n",
              "    .dataframe tbody tr th {\n",
              "        vertical-align: top;\n",
              "    }\n",
              "\n",
              "    .dataframe thead th {\n",
              "        text-align: right;\n",
              "    }\n",
              "</style>\n",
              "<table border=\"1\" class=\"dataframe\">\n",
              "  <thead>\n",
              "    <tr style=\"text-align: right;\">\n",
              "      <th></th>\n",
              "      <th>0</th>\n",
              "    </tr>\n",
              "  </thead>\n",
              "  <tbody>\n",
              "    <tr>\n",
              "      <th>Customer ID</th>\n",
              "      <td>int64</td>\n",
              "    </tr>\n",
              "    <tr>\n",
              "      <th>Age</th>\n",
              "      <td>int64</td>\n",
              "    </tr>\n",
              "    <tr>\n",
              "      <th>Gender</th>\n",
              "      <td>object</td>\n",
              "    </tr>\n",
              "    <tr>\n",
              "      <th>Item Purchased</th>\n",
              "      <td>object</td>\n",
              "    </tr>\n",
              "    <tr>\n",
              "      <th>Category</th>\n",
              "      <td>object</td>\n",
              "    </tr>\n",
              "    <tr>\n",
              "      <th>Purchase Amount (USD)</th>\n",
              "      <td>int64</td>\n",
              "    </tr>\n",
              "    <tr>\n",
              "      <th>Location</th>\n",
              "      <td>object</td>\n",
              "    </tr>\n",
              "    <tr>\n",
              "      <th>Size</th>\n",
              "      <td>object</td>\n",
              "    </tr>\n",
              "    <tr>\n",
              "      <th>Color</th>\n",
              "      <td>object</td>\n",
              "    </tr>\n",
              "    <tr>\n",
              "      <th>Season</th>\n",
              "      <td>object</td>\n",
              "    </tr>\n",
              "    <tr>\n",
              "      <th>Review Rating</th>\n",
              "      <td>float64</td>\n",
              "    </tr>\n",
              "    <tr>\n",
              "      <th>Subscription Status</th>\n",
              "      <td>object</td>\n",
              "    </tr>\n",
              "    <tr>\n",
              "      <th>Shipping Type</th>\n",
              "      <td>object</td>\n",
              "    </tr>\n",
              "    <tr>\n",
              "      <th>Discount Applied</th>\n",
              "      <td>object</td>\n",
              "    </tr>\n",
              "    <tr>\n",
              "      <th>Promo Code Used</th>\n",
              "      <td>object</td>\n",
              "    </tr>\n",
              "    <tr>\n",
              "      <th>Previous Purchases</th>\n",
              "      <td>int64</td>\n",
              "    </tr>\n",
              "    <tr>\n",
              "      <th>Payment Method</th>\n",
              "      <td>object</td>\n",
              "    </tr>\n",
              "    <tr>\n",
              "      <th>Frequency of Purchases</th>\n",
              "      <td>object</td>\n",
              "    </tr>\n",
              "  </tbody>\n",
              "</table>\n",
              "</div><br><label><b>dtype:</b> object</label>"
            ]
          },
          "metadata": {},
          "execution_count": 72
        }
      ]
    },
    {
      "cell_type": "code",
      "source": [
        "df.columns"
      ],
      "metadata": {
        "colab": {
          "base_uri": "https://localhost:8080/"
        },
        "id": "ROfFF8XnN6HT",
        "outputId": "dc5a5e07-c0a2-4b06-e37a-143cfd1613f9"
      },
      "execution_count": 73,
      "outputs": [
        {
          "output_type": "execute_result",
          "data": {
            "text/plain": [
              "Index(['Customer ID', 'Age', 'Gender', 'Item Purchased', 'Category',\n",
              "       'Purchase Amount (USD)', 'Location', 'Size', 'Color', 'Season',\n",
              "       'Review Rating', 'Subscription Status', 'Shipping Type',\n",
              "       'Discount Applied', 'Promo Code Used', 'Previous Purchases',\n",
              "       'Payment Method', 'Frequency of Purchases'],\n",
              "      dtype='object')"
            ]
          },
          "metadata": {},
          "execution_count": 73
        }
      ]
    },
    {
      "cell_type": "code",
      "source": [
        "df.info()"
      ],
      "metadata": {
        "colab": {
          "base_uri": "https://localhost:8080/"
        },
        "id": "wRrZHhIPOKG-",
        "outputId": "e3bb8413-5d6c-4bb9-c928-0d045ba90003"
      },
      "execution_count": 74,
      "outputs": [
        {
          "output_type": "stream",
          "name": "stdout",
          "text": [
            "<class 'pandas.core.frame.DataFrame'>\n",
            "RangeIndex: 3900 entries, 0 to 3899\n",
            "Data columns (total 18 columns):\n",
            " #   Column                  Non-Null Count  Dtype  \n",
            "---  ------                  --------------  -----  \n",
            " 0   Customer ID             3900 non-null   int64  \n",
            " 1   Age                     3900 non-null   int64  \n",
            " 2   Gender                  3900 non-null   object \n",
            " 3   Item Purchased          3900 non-null   object \n",
            " 4   Category                3900 non-null   object \n",
            " 5   Purchase Amount (USD)   3900 non-null   int64  \n",
            " 6   Location                3900 non-null   object \n",
            " 7   Size                    3900 non-null   object \n",
            " 8   Color                   3900 non-null   object \n",
            " 9   Season                  3900 non-null   object \n",
            " 10  Review Rating           3900 non-null   float64\n",
            " 11  Subscription Status     3900 non-null   object \n",
            " 12  Shipping Type           3900 non-null   object \n",
            " 13  Discount Applied        3900 non-null   object \n",
            " 14  Promo Code Used         3900 non-null   object \n",
            " 15  Previous Purchases      3900 non-null   int64  \n",
            " 16  Payment Method          3900 non-null   object \n",
            " 17  Frequency of Purchases  3900 non-null   object \n",
            "dtypes: float64(1), int64(4), object(13)\n",
            "memory usage: 548.6+ KB\n"
          ]
        }
      ]
    },
    {
      "cell_type": "code",
      "source": [
        "df.isnull().sum()#this will give sum of existing null values in each column"
      ],
      "metadata": {
        "colab": {
          "base_uri": "https://localhost:8080/",
          "height": 648
        },
        "id": "2TRmCwYvOfRb",
        "outputId": "1bc497fc-670c-4148-aad1-3f25e931666b"
      },
      "execution_count": 75,
      "outputs": [
        {
          "output_type": "execute_result",
          "data": {
            "text/plain": [
              "Customer ID               0\n",
              "Age                       0\n",
              "Gender                    0\n",
              "Item Purchased            0\n",
              "Category                  0\n",
              "Purchase Amount (USD)     0\n",
              "Location                  0\n",
              "Size                      0\n",
              "Color                     0\n",
              "Season                    0\n",
              "Review Rating             0\n",
              "Subscription Status       0\n",
              "Shipping Type             0\n",
              "Discount Applied          0\n",
              "Promo Code Used           0\n",
              "Previous Purchases        0\n",
              "Payment Method            0\n",
              "Frequency of Purchases    0\n",
              "dtype: int64"
            ],
            "text/html": [
              "<div>\n",
              "<style scoped>\n",
              "    .dataframe tbody tr th:only-of-type {\n",
              "        vertical-align: middle;\n",
              "    }\n",
              "\n",
              "    .dataframe tbody tr th {\n",
              "        vertical-align: top;\n",
              "    }\n",
              "\n",
              "    .dataframe thead th {\n",
              "        text-align: right;\n",
              "    }\n",
              "</style>\n",
              "<table border=\"1\" class=\"dataframe\">\n",
              "  <thead>\n",
              "    <tr style=\"text-align: right;\">\n",
              "      <th></th>\n",
              "      <th>0</th>\n",
              "    </tr>\n",
              "  </thead>\n",
              "  <tbody>\n",
              "    <tr>\n",
              "      <th>Customer ID</th>\n",
              "      <td>0</td>\n",
              "    </tr>\n",
              "    <tr>\n",
              "      <th>Age</th>\n",
              "      <td>0</td>\n",
              "    </tr>\n",
              "    <tr>\n",
              "      <th>Gender</th>\n",
              "      <td>0</td>\n",
              "    </tr>\n",
              "    <tr>\n",
              "      <th>Item Purchased</th>\n",
              "      <td>0</td>\n",
              "    </tr>\n",
              "    <tr>\n",
              "      <th>Category</th>\n",
              "      <td>0</td>\n",
              "    </tr>\n",
              "    <tr>\n",
              "      <th>Purchase Amount (USD)</th>\n",
              "      <td>0</td>\n",
              "    </tr>\n",
              "    <tr>\n",
              "      <th>Location</th>\n",
              "      <td>0</td>\n",
              "    </tr>\n",
              "    <tr>\n",
              "      <th>Size</th>\n",
              "      <td>0</td>\n",
              "    </tr>\n",
              "    <tr>\n",
              "      <th>Color</th>\n",
              "      <td>0</td>\n",
              "    </tr>\n",
              "    <tr>\n",
              "      <th>Season</th>\n",
              "      <td>0</td>\n",
              "    </tr>\n",
              "    <tr>\n",
              "      <th>Review Rating</th>\n",
              "      <td>0</td>\n",
              "    </tr>\n",
              "    <tr>\n",
              "      <th>Subscription Status</th>\n",
              "      <td>0</td>\n",
              "    </tr>\n",
              "    <tr>\n",
              "      <th>Shipping Type</th>\n",
              "      <td>0</td>\n",
              "    </tr>\n",
              "    <tr>\n",
              "      <th>Discount Applied</th>\n",
              "      <td>0</td>\n",
              "    </tr>\n",
              "    <tr>\n",
              "      <th>Promo Code Used</th>\n",
              "      <td>0</td>\n",
              "    </tr>\n",
              "    <tr>\n",
              "      <th>Previous Purchases</th>\n",
              "      <td>0</td>\n",
              "    </tr>\n",
              "    <tr>\n",
              "      <th>Payment Method</th>\n",
              "      <td>0</td>\n",
              "    </tr>\n",
              "    <tr>\n",
              "      <th>Frequency of Purchases</th>\n",
              "      <td>0</td>\n",
              "    </tr>\n",
              "  </tbody>\n",
              "</table>\n",
              "</div><br><label><b>dtype:</b> int64</label>"
            ]
          },
          "metadata": {},
          "execution_count": 75
        }
      ]
    },
    {
      "cell_type": "code",
      "source": [
        "\n",
        "columns_to_check = ['Gender', 'Category', 'Size', 'Subscription Status',\n",
        "                    'Shipping Type', 'Discount Applied', 'Promo Code Used', 'Payment Method']\n",
        "\n",
        "for column in columns_to_check:\n",
        "    unique_values = df[column].unique()\n",
        "    print()\n",
        "    print(f\"Unique values for column '{column}':\")\n",
        "    print(unique_values)\n",
        "    print()\n",
        "    print(\"-\"*80)\n"
      ],
      "metadata": {
        "colab": {
          "base_uri": "https://localhost:8080/"
        },
        "id": "mkRLicQjQKhr",
        "outputId": "3f3b0835-0ae2-497d-fcbd-081644c501c5"
      },
      "execution_count": 76,
      "outputs": [
        {
          "output_type": "stream",
          "name": "stdout",
          "text": [
            "\n",
            "Unique values for column 'Gender':\n",
            "['Male' 'Female']\n",
            "\n",
            "--------------------------------------------------------------------------------\n",
            "\n",
            "Unique values for column 'Category':\n",
            "['Clothing' 'Footwear' 'Outerwear' 'Accessories']\n",
            "\n",
            "--------------------------------------------------------------------------------\n",
            "\n",
            "Unique values for column 'Size':\n",
            "['L' 'S' 'M' 'XL']\n",
            "\n",
            "--------------------------------------------------------------------------------\n",
            "\n",
            "Unique values for column 'Subscription Status':\n",
            "['Yes' 'No']\n",
            "\n",
            "--------------------------------------------------------------------------------\n",
            "\n",
            "Unique values for column 'Shipping Type':\n",
            "['Express' 'Free Shipping' 'Next Day Air' 'Standard' '2-Day Shipping'\n",
            " 'Store Pickup']\n",
            "\n",
            "--------------------------------------------------------------------------------\n",
            "\n",
            "Unique values for column 'Discount Applied':\n",
            "['Yes' 'No']\n",
            "\n",
            "--------------------------------------------------------------------------------\n",
            "\n",
            "Unique values for column 'Promo Code Used':\n",
            "['Yes' 'No']\n",
            "\n",
            "--------------------------------------------------------------------------------\n",
            "\n",
            "Unique values for column 'Payment Method':\n",
            "['Venmo' 'Cash' 'Credit Card' 'PayPal' 'Bank Transfer' 'Debit Card']\n",
            "\n",
            "--------------------------------------------------------------------------------\n"
          ]
        }
      ]
    },
    {
      "cell_type": "markdown",
      "source": [
        "# **What is distribution of age in dataset?**\n",
        "\n",
        "\n"
      ],
      "metadata": {
        "id": "FjlnStSPTzn1"
      }
    },
    {
      "cell_type": "code",
      "source": [
        "df['Age'].value_counts()"
      ],
      "metadata": {
        "colab": {
          "base_uri": "https://localhost:8080/",
          "height": 1000
        },
        "id": "3qIXP9dkVJNf",
        "outputId": "174ff308-e747-4181-be03-3c7702b622dd"
      },
      "execution_count": 77,
      "outputs": [
        {
          "output_type": "execute_result",
          "data": {
            "text/plain": [
              "Age\n",
              "69    88\n",
              "57    87\n",
              "41    86\n",
              "25    85\n",
              "49    84\n",
              "50    83\n",
              "54    83\n",
              "27    83\n",
              "62    83\n",
              "32    82\n",
              "19    81\n",
              "58    81\n",
              "42    80\n",
              "43    79\n",
              "28    79\n",
              "31    79\n",
              "37    77\n",
              "46    76\n",
              "29    76\n",
              "68    75\n",
              "59    75\n",
              "63    75\n",
              "56    74\n",
              "36    74\n",
              "55    73\n",
              "52    73\n",
              "64    73\n",
              "35    72\n",
              "51    72\n",
              "65    72\n",
              "40    72\n",
              "45    72\n",
              "47    71\n",
              "66    71\n",
              "30    71\n",
              "23    71\n",
              "38    70\n",
              "53    70\n",
              "18    69\n",
              "21    69\n",
              "26    69\n",
              "34    68\n",
              "48    68\n",
              "24    68\n",
              "39    68\n",
              "70    67\n",
              "22    66\n",
              "61    65\n",
              "60    65\n",
              "33    63\n",
              "20    62\n",
              "67    54\n",
              "44    51\n",
              "Name: count, dtype: int64"
            ],
            "text/html": [
              "<div>\n",
              "<style scoped>\n",
              "    .dataframe tbody tr th:only-of-type {\n",
              "        vertical-align: middle;\n",
              "    }\n",
              "\n",
              "    .dataframe tbody tr th {\n",
              "        vertical-align: top;\n",
              "    }\n",
              "\n",
              "    .dataframe thead th {\n",
              "        text-align: right;\n",
              "    }\n",
              "</style>\n",
              "<table border=\"1\" class=\"dataframe\">\n",
              "  <thead>\n",
              "    <tr style=\"text-align: right;\">\n",
              "      <th></th>\n",
              "      <th>count</th>\n",
              "    </tr>\n",
              "    <tr>\n",
              "      <th>Age</th>\n",
              "      <th></th>\n",
              "    </tr>\n",
              "  </thead>\n",
              "  <tbody>\n",
              "    <tr>\n",
              "      <th>69</th>\n",
              "      <td>88</td>\n",
              "    </tr>\n",
              "    <tr>\n",
              "      <th>57</th>\n",
              "      <td>87</td>\n",
              "    </tr>\n",
              "    <tr>\n",
              "      <th>41</th>\n",
              "      <td>86</td>\n",
              "    </tr>\n",
              "    <tr>\n",
              "      <th>25</th>\n",
              "      <td>85</td>\n",
              "    </tr>\n",
              "    <tr>\n",
              "      <th>49</th>\n",
              "      <td>84</td>\n",
              "    </tr>\n",
              "    <tr>\n",
              "      <th>50</th>\n",
              "      <td>83</td>\n",
              "    </tr>\n",
              "    <tr>\n",
              "      <th>54</th>\n",
              "      <td>83</td>\n",
              "    </tr>\n",
              "    <tr>\n",
              "      <th>27</th>\n",
              "      <td>83</td>\n",
              "    </tr>\n",
              "    <tr>\n",
              "      <th>62</th>\n",
              "      <td>83</td>\n",
              "    </tr>\n",
              "    <tr>\n",
              "      <th>32</th>\n",
              "      <td>82</td>\n",
              "    </tr>\n",
              "    <tr>\n",
              "      <th>19</th>\n",
              "      <td>81</td>\n",
              "    </tr>\n",
              "    <tr>\n",
              "      <th>58</th>\n",
              "      <td>81</td>\n",
              "    </tr>\n",
              "    <tr>\n",
              "      <th>42</th>\n",
              "      <td>80</td>\n",
              "    </tr>\n",
              "    <tr>\n",
              "      <th>43</th>\n",
              "      <td>79</td>\n",
              "    </tr>\n",
              "    <tr>\n",
              "      <th>28</th>\n",
              "      <td>79</td>\n",
              "    </tr>\n",
              "    <tr>\n",
              "      <th>31</th>\n",
              "      <td>79</td>\n",
              "    </tr>\n",
              "    <tr>\n",
              "      <th>37</th>\n",
              "      <td>77</td>\n",
              "    </tr>\n",
              "    <tr>\n",
              "      <th>46</th>\n",
              "      <td>76</td>\n",
              "    </tr>\n",
              "    <tr>\n",
              "      <th>29</th>\n",
              "      <td>76</td>\n",
              "    </tr>\n",
              "    <tr>\n",
              "      <th>68</th>\n",
              "      <td>75</td>\n",
              "    </tr>\n",
              "    <tr>\n",
              "      <th>59</th>\n",
              "      <td>75</td>\n",
              "    </tr>\n",
              "    <tr>\n",
              "      <th>63</th>\n",
              "      <td>75</td>\n",
              "    </tr>\n",
              "    <tr>\n",
              "      <th>56</th>\n",
              "      <td>74</td>\n",
              "    </tr>\n",
              "    <tr>\n",
              "      <th>36</th>\n",
              "      <td>74</td>\n",
              "    </tr>\n",
              "    <tr>\n",
              "      <th>55</th>\n",
              "      <td>73</td>\n",
              "    </tr>\n",
              "    <tr>\n",
              "      <th>52</th>\n",
              "      <td>73</td>\n",
              "    </tr>\n",
              "    <tr>\n",
              "      <th>64</th>\n",
              "      <td>73</td>\n",
              "    </tr>\n",
              "    <tr>\n",
              "      <th>35</th>\n",
              "      <td>72</td>\n",
              "    </tr>\n",
              "    <tr>\n",
              "      <th>51</th>\n",
              "      <td>72</td>\n",
              "    </tr>\n",
              "    <tr>\n",
              "      <th>65</th>\n",
              "      <td>72</td>\n",
              "    </tr>\n",
              "    <tr>\n",
              "      <th>40</th>\n",
              "      <td>72</td>\n",
              "    </tr>\n",
              "    <tr>\n",
              "      <th>45</th>\n",
              "      <td>72</td>\n",
              "    </tr>\n",
              "    <tr>\n",
              "      <th>47</th>\n",
              "      <td>71</td>\n",
              "    </tr>\n",
              "    <tr>\n",
              "      <th>66</th>\n",
              "      <td>71</td>\n",
              "    </tr>\n",
              "    <tr>\n",
              "      <th>30</th>\n",
              "      <td>71</td>\n",
              "    </tr>\n",
              "    <tr>\n",
              "      <th>23</th>\n",
              "      <td>71</td>\n",
              "    </tr>\n",
              "    <tr>\n",
              "      <th>38</th>\n",
              "      <td>70</td>\n",
              "    </tr>\n",
              "    <tr>\n",
              "      <th>53</th>\n",
              "      <td>70</td>\n",
              "    </tr>\n",
              "    <tr>\n",
              "      <th>18</th>\n",
              "      <td>69</td>\n",
              "    </tr>\n",
              "    <tr>\n",
              "      <th>21</th>\n",
              "      <td>69</td>\n",
              "    </tr>\n",
              "    <tr>\n",
              "      <th>26</th>\n",
              "      <td>69</td>\n",
              "    </tr>\n",
              "    <tr>\n",
              "      <th>34</th>\n",
              "      <td>68</td>\n",
              "    </tr>\n",
              "    <tr>\n",
              "      <th>48</th>\n",
              "      <td>68</td>\n",
              "    </tr>\n",
              "    <tr>\n",
              "      <th>24</th>\n",
              "      <td>68</td>\n",
              "    </tr>\n",
              "    <tr>\n",
              "      <th>39</th>\n",
              "      <td>68</td>\n",
              "    </tr>\n",
              "    <tr>\n",
              "      <th>70</th>\n",
              "      <td>67</td>\n",
              "    </tr>\n",
              "    <tr>\n",
              "      <th>22</th>\n",
              "      <td>66</td>\n",
              "    </tr>\n",
              "    <tr>\n",
              "      <th>61</th>\n",
              "      <td>65</td>\n",
              "    </tr>\n",
              "    <tr>\n",
              "      <th>60</th>\n",
              "      <td>65</td>\n",
              "    </tr>\n",
              "    <tr>\n",
              "      <th>33</th>\n",
              "      <td>63</td>\n",
              "    </tr>\n",
              "    <tr>\n",
              "      <th>20</th>\n",
              "      <td>62</td>\n",
              "    </tr>\n",
              "    <tr>\n",
              "      <th>67</th>\n",
              "      <td>54</td>\n",
              "    </tr>\n",
              "    <tr>\n",
              "      <th>44</th>\n",
              "      <td>51</td>\n",
              "    </tr>\n",
              "  </tbody>\n",
              "</table>\n",
              "</div><br><label><b>dtype:</b> int64</label>"
            ]
          },
          "metadata": {},
          "execution_count": 77
        }
      ]
    },
    {
      "cell_type": "code",
      "source": [
        "df['Age'].mean()# finding mean age of customers"
      ],
      "metadata": {
        "colab": {
          "base_uri": "https://localhost:8080/"
        },
        "id": "HrW9yGALVVLm",
        "outputId": "54ba9591-0008-4caf-ecfd-1ed6068cd97e"
      },
      "execution_count": 78,
      "outputs": [
        {
          "output_type": "execute_result",
          "data": {
            "text/plain": [
              "44.06846153846154"
            ]
          },
          "metadata": {},
          "execution_count": 78
        }
      ]
    },
    {
      "cell_type": "code",
      "source": [
        "#creating new clo named age_category and store category for each age group.\n",
        "\n",
        "df['Age_category'] = pd.cut(df['Age'], bins=[0, 15, 18, 30, 50, 70], labels=['child', 'teen', 'Young Adults', 'Middle-Aged Adults', 'old'])\n",
        "df.head()"
      ],
      "metadata": {
        "colab": {
          "base_uri": "https://localhost:8080/",
          "height": 312
        },
        "id": "zIB7IUHbWEhM",
        "outputId": "84948758-bb85-49d4-b0fb-8320db55c092"
      },
      "execution_count": 79,
      "outputs": [
        {
          "output_type": "execute_result",
          "data": {
            "text/plain": [
              "   Customer ID  Age Gender Item Purchased  Category  Purchase Amount (USD)  \\\n",
              "0            1   55   Male         Blouse  Clothing                     53   \n",
              "1            2   19   Male        Sweater  Clothing                     64   \n",
              "2            3   50   Male          Jeans  Clothing                     73   \n",
              "3            4   21   Male        Sandals  Footwear                     90   \n",
              "4            5   45   Male         Blouse  Clothing                     49   \n",
              "\n",
              "        Location Size      Color  Season  Review Rating Subscription Status  \\\n",
              "0       Kentucky    L       Gray  Winter            3.1                 Yes   \n",
              "1          Maine    L     Maroon  Winter            3.1                 Yes   \n",
              "2  Massachusetts    S     Maroon  Spring            3.1                 Yes   \n",
              "3   Rhode Island    M     Maroon  Spring            3.5                 Yes   \n",
              "4         Oregon    M  Turquoise  Spring            2.7                 Yes   \n",
              "\n",
              "   Shipping Type Discount Applied Promo Code Used  Previous Purchases  \\\n",
              "0        Express              Yes             Yes                  14   \n",
              "1        Express              Yes             Yes                   2   \n",
              "2  Free Shipping              Yes             Yes                  23   \n",
              "3   Next Day Air              Yes             Yes                  49   \n",
              "4  Free Shipping              Yes             Yes                  31   \n",
              "\n",
              "  Payment Method Frequency of Purchases        Age_category  \n",
              "0          Venmo            Fortnightly                 old  \n",
              "1           Cash            Fortnightly        Young Adults  \n",
              "2    Credit Card                 Weekly  Middle-Aged Adults  \n",
              "3         PayPal                 Weekly        Young Adults  \n",
              "4         PayPal               Annually  Middle-Aged Adults  "
            ],
            "text/html": [
              "\n",
              "  <div id=\"df-c674d019-b289-4768-959a-52f2fb314a2c\" class=\"colab-df-container\">\n",
              "    <div>\n",
              "<style scoped>\n",
              "    .dataframe tbody tr th:only-of-type {\n",
              "        vertical-align: middle;\n",
              "    }\n",
              "\n",
              "    .dataframe tbody tr th {\n",
              "        vertical-align: top;\n",
              "    }\n",
              "\n",
              "    .dataframe thead th {\n",
              "        text-align: right;\n",
              "    }\n",
              "</style>\n",
              "<table border=\"1\" class=\"dataframe\">\n",
              "  <thead>\n",
              "    <tr style=\"text-align: right;\">\n",
              "      <th></th>\n",
              "      <th>Customer ID</th>\n",
              "      <th>Age</th>\n",
              "      <th>Gender</th>\n",
              "      <th>Item Purchased</th>\n",
              "      <th>Category</th>\n",
              "      <th>Purchase Amount (USD)</th>\n",
              "      <th>Location</th>\n",
              "      <th>Size</th>\n",
              "      <th>Color</th>\n",
              "      <th>Season</th>\n",
              "      <th>Review Rating</th>\n",
              "      <th>Subscription Status</th>\n",
              "      <th>Shipping Type</th>\n",
              "      <th>Discount Applied</th>\n",
              "      <th>Promo Code Used</th>\n",
              "      <th>Previous Purchases</th>\n",
              "      <th>Payment Method</th>\n",
              "      <th>Frequency of Purchases</th>\n",
              "      <th>Age_category</th>\n",
              "    </tr>\n",
              "  </thead>\n",
              "  <tbody>\n",
              "    <tr>\n",
              "      <th>0</th>\n",
              "      <td>1</td>\n",
              "      <td>55</td>\n",
              "      <td>Male</td>\n",
              "      <td>Blouse</td>\n",
              "      <td>Clothing</td>\n",
              "      <td>53</td>\n",
              "      <td>Kentucky</td>\n",
              "      <td>L</td>\n",
              "      <td>Gray</td>\n",
              "      <td>Winter</td>\n",
              "      <td>3.1</td>\n",
              "      <td>Yes</td>\n",
              "      <td>Express</td>\n",
              "      <td>Yes</td>\n",
              "      <td>Yes</td>\n",
              "      <td>14</td>\n",
              "      <td>Venmo</td>\n",
              "      <td>Fortnightly</td>\n",
              "      <td>old</td>\n",
              "    </tr>\n",
              "    <tr>\n",
              "      <th>1</th>\n",
              "      <td>2</td>\n",
              "      <td>19</td>\n",
              "      <td>Male</td>\n",
              "      <td>Sweater</td>\n",
              "      <td>Clothing</td>\n",
              "      <td>64</td>\n",
              "      <td>Maine</td>\n",
              "      <td>L</td>\n",
              "      <td>Maroon</td>\n",
              "      <td>Winter</td>\n",
              "      <td>3.1</td>\n",
              "      <td>Yes</td>\n",
              "      <td>Express</td>\n",
              "      <td>Yes</td>\n",
              "      <td>Yes</td>\n",
              "      <td>2</td>\n",
              "      <td>Cash</td>\n",
              "      <td>Fortnightly</td>\n",
              "      <td>Young Adults</td>\n",
              "    </tr>\n",
              "    <tr>\n",
              "      <th>2</th>\n",
              "      <td>3</td>\n",
              "      <td>50</td>\n",
              "      <td>Male</td>\n",
              "      <td>Jeans</td>\n",
              "      <td>Clothing</td>\n",
              "      <td>73</td>\n",
              "      <td>Massachusetts</td>\n",
              "      <td>S</td>\n",
              "      <td>Maroon</td>\n",
              "      <td>Spring</td>\n",
              "      <td>3.1</td>\n",
              "      <td>Yes</td>\n",
              "      <td>Free Shipping</td>\n",
              "      <td>Yes</td>\n",
              "      <td>Yes</td>\n",
              "      <td>23</td>\n",
              "      <td>Credit Card</td>\n",
              "      <td>Weekly</td>\n",
              "      <td>Middle-Aged Adults</td>\n",
              "    </tr>\n",
              "    <tr>\n",
              "      <th>3</th>\n",
              "      <td>4</td>\n",
              "      <td>21</td>\n",
              "      <td>Male</td>\n",
              "      <td>Sandals</td>\n",
              "      <td>Footwear</td>\n",
              "      <td>90</td>\n",
              "      <td>Rhode Island</td>\n",
              "      <td>M</td>\n",
              "      <td>Maroon</td>\n",
              "      <td>Spring</td>\n",
              "      <td>3.5</td>\n",
              "      <td>Yes</td>\n",
              "      <td>Next Day Air</td>\n",
              "      <td>Yes</td>\n",
              "      <td>Yes</td>\n",
              "      <td>49</td>\n",
              "      <td>PayPal</td>\n",
              "      <td>Weekly</td>\n",
              "      <td>Young Adults</td>\n",
              "    </tr>\n",
              "    <tr>\n",
              "      <th>4</th>\n",
              "      <td>5</td>\n",
              "      <td>45</td>\n",
              "      <td>Male</td>\n",
              "      <td>Blouse</td>\n",
              "      <td>Clothing</td>\n",
              "      <td>49</td>\n",
              "      <td>Oregon</td>\n",
              "      <td>M</td>\n",
              "      <td>Turquoise</td>\n",
              "      <td>Spring</td>\n",
              "      <td>2.7</td>\n",
              "      <td>Yes</td>\n",
              "      <td>Free Shipping</td>\n",
              "      <td>Yes</td>\n",
              "      <td>Yes</td>\n",
              "      <td>31</td>\n",
              "      <td>PayPal</td>\n",
              "      <td>Annually</td>\n",
              "      <td>Middle-Aged Adults</td>\n",
              "    </tr>\n",
              "  </tbody>\n",
              "</table>\n",
              "</div>\n",
              "    <div class=\"colab-df-buttons\">\n",
              "\n",
              "  <div class=\"colab-df-container\">\n",
              "    <button class=\"colab-df-convert\" onclick=\"convertToInteractive('df-c674d019-b289-4768-959a-52f2fb314a2c')\"\n",
              "            title=\"Convert this dataframe to an interactive table.\"\n",
              "            style=\"display:none;\">\n",
              "\n",
              "  <svg xmlns=\"http://www.w3.org/2000/svg\" height=\"24px\" viewBox=\"0 -960 960 960\">\n",
              "    <path d=\"M120-120v-720h720v720H120Zm60-500h600v-160H180v160Zm220 220h160v-160H400v160Zm0 220h160v-160H400v160ZM180-400h160v-160H180v160Zm440 0h160v-160H620v160ZM180-180h160v-160H180v160Zm440 0h160v-160H620v160Z\"/>\n",
              "  </svg>\n",
              "    </button>\n",
              "\n",
              "  <style>\n",
              "    .colab-df-container {\n",
              "      display:flex;\n",
              "      gap: 12px;\n",
              "    }\n",
              "\n",
              "    .colab-df-convert {\n",
              "      background-color: #E8F0FE;\n",
              "      border: none;\n",
              "      border-radius: 50%;\n",
              "      cursor: pointer;\n",
              "      display: none;\n",
              "      fill: #1967D2;\n",
              "      height: 32px;\n",
              "      padding: 0 0 0 0;\n",
              "      width: 32px;\n",
              "    }\n",
              "\n",
              "    .colab-df-convert:hover {\n",
              "      background-color: #E2EBFA;\n",
              "      box-shadow: 0px 1px 2px rgba(60, 64, 67, 0.3), 0px 1px 3px 1px rgba(60, 64, 67, 0.15);\n",
              "      fill: #174EA6;\n",
              "    }\n",
              "\n",
              "    .colab-df-buttons div {\n",
              "      margin-bottom: 4px;\n",
              "    }\n",
              "\n",
              "    [theme=dark] .colab-df-convert {\n",
              "      background-color: #3B4455;\n",
              "      fill: #D2E3FC;\n",
              "    }\n",
              "\n",
              "    [theme=dark] .colab-df-convert:hover {\n",
              "      background-color: #434B5C;\n",
              "      box-shadow: 0px 1px 3px 1px rgba(0, 0, 0, 0.15);\n",
              "      filter: drop-shadow(0px 1px 2px rgba(0, 0, 0, 0.3));\n",
              "      fill: #FFFFFF;\n",
              "    }\n",
              "  </style>\n",
              "\n",
              "    <script>\n",
              "      const buttonEl =\n",
              "        document.querySelector('#df-c674d019-b289-4768-959a-52f2fb314a2c button.colab-df-convert');\n",
              "      buttonEl.style.display =\n",
              "        google.colab.kernel.accessAllowed ? 'block' : 'none';\n",
              "\n",
              "      async function convertToInteractive(key) {\n",
              "        const element = document.querySelector('#df-c674d019-b289-4768-959a-52f2fb314a2c');\n",
              "        const dataTable =\n",
              "          await google.colab.kernel.invokeFunction('convertToInteractive',\n",
              "                                                    [key], {});\n",
              "        if (!dataTable) return;\n",
              "\n",
              "        const docLinkHtml = 'Like what you see? Visit the ' +\n",
              "          '<a target=\"_blank\" href=https://colab.research.google.com/notebooks/data_table.ipynb>data table notebook</a>'\n",
              "          + ' to learn more about interactive tables.';\n",
              "        element.innerHTML = '';\n",
              "        dataTable['output_type'] = 'display_data';\n",
              "        await google.colab.output.renderOutput(dataTable, element);\n",
              "        const docLink = document.createElement('div');\n",
              "        docLink.innerHTML = docLinkHtml;\n",
              "        element.appendChild(docLink);\n",
              "      }\n",
              "    </script>\n",
              "  </div>\n",
              "\n",
              "\n",
              "<div id=\"df-91f2f2c5-92f3-40f9-8685-7cdbf3081a87\">\n",
              "  <button class=\"colab-df-quickchart\" onclick=\"quickchart('df-91f2f2c5-92f3-40f9-8685-7cdbf3081a87')\"\n",
              "            title=\"Suggest charts\"\n",
              "            style=\"display:none;\">\n",
              "\n",
              "<svg xmlns=\"http://www.w3.org/2000/svg\" height=\"24px\"viewBox=\"0 0 24 24\"\n",
              "     width=\"24px\">\n",
              "    <g>\n",
              "        <path d=\"M19 3H5c-1.1 0-2 .9-2 2v14c0 1.1.9 2 2 2h14c1.1 0 2-.9 2-2V5c0-1.1-.9-2-2-2zM9 17H7v-7h2v7zm4 0h-2V7h2v10zm4 0h-2v-4h2v4z\"/>\n",
              "    </g>\n",
              "</svg>\n",
              "  </button>\n",
              "\n",
              "<style>\n",
              "  .colab-df-quickchart {\n",
              "      --bg-color: #E8F0FE;\n",
              "      --fill-color: #1967D2;\n",
              "      --hover-bg-color: #E2EBFA;\n",
              "      --hover-fill-color: #174EA6;\n",
              "      --disabled-fill-color: #AAA;\n",
              "      --disabled-bg-color: #DDD;\n",
              "  }\n",
              "\n",
              "  [theme=dark] .colab-df-quickchart {\n",
              "      --bg-color: #3B4455;\n",
              "      --fill-color: #D2E3FC;\n",
              "      --hover-bg-color: #434B5C;\n",
              "      --hover-fill-color: #FFFFFF;\n",
              "      --disabled-bg-color: #3B4455;\n",
              "      --disabled-fill-color: #666;\n",
              "  }\n",
              "\n",
              "  .colab-df-quickchart {\n",
              "    background-color: var(--bg-color);\n",
              "    border: none;\n",
              "    border-radius: 50%;\n",
              "    cursor: pointer;\n",
              "    display: none;\n",
              "    fill: var(--fill-color);\n",
              "    height: 32px;\n",
              "    padding: 0;\n",
              "    width: 32px;\n",
              "  }\n",
              "\n",
              "  .colab-df-quickchart:hover {\n",
              "    background-color: var(--hover-bg-color);\n",
              "    box-shadow: 0 1px 2px rgba(60, 64, 67, 0.3), 0 1px 3px 1px rgba(60, 64, 67, 0.15);\n",
              "    fill: var(--button-hover-fill-color);\n",
              "  }\n",
              "\n",
              "  .colab-df-quickchart-complete:disabled,\n",
              "  .colab-df-quickchart-complete:disabled:hover {\n",
              "    background-color: var(--disabled-bg-color);\n",
              "    fill: var(--disabled-fill-color);\n",
              "    box-shadow: none;\n",
              "  }\n",
              "\n",
              "  .colab-df-spinner {\n",
              "    border: 2px solid var(--fill-color);\n",
              "    border-color: transparent;\n",
              "    border-bottom-color: var(--fill-color);\n",
              "    animation:\n",
              "      spin 1s steps(1) infinite;\n",
              "  }\n",
              "\n",
              "  @keyframes spin {\n",
              "    0% {\n",
              "      border-color: transparent;\n",
              "      border-bottom-color: var(--fill-color);\n",
              "      border-left-color: var(--fill-color);\n",
              "    }\n",
              "    20% {\n",
              "      border-color: transparent;\n",
              "      border-left-color: var(--fill-color);\n",
              "      border-top-color: var(--fill-color);\n",
              "    }\n",
              "    30% {\n",
              "      border-color: transparent;\n",
              "      border-left-color: var(--fill-color);\n",
              "      border-top-color: var(--fill-color);\n",
              "      border-right-color: var(--fill-color);\n",
              "    }\n",
              "    40% {\n",
              "      border-color: transparent;\n",
              "      border-right-color: var(--fill-color);\n",
              "      border-top-color: var(--fill-color);\n",
              "    }\n",
              "    60% {\n",
              "      border-color: transparent;\n",
              "      border-right-color: var(--fill-color);\n",
              "    }\n",
              "    80% {\n",
              "      border-color: transparent;\n",
              "      border-right-color: var(--fill-color);\n",
              "      border-bottom-color: var(--fill-color);\n",
              "    }\n",
              "    90% {\n",
              "      border-color: transparent;\n",
              "      border-bottom-color: var(--fill-color);\n",
              "    }\n",
              "  }\n",
              "</style>\n",
              "\n",
              "  <script>\n",
              "    async function quickchart(key) {\n",
              "      const quickchartButtonEl =\n",
              "        document.querySelector('#' + key + ' button');\n",
              "      quickchartButtonEl.disabled = true;  // To prevent multiple clicks.\n",
              "      quickchartButtonEl.classList.add('colab-df-spinner');\n",
              "      try {\n",
              "        const charts = await google.colab.kernel.invokeFunction(\n",
              "            'suggestCharts', [key], {});\n",
              "      } catch (error) {\n",
              "        console.error('Error during call to suggestCharts:', error);\n",
              "      }\n",
              "      quickchartButtonEl.classList.remove('colab-df-spinner');\n",
              "      quickchartButtonEl.classList.add('colab-df-quickchart-complete');\n",
              "    }\n",
              "    (() => {\n",
              "      let quickchartButtonEl =\n",
              "        document.querySelector('#df-91f2f2c5-92f3-40f9-8685-7cdbf3081a87 button');\n",
              "      quickchartButtonEl.style.display =\n",
              "        google.colab.kernel.accessAllowed ? 'block' : 'none';\n",
              "    })();\n",
              "  </script>\n",
              "</div>\n",
              "\n",
              "    </div>\n",
              "  </div>\n"
            ],
            "application/vnd.google.colaboratory.intrinsic+json": {
              "type": "dataframe",
              "variable_name": "df",
              "summary": "{\n  \"name\": \"df\",\n  \"rows\": 3900,\n  \"fields\": [\n    {\n      \"column\": \"Customer ID\",\n      \"properties\": {\n        \"dtype\": \"number\",\n        \"std\": 1125,\n        \"min\": 1,\n        \"max\": 3900,\n        \"num_unique_values\": 3900,\n        \"samples\": [\n          840,\n          1718,\n          322\n        ],\n        \"semantic_type\": \"\",\n        \"description\": \"\"\n      }\n    },\n    {\n      \"column\": \"Age\",\n      \"properties\": {\n        \"dtype\": \"number\",\n        \"std\": 15,\n        \"min\": 18,\n        \"max\": 70,\n        \"num_unique_values\": 53,\n        \"samples\": [\n          56,\n          24,\n          51\n        ],\n        \"semantic_type\": \"\",\n        \"description\": \"\"\n      }\n    },\n    {\n      \"column\": \"Gender\",\n      \"properties\": {\n        \"dtype\": \"category\",\n        \"num_unique_values\": 2,\n        \"samples\": [\n          \"Female\",\n          \"Male\"\n        ],\n        \"semantic_type\": \"\",\n        \"description\": \"\"\n      }\n    },\n    {\n      \"column\": \"Item Purchased\",\n      \"properties\": {\n        \"dtype\": \"category\",\n        \"num_unique_values\": 25,\n        \"samples\": [\n          \"Handbag\",\n          \"Jewelry\"\n        ],\n        \"semantic_type\": \"\",\n        \"description\": \"\"\n      }\n    },\n    {\n      \"column\": \"Category\",\n      \"properties\": {\n        \"dtype\": \"category\",\n        \"num_unique_values\": 4,\n        \"samples\": [\n          \"Footwear\",\n          \"Accessories\"\n        ],\n        \"semantic_type\": \"\",\n        \"description\": \"\"\n      }\n    },\n    {\n      \"column\": \"Purchase Amount (USD)\",\n      \"properties\": {\n        \"dtype\": \"number\",\n        \"std\": 23,\n        \"min\": 20,\n        \"max\": 100,\n        \"num_unique_values\": 81,\n        \"samples\": [\n          60,\n          53\n        ],\n        \"semantic_type\": \"\",\n        \"description\": \"\"\n      }\n    },\n    {\n      \"column\": \"Location\",\n      \"properties\": {\n        \"dtype\": \"category\",\n        \"num_unique_values\": 50,\n        \"samples\": [\n          \"New Hampshire\",\n          \"Connecticut\"\n        ],\n        \"semantic_type\": \"\",\n        \"description\": \"\"\n      }\n    },\n    {\n      \"column\": \"Size\",\n      \"properties\": {\n        \"dtype\": \"category\",\n        \"num_unique_values\": 4,\n        \"samples\": [\n          \"S\",\n          \"XL\"\n        ],\n        \"semantic_type\": \"\",\n        \"description\": \"\"\n      }\n    },\n    {\n      \"column\": \"Color\",\n      \"properties\": {\n        \"dtype\": \"category\",\n        \"num_unique_values\": 25,\n        \"samples\": [\n          \"Olive\",\n          \"Red\"\n        ],\n        \"semantic_type\": \"\",\n        \"description\": \"\"\n      }\n    },\n    {\n      \"column\": \"Season\",\n      \"properties\": {\n        \"dtype\": \"category\",\n        \"num_unique_values\": 4,\n        \"samples\": [\n          \"Spring\",\n          \"Fall\"\n        ],\n        \"semantic_type\": \"\",\n        \"description\": \"\"\n      }\n    },\n    {\n      \"column\": \"Review Rating\",\n      \"properties\": {\n        \"dtype\": \"number\",\n        \"std\": 0.7162228139312449,\n        \"min\": 2.5,\n        \"max\": 5.0,\n        \"num_unique_values\": 26,\n        \"samples\": [\n          4.9,\n          5.0\n        ],\n        \"semantic_type\": \"\",\n        \"description\": \"\"\n      }\n    },\n    {\n      \"column\": \"Subscription Status\",\n      \"properties\": {\n        \"dtype\": \"category\",\n        \"num_unique_values\": 2,\n        \"samples\": [\n          \"No\",\n          \"Yes\"\n        ],\n        \"semantic_type\": \"\",\n        \"description\": \"\"\n      }\n    },\n    {\n      \"column\": \"Shipping Type\",\n      \"properties\": {\n        \"dtype\": \"category\",\n        \"num_unique_values\": 6,\n        \"samples\": [\n          \"Express\",\n          \"Free Shipping\"\n        ],\n        \"semantic_type\": \"\",\n        \"description\": \"\"\n      }\n    },\n    {\n      \"column\": \"Discount Applied\",\n      \"properties\": {\n        \"dtype\": \"category\",\n        \"num_unique_values\": 2,\n        \"samples\": [\n          \"No\",\n          \"Yes\"\n        ],\n        \"semantic_type\": \"\",\n        \"description\": \"\"\n      }\n    },\n    {\n      \"column\": \"Promo Code Used\",\n      \"properties\": {\n        \"dtype\": \"category\",\n        \"num_unique_values\": 2,\n        \"samples\": [\n          \"No\",\n          \"Yes\"\n        ],\n        \"semantic_type\": \"\",\n        \"description\": \"\"\n      }\n    },\n    {\n      \"column\": \"Previous Purchases\",\n      \"properties\": {\n        \"dtype\": \"number\",\n        \"std\": 14,\n        \"min\": 1,\n        \"max\": 50,\n        \"num_unique_values\": 50,\n        \"samples\": [\n          36,\n          47\n        ],\n        \"semantic_type\": \"\",\n        \"description\": \"\"\n      }\n    },\n    {\n      \"column\": \"Payment Method\",\n      \"properties\": {\n        \"dtype\": \"category\",\n        \"num_unique_values\": 6,\n        \"samples\": [\n          \"Venmo\",\n          \"Cash\"\n        ],\n        \"semantic_type\": \"\",\n        \"description\": \"\"\n      }\n    },\n    {\n      \"column\": \"Frequency of Purchases\",\n      \"properties\": {\n        \"dtype\": \"category\",\n        \"num_unique_values\": 7,\n        \"samples\": [\n          \"Fortnightly\",\n          \"Weekly\"\n        ],\n        \"semantic_type\": \"\",\n        \"description\": \"\"\n      }\n    },\n    {\n      \"column\": \"Age_category\",\n      \"properties\": {\n        \"dtype\": \"category\",\n        \"num_unique_values\": 4,\n        \"samples\": [\n          \"Young Adults\",\n          \"teen\"\n        ],\n        \"semantic_type\": \"\",\n        \"description\": \"\"\n      }\n    }\n  ]\n}"
            }
          },
          "metadata": {},
          "execution_count": 79
        }
      ]
    },
    {
      "cell_type": "code",
      "source": [
        "#The histogram will display the counts (or frequencies) of ages in each Age_category\n",
        "\n",
        "fig = px.histogram(df,  x='Age_category')\n",
        "fig.show()"
      ],
      "metadata": {
        "colab": {
          "base_uri": "https://localhost:8080/",
          "height": 542
        },
        "id": "r-rYPIPyYqdS",
        "outputId": "dcb89032-31b2-4e46-f396-02d583e9f0b8"
      },
      "execution_count": 80,
      "outputs": [
        {
          "output_type": "display_data",
          "data": {
            "text/html": [
              "<html>\n",
              "<head><meta charset=\"utf-8\" /></head>\n",
              "<body>\n",
              "    <div>            <script src=\"https://cdnjs.cloudflare.com/ajax/libs/mathjax/2.7.5/MathJax.js?config=TeX-AMS-MML_SVG\"></script><script type=\"text/javascript\">if (window.MathJax && window.MathJax.Hub && window.MathJax.Hub.Config) {window.MathJax.Hub.Config({SVG: {font: \"STIX-Web\"}});}</script>                <script type=\"text/javascript\">window.PlotlyConfig = {MathJaxConfig: 'local'};</script>\n",
              "        <script charset=\"utf-8\" src=\"https://cdn.plot.ly/plotly-2.35.2.min.js\"></script>                <div id=\"0db18293-4fa5-4f9f-9d5c-185050883300\" class=\"plotly-graph-div\" style=\"height:525px; width:100%;\"></div>            <script type=\"text/javascript\">                                    window.PLOTLYENV=window.PLOTLYENV || {};                                    if (document.getElementById(\"0db18293-4fa5-4f9f-9d5c-185050883300\")) {                    Plotly.newPlot(                        \"0db18293-4fa5-4f9f-9d5c-185050883300\",                        [{\"alignmentgroup\":\"True\",\"bingroup\":\"x\",\"hovertemplate\":\"Age_category=%{x}\\u003cbr\\u003ecount=%{y}\\u003cextra\\u003e\\u003c\\u002fextra\\u003e\",\"legendgroup\":\"\",\"marker\":{\"color\":\"#636efa\",\"pattern\":{\"shape\":\"\"}},\"name\":\"\",\"offsetgroup\":\"\",\"orientation\":\"v\",\"showlegend\":false,\"x\":[\"old\",\"Young Adults\",\"Middle-Aged Adults\",\"Young Adults\",\"Middle-Aged Adults\",\"Middle-Aged Adults\",\"old\",\"Young Adults\",\"Young Adults\",\"old\",\"old\",\"Young Adults\",\"old\",\"old\",\"old\",\"old\",\"Young Adults\",\"old\",\"old\",\"old\",\"Young Adults\",\"Middle-Aged Adults\",\"old\",\"Middle-Aged Adults\",\"teen\",\"teen\",\"Middle-Aged Adults\",\"old\",\"old\",\"Middle-Aged Adults\",\"old\",\"Middle-Aged Adults\",\"Middle-Aged Adults\",\"old\",\"Middle-Aged Adults\",\"old\",\"Middle-Aged Adults\",\"Middle-Aged Adults\",\"Young Adults\",\"old\",\"old\",\"old\",\"Young Adults\",\"Young Adults\",\"Middle-Aged Adults\",\"Middle-Aged Adults\",\"old\",\"old\",\"Middle-Aged Adults\",\"old\",\"Middle-Aged Adults\",\"old\",\"Middle-Aged Adults\",\"Young Adults\",\"Middle-Aged Adults\",\"Middle-Aged Adults\",\"Middle-Aged Adults\",\"Young Adults\",\"old\",\"old\",\"Middle-Aged Adults\",\"old\",\"Young Adults\",\"Middle-Aged Adults\",\"old\",\"old\",\"Middle-Aged Adults\",\"Middle-Aged Adults\",\"old\",\"Middle-Aged Adults\",\"Young Adults\",\"Middle-Aged Adults\",\"teen\",\"Middle-Aged Adults\",\"Middle-Aged Adults\",\"old\",\"Middle-Aged Adults\",\"Young Adults\",\"Middle-Aged Adults\",\"Middle-Aged Adults\",\"Young Adults\",\"old\",\"Young Adults\",\"Middle-Aged Adults\",\"old\",\"old\",\"Young Adults\",\"old\",\"Middle-Aged Adults\",\"Middle-Aged Adults\",\"Young Adults\",\"Middle-Aged Adults\",\"old\",\"Middle-Aged Adults\",\"old\",\"Middle-Aged Adults\",\"Middle-Aged Adults\",\"Young Adults\",\"Young Adults\",\"Young Adults\",\"old\",\"Young Adults\",\"old\",\"old\",\"old\",\"old\",\"old\",\"Young Adults\",\"old\",\"old\",\"old\",\"Young Adults\",\"Middle-Aged Adults\",\"Middle-Aged Adults\",\"old\",\"old\",\"old\",\"Middle-Aged Adults\",\"Middle-Aged Adults\",\"Middle-Aged Adults\",\"old\",\"Young Adults\",\"Middle-Aged Adults\",\"old\",\"Middle-Aged Adults\",\"Middle-Aged Adults\",\"Middle-Aged Adults\",\"Young Adults\",\"Young Adults\",\"Young Adults\",\"Middle-Aged Adults\",\"Young Adults\",\"Young Adults\",\"old\",\"Middle-Aged Adults\",\"Middle-Aged Adults\",\"Middle-Aged Adults\",\"old\",\"old\",\"Middle-Aged Adults\",\"old\",\"old\",\"Middle-Aged Adults\",\"Young Adults\",\"Young Adults\",\"Young Adults\",\"old\",\"old\",\"Middle-Aged Adults\",\"Middle-Aged Adults\",\"Middle-Aged Adults\",\"Young Adults\",\"Young Adults\",\"old\",\"Middle-Aged Adults\",\"old\",\"Middle-Aged Adults\",\"Middle-Aged Adults\",\"Young Adults\",\"old\",\"Young Adults\",\"old\",\"old\",\"old\",\"old\",\"Middle-Aged Adults\",\"Middle-Aged Adults\",\"Middle-Aged Adults\",\"Middle-Aged Adults\",\"Young Adults\",\"old\",\"Young Adults\",\"old\",\"Young Adults\",\"Middle-Aged Adults\",\"old\",\"old\",\"Young Adults\",\"old\",\"old\",\"old\",\"Middle-Aged Adults\",\"Middle-Aged Adults\",\"old\",\"Middle-Aged Adults\",\"Middle-Aged Adults\",\"Middle-Aged Adults\",\"Young Adults\",\"Middle-Aged Adults\",\"Middle-Aged Adults\",\"old\",\"old\",\"Middle-Aged Adults\",\"Middle-Aged Adults\",\"old\",\"old\",\"Middle-Aged Adults\",\"old\",\"old\",\"old\",\"Young Adults\",\"old\",\"old\",\"old\",\"Young Adults\",\"old\",\"Young Adults\",\"old\",\"old\",\"old\",\"Middle-Aged Adults\",\"old\",\"old\",\"Young Adults\",\"Young Adults\",\"old\",\"Middle-Aged Adults\",\"Middle-Aged Adults\",\"Young Adults\",\"Middle-Aged Adults\",\"Middle-Aged Adults\",\"Young Adults\",\"Middle-Aged Adults\",\"Young Adults\",\"old\",\"Young Adults\",\"Young Adults\",\"Middle-Aged Adults\",\"teen\",\"old\",\"old\",\"Young Adults\",\"old\",\"Young Adults\",\"Young Adults\",\"Middle-Aged Adults\",\"Middle-Aged Adults\",\"Middle-Aged Adults\",\"old\",\"Middle-Aged Adults\",\"Middle-Aged Adults\",\"Middle-Aged Adults\",\"old\",\"Young Adults\",\"old\",\"Middle-Aged Adults\",\"Middle-Aged Adults\",\"Young Adults\",\"Middle-Aged Adults\",\"old\",\"Middle-Aged Adults\",\"Young Adults\",\"Middle-Aged Adults\",\"old\",\"old\",\"Middle-Aged Adults\",\"old\",\"Young Adults\",\"old\",\"Middle-Aged Adults\",\"Middle-Aged Adults\",\"Young Adults\",\"Middle-Aged Adults\",\"Young Adults\",\"Middle-Aged Adults\",\"Middle-Aged Adults\",\"old\",\"old\",\"old\",\"old\",\"Middle-Aged Adults\",\"old\",\"Middle-Aged Adults\",\"old\",\"old\",\"Middle-Aged Adults\",\"Young Adults\",\"Young Adults\",\"old\",\"Young Adults\",\"Middle-Aged Adults\",\"Middle-Aged Adults\",\"Young Adults\",\"Middle-Aged Adults\",\"old\",\"Young Adults\",\"Young Adults\",\"old\",\"Young Adults\",\"Middle-Aged Adults\",\"old\",\"old\",\"old\",\"old\",\"old\",\"old\",\"Young Adults\",\"Middle-Aged Adults\",\"old\",\"Young Adults\",\"Young Adults\",\"Middle-Aged Adults\",\"Middle-Aged Adults\",\"Young Adults\",\"Middle-Aged Adults\",\"old\",\"Young Adults\",\"Young Adults\",\"old\",\"old\",\"old\",\"old\",\"Middle-Aged Adults\",\"Middle-Aged Adults\",\"Young Adults\",\"old\",\"Middle-Aged Adults\",\"old\",\"Middle-Aged Adults\",\"Middle-Aged Adults\",\"old\",\"Middle-Aged Adults\",\"Middle-Aged Adults\",\"old\",\"Middle-Aged Adults\",\"old\",\"old\",\"old\",\"Middle-Aged Adults\",\"old\",\"Middle-Aged Adults\",\"Middle-Aged Adults\",\"Young Adults\",\"Middle-Aged Adults\",\"Middle-Aged Adults\",\"Young Adults\",\"Middle-Aged Adults\",\"Middle-Aged Adults\",\"old\",\"Middle-Aged Adults\",\"Middle-Aged Adults\",\"Young Adults\",\"old\",\"Young Adults\",\"Young Adults\",\"Middle-Aged Adults\",\"Middle-Aged Adults\",\"Middle-Aged Adults\",\"old\",\"Middle-Aged Adults\",\"Middle-Aged Adults\",\"Young Adults\",\"Young Adults\",\"old\",\"old\",\"Middle-Aged Adults\",\"old\",\"teen\",\"Middle-Aged Adults\",\"Middle-Aged Adults\",\"old\",\"old\",\"old\",\"old\",\"old\",\"old\",\"old\",\"old\",\"Young Adults\",\"Middle-Aged Adults\",\"old\",\"Young Adults\",\"Young Adults\",\"Young Adults\",\"old\",\"old\",\"old\",\"old\",\"old\",\"Middle-Aged Adults\",\"Middle-Aged Adults\",\"old\",\"Young Adults\",\"Middle-Aged Adults\",\"old\",\"old\",\"old\",\"Middle-Aged Adults\",\"Young Adults\",\"Young Adults\",\"Young Adults\",\"Middle-Aged Adults\",\"Young Adults\",\"Middle-Aged Adults\",\"Middle-Aged Adults\",\"Middle-Aged Adults\",\"Middle-Aged Adults\",\"Young Adults\",\"Young Adults\",\"old\",\"Middle-Aged Adults\",\"Middle-Aged Adults\",\"Middle-Aged Adults\",\"Young Adults\",\"Middle-Aged Adults\",\"Middle-Aged Adults\",\"old\",\"Middle-Aged Adults\",\"Middle-Aged Adults\",\"Middle-Aged Adults\",\"Young Adults\",\"old\",\"Young Adults\",\"old\",\"Young Adults\",\"old\",\"Middle-Aged Adults\",\"Young Adults\",\"teen\",\"old\",\"Middle-Aged Adults\",\"Middle-Aged Adults\",\"Middle-Aged Adults\",\"Middle-Aged Adults\",\"old\",\"Middle-Aged Adults\",\"Middle-Aged Adults\",\"old\",\"Young Adults\",\"Middle-Aged Adults\",\"Young Adults\",\"Middle-Aged Adults\",\"Middle-Aged Adults\",\"Middle-Aged Adults\",\"Middle-Aged Adults\",\"old\",\"Middle-Aged Adults\",\"Middle-Aged Adults\",\"old\",\"old\",\"Young Adults\",\"Middle-Aged Adults\",\"Young Adults\",\"Young Adults\",\"Middle-Aged Adults\",\"Middle-Aged Adults\",\"Young Adults\",\"old\",\"Middle-Aged Adults\",\"Young Adults\",\"Young Adults\",\"old\",\"Middle-Aged Adults\",\"old\",\"Middle-Aged Adults\",\"old\",\"Middle-Aged Adults\",\"Young Adults\",\"Middle-Aged Adults\",\"old\",\"old\",\"teen\",\"old\",\"Middle-Aged Adults\",\"Young Adults\",\"old\",\"Middle-Aged Adults\",\"Young Adults\",\"Middle-Aged Adults\",\"Young Adults\",\"Middle-Aged Adults\",\"old\",\"Young Adults\",\"Middle-Aged Adults\",\"old\",\"Young Adults\",\"Young Adults\",\"Middle-Aged Adults\",\"Middle-Aged Adults\",\"Middle-Aged Adults\",\"old\",\"Middle-Aged Adults\",\"Middle-Aged Adults\",\"Young Adults\",\"old\",\"Middle-Aged Adults\",\"Middle-Aged Adults\",\"Middle-Aged Adults\",\"old\",\"Middle-Aged Adults\",\"old\",\"Middle-Aged Adults\",\"Middle-Aged Adults\",\"Young Adults\",\"Middle-Aged Adults\",\"Middle-Aged Adults\",\"Young Adults\",\"Middle-Aged Adults\",\"Middle-Aged Adults\",\"Middle-Aged Adults\",\"Middle-Aged Adults\",\"old\",\"old\",\"old\",\"Middle-Aged Adults\",\"old\",\"Young Adults\",\"old\",\"Young Adults\",\"Middle-Aged Adults\",\"Young Adults\",\"old\",\"Young Adults\",\"Young Adults\",\"old\",\"Young Adults\",\"Middle-Aged Adults\",\"old\",\"Young Adults\",\"Young Adults\",\"old\",\"Middle-Aged Adults\",\"old\",\"Middle-Aged Adults\",\"old\",\"old\",\"old\",\"Young Adults\",\"Middle-Aged Adults\",\"Middle-Aged Adults\",\"Middle-Aged Adults\",\"Middle-Aged Adults\",\"Young Adults\",\"old\",\"old\",\"old\",\"Middle-Aged Adults\",\"Middle-Aged Adults\",\"Young Adults\",\"Middle-Aged Adults\",\"Middle-Aged Adults\",\"old\",\"Young Adults\",\"old\",\"Middle-Aged Adults\",\"Middle-Aged Adults\",\"old\",\"Middle-Aged Adults\",\"Middle-Aged Adults\",\"Middle-Aged Adults\",\"old\",\"Young Adults\",\"Young Adults\",\"old\",\"old\",\"old\",\"Middle-Aged Adults\",\"teen\",\"Middle-Aged Adults\",\"old\",\"Young Adults\",\"old\",\"old\",\"old\",\"old\",\"old\",\"old\",\"Young Adults\",\"Middle-Aged Adults\",\"old\",\"old\",\"old\",\"old\",\"old\",\"old\",\"old\",\"Middle-Aged Adults\",\"Young Adults\",\"old\",\"old\",\"Middle-Aged Adults\",\"Middle-Aged Adults\",\"Middle-Aged Adults\",\"Young Adults\",\"old\",\"old\",\"Middle-Aged Adults\",\"Young Adults\",\"Middle-Aged Adults\",\"Young Adults\",\"old\",\"Middle-Aged Adults\",\"old\",\"old\",\"Middle-Aged Adults\",\"Young Adults\",\"Young Adults\",\"old\",\"Young Adults\",\"old\",\"Young Adults\",\"Middle-Aged Adults\",\"Middle-Aged Adults\",\"Middle-Aged Adults\",\"Middle-Aged Adults\",\"Middle-Aged Adults\",\"Young Adults\",\"Middle-Aged Adults\",\"Middle-Aged Adults\",\"old\",\"old\",\"Middle-Aged Adults\",\"old\",\"old\",\"old\",\"old\",\"Young Adults\",\"Middle-Aged Adults\",\"old\",\"Young Adults\",\"Middle-Aged Adults\",\"old\",\"old\",\"Young Adults\",\"old\",\"Middle-Aged Adults\",\"Middle-Aged Adults\",\"Middle-Aged Adults\",\"old\",\"Young Adults\",\"Middle-Aged Adults\",\"old\",\"Middle-Aged Adults\",\"old\",\"Middle-Aged Adults\",\"Young Adults\",\"Middle-Aged Adults\",\"Young Adults\",\"old\",\"old\",\"old\",\"Middle-Aged Adults\",\"old\",\"teen\",\"old\",\"old\",\"old\",\"old\",\"Young Adults\",\"old\",\"Middle-Aged Adults\",\"Middle-Aged Adults\",\"old\",\"Young Adults\",\"Young Adults\",\"Young Adults\",\"Middle-Aged Adults\",\"Middle-Aged Adults\",\"old\",\"old\",\"Middle-Aged Adults\",\"old\",\"Young Adults\",\"old\",\"old\",\"Middle-Aged Adults\",\"Middle-Aged Adults\",\"Middle-Aged Adults\",\"Middle-Aged Adults\",\"Middle-Aged Adults\",\"old\",\"Middle-Aged Adults\",\"old\",\"Middle-Aged Adults\",\"Middle-Aged Adults\",\"old\",\"Young Adults\",\"old\",\"Young Adults\",\"old\",\"old\",\"Young Adults\",\"Young Adults\",\"Middle-Aged Adults\",\"old\",\"old\",\"old\",\"Young Adults\",\"Young Adults\",\"Young Adults\",\"Young Adults\",\"old\",\"Middle-Aged Adults\",\"Middle-Aged Adults\",\"Middle-Aged Adults\",\"Young Adults\",\"Middle-Aged Adults\",\"old\",\"old\",\"Middle-Aged Adults\",\"old\",\"old\",\"teen\",\"old\",\"Middle-Aged Adults\",\"Young Adults\",\"Middle-Aged Adults\",\"old\",\"Middle-Aged Adults\",\"Middle-Aged Adults\",\"Young Adults\",\"old\",\"Middle-Aged Adults\",\"Middle-Aged Adults\",\"Young Adults\",\"Middle-Aged Adults\",\"Young Adults\",\"Young Adults\",\"Young Adults\",\"old\",\"Middle-Aged Adults\",\"Middle-Aged Adults\",\"Young Adults\",\"Middle-Aged Adults\",\"Middle-Aged Adults\",\"old\",\"Middle-Aged Adults\",\"old\",\"Young Adults\",\"Middle-Aged Adults\",\"Middle-Aged Adults\",\"Middle-Aged Adults\",\"Middle-Aged Adults\",\"Middle-Aged Adults\",\"old\",\"old\",\"teen\",\"Middle-Aged Adults\",\"old\",\"old\",\"Young Adults\",\"Young Adults\",\"old\",\"Young Adults\",\"old\",\"Middle-Aged Adults\",\"Middle-Aged Adults\",\"old\",\"Middle-Aged Adults\",\"old\",\"Young Adults\",\"old\",\"Middle-Aged Adults\",\"Middle-Aged Adults\",\"Middle-Aged Adults\",\"old\",\"old\",\"Middle-Aged Adults\",\"old\",\"old\",\"Middle-Aged Adults\",\"old\",\"Middle-Aged Adults\",\"old\",\"old\",\"old\",\"old\",\"Young Adults\",\"old\",\"old\",\"Young Adults\",\"Young Adults\",\"teen\",\"Young Adults\",\"Middle-Aged Adults\",\"Middle-Aged Adults\",\"Middle-Aged Adults\",\"old\",\"Young Adults\",\"old\",\"Middle-Aged Adults\",\"Young Adults\",\"Young Adults\",\"old\",\"Middle-Aged Adults\",\"Middle-Aged Adults\",\"old\",\"old\",\"Middle-Aged Adults\",\"Middle-Aged Adults\",\"Young Adults\",\"Middle-Aged Adults\",\"Middle-Aged Adults\",\"Young Adults\",\"old\",\"Middle-Aged Adults\",\"Middle-Aged Adults\",\"Middle-Aged Adults\",\"Young Adults\",\"old\",\"Middle-Aged Adults\",\"Young Adults\",\"Middle-Aged Adults\",\"Middle-Aged Adults\",\"Middle-Aged Adults\",\"Middle-Aged Adults\",\"old\",\"Young Adults\",\"Middle-Aged Adults\",\"Middle-Aged Adults\",\"old\",\"teen\",\"old\",\"old\",\"Middle-Aged Adults\",\"Young Adults\",\"Young Adults\",\"Young Adults\",\"old\",\"old\",\"old\",\"old\",\"Middle-Aged Adults\",\"old\",\"old\",\"Young Adults\",\"old\",\"Middle-Aged Adults\",\"Young Adults\",\"Middle-Aged Adults\",\"Middle-Aged Adults\",\"old\",\"old\",\"Middle-Aged Adults\",\"old\",\"Middle-Aged Adults\",\"Young Adults\",\"Young Adults\",\"Middle-Aged Adults\",\"Middle-Aged Adults\",\"Middle-Aged Adults\",\"old\",\"old\",\"old\",\"old\",\"Middle-Aged Adults\",\"Middle-Aged Adults\",\"old\",\"Middle-Aged Adults\",\"Young Adults\",\"old\",\"Middle-Aged Adults\",\"Middle-Aged Adults\",\"old\",\"Young Adults\",\"old\",\"old\",\"Middle-Aged Adults\",\"Young Adults\",\"Middle-Aged Adults\",\"Young Adults\",\"Middle-Aged Adults\",\"Young Adults\",\"Middle-Aged Adults\",\"old\",\"old\",\"old\",\"Middle-Aged Adults\",\"Middle-Aged Adults\",\"Middle-Aged Adults\",\"old\",\"Middle-Aged Adults\",\"old\",\"old\",\"Young Adults\",\"Middle-Aged Adults\",\"Middle-Aged Adults\",\"old\",\"Young Adults\",\"old\",\"Middle-Aged Adults\",\"old\",\"Middle-Aged Adults\",\"Young Adults\",\"old\",\"Middle-Aged Adults\",\"Young Adults\",\"old\",\"Middle-Aged Adults\",\"old\",\"old\",\"Young Adults\",\"Middle-Aged Adults\",\"Middle-Aged Adults\",\"Middle-Aged Adults\",\"Middle-Aged Adults\",\"old\",\"Young Adults\",\"old\",\"old\",\"old\",\"old\",\"Middle-Aged Adults\",\"Middle-Aged Adults\",\"old\",\"Middle-Aged Adults\",\"Middle-Aged Adults\",\"Middle-Aged Adults\",\"Young Adults\",\"old\",\"Middle-Aged Adults\",\"old\",\"Young Adults\",\"Middle-Aged Adults\",\"Middle-Aged Adults\",\"Middle-Aged Adults\",\"Middle-Aged Adults\",\"old\",\"old\",\"Middle-Aged Adults\",\"Middle-Aged Adults\",\"old\",\"old\",\"old\",\"old\",\"Young Adults\",\"old\",\"Young Adults\",\"old\",\"old\",\"Young Adults\",\"Young Adults\",\"old\",\"old\",\"Middle-Aged Adults\",\"old\",\"Middle-Aged Adults\",\"Middle-Aged Adults\",\"Middle-Aged Adults\",\"Young Adults\",\"Middle-Aged Adults\",\"Middle-Aged Adults\",\"Young Adults\",\"Middle-Aged Adults\",\"old\",\"Middle-Aged Adults\",\"Middle-Aged Adults\",\"old\",\"Middle-Aged Adults\",\"Middle-Aged Adults\",\"old\",\"Middle-Aged Adults\",\"Middle-Aged Adults\",\"old\",\"old\",\"old\",\"Young Adults\",\"Middle-Aged Adults\",\"old\",\"Middle-Aged Adults\",\"teen\",\"old\",\"Young Adults\",\"Young Adults\",\"Middle-Aged Adults\",\"Middle-Aged Adults\",\"old\",\"Young Adults\",\"old\",\"Middle-Aged Adults\",\"Middle-Aged Adults\",\"Middle-Aged Adults\",\"old\",\"old\",\"old\",\"old\",\"Middle-Aged Adults\",\"Young Adults\",\"old\",\"old\",\"old\",\"Young Adults\",\"Middle-Aged Adults\",\"Young Adults\",\"Young Adults\",\"Middle-Aged Adults\",\"old\",\"old\",\"Middle-Aged Adults\",\"old\",\"Middle-Aged Adults\",\"Young Adults\",\"Middle-Aged Adults\",\"old\",\"old\",\"Middle-Aged Adults\",\"Young Adults\",\"old\",\"old\",\"Middle-Aged Adults\",\"Middle-Aged Adults\",\"old\",\"old\",\"old\",\"Middle-Aged Adults\",\"Middle-Aged Adults\",\"Young Adults\",\"old\",\"Middle-Aged Adults\",\"Middle-Aged Adults\",\"old\",\"Middle-Aged Adults\",\"Young Adults\",\"old\",\"Young Adults\",\"old\",\"Young Adults\",\"Young Adults\",\"Middle-Aged Adults\",\"Middle-Aged Adults\",\"Young Adults\",\"old\",\"old\",\"old\",\"Young Adults\",\"old\",\"Middle-Aged Adults\",\"Middle-Aged Adults\",\"Middle-Aged Adults\",\"Young Adults\",\"old\",\"Young Adults\",\"old\",\"Young Adults\",\"old\",\"old\",\"old\",\"old\",\"Middle-Aged Adults\",\"Young Adults\",\"old\",\"Middle-Aged Adults\",\"old\",\"Young Adults\",\"Middle-Aged Adults\",\"old\",\"Middle-Aged Adults\",\"Middle-Aged Adults\",\"Young Adults\",\"Middle-Aged Adults\",\"Middle-Aged Adults\",\"Middle-Aged Adults\",\"old\",\"old\",\"teen\",\"old\",\"Young Adults\",\"old\",\"Young Adults\",\"Young Adults\",\"Young Adults\",\"Middle-Aged Adults\",\"old\",\"old\",\"Middle-Aged Adults\",\"old\",\"Middle-Aged Adults\",\"teen\",\"old\",\"Middle-Aged Adults\",\"Middle-Aged Adults\",\"old\",\"Middle-Aged Adults\",\"Young Adults\",\"Middle-Aged Adults\",\"old\",\"Middle-Aged Adults\",\"old\",\"Middle-Aged Adults\",\"teen\",\"old\",\"old\",\"old\",\"Middle-Aged Adults\",\"Middle-Aged Adults\",\"Young Adults\",\"old\",\"Middle-Aged Adults\",\"Middle-Aged Adults\",\"Middle-Aged Adults\",\"Middle-Aged Adults\",\"Middle-Aged Adults\",\"old\",\"old\",\"Young Adults\",\"Young Adults\",\"old\",\"old\",\"Middle-Aged Adults\",\"Young Adults\",\"Middle-Aged Adults\",\"Young Adults\",\"old\",\"Middle-Aged Adults\",\"Middle-Aged Adults\",\"Middle-Aged Adults\",\"old\",\"old\",\"Young Adults\",\"old\",\"Young Adults\",\"Young Adults\",\"old\",\"Young Adults\",\"old\",\"Young Adults\",\"old\",\"Young Adults\",\"Middle-Aged Adults\",\"Middle-Aged Adults\",\"Young Adults\",\"old\",\"old\",\"Middle-Aged Adults\",\"Middle-Aged Adults\",\"Young Adults\",\"Young Adults\",\"Middle-Aged Adults\",\"old\",\"Middle-Aged Adults\",\"old\",\"old\",\"Middle-Aged Adults\",\"Middle-Aged Adults\",\"old\",\"old\",\"Young Adults\",\"Middle-Aged Adults\",\"teen\",\"old\",\"Middle-Aged Adults\",\"Middle-Aged Adults\",\"old\",\"old\",\"Middle-Aged Adults\",\"Middle-Aged Adults\",\"Middle-Aged Adults\",\"old\",\"Middle-Aged Adults\",\"Young Adults\",\"Young Adults\",\"Middle-Aged Adults\",\"old\",\"Young Adults\",\"Middle-Aged Adults\",\"old\",\"Young Adults\",\"Middle-Aged Adults\",\"old\",\"old\",\"Middle-Aged Adults\",\"old\",\"Middle-Aged Adults\",\"Young Adults\",\"old\",\"old\",\"Middle-Aged Adults\",\"old\",\"old\",\"Young Adults\",\"old\",\"Middle-Aged Adults\",\"old\",\"Middle-Aged Adults\",\"Middle-Aged Adults\",\"Middle-Aged Adults\",\"Middle-Aged Adults\",\"old\",\"Middle-Aged Adults\",\"Young Adults\",\"Young Adults\",\"old\",\"Middle-Aged Adults\",\"Young Adults\",\"old\",\"Middle-Aged Adults\",\"old\",\"old\",\"old\",\"old\",\"old\",\"Middle-Aged Adults\",\"Middle-Aged Adults\",\"Middle-Aged Adults\",\"Middle-Aged Adults\",\"Young Adults\",\"Young Adults\",\"old\",\"Middle-Aged Adults\",\"Middle-Aged Adults\",\"Young Adults\",\"Young Adults\",\"Middle-Aged Adults\",\"Middle-Aged Adults\",\"old\",\"old\",\"Young Adults\",\"old\",\"Young Adults\",\"Middle-Aged Adults\",\"Middle-Aged Adults\",\"Young Adults\",\"Middle-Aged Adults\",\"old\",\"Young Adults\",\"old\",\"old\",\"Middle-Aged Adults\",\"old\",\"Young Adults\",\"old\",\"teen\",\"old\",\"old\",\"old\",\"Young Adults\",\"old\",\"Young Adults\",\"old\",\"Middle-Aged Adults\",\"Young Adults\",\"old\",\"old\",\"Middle-Aged Adults\",\"Middle-Aged Adults\",\"Young Adults\",\"Middle-Aged Adults\",\"Young Adults\",\"old\",\"old\",\"Middle-Aged Adults\",\"old\",\"old\",\"Young Adults\",\"old\",\"Middle-Aged Adults\",\"Young Adults\",\"old\",\"old\",\"old\",\"old\",\"old\",\"Young Adults\",\"Middle-Aged Adults\",\"old\",\"Young Adults\",\"Middle-Aged Adults\",\"old\",\"Middle-Aged Adults\",\"old\",\"old\",\"Young Adults\",\"Young Adults\",\"Middle-Aged Adults\",\"old\",\"Middle-Aged Adults\",\"Young Adults\",\"Middle-Aged Adults\",\"Young Adults\",\"Middle-Aged Adults\",\"old\",\"old\",\"Middle-Aged Adults\",\"Middle-Aged Adults\",\"old\",\"old\",\"old\",\"Young Adults\",\"Young Adults\",\"old\",\"Young Adults\",\"Young Adults\",\"Young Adults\",\"old\",\"old\",\"old\",\"Middle-Aged Adults\",\"Young Adults\",\"old\",\"Middle-Aged Adults\",\"old\",\"old\",\"Young Adults\",\"Young Adults\",\"Young Adults\",\"Young Adults\",\"Middle-Aged Adults\",\"Middle-Aged Adults\",\"Young Adults\",\"Young Adults\",\"old\",\"Middle-Aged Adults\",\"Young Adults\",\"Middle-Aged Adults\",\"old\",\"Middle-Aged Adults\",\"old\",\"Young Adults\",\"old\",\"Middle-Aged Adults\",\"Middle-Aged Adults\",\"Middle-Aged Adults\",\"old\",\"old\",\"Middle-Aged Adults\",\"old\",\"Young Adults\",\"Young Adults\",\"old\",\"old\",\"old\",\"old\",\"Young Adults\",\"old\",\"Middle-Aged Adults\",\"Young Adults\",\"Middle-Aged Adults\",\"old\",\"Middle-Aged Adults\",\"old\",\"Young Adults\",\"Middle-Aged Adults\",\"old\",\"Young Adults\",\"Middle-Aged Adults\",\"old\",\"Young Adults\",\"Middle-Aged Adults\",\"old\",\"Middle-Aged Adults\",\"Middle-Aged Adults\",\"Young Adults\",\"old\",\"old\",\"old\",\"Middle-Aged Adults\",\"Middle-Aged Adults\",\"Middle-Aged Adults\",\"Young Adults\",\"Young Adults\",\"Middle-Aged Adults\",\"Young Adults\",\"old\",\"Middle-Aged Adults\",\"old\",\"old\",\"Middle-Aged Adults\",\"Young Adults\",\"Young Adults\",\"Young Adults\",\"old\",\"Middle-Aged Adults\",\"Middle-Aged Adults\",\"Middle-Aged Adults\",\"old\",\"Young Adults\",\"Middle-Aged Adults\",\"old\",\"Young Adults\",\"Middle-Aged Adults\",\"Young Adults\",\"Middle-Aged Adults\",\"old\",\"teen\",\"Young Adults\",\"Middle-Aged Adults\",\"old\",\"Middle-Aged Adults\",\"Middle-Aged Adults\",\"Young Adults\",\"old\",\"Young Adults\",\"old\",\"Middle-Aged Adults\",\"Middle-Aged Adults\",\"Middle-Aged Adults\",\"old\",\"Young Adults\",\"old\",\"old\",\"Young Adults\",\"old\",\"Middle-Aged Adults\",\"Middle-Aged Adults\",\"Young Adults\",\"Middle-Aged Adults\",\"Middle-Aged Adults\",\"old\",\"Young Adults\",\"Young Adults\",\"Middle-Aged Adults\",\"Young Adults\",\"old\",\"Young Adults\",\"Middle-Aged Adults\",\"Middle-Aged Adults\",\"Middle-Aged Adults\",\"old\",\"old\",\"Middle-Aged Adults\",\"old\",\"Middle-Aged Adults\",\"Young Adults\",\"old\",\"Young Adults\",\"old\",\"Middle-Aged Adults\",\"old\",\"teen\",\"Middle-Aged Adults\",\"Young Adults\",\"old\",\"Middle-Aged Adults\",\"old\",\"old\",\"old\",\"old\",\"Middle-Aged Adults\",\"Young Adults\",\"Young Adults\",\"Middle-Aged Adults\",\"Middle-Aged Adults\",\"Middle-Aged Adults\",\"old\",\"old\",\"Middle-Aged Adults\",\"Middle-Aged Adults\",\"old\",\"old\",\"Young Adults\",\"Young Adults\",\"Middle-Aged Adults\",\"old\",\"old\",\"Middle-Aged Adults\",\"old\",\"old\",\"Young Adults\",\"old\",\"teen\",\"Young Adults\",\"old\",\"old\",\"Middle-Aged Adults\",\"old\",\"old\",\"old\",\"old\",\"Middle-Aged Adults\",\"Young Adults\",\"old\",\"old\",\"Middle-Aged Adults\",\"old\",\"Middle-Aged Adults\",\"Middle-Aged Adults\",\"old\",\"Young Adults\",\"Middle-Aged Adults\",\"Young Adults\",\"Middle-Aged Adults\",\"Middle-Aged Adults\",\"Middle-Aged Adults\",\"old\",\"Middle-Aged Adults\",\"Middle-Aged Adults\",\"Middle-Aged Adults\",\"Young Adults\",\"Young Adults\",\"Middle-Aged Adults\",\"Middle-Aged Adults\",\"old\",\"Young Adults\",\"Middle-Aged Adults\",\"Middle-Aged Adults\",\"Young Adults\",\"Young Adults\",\"Middle-Aged Adults\",\"Young Adults\",\"Young Adults\",\"old\",\"Young Adults\",\"old\",\"old\",\"Middle-Aged Adults\",\"Middle-Aged Adults\",\"old\",\"old\",\"old\",\"Young Adults\",\"old\",\"Middle-Aged Adults\",\"Middle-Aged Adults\",\"Middle-Aged Adults\",\"old\",\"Middle-Aged Adults\",\"Middle-Aged Adults\",\"old\",\"Middle-Aged Adults\",\"Young Adults\",\"old\",\"Middle-Aged Adults\",\"old\",\"Young Adults\",\"Young Adults\",\"Middle-Aged Adults\",\"Young Adults\",\"old\",\"old\",\"Middle-Aged Adults\",\"Young Adults\",\"Young Adults\",\"Middle-Aged Adults\",\"old\",\"Young Adults\",\"Young Adults\",\"Middle-Aged Adults\",\"Young Adults\",\"old\",\"Young Adults\",\"old\",\"old\",\"old\",\"Middle-Aged Adults\",\"old\",\"Middle-Aged Adults\",\"teen\",\"old\",\"old\",\"Middle-Aged Adults\",\"Young Adults\",\"Young Adults\",\"old\",\"old\",\"Young Adults\",\"Middle-Aged Adults\",\"old\",\"Middle-Aged Adults\",\"old\",\"Young Adults\",\"old\",\"old\",\"old\",\"Young Adults\",\"old\",\"Middle-Aged Adults\",\"Middle-Aged Adults\",\"Young Adults\",\"Middle-Aged Adults\",\"Middle-Aged Adults\",\"old\",\"Middle-Aged Adults\",\"Middle-Aged Adults\",\"old\",\"Young Adults\",\"old\",\"Middle-Aged Adults\",\"Young Adults\",\"old\",\"Young Adults\",\"Young Adults\",\"Young Adults\",\"Middle-Aged Adults\",\"Middle-Aged Adults\",\"teen\",\"old\",\"old\",\"old\",\"old\",\"Middle-Aged Adults\",\"old\",\"old\",\"Young Adults\",\"Middle-Aged Adults\",\"Middle-Aged Adults\",\"Middle-Aged Adults\",\"Young Adults\",\"Middle-Aged Adults\",\"Middle-Aged Adults\",\"Middle-Aged Adults\",\"old\",\"teen\",\"old\",\"old\",\"Middle-Aged Adults\",\"Middle-Aged Adults\",\"Middle-Aged Adults\",\"Middle-Aged Adults\",\"Middle-Aged Adults\",\"Middle-Aged Adults\",\"Young Adults\",\"old\",\"old\",\"Young Adults\",\"teen\",\"old\",\"old\",\"Middle-Aged Adults\",\"Young Adults\",\"Middle-Aged Adults\",\"Young Adults\",\"Middle-Aged Adults\",\"teen\",\"Young Adults\",\"Young Adults\",\"old\",\"Young Adults\",\"Middle-Aged Adults\",\"old\",\"old\",\"Young Adults\",\"old\",\"Middle-Aged Adults\",\"old\",\"Middle-Aged Adults\",\"Middle-Aged Adults\",\"Middle-Aged Adults\",\"old\",\"Middle-Aged Adults\",\"Middle-Aged Adults\",\"old\",\"old\",\"Middle-Aged Adults\",\"old\",\"Young Adults\",\"old\",\"old\",\"Middle-Aged Adults\",\"old\",\"Middle-Aged Adults\",\"old\",\"Middle-Aged Adults\",\"teen\",\"Middle-Aged Adults\",\"old\",\"old\",\"old\",\"Middle-Aged Adults\",\"Middle-Aged Adults\",\"old\",\"old\",\"old\",\"old\",\"Middle-Aged Adults\",\"Middle-Aged Adults\",\"Middle-Aged Adults\",\"Young Adults\",\"old\",\"Middle-Aged Adults\",\"old\",\"old\",\"old\",\"old\",\"Middle-Aged Adults\",\"Young Adults\",\"Middle-Aged Adults\",\"old\",\"old\",\"old\",\"Middle-Aged Adults\",\"Young Adults\",\"Middle-Aged Adults\",\"teen\",\"Young Adults\",\"Middle-Aged Adults\",\"Middle-Aged Adults\",\"Young Adults\",\"old\",\"Middle-Aged Adults\",\"old\",\"old\",\"Young Adults\",\"old\",\"Young Adults\",\"Young Adults\",\"Middle-Aged Adults\",\"Young Adults\",\"old\",\"Young Adults\",\"Middle-Aged Adults\",\"Middle-Aged Adults\",\"old\",\"old\",\"old\",\"Young Adults\",\"old\",\"Middle-Aged Adults\",\"Middle-Aged Adults\",\"Young Adults\",\"Young Adults\",\"old\",\"old\",\"old\",\"Middle-Aged Adults\",\"old\",\"Middle-Aged Adults\",\"Middle-Aged Adults\",\"Young Adults\",\"Middle-Aged Adults\",\"Middle-Aged Adults\",\"Young Adults\",\"Young Adults\",\"old\",\"Middle-Aged Adults\",\"Young Adults\",\"Young Adults\",\"old\",\"Young Adults\",\"old\",\"Middle-Aged Adults\",\"Young Adults\",\"Middle-Aged Adults\",\"Middle-Aged Adults\",\"old\",\"Middle-Aged Adults\",\"Middle-Aged Adults\",\"old\",\"Middle-Aged Adults\",\"Young Adults\",\"Middle-Aged Adults\",\"Young Adults\",\"Young Adults\",\"Middle-Aged Adults\",\"old\",\"Middle-Aged Adults\",\"old\",\"old\",\"Middle-Aged Adults\",\"old\",\"Young Adults\",\"old\",\"Middle-Aged Adults\",\"old\",\"Young Adults\",\"old\",\"Middle-Aged Adults\",\"old\",\"old\",\"Middle-Aged Adults\",\"Middle-Aged Adults\",\"Middle-Aged Adults\",\"old\",\"Middle-Aged Adults\",\"Young Adults\",\"old\",\"old\",\"Middle-Aged Adults\",\"Young Adults\",\"Young Adults\",\"old\",\"Young Adults\",\"Young Adults\",\"Middle-Aged Adults\",\"Middle-Aged Adults\",\"old\",\"old\",\"old\",\"old\",\"Young Adults\",\"Middle-Aged Adults\",\"old\",\"Middle-Aged Adults\",\"old\",\"Young Adults\",\"Middle-Aged Adults\",\"teen\",\"old\",\"teen\",\"Middle-Aged Adults\",\"Young Adults\",\"old\",\"Middle-Aged Adults\",\"old\",\"Middle-Aged Adults\",\"Middle-Aged Adults\",\"Middle-Aged Adults\",\"Middle-Aged Adults\",\"Young Adults\",\"old\",\"old\",\"Middle-Aged Adults\",\"old\",\"Middle-Aged Adults\",\"old\",\"old\",\"old\",\"old\",\"old\",\"Middle-Aged Adults\",\"Middle-Aged Adults\",\"Young Adults\",\"Middle-Aged Adults\",\"old\",\"old\",\"Young Adults\",\"Middle-Aged Adults\",\"old\",\"Middle-Aged Adults\",\"old\",\"old\",\"Middle-Aged Adults\",\"Middle-Aged Adults\",\"Middle-Aged Adults\",\"Middle-Aged Adults\",\"Middle-Aged Adults\",\"old\",\"Young Adults\",\"Middle-Aged Adults\",\"old\",\"old\",\"Young Adults\",\"old\",\"old\",\"old\",\"old\",\"Young Adults\",\"Middle-Aged Adults\",\"Young Adults\",\"Middle-Aged Adults\",\"Young Adults\",\"Middle-Aged Adults\",\"old\",\"old\",\"Middle-Aged Adults\",\"Middle-Aged Adults\",\"old\",\"old\",\"Middle-Aged Adults\",\"Middle-Aged Adults\",\"Middle-Aged Adults\",\"Middle-Aged Adults\",\"Middle-Aged Adults\",\"old\",\"Middle-Aged Adults\",\"old\",\"old\",\"old\",\"Middle-Aged Adults\",\"Young Adults\",\"Young Adults\",\"old\",\"Young Adults\",\"Middle-Aged Adults\",\"Young Adults\",\"Young Adults\",\"old\",\"old\",\"old\",\"Young Adults\",\"old\",\"teen\",\"Young Adults\",\"old\",\"Young Adults\",\"Young Adults\",\"old\",\"Middle-Aged Adults\",\"Middle-Aged Adults\",\"Young Adults\",\"teen\",\"Middle-Aged Adults\",\"old\",\"Middle-Aged Adults\",\"old\",\"old\",\"old\",\"old\",\"old\",\"Middle-Aged Adults\",\"old\",\"Middle-Aged Adults\",\"old\",\"Middle-Aged Adults\",\"Young Adults\",\"Young Adults\",\"Young Adults\",\"teen\",\"old\",\"old\",\"old\",\"Middle-Aged Adults\",\"old\",\"Middle-Aged Adults\",\"Young Adults\",\"Middle-Aged Adults\",\"Middle-Aged Adults\",\"old\",\"old\",\"old\",\"Middle-Aged Adults\",\"old\",\"old\",\"Middle-Aged Adults\",\"old\",\"Young Adults\",\"Middle-Aged Adults\",\"Young Adults\",\"old\",\"teen\",\"Middle-Aged Adults\",\"Young Adults\",\"old\",\"Young Adults\",\"Middle-Aged Adults\",\"Young Adults\",\"old\",\"Young Adults\",\"Middle-Aged Adults\",\"Middle-Aged Adults\",\"Middle-Aged Adults\",\"old\",\"Middle-Aged Adults\",\"teen\",\"old\",\"Young Adults\",\"old\",\"old\",\"Middle-Aged Adults\",\"Young Adults\",\"old\",\"old\",\"old\",\"Middle-Aged Adults\",\"Middle-Aged Adults\",\"Middle-Aged Adults\",\"Young Adults\",\"old\",\"Middle-Aged Adults\",\"Middle-Aged Adults\",\"old\",\"Middle-Aged Adults\",\"old\",\"old\",\"Middle-Aged Adults\",\"Young Adults\",\"Middle-Aged Adults\",\"old\",\"old\",\"old\",\"old\",\"Middle-Aged Adults\",\"Middle-Aged Adults\",\"old\",\"Young Adults\",\"Young Adults\",\"Middle-Aged Adults\",\"old\",\"old\",\"Middle-Aged Adults\",\"Middle-Aged Adults\",\"old\",\"Middle-Aged Adults\",\"Middle-Aged Adults\",\"old\",\"Middle-Aged Adults\",\"old\",\"old\",\"Middle-Aged Adults\",\"old\",\"old\",\"Young Adults\",\"old\",\"old\",\"Young Adults\",\"Young Adults\",\"old\",\"Middle-Aged Adults\",\"Young Adults\",\"Middle-Aged Adults\",\"Middle-Aged Adults\",\"old\",\"old\",\"Middle-Aged Adults\",\"old\",\"Young Adults\",\"Young Adults\",\"old\",\"old\",\"Middle-Aged Adults\",\"Middle-Aged Adults\",\"Middle-Aged Adults\",\"Middle-Aged Adults\",\"Middle-Aged Adults\",\"Middle-Aged Adults\",\"Middle-Aged Adults\",\"old\",\"old\",\"Middle-Aged Adults\",\"Young Adults\",\"Middle-Aged Adults\",\"Young Adults\",\"old\",\"Middle-Aged Adults\",\"old\",\"Middle-Aged Adults\",\"teen\",\"old\",\"Young Adults\",\"old\",\"Middle-Aged Adults\",\"Young Adults\",\"old\",\"Middle-Aged Adults\",\"Middle-Aged Adults\",\"old\",\"old\",\"old\",\"old\",\"old\",\"Middle-Aged Adults\",\"Middle-Aged Adults\",\"old\",\"old\",\"Middle-Aged Adults\",\"old\",\"Middle-Aged Adults\",\"Middle-Aged Adults\",\"Middle-Aged Adults\",\"Young Adults\",\"Young Adults\",\"old\",\"Young Adults\",\"Middle-Aged Adults\",\"old\",\"old\",\"old\",\"Middle-Aged Adults\",\"Middle-Aged Adults\",\"old\",\"Middle-Aged Adults\",\"old\",\"old\",\"Young Adults\",\"Middle-Aged Adults\",\"Middle-Aged Adults\",\"Middle-Aged Adults\",\"Middle-Aged Adults\",\"old\",\"Middle-Aged Adults\",\"old\",\"Middle-Aged Adults\",\"old\",\"Middle-Aged Adults\",\"Young Adults\",\"old\",\"Young Adults\",\"old\",\"old\",\"Young Adults\",\"old\",\"Young Adults\",\"Middle-Aged Adults\",\"old\",\"old\",\"Middle-Aged Adults\",\"Young Adults\",\"old\",\"old\",\"old\",\"Middle-Aged Adults\",\"old\",\"old\",\"Middle-Aged Adults\",\"Middle-Aged Adults\",\"Middle-Aged Adults\",\"Middle-Aged Adults\",\"old\",\"old\",\"Middle-Aged Adults\",\"Middle-Aged Adults\",\"Young Adults\",\"Young Adults\",\"Middle-Aged Adults\",\"Middle-Aged Adults\",\"Middle-Aged Adults\",\"old\",\"old\",\"old\",\"Middle-Aged Adults\",\"Middle-Aged Adults\",\"old\",\"Young Adults\",\"Middle-Aged Adults\",\"Young Adults\",\"old\",\"Middle-Aged Adults\",\"Young Adults\",\"Middle-Aged Adults\",\"Middle-Aged Adults\",\"Middle-Aged Adults\",\"old\",\"Middle-Aged Adults\",\"Young Adults\",\"Young Adults\",\"old\",\"old\",\"old\",\"Middle-Aged Adults\",\"old\",\"old\",\"old\",\"Middle-Aged Adults\",\"Middle-Aged Adults\",\"old\",\"Middle-Aged Adults\",\"Middle-Aged Adults\",\"old\",\"Young Adults\",\"old\",\"old\",\"old\",\"Middle-Aged Adults\",\"Middle-Aged Adults\",\"old\",\"Middle-Aged Adults\",\"old\",\"old\",\"old\",\"old\",\"Middle-Aged Adults\",\"Young Adults\",\"Young Adults\",\"Young Adults\",\"Young Adults\",\"old\",\"Middle-Aged Adults\",\"Middle-Aged Adults\",\"Young Adults\",\"old\",\"Middle-Aged Adults\",\"old\",\"Young Adults\",\"Middle-Aged Adults\",\"old\",\"Middle-Aged Adults\",\"Middle-Aged Adults\",\"Middle-Aged Adults\",\"Middle-Aged Adults\",\"Young Adults\",\"Middle-Aged Adults\",\"old\",\"old\",\"Middle-Aged Adults\",\"Middle-Aged Adults\",\"Middle-Aged Adults\",\"Middle-Aged Adults\",\"Middle-Aged Adults\",\"Middle-Aged Adults\",\"Young Adults\",\"teen\",\"Middle-Aged Adults\",\"Young Adults\",\"old\",\"old\",\"Middle-Aged Adults\",\"Young Adults\",\"Middle-Aged Adults\",\"Young Adults\",\"Young Adults\",\"Middle-Aged Adults\",\"Middle-Aged Adults\",\"Middle-Aged Adults\",\"Young Adults\",\"Young Adults\",\"Middle-Aged Adults\",\"old\",\"Young Adults\",\"Young Adults\",\"Young Adults\",\"Middle-Aged Adults\",\"Middle-Aged Adults\",\"Young Adults\",\"Middle-Aged Adults\",\"Young Adults\",\"Middle-Aged Adults\",\"Middle-Aged Adults\",\"old\",\"Middle-Aged Adults\",\"Middle-Aged Adults\",\"Middle-Aged Adults\",\"Middle-Aged Adults\",\"Young Adults\",\"Middle-Aged Adults\",\"Young Adults\",\"old\",\"old\",\"Young Adults\",\"Middle-Aged Adults\",\"old\",\"Middle-Aged Adults\",\"old\",\"Middle-Aged Adults\",\"Middle-Aged Adults\",\"old\",\"Young Adults\",\"Middle-Aged Adults\",\"Middle-Aged Adults\",\"old\",\"Young Adults\",\"Middle-Aged Adults\",\"Young Adults\",\"Middle-Aged Adults\",\"old\",\"old\",\"Middle-Aged Adults\",\"Young Adults\",\"Middle-Aged Adults\",\"Middle-Aged Adults\",\"old\",\"Middle-Aged Adults\",\"Young Adults\",\"Young Adults\",\"Middle-Aged Adults\",\"Young Adults\",\"teen\",\"Middle-Aged Adults\",\"Young Adults\",\"Middle-Aged Adults\",\"old\",\"old\",\"old\",\"Middle-Aged Adults\",\"old\",\"Middle-Aged Adults\",\"Middle-Aged Adults\",\"Middle-Aged Adults\",\"Young Adults\",\"Middle-Aged Adults\",\"Middle-Aged Adults\",\"Middle-Aged Adults\",\"old\",\"teen\",\"teen\",\"old\",\"Middle-Aged Adults\",\"Middle-Aged Adults\",\"Middle-Aged Adults\",\"Middle-Aged Adults\",\"old\",\"Middle-Aged Adults\",\"Middle-Aged Adults\",\"Young Adults\",\"Middle-Aged Adults\",\"old\",\"Young Adults\",\"Middle-Aged Adults\",\"Middle-Aged Adults\",\"Middle-Aged Adults\",\"Young Adults\",\"old\",\"Middle-Aged Adults\",\"old\",\"old\",\"Middle-Aged Adults\",\"old\",\"Middle-Aged Adults\",\"Young Adults\",\"Middle-Aged Adults\",\"old\",\"Middle-Aged Adults\",\"Young Adults\",\"Young Adults\",\"Young Adults\",\"old\",\"old\",\"Young Adults\",\"Middle-Aged Adults\",\"Young Adults\",\"old\",\"old\",\"Young Adults\",\"Young Adults\",\"teen\",\"Middle-Aged Adults\",\"Middle-Aged Adults\",\"Middle-Aged Adults\",\"old\",\"old\",\"Young Adults\",\"old\",\"Middle-Aged Adults\",\"Young Adults\",\"Middle-Aged Adults\",\"Middle-Aged Adults\",\"old\",\"Middle-Aged Adults\",\"Middle-Aged Adults\",\"old\",\"Middle-Aged Adults\",\"old\",\"teen\",\"Middle-Aged Adults\",\"Middle-Aged Adults\",\"old\",\"Young Adults\",\"old\",\"Young Adults\",\"Young Adults\",\"Middle-Aged Adults\",\"old\",\"Young Adults\",\"Young Adults\",\"Young Adults\",\"old\",\"Middle-Aged Adults\",\"old\",\"Young Adults\",\"Middle-Aged Adults\",\"old\",\"old\",\"Young Adults\",\"Middle-Aged Adults\",\"Middle-Aged Adults\",\"Middle-Aged Adults\",\"old\",\"Middle-Aged Adults\",\"old\",\"Young Adults\",\"Middle-Aged Adults\",\"Middle-Aged Adults\",\"old\",\"old\",\"Middle-Aged Adults\",\"Middle-Aged Adults\",\"Middle-Aged Adults\",\"Middle-Aged Adults\",\"Young Adults\",\"Middle-Aged Adults\",\"old\",\"Young Adults\",\"old\",\"old\",\"Young Adults\",\"old\",\"Middle-Aged Adults\",\"Young Adults\",\"Young Adults\",\"Middle-Aged Adults\",\"old\",\"old\",\"old\",\"Middle-Aged Adults\",\"old\",\"old\",\"old\",\"Young Adults\",\"old\",\"old\",\"old\",\"Young Adults\",\"Middle-Aged Adults\",\"Middle-Aged Adults\",\"Young Adults\",\"old\",\"old\",\"old\",\"Young Adults\",\"old\",\"Young Adults\",\"Young Adults\",\"old\",\"old\",\"Middle-Aged Adults\",\"Middle-Aged Adults\",\"old\",\"old\",\"Young Adults\",\"Middle-Aged Adults\",\"Young Adults\",\"Middle-Aged Adults\",\"Middle-Aged Adults\",\"old\",\"Middle-Aged Adults\",\"old\",\"Young Adults\",\"Middle-Aged Adults\",\"Young Adults\",\"Middle-Aged Adults\",\"Young Adults\",\"Young Adults\",\"old\",\"Middle-Aged Adults\",\"Middle-Aged Adults\",\"old\",\"Middle-Aged Adults\",\"old\",\"Middle-Aged Adults\",\"Middle-Aged Adults\",\"old\",\"old\",\"Middle-Aged Adults\",\"Middle-Aged Adults\",\"Middle-Aged Adults\",\"old\",\"Young Adults\",\"old\",\"old\",\"old\",\"Young Adults\",\"Young Adults\",\"Middle-Aged Adults\",\"Middle-Aged Adults\",\"old\",\"old\",\"Young Adults\",\"Young Adults\",\"old\",\"Young Adults\",\"Young Adults\",\"Young Adults\",\"Middle-Aged Adults\",\"Middle-Aged Adults\",\"Young Adults\",\"Middle-Aged Adults\",\"Middle-Aged Adults\",\"old\",\"old\",\"Young Adults\",\"old\",\"old\",\"Young Adults\",\"Middle-Aged Adults\",\"old\",\"old\",\"Middle-Aged Adults\",\"Young Adults\",\"old\",\"Middle-Aged Adults\",\"Middle-Aged Adults\",\"old\",\"Middle-Aged Adults\",\"Middle-Aged Adults\",\"old\",\"Young Adults\",\"Middle-Aged Adults\",\"old\",\"Middle-Aged Adults\",\"old\",\"old\",\"Young Adults\",\"old\",\"Middle-Aged Adults\",\"old\",\"Young Adults\",\"Middle-Aged Adults\",\"Young Adults\",\"old\",\"old\",\"old\",\"Middle-Aged Adults\",\"old\",\"Young Adults\",\"old\",\"old\",\"Middle-Aged Adults\",\"teen\",\"Middle-Aged Adults\",\"Young Adults\",\"old\",\"old\",\"old\",\"Young Adults\",\"Young Adults\",\"old\",\"Young Adults\",\"old\",\"old\",\"Young Adults\",\"teen\",\"Middle-Aged Adults\",\"old\",\"Middle-Aged Adults\",\"old\",\"Middle-Aged Adults\",\"old\",\"Middle-Aged Adults\",\"old\",\"old\",\"old\",\"old\",\"old\",\"old\",\"Middle-Aged Adults\",\"Young Adults\",\"Middle-Aged Adults\",\"Middle-Aged Adults\",\"old\",\"Middle-Aged Adults\",\"teen\",\"old\",\"old\",\"Middle-Aged Adults\",\"Middle-Aged Adults\",\"old\",\"old\",\"Young Adults\",\"old\",\"old\",\"Young Adults\",\"Young Adults\",\"Middle-Aged Adults\",\"old\",\"Middle-Aged Adults\",\"old\",\"Middle-Aged Adults\",\"Middle-Aged Adults\",\"Middle-Aged Adults\",\"old\",\"Young Adults\",\"Middle-Aged Adults\",\"old\",\"Young Adults\",\"Young Adults\",\"Middle-Aged Adults\",\"old\",\"Middle-Aged Adults\",\"Middle-Aged Adults\",\"Young Adults\",\"old\",\"Middle-Aged Adults\",\"Young Adults\",\"Middle-Aged Adults\",\"old\",\"old\",\"Middle-Aged Adults\",\"Middle-Aged Adults\",\"old\",\"Middle-Aged Adults\",\"teen\",\"Middle-Aged Adults\",\"Young Adults\",\"Middle-Aged Adults\",\"old\",\"Young Adults\",\"Middle-Aged Adults\",\"Middle-Aged Adults\",\"old\",\"Middle-Aged Adults\",\"Middle-Aged Adults\",\"Middle-Aged Adults\",\"old\",\"Young Adults\",\"old\",\"old\",\"old\",\"Young Adults\",\"Young Adults\",\"old\",\"Middle-Aged Adults\",\"Middle-Aged Adults\",\"old\",\"Middle-Aged Adults\",\"old\",\"old\",\"Middle-Aged Adults\",\"Young Adults\",\"Middle-Aged Adults\",\"Young Adults\",\"old\",\"Middle-Aged Adults\",\"Middle-Aged Adults\",\"Middle-Aged Adults\",\"old\",\"old\",\"Young Adults\",\"old\",\"Young Adults\",\"old\",\"old\",\"old\",\"Middle-Aged Adults\",\"old\",\"Young Adults\",\"old\",\"Young Adults\",\"old\",\"Young Adults\",\"old\",\"Middle-Aged Adults\",\"old\",\"old\",\"Middle-Aged Adults\",\"Young Adults\",\"Middle-Aged Adults\",\"old\",\"Young Adults\",\"old\",\"old\",\"old\",\"old\",\"Young Adults\",\"old\",\"old\",\"old\",\"Middle-Aged Adults\",\"Middle-Aged Adults\",\"old\",\"Middle-Aged Adults\",\"Middle-Aged Adults\",\"old\",\"old\",\"Middle-Aged Adults\",\"old\",\"old\",\"teen\",\"Middle-Aged Adults\",\"old\",\"Middle-Aged Adults\",\"old\",\"old\",\"Young Adults\",\"Middle-Aged Adults\",\"old\",\"Middle-Aged Adults\",\"Young Adults\",\"Young Adults\",\"Middle-Aged Adults\",\"old\",\"Young Adults\",\"old\",\"Young Adults\",\"old\",\"Young Adults\",\"old\",\"Young Adults\",\"old\",\"Middle-Aged Adults\",\"Young Adults\",\"Young Adults\",\"teen\",\"Young Adults\",\"Young Adults\",\"Middle-Aged Adults\",\"Middle-Aged Adults\",\"Young Adults\",\"Young Adults\",\"Middle-Aged Adults\",\"old\",\"old\",\"Young Adults\",\"Young Adults\",\"old\",\"Young Adults\",\"old\",\"Young Adults\",\"Young Adults\",\"old\",\"old\",\"old\",\"Middle-Aged Adults\",\"Young Adults\",\"Middle-Aged Adults\",\"Young Adults\",\"Middle-Aged Adults\",\"Young Adults\",\"old\",\"Middle-Aged Adults\",\"Middle-Aged Adults\",\"old\",\"Middle-Aged Adults\",\"Young Adults\",\"Middle-Aged Adults\",\"old\",\"old\",\"Middle-Aged Adults\",\"Young Adults\",\"Middle-Aged Adults\",\"Middle-Aged Adults\",\"Middle-Aged Adults\",\"old\",\"Middle-Aged Adults\",\"Young Adults\",\"old\",\"old\",\"Middle-Aged Adults\",\"old\",\"Middle-Aged Adults\",\"old\",\"old\",\"Young Adults\",\"Middle-Aged Adults\",\"Middle-Aged Adults\",\"Middle-Aged Adults\",\"old\",\"old\",\"Middle-Aged Adults\",\"old\",\"Middle-Aged Adults\",\"old\",\"Young Adults\",\"Young Adults\",\"Middle-Aged Adults\",\"old\",\"old\",\"old\",\"old\",\"Young Adults\",\"Middle-Aged Adults\",\"old\",\"Middle-Aged Adults\",\"old\",\"Young Adults\",\"Middle-Aged Adults\",\"Young Adults\",\"old\",\"Young Adults\",\"Middle-Aged Adults\",\"teen\",\"Young Adults\",\"old\",\"old\",\"Young Adults\",\"Young Adults\",\"old\",\"old\",\"old\",\"Middle-Aged Adults\",\"Middle-Aged Adults\",\"Young Adults\",\"Middle-Aged Adults\",\"Young Adults\",\"old\",\"Young Adults\",\"Middle-Aged Adults\",\"old\",\"Middle-Aged Adults\",\"Middle-Aged Adults\",\"old\",\"Middle-Aged Adults\",\"Middle-Aged Adults\",\"Young Adults\",\"old\",\"Young Adults\",\"old\",\"Middle-Aged Adults\",\"Young Adults\",\"Middle-Aged Adults\",\"teen\",\"Young Adults\",\"old\",\"old\",\"Young Adults\",\"Middle-Aged Adults\",\"old\",\"old\",\"old\",\"Middle-Aged Adults\",\"Middle-Aged Adults\",\"Middle-Aged Adults\",\"old\",\"Middle-Aged Adults\",\"Middle-Aged Adults\",\"old\",\"Young Adults\",\"old\",\"old\",\"old\",\"Middle-Aged Adults\",\"old\",\"Middle-Aged Adults\",\"Middle-Aged Adults\",\"old\",\"teen\",\"Middle-Aged Adults\",\"old\",\"Middle-Aged Adults\",\"Middle-Aged Adults\",\"old\",\"old\",\"old\",\"Middle-Aged Adults\",\"old\",\"Middle-Aged Adults\",\"Young Adults\",\"Middle-Aged Adults\",\"old\",\"old\",\"Middle-Aged Adults\",\"old\",\"Young Adults\",\"Middle-Aged Adults\",\"Middle-Aged Adults\",\"old\",\"Middle-Aged Adults\",\"Middle-Aged Adults\",\"Middle-Aged Adults\",\"old\",\"old\",\"old\",\"Young Adults\",\"old\",\"old\",\"Young Adults\",\"Middle-Aged Adults\",\"old\",\"teen\",\"Middle-Aged Adults\",\"old\",\"Middle-Aged Adults\",\"old\",\"Young Adults\",\"old\",\"old\",\"Middle-Aged Adults\",\"Middle-Aged Adults\",\"Middle-Aged Adults\",\"Middle-Aged Adults\",\"Young Adults\",\"Middle-Aged Adults\",\"old\",\"Young Adults\",\"Middle-Aged Adults\",\"old\",\"Young Adults\",\"Middle-Aged Adults\",\"old\",\"Middle-Aged Adults\",\"Young Adults\",\"Young Adults\",\"old\",\"old\",\"Middle-Aged Adults\",\"Young Adults\",\"Middle-Aged Adults\",\"Middle-Aged Adults\",\"Middle-Aged Adults\",\"old\",\"old\",\"old\",\"old\",\"Middle-Aged Adults\",\"Young Adults\",\"Young Adults\",\"old\",\"Middle-Aged Adults\",\"Young Adults\",\"Middle-Aged Adults\",\"old\",\"Middle-Aged Adults\",\"old\",\"old\",\"old\",\"Middle-Aged Adults\",\"Middle-Aged Adults\",\"Middle-Aged Adults\",\"Young Adults\",\"old\",\"Middle-Aged Adults\",\"Middle-Aged Adults\",\"Middle-Aged Adults\",\"Young Adults\",\"old\",\"old\",\"Middle-Aged Adults\",\"old\",\"Young Adults\",\"old\",\"Young Adults\",\"Middle-Aged Adults\",\"old\",\"Middle-Aged Adults\",\"Middle-Aged Adults\",\"old\",\"Middle-Aged Adults\",\"Middle-Aged Adults\",\"Young Adults\",\"old\",\"Middle-Aged Adults\",\"old\",\"old\",\"Young Adults\",\"Middle-Aged Adults\",\"old\",\"Young Adults\",\"old\",\"Young Adults\",\"Middle-Aged Adults\",\"Young Adults\",\"old\",\"old\",\"Middle-Aged Adults\",\"Middle-Aged Adults\",\"Young Adults\",\"old\",\"Middle-Aged Adults\",\"old\",\"Young Adults\",\"Middle-Aged Adults\",\"Young Adults\",\"Middle-Aged Adults\",\"Middle-Aged Adults\",\"Middle-Aged Adults\",\"Young Adults\",\"Middle-Aged Adults\",\"Middle-Aged Adults\",\"old\",\"old\",\"Young Adults\",\"Middle-Aged Adults\",\"Young Adults\",\"Middle-Aged Adults\",\"Young Adults\",\"Middle-Aged Adults\",\"Middle-Aged Adults\",\"Middle-Aged Adults\",\"Young Adults\",\"old\",\"old\",\"Young Adults\",\"old\",\"Middle-Aged Adults\",\"Young Adults\",\"Middle-Aged Adults\",\"Young Adults\",\"Middle-Aged Adults\",\"old\",\"old\",\"Middle-Aged Adults\",\"Middle-Aged Adults\",\"Middle-Aged Adults\",\"Middle-Aged Adults\",\"Middle-Aged Adults\",\"old\",\"Young Adults\",\"Middle-Aged Adults\",\"old\",\"Middle-Aged Adults\",\"Young Adults\",\"Young Adults\",\"Middle-Aged Adults\",\"old\",\"Middle-Aged Adults\",\"old\",\"Young Adults\",\"Middle-Aged Adults\",\"Middle-Aged Adults\",\"Middle-Aged Adults\",\"old\",\"old\",\"Young Adults\",\"Young Adults\",\"Middle-Aged Adults\",\"Middle-Aged Adults\",\"Middle-Aged Adults\",\"Middle-Aged Adults\",\"Middle-Aged Adults\",\"old\",\"old\",\"old\",\"Middle-Aged Adults\",\"old\",\"Middle-Aged Adults\",\"old\",\"old\",\"Middle-Aged Adults\",\"Middle-Aged Adults\",\"old\",\"Middle-Aged Adults\",\"Young Adults\",\"Middle-Aged Adults\",\"Young Adults\",\"Young Adults\",\"Middle-Aged Adults\",\"Young Adults\",\"old\",\"old\",\"Young Adults\",\"Middle-Aged Adults\",\"old\",\"Middle-Aged Adults\",\"old\",\"Young Adults\",\"Middle-Aged Adults\",\"old\",\"Middle-Aged Adults\",\"Middle-Aged Adults\",\"old\",\"old\",\"old\",\"Middle-Aged Adults\",\"old\",\"old\",\"Middle-Aged Adults\",\"Middle-Aged Adults\",\"old\",\"Young Adults\",\"old\",\"Middle-Aged Adults\",\"Middle-Aged Adults\",\"Middle-Aged Adults\",\"old\",\"Young Adults\",\"old\",\"old\",\"Middle-Aged Adults\",\"teen\",\"Middle-Aged Adults\",\"Young Adults\",\"Middle-Aged Adults\",\"old\",\"old\",\"Young Adults\",\"Middle-Aged Adults\",\"Middle-Aged Adults\",\"Young Adults\",\"Middle-Aged Adults\",\"Young Adults\",\"old\",\"Middle-Aged Adults\",\"Young Adults\",\"Young Adults\",\"old\",\"old\",\"Middle-Aged Adults\",\"old\",\"Middle-Aged Adults\",\"old\",\"old\",\"old\",\"old\",\"Middle-Aged Adults\",\"old\",\"Young Adults\",\"Young Adults\",\"old\",\"old\",\"Middle-Aged Adults\",\"old\",\"old\",\"old\",\"teen\",\"Middle-Aged Adults\",\"old\",\"Middle-Aged Adults\",\"Young Adults\",\"Middle-Aged Adults\",\"old\",\"Young Adults\",\"old\",\"Middle-Aged Adults\",\"Middle-Aged Adults\",\"Middle-Aged Adults\",\"Middle-Aged Adults\",\"Middle-Aged Adults\",\"Middle-Aged Adults\",\"Young Adults\",\"old\",\"old\",\"Middle-Aged Adults\",\"Middle-Aged Adults\",\"Middle-Aged Adults\",\"Middle-Aged Adults\",\"old\",\"Young Adults\",\"Young Adults\",\"Middle-Aged Adults\",\"old\",\"old\",\"Middle-Aged Adults\",\"old\",\"old\",\"Young Adults\",\"Young Adults\",\"old\",\"Young Adults\",\"old\",\"old\",\"old\",\"Middle-Aged Adults\",\"Middle-Aged Adults\",\"old\",\"old\",\"old\",\"Young Adults\",\"Middle-Aged Adults\",\"Young Adults\",\"Middle-Aged Adults\",\"old\",\"Middle-Aged Adults\",\"Middle-Aged Adults\",\"Young Adults\",\"old\",\"old\",\"Young Adults\",\"Young Adults\",\"old\",\"old\",\"Middle-Aged Adults\",\"old\",\"Middle-Aged Adults\",\"Middle-Aged Adults\",\"Middle-Aged Adults\",\"old\",\"Young Adults\",\"Middle-Aged Adults\",\"Middle-Aged Adults\",\"old\",\"old\",\"Middle-Aged Adults\",\"old\",\"Young Adults\",\"Young Adults\",\"Young Adults\",\"Middle-Aged Adults\",\"Young Adults\",\"Young Adults\",\"Middle-Aged Adults\",\"Middle-Aged Adults\",\"old\",\"old\",\"Middle-Aged Adults\",\"old\",\"Young Adults\",\"old\",\"old\",\"Middle-Aged Adults\",\"old\",\"old\",\"old\",\"old\",\"old\",\"Middle-Aged Adults\",\"Middle-Aged Adults\",\"old\",\"Middle-Aged Adults\",\"old\",\"old\",\"Middle-Aged Adults\",\"Middle-Aged Adults\",\"Middle-Aged Adults\",\"Middle-Aged Adults\",\"Middle-Aged Adults\",\"Young Adults\",\"old\",\"Young Adults\",\"old\",\"Young Adults\",\"Middle-Aged Adults\",\"Middle-Aged Adults\",\"teen\",\"old\",\"old\",\"Middle-Aged Adults\",\"old\",\"Young Adults\",\"Young Adults\",\"teen\",\"Young Adults\",\"Young Adults\",\"old\",\"Young Adults\",\"old\",\"old\",\"Middle-Aged Adults\",\"Middle-Aged Adults\",\"Middle-Aged Adults\",\"Young Adults\",\"Young Adults\",\"Middle-Aged Adults\",\"Middle-Aged Adults\",\"old\",\"old\",\"old\",\"old\",\"Middle-Aged Adults\",\"Middle-Aged Adults\",\"Middle-Aged Adults\",\"old\",\"old\",\"old\",\"teen\",\"Middle-Aged Adults\",\"Middle-Aged Adults\",\"Middle-Aged Adults\",\"old\",\"old\",\"Middle-Aged Adults\",\"old\",\"Middle-Aged Adults\",\"Young Adults\",\"Middle-Aged Adults\",\"old\",\"Young Adults\",\"old\",\"Middle-Aged Adults\",\"old\",\"Young Adults\",\"Young Adults\",\"old\",\"old\",\"old\",\"Middle-Aged Adults\",\"old\",\"old\",\"old\",\"Middle-Aged Adults\",\"Middle-Aged Adults\",\"old\",\"old\",\"old\",\"Young Adults\",\"old\",\"Young Adults\",\"Young Adults\",\"old\",\"Middle-Aged Adults\",\"Middle-Aged Adults\",\"Middle-Aged Adults\",\"Middle-Aged Adults\",\"old\",\"Middle-Aged Adults\",\"Young Adults\",\"Middle-Aged Adults\",\"old\",\"Middle-Aged Adults\",\"old\",\"old\",\"Young Adults\",\"Middle-Aged Adults\",\"old\",\"Middle-Aged Adults\",\"old\",\"Middle-Aged Adults\",\"Middle-Aged Adults\",\"Middle-Aged Adults\",\"Young Adults\",\"old\",\"old\",\"Young Adults\",\"Middle-Aged Adults\",\"old\",\"Middle-Aged Adults\",\"Middle-Aged Adults\",\"Middle-Aged Adults\",\"old\",\"old\",\"old\",\"old\",\"Young Adults\",\"Young Adults\",\"Young Adults\",\"Young Adults\",\"old\",\"Middle-Aged Adults\",\"Young Adults\",\"old\",\"old\",\"Middle-Aged Adults\",\"Middle-Aged Adults\",\"old\",\"Middle-Aged Adults\",\"Middle-Aged Adults\",\"Middle-Aged Adults\",\"old\",\"Young Adults\",\"Middle-Aged Adults\",\"Middle-Aged Adults\",\"Middle-Aged Adults\",\"Young Adults\",\"Young Adults\",\"old\",\"Middle-Aged Adults\",\"old\",\"old\",\"Middle-Aged Adults\",\"Middle-Aged Adults\",\"Middle-Aged Adults\",\"old\",\"old\",\"old\",\"Middle-Aged Adults\",\"Young Adults\",\"Young Adults\",\"Middle-Aged Adults\",\"old\",\"old\",\"Middle-Aged Adults\",\"Young Adults\",\"old\",\"Middle-Aged Adults\",\"old\",\"Young Adults\",\"old\",\"Young Adults\",\"old\",\"old\",\"Young Adults\",\"old\",\"old\",\"Middle-Aged Adults\",\"Young Adults\",\"Middle-Aged Adults\",\"Middle-Aged Adults\",\"Young Adults\",\"Young Adults\",\"Middle-Aged Adults\",\"old\",\"teen\",\"old\",\"Middle-Aged Adults\",\"Middle-Aged Adults\",\"Young Adults\",\"old\",\"old\",\"old\",\"Middle-Aged Adults\",\"Middle-Aged Adults\",\"Young Adults\",\"Middle-Aged Adults\",\"Young Adults\",\"old\",\"Middle-Aged Adults\",\"old\",\"old\",\"Middle-Aged Adults\",\"Young Adults\",\"Middle-Aged Adults\",\"Middle-Aged Adults\",\"Middle-Aged Adults\",\"Middle-Aged Adults\",\"Middle-Aged Adults\",\"old\",\"Young Adults\",\"old\",\"old\",\"Middle-Aged Adults\",\"Middle-Aged Adults\",\"Young Adults\",\"Young Adults\",\"Young Adults\",\"Middle-Aged Adults\",\"old\",\"old\",\"Young Adults\",\"old\",\"Young Adults\",\"Young Adults\",\"Young Adults\",\"Young Adults\",\"Middle-Aged Adults\",\"Middle-Aged Adults\",\"Middle-Aged Adults\",\"old\",\"Middle-Aged Adults\",\"Middle-Aged Adults\",\"Middle-Aged Adults\",\"Middle-Aged Adults\",\"Middle-Aged Adults\",\"old\",\"Middle-Aged Adults\",\"Young Adults\",\"Middle-Aged Adults\",\"Middle-Aged Adults\",\"old\",\"Middle-Aged Adults\",\"Middle-Aged Adults\",\"Middle-Aged Adults\",\"Middle-Aged Adults\",\"Young Adults\",\"Middle-Aged Adults\",\"Young Adults\",\"Middle-Aged Adults\",\"old\",\"old\",\"Young Adults\",\"old\",\"Young Adults\",\"Middle-Aged Adults\",\"Middle-Aged Adults\",\"old\",\"Middle-Aged Adults\",\"old\",\"Middle-Aged Adults\",\"Young Adults\",\"Middle-Aged Adults\",\"old\",\"Middle-Aged Adults\",\"old\",\"Middle-Aged Adults\",\"Middle-Aged Adults\",\"Middle-Aged Adults\",\"Middle-Aged Adults\",\"old\",\"old\",\"Middle-Aged Adults\",\"Middle-Aged Adults\",\"Young Adults\",\"Young Adults\",\"old\",\"Middle-Aged Adults\",\"Middle-Aged Adults\",\"Middle-Aged Adults\",\"Young Adults\",\"Young Adults\",\"old\",\"Young Adults\",\"old\",\"Middle-Aged Adults\",\"Middle-Aged Adults\",\"Young Adults\",\"Middle-Aged Adults\",\"Young Adults\",\"old\",\"Middle-Aged Adults\",\"Young Adults\",\"Middle-Aged Adults\",\"Young Adults\",\"old\",\"old\",\"Young Adults\",\"Young Adults\",\"old\",\"Young Adults\",\"Middle-Aged Adults\",\"Middle-Aged Adults\",\"Middle-Aged Adults\",\"Middle-Aged Adults\",\"Middle-Aged Adults\",\"Middle-Aged Adults\",\"Young Adults\",\"old\",\"Middle-Aged Adults\",\"Middle-Aged Adults\",\"old\",\"Middle-Aged Adults\",\"old\",\"old\",\"Young Adults\",\"Young Adults\",\"Middle-Aged Adults\",\"Middle-Aged Adults\",\"old\",\"Young Adults\",\"Middle-Aged Adults\",\"old\",\"Middle-Aged Adults\",\"old\",\"old\",\"teen\",\"Middle-Aged Adults\",\"Young Adults\",\"Middle-Aged Adults\",\"Young Adults\",\"Middle-Aged Adults\",\"old\",\"Middle-Aged Adults\",\"Middle-Aged Adults\",\"old\",\"old\",\"old\",\"Middle-Aged Adults\",\"old\",\"Middle-Aged Adults\",\"Young Adults\",\"Middle-Aged Adults\",\"Young Adults\",\"Middle-Aged Adults\",\"teen\",\"Middle-Aged Adults\",\"Middle-Aged Adults\",\"Young Adults\",\"Middle-Aged Adults\",\"Middle-Aged Adults\",\"old\",\"Middle-Aged Adults\",\"Middle-Aged Adults\",\"old\",\"old\",\"Middle-Aged Adults\",\"Middle-Aged Adults\",\"Young Adults\",\"old\",\"old\",\"Young Adults\",\"Middle-Aged Adults\",\"Middle-Aged Adults\",\"old\",\"Young Adults\",\"old\",\"Middle-Aged Adults\",\"old\",\"Young Adults\",\"Middle-Aged Adults\",\"Middle-Aged Adults\",\"old\",\"Young Adults\",\"Middle-Aged Adults\",\"Middle-Aged Adults\",\"Middle-Aged Adults\",\"Young Adults\",\"Middle-Aged Adults\",\"old\",\"Middle-Aged Adults\",\"Middle-Aged Adults\",\"old\",\"Middle-Aged Adults\",\"teen\",\"Middle-Aged Adults\",\"old\",\"Middle-Aged Adults\",\"Middle-Aged Adults\",\"old\",\"Middle-Aged Adults\",\"Young Adults\",\"Young Adults\",\"Young Adults\",\"Middle-Aged Adults\",\"Young Adults\",\"Middle-Aged Adults\",\"Middle-Aged Adults\",\"Middle-Aged Adults\",\"old\",\"Young Adults\",\"Middle-Aged Adults\",\"old\",\"Middle-Aged Adults\",\"Young Adults\",\"Young Adults\",\"Middle-Aged Adults\",\"old\",\"old\",\"old\",\"old\",\"Middle-Aged Adults\",\"old\",\"old\",\"old\",\"old\",\"old\",\"Young Adults\",\"Young Adults\",\"old\",\"old\",\"old\",\"old\",\"Middle-Aged Adults\",\"old\",\"old\",\"old\",\"Middle-Aged Adults\",\"old\",\"old\",\"Young Adults\",\"old\",\"Middle-Aged Adults\",\"Young Adults\",\"old\",\"old\",\"old\",\"teen\",\"teen\",\"old\",\"Middle-Aged Adults\",\"Middle-Aged Adults\",\"old\",\"Middle-Aged Adults\",\"Young Adults\",\"Middle-Aged Adults\",\"Young Adults\",\"Middle-Aged Adults\",\"Young Adults\",\"old\",\"Young Adults\",\"Middle-Aged Adults\",\"Young Adults\",\"old\",\"Young Adults\",\"old\",\"Middle-Aged Adults\",\"Middle-Aged Adults\",\"old\",\"Young Adults\",\"Young Adults\",\"old\",\"Middle-Aged Adults\",\"Middle-Aged Adults\",\"Middle-Aged Adults\",\"Middle-Aged Adults\",\"Young Adults\",\"Middle-Aged Adults\",\"Young Adults\",\"Middle-Aged Adults\",\"old\",\"old\",\"Young Adults\",\"Young Adults\",\"Young Adults\",\"Young Adults\",\"Young Adults\",\"Middle-Aged Adults\",\"old\",\"Middle-Aged Adults\",\"old\",\"Middle-Aged Adults\",\"old\",\"old\",\"Middle-Aged Adults\",\"Middle-Aged Adults\",\"Young Adults\",\"Young Adults\",\"teen\",\"old\",\"Middle-Aged Adults\",\"old\",\"Middle-Aged Adults\",\"Middle-Aged Adults\",\"Middle-Aged Adults\",\"Middle-Aged Adults\",\"Young Adults\",\"Middle-Aged Adults\",\"old\",\"Middle-Aged Adults\",\"Middle-Aged Adults\",\"Middle-Aged Adults\",\"Young Adults\",\"Middle-Aged Adults\",\"old\",\"Middle-Aged Adults\",\"old\",\"old\",\"old\",\"Middle-Aged Adults\",\"Young Adults\",\"Middle-Aged Adults\",\"old\",\"old\",\"Middle-Aged Adults\",\"Middle-Aged Adults\",\"Middle-Aged Adults\",\"Young Adults\",\"Middle-Aged Adults\",\"old\",\"Middle-Aged Adults\",\"old\",\"Middle-Aged Adults\",\"Middle-Aged Adults\",\"old\",\"Middle-Aged Adults\",\"Middle-Aged Adults\",\"old\",\"old\",\"Young Adults\",\"Young Adults\",\"old\",\"Young Adults\",\"Young Adults\",\"Middle-Aged Adults\",\"old\",\"Young Adults\",\"Young Adults\",\"Young Adults\",\"old\",\"old\",\"old\",\"old\",\"Young Adults\",\"old\",\"old\",\"old\",\"Young Adults\",\"Middle-Aged Adults\",\"old\",\"old\",\"Middle-Aged Adults\",\"Middle-Aged Adults\",\"old\",\"Young Adults\",\"Middle-Aged Adults\",\"old\",\"old\",\"Young Adults\",\"Young Adults\",\"Middle-Aged Adults\",\"Young Adults\",\"Young Adults\",\"Middle-Aged Adults\",\"old\",\"Middle-Aged Adults\",\"old\",\"Middle-Aged Adults\",\"Young Adults\",\"old\",\"old\",\"old\",\"Middle-Aged Adults\",\"Middle-Aged Adults\",\"old\",\"old\",\"Young Adults\",\"old\",\"Young Adults\",\"Middle-Aged Adults\",\"old\",\"Young Adults\",\"old\",\"Young Adults\",\"Young Adults\",\"Middle-Aged Adults\",\"Middle-Aged Adults\",\"Middle-Aged Adults\",\"old\",\"old\",\"old\",\"Middle-Aged Adults\",\"teen\",\"old\",\"old\",\"Middle-Aged Adults\",\"Middle-Aged Adults\",\"Young Adults\",\"Young Adults\",\"old\",\"Young Adults\",\"Young Adults\",\"Young Adults\",\"teen\",\"Middle-Aged Adults\",\"Middle-Aged Adults\",\"old\",\"Young Adults\",\"Middle-Aged Adults\",\"old\",\"Middle-Aged Adults\",\"Young Adults\",\"Middle-Aged Adults\",\"Middle-Aged Adults\",\"Middle-Aged Adults\",\"Young Adults\",\"Middle-Aged Adults\",\"Middle-Aged Adults\",\"Middle-Aged Adults\",\"old\",\"old\",\"old\",\"Young Adults\",\"old\",\"old\",\"Young Adults\",\"Middle-Aged Adults\",\"Young Adults\",\"Middle-Aged Adults\",\"Middle-Aged Adults\",\"Young Adults\",\"Middle-Aged Adults\",\"Middle-Aged Adults\",\"old\",\"old\",\"old\",\"old\",\"Middle-Aged Adults\",\"old\",\"old\",\"old\",\"Young Adults\",\"Middle-Aged Adults\",\"Young Adults\",\"old\",\"old\",\"Middle-Aged Adults\",\"old\",\"Young Adults\",\"Young Adults\",\"Middle-Aged Adults\",\"Young Adults\",\"old\",\"Middle-Aged Adults\",\"Young Adults\",\"Middle-Aged Adults\",\"Young Adults\",\"old\",\"old\",\"old\",\"Middle-Aged Adults\",\"Middle-Aged Adults\",\"old\",\"old\",\"Middle-Aged Adults\",\"Middle-Aged Adults\",\"Middle-Aged Adults\",\"old\",\"Young Adults\",\"Middle-Aged Adults\",\"Middle-Aged Adults\",\"old\",\"Middle-Aged Adults\",\"Middle-Aged Adults\",\"Middle-Aged Adults\",\"old\",\"old\",\"old\",\"Young Adults\",\"Young Adults\",\"old\",\"Middle-Aged Adults\",\"Middle-Aged Adults\",\"Middle-Aged Adults\",\"teen\",\"Middle-Aged Adults\",\"Middle-Aged Adults\",\"old\",\"Middle-Aged Adults\",\"Middle-Aged Adults\",\"Middle-Aged Adults\",\"old\",\"Middle-Aged Adults\",\"Middle-Aged Adults\",\"Young Adults\",\"old\",\"old\",\"Middle-Aged Adults\",\"Middle-Aged Adults\",\"Young Adults\",\"old\",\"Middle-Aged Adults\",\"old\",\"Middle-Aged Adults\",\"Middle-Aged Adults\",\"old\",\"Middle-Aged Adults\",\"old\",\"Young Adults\",\"Middle-Aged Adults\",\"old\",\"Middle-Aged Adults\",\"Middle-Aged Adults\",\"old\",\"old\",\"Middle-Aged Adults\",\"Middle-Aged Adults\",\"old\",\"Young Adults\",\"old\",\"Middle-Aged Adults\",\"old\",\"Young Adults\",\"old\",\"old\",\"old\",\"Young Adults\",\"Middle-Aged Adults\",\"Young Adults\",\"Middle-Aged Adults\",\"old\",\"old\",\"old\",\"Middle-Aged Adults\",\"Middle-Aged Adults\",\"Middle-Aged Adults\",\"Young Adults\",\"old\",\"old\",\"old\",\"old\",\"Middle-Aged Adults\",\"old\",\"Young Adults\",\"old\",\"Middle-Aged Adults\",\"teen\",\"Young Adults\",\"old\",\"old\",\"Middle-Aged Adults\",\"Middle-Aged Adults\",\"old\",\"old\",\"old\",\"Young Adults\",\"old\",\"Young Adults\",\"Middle-Aged Adults\",\"old\",\"Middle-Aged Adults\",\"Middle-Aged Adults\",\"Middle-Aged Adults\",\"Middle-Aged Adults\",\"Middle-Aged Adults\",\"Middle-Aged Adults\",\"Middle-Aged Adults\",\"old\",\"Middle-Aged Adults\",\"Middle-Aged Adults\",\"Middle-Aged Adults\",\"Young Adults\",\"old\",\"Middle-Aged Adults\",\"old\",\"Middle-Aged Adults\",\"Middle-Aged Adults\",\"old\"],\"xaxis\":\"x\",\"yaxis\":\"y\",\"type\":\"histogram\"}],                        {\"template\":{\"data\":{\"histogram2dcontour\":[{\"type\":\"histogram2dcontour\",\"colorbar\":{\"outlinewidth\":0,\"ticks\":\"\"},\"colorscale\":[[0.0,\"#0d0887\"],[0.1111111111111111,\"#46039f\"],[0.2222222222222222,\"#7201a8\"],[0.3333333333333333,\"#9c179e\"],[0.4444444444444444,\"#bd3786\"],[0.5555555555555556,\"#d8576b\"],[0.6666666666666666,\"#ed7953\"],[0.7777777777777778,\"#fb9f3a\"],[0.8888888888888888,\"#fdca26\"],[1.0,\"#f0f921\"]]}],\"choropleth\":[{\"type\":\"choropleth\",\"colorbar\":{\"outlinewidth\":0,\"ticks\":\"\"}}],\"histogram2d\":[{\"type\":\"histogram2d\",\"colorbar\":{\"outlinewidth\":0,\"ticks\":\"\"},\"colorscale\":[[0.0,\"#0d0887\"],[0.1111111111111111,\"#46039f\"],[0.2222222222222222,\"#7201a8\"],[0.3333333333333333,\"#9c179e\"],[0.4444444444444444,\"#bd3786\"],[0.5555555555555556,\"#d8576b\"],[0.6666666666666666,\"#ed7953\"],[0.7777777777777778,\"#fb9f3a\"],[0.8888888888888888,\"#fdca26\"],[1.0,\"#f0f921\"]]}],\"heatmap\":[{\"type\":\"heatmap\",\"colorbar\":{\"outlinewidth\":0,\"ticks\":\"\"},\"colorscale\":[[0.0,\"#0d0887\"],[0.1111111111111111,\"#46039f\"],[0.2222222222222222,\"#7201a8\"],[0.3333333333333333,\"#9c179e\"],[0.4444444444444444,\"#bd3786\"],[0.5555555555555556,\"#d8576b\"],[0.6666666666666666,\"#ed7953\"],[0.7777777777777778,\"#fb9f3a\"],[0.8888888888888888,\"#fdca26\"],[1.0,\"#f0f921\"]]}],\"heatmapgl\":[{\"type\":\"heatmapgl\",\"colorbar\":{\"outlinewidth\":0,\"ticks\":\"\"},\"colorscale\":[[0.0,\"#0d0887\"],[0.1111111111111111,\"#46039f\"],[0.2222222222222222,\"#7201a8\"],[0.3333333333333333,\"#9c179e\"],[0.4444444444444444,\"#bd3786\"],[0.5555555555555556,\"#d8576b\"],[0.6666666666666666,\"#ed7953\"],[0.7777777777777778,\"#fb9f3a\"],[0.8888888888888888,\"#fdca26\"],[1.0,\"#f0f921\"]]}],\"contourcarpet\":[{\"type\":\"contourcarpet\",\"colorbar\":{\"outlinewidth\":0,\"ticks\":\"\"}}],\"contour\":[{\"type\":\"contour\",\"colorbar\":{\"outlinewidth\":0,\"ticks\":\"\"},\"colorscale\":[[0.0,\"#0d0887\"],[0.1111111111111111,\"#46039f\"],[0.2222222222222222,\"#7201a8\"],[0.3333333333333333,\"#9c179e\"],[0.4444444444444444,\"#bd3786\"],[0.5555555555555556,\"#d8576b\"],[0.6666666666666666,\"#ed7953\"],[0.7777777777777778,\"#fb9f3a\"],[0.8888888888888888,\"#fdca26\"],[1.0,\"#f0f921\"]]}],\"surface\":[{\"type\":\"surface\",\"colorbar\":{\"outlinewidth\":0,\"ticks\":\"\"},\"colorscale\":[[0.0,\"#0d0887\"],[0.1111111111111111,\"#46039f\"],[0.2222222222222222,\"#7201a8\"],[0.3333333333333333,\"#9c179e\"],[0.4444444444444444,\"#bd3786\"],[0.5555555555555556,\"#d8576b\"],[0.6666666666666666,\"#ed7953\"],[0.7777777777777778,\"#fb9f3a\"],[0.8888888888888888,\"#fdca26\"],[1.0,\"#f0f921\"]]}],\"mesh3d\":[{\"type\":\"mesh3d\",\"colorbar\":{\"outlinewidth\":0,\"ticks\":\"\"}}],\"scatter\":[{\"fillpattern\":{\"fillmode\":\"overlay\",\"size\":10,\"solidity\":0.2},\"type\":\"scatter\"}],\"parcoords\":[{\"type\":\"parcoords\",\"line\":{\"colorbar\":{\"outlinewidth\":0,\"ticks\":\"\"}}}],\"scatterpolargl\":[{\"type\":\"scatterpolargl\",\"marker\":{\"colorbar\":{\"outlinewidth\":0,\"ticks\":\"\"}}}],\"bar\":[{\"error_x\":{\"color\":\"#2a3f5f\"},\"error_y\":{\"color\":\"#2a3f5f\"},\"marker\":{\"line\":{\"color\":\"#E5ECF6\",\"width\":0.5},\"pattern\":{\"fillmode\":\"overlay\",\"size\":10,\"solidity\":0.2}},\"type\":\"bar\"}],\"scattergeo\":[{\"type\":\"scattergeo\",\"marker\":{\"colorbar\":{\"outlinewidth\":0,\"ticks\":\"\"}}}],\"scatterpolar\":[{\"type\":\"scatterpolar\",\"marker\":{\"colorbar\":{\"outlinewidth\":0,\"ticks\":\"\"}}}],\"histogram\":[{\"marker\":{\"pattern\":{\"fillmode\":\"overlay\",\"size\":10,\"solidity\":0.2}},\"type\":\"histogram\"}],\"scattergl\":[{\"type\":\"scattergl\",\"marker\":{\"colorbar\":{\"outlinewidth\":0,\"ticks\":\"\"}}}],\"scatter3d\":[{\"type\":\"scatter3d\",\"line\":{\"colorbar\":{\"outlinewidth\":0,\"ticks\":\"\"}},\"marker\":{\"colorbar\":{\"outlinewidth\":0,\"ticks\":\"\"}}}],\"scattermapbox\":[{\"type\":\"scattermapbox\",\"marker\":{\"colorbar\":{\"outlinewidth\":0,\"ticks\":\"\"}}}],\"scatterternary\":[{\"type\":\"scatterternary\",\"marker\":{\"colorbar\":{\"outlinewidth\":0,\"ticks\":\"\"}}}],\"scattercarpet\":[{\"type\":\"scattercarpet\",\"marker\":{\"colorbar\":{\"outlinewidth\":0,\"ticks\":\"\"}}}],\"carpet\":[{\"aaxis\":{\"endlinecolor\":\"#2a3f5f\",\"gridcolor\":\"white\",\"linecolor\":\"white\",\"minorgridcolor\":\"white\",\"startlinecolor\":\"#2a3f5f\"},\"baxis\":{\"endlinecolor\":\"#2a3f5f\",\"gridcolor\":\"white\",\"linecolor\":\"white\",\"minorgridcolor\":\"white\",\"startlinecolor\":\"#2a3f5f\"},\"type\":\"carpet\"}],\"table\":[{\"cells\":{\"fill\":{\"color\":\"#EBF0F8\"},\"line\":{\"color\":\"white\"}},\"header\":{\"fill\":{\"color\":\"#C8D4E3\"},\"line\":{\"color\":\"white\"}},\"type\":\"table\"}],\"barpolar\":[{\"marker\":{\"line\":{\"color\":\"#E5ECF6\",\"width\":0.5},\"pattern\":{\"fillmode\":\"overlay\",\"size\":10,\"solidity\":0.2}},\"type\":\"barpolar\"}],\"pie\":[{\"automargin\":true,\"type\":\"pie\"}]},\"layout\":{\"autotypenumbers\":\"strict\",\"colorway\":[\"#636efa\",\"#EF553B\",\"#00cc96\",\"#ab63fa\",\"#FFA15A\",\"#19d3f3\",\"#FF6692\",\"#B6E880\",\"#FF97FF\",\"#FECB52\"],\"font\":{\"color\":\"#2a3f5f\"},\"hovermode\":\"closest\",\"hoverlabel\":{\"align\":\"left\"},\"paper_bgcolor\":\"white\",\"plot_bgcolor\":\"#E5ECF6\",\"polar\":{\"bgcolor\":\"#E5ECF6\",\"angularaxis\":{\"gridcolor\":\"white\",\"linecolor\":\"white\",\"ticks\":\"\"},\"radialaxis\":{\"gridcolor\":\"white\",\"linecolor\":\"white\",\"ticks\":\"\"}},\"ternary\":{\"bgcolor\":\"#E5ECF6\",\"aaxis\":{\"gridcolor\":\"white\",\"linecolor\":\"white\",\"ticks\":\"\"},\"baxis\":{\"gridcolor\":\"white\",\"linecolor\":\"white\",\"ticks\":\"\"},\"caxis\":{\"gridcolor\":\"white\",\"linecolor\":\"white\",\"ticks\":\"\"}},\"coloraxis\":{\"colorbar\":{\"outlinewidth\":0,\"ticks\":\"\"}},\"colorscale\":{\"sequential\":[[0.0,\"#0d0887\"],[0.1111111111111111,\"#46039f\"],[0.2222222222222222,\"#7201a8\"],[0.3333333333333333,\"#9c179e\"],[0.4444444444444444,\"#bd3786\"],[0.5555555555555556,\"#d8576b\"],[0.6666666666666666,\"#ed7953\"],[0.7777777777777778,\"#fb9f3a\"],[0.8888888888888888,\"#fdca26\"],[1.0,\"#f0f921\"]],\"sequentialminus\":[[0.0,\"#0d0887\"],[0.1111111111111111,\"#46039f\"],[0.2222222222222222,\"#7201a8\"],[0.3333333333333333,\"#9c179e\"],[0.4444444444444444,\"#bd3786\"],[0.5555555555555556,\"#d8576b\"],[0.6666666666666666,\"#ed7953\"],[0.7777777777777778,\"#fb9f3a\"],[0.8888888888888888,\"#fdca26\"],[1.0,\"#f0f921\"]],\"diverging\":[[0,\"#8e0152\"],[0.1,\"#c51b7d\"],[0.2,\"#de77ae\"],[0.3,\"#f1b6da\"],[0.4,\"#fde0ef\"],[0.5,\"#f7f7f7\"],[0.6,\"#e6f5d0\"],[0.7,\"#b8e186\"],[0.8,\"#7fbc41\"],[0.9,\"#4d9221\"],[1,\"#276419\"]]},\"xaxis\":{\"gridcolor\":\"white\",\"linecolor\":\"white\",\"ticks\":\"\",\"title\":{\"standoff\":15},\"zerolinecolor\":\"white\",\"automargin\":true,\"zerolinewidth\":2},\"yaxis\":{\"gridcolor\":\"white\",\"linecolor\":\"white\",\"ticks\":\"\",\"title\":{\"standoff\":15},\"zerolinecolor\":\"white\",\"automargin\":true,\"zerolinewidth\":2},\"scene\":{\"xaxis\":{\"backgroundcolor\":\"#E5ECF6\",\"gridcolor\":\"white\",\"linecolor\":\"white\",\"showbackground\":true,\"ticks\":\"\",\"zerolinecolor\":\"white\",\"gridwidth\":2},\"yaxis\":{\"backgroundcolor\":\"#E5ECF6\",\"gridcolor\":\"white\",\"linecolor\":\"white\",\"showbackground\":true,\"ticks\":\"\",\"zerolinecolor\":\"white\",\"gridwidth\":2},\"zaxis\":{\"backgroundcolor\":\"#E5ECF6\",\"gridcolor\":\"white\",\"linecolor\":\"white\",\"showbackground\":true,\"ticks\":\"\",\"zerolinecolor\":\"white\",\"gridwidth\":2}},\"shapedefaults\":{\"line\":{\"color\":\"#2a3f5f\"}},\"annotationdefaults\":{\"arrowcolor\":\"#2a3f5f\",\"arrowhead\":0,\"arrowwidth\":1},\"geo\":{\"bgcolor\":\"white\",\"landcolor\":\"#E5ECF6\",\"subunitcolor\":\"white\",\"showland\":true,\"showlakes\":true,\"lakecolor\":\"white\"},\"title\":{\"x\":0.05},\"mapbox\":{\"style\":\"light\"}}},\"xaxis\":{\"anchor\":\"y\",\"domain\":[0.0,1.0],\"title\":{\"text\":\"Age_category\"}},\"yaxis\":{\"anchor\":\"x\",\"domain\":[0.0,1.0],\"title\":{\"text\":\"count\"}},\"legend\":{\"tracegroupgap\":0},\"margin\":{\"t\":60},\"barmode\":\"relative\"},                        {\"responsive\": true}                    ).then(function(){\n",
              "                            \n",
              "var gd = document.getElementById('0db18293-4fa5-4f9f-9d5c-185050883300');\n",
              "var x = new MutationObserver(function (mutations, observer) {{\n",
              "        var display = window.getComputedStyle(gd).display;\n",
              "        if (!display || display === 'none') {{\n",
              "            console.log([gd, 'removed!']);\n",
              "            Plotly.purge(gd);\n",
              "            observer.disconnect();\n",
              "        }}\n",
              "}});\n",
              "\n",
              "// Listen for the removal of the full notebook cells\n",
              "var notebookContainer = gd.closest('#notebook-container');\n",
              "if (notebookContainer) {{\n",
              "    x.observe(notebookContainer, {childList: true});\n",
              "}}\n",
              "\n",
              "// Listen for the clearing of the current output cell\n",
              "var outputEl = gd.closest('.output');\n",
              "if (outputEl) {{\n",
              "    x.observe(outputEl, {childList: true});\n",
              "}}\n",
              "\n",
              "                        })                };                            </script>        </div>\n",
              "</body>\n",
              "</html>"
            ]
          },
          "metadata": {}
        }
      ]
    },
    {
      "cell_type": "markdown",
      "source": [
        "# **How does the average purchase amount vary across different product categories?**"
      ],
      "metadata": {
        "id": "QwmUzpyYZevs"
      }
    },
    {
      "cell_type": "code",
      "source": [
        "df.columns"
      ],
      "metadata": {
        "colab": {
          "base_uri": "https://localhost:8080/"
        },
        "id": "UMM9usMZZrVi",
        "outputId": "eeda41ba-4510-44f1-d123-099b1ce880ba"
      },
      "execution_count": 81,
      "outputs": [
        {
          "output_type": "execute_result",
          "data": {
            "text/plain": [
              "Index(['Customer ID', 'Age', 'Gender', 'Item Purchased', 'Category',\n",
              "       'Purchase Amount (USD)', 'Location', 'Size', 'Color', 'Season',\n",
              "       'Review Rating', 'Subscription Status', 'Shipping Type',\n",
              "       'Discount Applied', 'Promo Code Used', 'Previous Purchases',\n",
              "       'Payment Method', 'Frequency of Purchases', 'Age_category'],\n",
              "      dtype='object')"
            ]
          },
          "metadata": {},
          "execution_count": 81
        }
      ]
    },
    {
      "cell_type": "code",
      "source": [
        "df['Category'].unique()"
      ],
      "metadata": {
        "colab": {
          "base_uri": "https://localhost:8080/"
        },
        "id": "Lbe1z976a7fm",
        "outputId": "90d01812-6cdc-4ef8-c664-d712ef075e21"
      },
      "execution_count": 82,
      "outputs": [
        {
          "output_type": "execute_result",
          "data": {
            "text/plain": [
              "array(['Clothing', 'Footwear', 'Outerwear', 'Accessories'], dtype=object)"
            ]
          },
          "metadata": {},
          "execution_count": 82
        }
      ]
    },
    {
      "cell_type": "code",
      "source": [
        "df.groupby('Category')['Purchase Amount (USD)'].mean()"
      ],
      "metadata": {
        "colab": {
          "base_uri": "https://localhost:8080/",
          "height": 240
        },
        "id": "G0hjQFqWbE3E",
        "outputId": "3be4a15e-e47a-4256-e023-e925c693166d"
      },
      "execution_count": 83,
      "outputs": [
        {
          "output_type": "execute_result",
          "data": {
            "text/plain": [
              "Category\n",
              "Accessories    59.838710\n",
              "Clothing       60.025331\n",
              "Footwear       60.255426\n",
              "Outerwear      57.172840\n",
              "Name: Purchase Amount (USD), dtype: float64"
            ],
            "text/html": [
              "<div>\n",
              "<style scoped>\n",
              "    .dataframe tbody tr th:only-of-type {\n",
              "        vertical-align: middle;\n",
              "    }\n",
              "\n",
              "    .dataframe tbody tr th {\n",
              "        vertical-align: top;\n",
              "    }\n",
              "\n",
              "    .dataframe thead th {\n",
              "        text-align: right;\n",
              "    }\n",
              "</style>\n",
              "<table border=\"1\" class=\"dataframe\">\n",
              "  <thead>\n",
              "    <tr style=\"text-align: right;\">\n",
              "      <th></th>\n",
              "      <th>Purchase Amount (USD)</th>\n",
              "    </tr>\n",
              "    <tr>\n",
              "      <th>Category</th>\n",
              "      <th></th>\n",
              "    </tr>\n",
              "  </thead>\n",
              "  <tbody>\n",
              "    <tr>\n",
              "      <th>Accessories</th>\n",
              "      <td>59.838710</td>\n",
              "    </tr>\n",
              "    <tr>\n",
              "      <th>Clothing</th>\n",
              "      <td>60.025331</td>\n",
              "    </tr>\n",
              "    <tr>\n",
              "      <th>Footwear</th>\n",
              "      <td>60.255426</td>\n",
              "    </tr>\n",
              "    <tr>\n",
              "      <th>Outerwear</th>\n",
              "      <td>57.172840</td>\n",
              "    </tr>\n",
              "  </tbody>\n",
              "</table>\n",
              "</div><br><label><b>dtype:</b> float64</label>"
            ]
          },
          "metadata": {},
          "execution_count": 83
        }
      ]
    },
    {
      "cell_type": "markdown",
      "source": [
        "# **Which gender has the highest number of purchases?**"
      ],
      "metadata": {
        "id": "5IPyTjAjbfKR"
      }
    },
    {
      "cell_type": "code",
      "source": [
        "#seaborn will calulate mean of variable at Y axis(purchase ammount) for each variable at X axis.\n",
        "sns.barplot(df , x = 'Gender' , y = 'Purchase Amount (USD)')"
      ],
      "metadata": {
        "colab": {
          "base_uri": "https://localhost:8080/",
          "height": 466
        },
        "id": "wb3imO4fbphH",
        "outputId": "f44e957b-0e0a-4c65-ef78-e77da18f7129"
      },
      "execution_count": 84,
      "outputs": [
        {
          "output_type": "execute_result",
          "data": {
            "text/plain": [
              "<Axes: xlabel='Gender', ylabel='Purchase Amount (USD)'>"
            ]
          },
          "metadata": {},
          "execution_count": 84
        },
        {
          "output_type": "display_data",
          "data": {
            "text/plain": [
              "<Figure size 640x480 with 1 Axes>"
            ],
            "image/png": "[encoded data removed]"
          },
          "metadata": {}
        }
      ]
    },
    {
      "cell_type": "markdown",
      "source": [
        "# **What are the most commonly purchased items in each category?**"
      ],
      "metadata": {
        "id": "Cbh1v5z7eAjM"
      }
    },
    {
      "cell_type": "code",
      "source": [
        "df.groupby('Category')['Item Purchased'].value_counts()"
      ],
      "metadata": {
        "colab": {
          "base_uri": "https://localhost:8080/",
          "height": 899
        },
        "id": "hS2ui4JheNPi",
        "outputId": "37fb2cb0-a180-4be3-b9d3-cb350a427838"
      },
      "execution_count": 85,
      "outputs": [
        {
          "output_type": "execute_result",
          "data": {
            "text/plain": [
              "Category     Item Purchased\n",
              "Accessories  Jewelry           171\n",
              "             Belt              161\n",
              "             Sunglasses        161\n",
              "             Scarf             157\n",
              "             Hat               154\n",
              "             Handbag           153\n",
              "             Backpack          143\n",
              "             Gloves            140\n",
              "Clothing     Blouse            171\n",
              "             Pants             171\n",
              "             Shirt             169\n",
              "             Dress             166\n",
              "             Sweater           164\n",
              "             Socks             159\n",
              "             Skirt             158\n",
              "             Shorts            157\n",
              "             Hoodie            151\n",
              "             T-shirt           147\n",
              "             Jeans             124\n",
              "Footwear     Sandals           160\n",
              "             Shoes             150\n",
              "             Sneakers          145\n",
              "             Boots             144\n",
              "Outerwear    Jacket            163\n",
              "             Coat              161\n",
              "Name: count, dtype: int64"
            ],
            "text/html": [
              "<div>\n",
              "<style scoped>\n",
              "    .dataframe tbody tr th:only-of-type {\n",
              "        vertical-align: middle;\n",
              "    }\n",
              "\n",
              "    .dataframe tbody tr th {\n",
              "        vertical-align: top;\n",
              "    }\n",
              "\n",
              "    .dataframe thead th {\n",
              "        text-align: right;\n",
              "    }\n",
              "</style>\n",
              "<table border=\"1\" class=\"dataframe\">\n",
              "  <thead>\n",
              "    <tr style=\"text-align: right;\">\n",
              "      <th></th>\n",
              "      <th></th>\n",
              "      <th>count</th>\n",
              "    </tr>\n",
              "    <tr>\n",
              "      <th>Category</th>\n",
              "      <th>Item Purchased</th>\n",
              "      <th></th>\n",
              "    </tr>\n",
              "  </thead>\n",
              "  <tbody>\n",
              "    <tr>\n",
              "      <th rowspan=\"8\" valign=\"top\">Accessories</th>\n",
              "      <th>Jewelry</th>\n",
              "      <td>171</td>\n",
              "    </tr>\n",
              "    <tr>\n",
              "      <th>Belt</th>\n",
              "      <td>161</td>\n",
              "    </tr>\n",
              "    <tr>\n",
              "      <th>Sunglasses</th>\n",
              "      <td>161</td>\n",
              "    </tr>\n",
              "    <tr>\n",
              "      <th>Scarf</th>\n",
              "      <td>157</td>\n",
              "    </tr>\n",
              "    <tr>\n",
              "      <th>Hat</th>\n",
              "      <td>154</td>\n",
              "    </tr>\n",
              "    <tr>\n",
              "      <th>Handbag</th>\n",
              "      <td>153</td>\n",
              "    </tr>\n",
              "    <tr>\n",
              "      <th>Backpack</th>\n",
              "      <td>143</td>\n",
              "    </tr>\n",
              "    <tr>\n",
              "      <th>Gloves</th>\n",
              "      <td>140</td>\n",
              "    </tr>\n",
              "    <tr>\n",
              "      <th rowspan=\"11\" valign=\"top\">Clothing</th>\n",
              "      <th>Blouse</th>\n",
              "      <td>171</td>\n",
              "    </tr>\n",
              "    <tr>\n",
              "      <th>Pants</th>\n",
              "      <td>171</td>\n",
              "    </tr>\n",
              "    <tr>\n",
              "      <th>Shirt</th>\n",
              "      <td>169</td>\n",
              "    </tr>\n",
              "    <tr>\n",
              "      <th>Dress</th>\n",
              "      <td>166</td>\n",
              "    </tr>\n",
              "    <tr>\n",
              "      <th>Sweater</th>\n",
              "      <td>164</td>\n",
              "    </tr>\n",
              "    <tr>\n",
              "      <th>Socks</th>\n",
              "      <td>159</td>\n",
              "    </tr>\n",
              "    <tr>\n",
              "      <th>Skirt</th>\n",
              "      <td>158</td>\n",
              "    </tr>\n",
              "    <tr>\n",
              "      <th>Shorts</th>\n",
              "      <td>157</td>\n",
              "    </tr>\n",
              "    <tr>\n",
              "      <th>Hoodie</th>\n",
              "      <td>151</td>\n",
              "    </tr>\n",
              "    <tr>\n",
              "      <th>T-shirt</th>\n",
              "      <td>147</td>\n",
              "    </tr>\n",
              "    <tr>\n",
              "      <th>Jeans</th>\n",
              "      <td>124</td>\n",
              "    </tr>\n",
              "    <tr>\n",
              "      <th rowspan=\"4\" valign=\"top\">Footwear</th>\n",
              "      <th>Sandals</th>\n",
              "      <td>160</td>\n",
              "    </tr>\n",
              "    <tr>\n",
              "      <th>Shoes</th>\n",
              "      <td>150</td>\n",
              "    </tr>\n",
              "    <tr>\n",
              "      <th>Sneakers</th>\n",
              "      <td>145</td>\n",
              "    </tr>\n",
              "    <tr>\n",
              "      <th>Boots</th>\n",
              "      <td>144</td>\n",
              "    </tr>\n",
              "    <tr>\n",
              "      <th rowspan=\"2\" valign=\"top\">Outerwear</th>\n",
              "      <th>Jacket</th>\n",
              "      <td>163</td>\n",
              "    </tr>\n",
              "    <tr>\n",
              "      <th>Coat</th>\n",
              "      <td>161</td>\n",
              "    </tr>\n",
              "  </tbody>\n",
              "</table>\n",
              "</div><br><label><b>dtype:</b> int64</label>"
            ]
          },
          "metadata": {},
          "execution_count": 85
        }
      ]
    },
    {
      "cell_type": "code",
      "source": [
        "fig = px.histogram(df , x = 'Item Purchased' , color = 'Category')\n",
        "fig.show()"
      ],
      "metadata": {
        "colab": {
          "base_uri": "https://localhost:8080/",
          "height": 542
        },
        "id": "TJNxBqK3f6xx",
        "outputId": "10066cee-9ddd-409c-fba9-7944bb8736f8"
      },
      "execution_count": 86,
      "outputs": [
        {
          "output_type": "display_data",
          "data": {
            "text/html": [
              "<html>\n",
              "<head><meta charset=\"utf-8\" /></head>\n",
              "<body>\n",
              "    <div>            <script src=\"https://cdnjs.cloudflare.com/ajax/libs/mathjax/2.7.5/MathJax.js?config=TeX-AMS-MML_SVG\"></script><script type=\"text/javascript\">if (window.MathJax && window.MathJax.Hub && window.MathJax.Hub.Config) {window.MathJax.Hub.Config({SVG: {font: \"STIX-Web\"}});}</script>                <script type=\"text/javascript\">window.PlotlyConfig = {MathJaxConfig: 'local'};</script>\n",
              "        <script charset=\"utf-8\" src=\"https://cdn.plot.ly/plotly-2.35.2.min.js\"></script>                <div id=\"48320ce9-9e53-40ad-84d3-d4208db36e84\" class=\"plotly-graph-div\" style=\"height:525px; width:100%;\"></div>            <script type=\"text/javascript\">                                    window.PLOTLYENV=window.PLOTLYENV || {};                                    if (document.getElementById(\"48320ce9-9e53-40ad-84d3-d4208db36e84\")) {                    Plotly.newPlot(                        \"48320ce9-9e53-40ad-84d3-d4208db36e84\",                        [{\"alignmentgroup\":\"True\",\"bingroup\":\"x\",\"hovertemplate\":\"Category=Clothing\\u003cbr\\u003eItem Purchased=%{x}\\u003cbr\\u003ecount=%{y}\\u003cextra\\u003e\\u003c\\u002fextra\\u003e\",\"legendgroup\":\"Clothing\",\"marker\":{\"color\":\"#636efa\",\"pattern\":{\"shape\":\"\"}},\"name\":\"Clothing\",\"offsetgroup\":\"Clothing\",\"orientation\":\"v\",\"showlegend\":true,\"x\":[\"Blouse\",\"Sweater\",\"Jeans\",\"Blouse\",\"Shirt\",\"Shorts\",\"Shorts\",\"Dress\",\"Skirt\",\"Dress\",\"Sweater\",\"Pants\",\"Pants\",\"Pants\",\"Pants\",\"Pants\",\"Hoodie\",\"Shorts\",\"Dress\",\"Dress\",\"Pants\",\"T-shirt\",\"Blouse\",\"T-shirt\",\"Jeans\",\"Dress\",\"Pants\",\"Socks\",\"Shirt\",\"Shirt\",\"Hoodie\",\"Blouse\",\"Skirt\",\"T-shirt\",\"Skirt\",\"Hoodie\",\"Sweater\",\"Blouse\",\"Dress\",\"Dress\",\"Pants\",\"Dress\",\"Skirt\",\"Pants\",\"Dress\",\"Hoodie\",\"T-shirt\",\"Sweater\",\"Skirt\",\"Jeans\",\"Hoodie\",\"Socks\",\"Socks\",\"T-shirt\",\"Skirt\",\"Sweater\",\"Shorts\",\"Sweater\",\"Sweater\",\"Shorts\",\"Shorts\",\"Sweater\",\"Dress\",\"Skirt\",\"Sweater\",\"Blouse\",\"Skirt\",\"Shirt\",\"Skirt\",\"Pants\",\"Shirt\",\"Hoodie\",\"Dress\",\"Socks\",\"Shorts\",\"Shirt\",\"Skirt\",\"Shirt\",\"Shorts\",\"Hoodie\",\"Skirt\",\"Pants\",\"Skirt\",\"T-shirt\",\"Hoodie\",\"Blouse\",\"Dress\",\"Blouse\",\"Shirt\",\"T-shirt\",\"Skirt\",\"Skirt\",\"Shorts\",\"T-shirt\",\"Pants\",\"Socks\",\"Jeans\",\"Socks\",\"Blouse\",\"Sweater\",\"Dress\",\"Skirt\",\"Pants\",\"Sweater\",\"Hoodie\",\"Sweater\",\"Skirt\",\"Shorts\",\"Jeans\",\"Jeans\",\"Pants\",\"Shorts\",\"Pants\",\"Sweater\",\"Blouse\",\"Jeans\",\"Skirt\",\"Shirt\",\"Sweater\",\"Skirt\",\"Sweater\",\"Skirt\",\"T-shirt\",\"T-shirt\",\"Dress\",\"Skirt\",\"T-shirt\",\"Skirt\",\"Sweater\",\"Dress\",\"Sweater\",\"Dress\",\"Pants\",\"Jeans\",\"Pants\",\"Dress\",\"Pants\",\"Sweater\",\"Shorts\",\"Hoodie\",\"Shirt\",\"Pants\",\"Socks\",\"Sweater\",\"Shirt\",\"Shirt\",\"Sweater\",\"Blouse\",\"Sweater\",\"Sweater\",\"Hoodie\",\"Shorts\",\"Shorts\",\"Skirt\",\"Jeans\",\"Blouse\",\"Sweater\",\"Skirt\",\"Jeans\",\"Pants\",\"Pants\",\"T-shirt\",\"Shorts\",\"Socks\",\"Dress\",\"Sweater\",\"Dress\",\"T-shirt\",\"Jeans\",\"Sweater\",\"Shorts\",\"Sweater\",\"T-shirt\",\"Dress\",\"T-shirt\",\"T-shirt\",\"Jeans\",\"Hoodie\",\"Shorts\",\"Sweater\",\"Jeans\",\"Sweater\",\"Shorts\",\"Socks\",\"Shirt\",\"Pants\",\"Sweater\",\"Jeans\",\"Pants\",\"Shirt\",\"Shirt\",\"Skirt\",\"Pants\",\"Shirt\",\"Hoodie\",\"Dress\",\"Shirt\",\"Shorts\",\"Pants\",\"Blouse\",\"Blouse\",\"Shorts\",\"Skirt\",\"Jeans\",\"Shorts\",\"Dress\",\"Jeans\",\"Sweater\",\"Sweater\",\"Hoodie\",\"Hoodie\",\"Sweater\",\"Socks\",\"Shirt\",\"Dress\",\"T-shirt\",\"Pants\",\"T-shirt\",\"Shorts\",\"T-shirt\",\"Shirt\",\"Shirt\",\"Skirt\",\"Hoodie\",\"Blouse\",\"Shorts\",\"Shirt\",\"Pants\",\"T-shirt\",\"Shorts\",\"Pants\",\"T-shirt\",\"Blouse\",\"Socks\",\"Dress\",\"Skirt\",\"Hoodie\",\"T-shirt\",\"Shirt\",\"Jeans\",\"Hoodie\",\"Blouse\",\"Pants\",\"Skirt\",\"T-shirt\",\"Pants\",\"Jeans\",\"Skirt\",\"Sweater\",\"Sweater\",\"Shorts\",\"Socks\",\"Socks\",\"Hoodie\",\"Socks\",\"Shirt\",\"Hoodie\",\"Dress\",\"Hoodie\",\"Sweater\",\"Shorts\",\"Socks\",\"Pants\",\"Sweater\",\"Hoodie\",\"Sweater\",\"Dress\",\"Skirt\",\"Blouse\",\"Skirt\",\"Sweater\",\"Hoodie\",\"Blouse\",\"Hoodie\",\"Pants\",\"Jeans\",\"Shorts\",\"Shirt\",\"Dress\",\"Pants\",\"Pants\",\"Hoodie\",\"T-shirt\",\"Sweater\",\"Socks\",\"Shirt\",\"Pants\",\"Socks\",\"Blouse\",\"Shirt\",\"Blouse\",\"Sweater\",\"Hoodie\",\"Shorts\",\"Shorts\",\"Dress\",\"Shorts\",\"Pants\",\"Shirt\",\"Dress\",\"Hoodie\",\"Pants\",\"Jeans\",\"Shirt\",\"Blouse\",\"Hoodie\",\"Jeans\",\"Socks\",\"Shirt\",\"Shorts\",\"Blouse\",\"Sweater\",\"T-shirt\",\"Shorts\",\"Sweater\",\"Jeans\",\"Shirt\",\"Dress\",\"Shirt\",\"Dress\",\"Shorts\",\"Jeans\",\"T-shirt\",\"Pants\",\"T-shirt\",\"Shorts\",\"T-shirt\",\"Hoodie\",\"Dress\",\"Sweater\",\"Skirt\",\"Socks\",\"Sweater\",\"Jeans\",\"Shirt\",\"Socks\",\"Socks\",\"Dress\",\"Hoodie\",\"T-shirt\",\"Jeans\",\"Shorts\",\"Pants\",\"Sweater\",\"Pants\",\"Socks\",\"Socks\",\"Socks\",\"Pants\",\"Shorts\",\"Dress\",\"Jeans\",\"T-shirt\",\"Shirt\",\"Sweater\",\"Shirt\",\"Hoodie\",\"Shirt\",\"Blouse\",\"Dress\",\"Socks\",\"Socks\",\"Shorts\",\"Hoodie\",\"Shirt\",\"Shirt\",\"Sweater\",\"Shirt\",\"Hoodie\",\"Hoodie\",\"Jeans\",\"Dress\",\"Pants\",\"Socks\",\"Shirt\",\"Shorts\",\"Hoodie\",\"Skirt\",\"Jeans\",\"Blouse\",\"Dress\",\"Hoodie\",\"Jeans\",\"Skirt\",\"Skirt\",\"Dress\",\"Shorts\",\"Skirt\",\"Shorts\",\"Hoodie\",\"Shirt\",\"Sweater\",\"T-shirt\",\"Dress\",\"Pants\",\"Sweater\",\"Hoodie\",\"Pants\",\"Hoodie\",\"Dress\",\"Dress\",\"Jeans\",\"Sweater\",\"Shorts\",\"Shirt\",\"Shirt\",\"Socks\",\"Jeans\",\"Jeans\",\"Dress\",\"T-shirt\",\"Skirt\",\"Jeans\",\"Hoodie\",\"Shorts\",\"Blouse\",\"T-shirt\",\"Dress\",\"Blouse\",\"Jeans\",\"Dress\",\"Dress\",\"Shirt\",\"Skirt\",\"Dress\",\"Hoodie\",\"Shorts\",\"Jeans\",\"Skirt\",\"Sweater\",\"T-shirt\",\"Pants\",\"Shorts\",\"Pants\",\"Socks\",\"Socks\",\"Dress\",\"Pants\",\"Hoodie\",\"Jeans\",\"Dress\",\"Shirt\",\"T-shirt\",\"Shirt\",\"Hoodie\",\"Pants\",\"Socks\",\"Blouse\",\"Pants\",\"Jeans\",\"Shirt\",\"Jeans\",\"Jeans\",\"Sweater\",\"Socks\",\"Socks\",\"Socks\",\"Blouse\",\"Shorts\",\"Sweater\",\"Sweater\",\"Hoodie\",\"T-shirt\",\"Dress\",\"Shirt\",\"Skirt\",\"Shorts\",\"Sweater\",\"T-shirt\",\"Jeans\",\"Pants\",\"Sweater\",\"Sweater\",\"Pants\",\"Sweater\",\"Hoodie\",\"T-shirt\",\"Skirt\",\"Shorts\",\"Hoodie\",\"Hoodie\",\"Hoodie\",\"Skirt\",\"T-shirt\",\"Sweater\",\"Shirt\",\"Hoodie\",\"Shirt\",\"Hoodie\",\"T-shirt\",\"Skirt\",\"Shirt\",\"Pants\",\"Jeans\",\"T-shirt\",\"Jeans\",\"Pants\",\"Blouse\",\"Shirt\",\"Dress\",\"T-shirt\",\"Shorts\",\"Pants\",\"Dress\",\"T-shirt\",\"Dress\",\"Socks\",\"Skirt\",\"Socks\",\"Dress\",\"Skirt\",\"Dress\",\"T-shirt\",\"Skirt\",\"Shorts\",\"Pants\",\"Jeans\",\"Jeans\",\"Blouse\",\"Shirt\",\"Shirt\",\"T-shirt\",\"Hoodie\",\"Socks\",\"Pants\",\"Hoodie\",\"Blouse\",\"Pants\",\"Sweater\",\"Socks\",\"Jeans\",\"Pants\",\"Shorts\",\"Blouse\",\"Socks\",\"Pants\",\"Sweater\",\"Dress\",\"Pants\",\"Hoodie\",\"Socks\",\"Blouse\",\"Socks\",\"Dress\",\"Hoodie\",\"T-shirt\",\"Jeans\",\"Shorts\",\"Dress\",\"Skirt\",\"Shirt\",\"Shirt\",\"Hoodie\",\"Sweater\",\"Shirt\",\"Blouse\",\"T-shirt\",\"Hoodie\",\"Jeans\",\"Sweater\",\"Blouse\",\"Shorts\",\"Hoodie\",\"Pants\",\"Shirt\",\"Shirt\",\"Dress\",\"Jeans\",\"Skirt\",\"Sweater\",\"Shirt\",\"Jeans\",\"Pants\",\"T-shirt\",\"Shirt\",\"Blouse\",\"Pants\",\"Sweater\",\"Dress\",\"Blouse\",\"Hoodie\",\"T-shirt\",\"Shorts\",\"Pants\",\"Shorts\",\"T-shirt\",\"Pants\",\"Shorts\",\"Sweater\",\"Socks\",\"Hoodie\",\"Pants\",\"Sweater\",\"Hoodie\",\"T-shirt\",\"Dress\",\"Hoodie\",\"Sweater\",\"Socks\",\"Pants\",\"Shorts\",\"Hoodie\",\"Skirt\",\"Dress\",\"Blouse\",\"Shirt\",\"Pants\",\"Blouse\",\"T-shirt\",\"Blouse\",\"Dress\",\"Blouse\",\"Pants\",\"Dress\",\"Socks\",\"Shirt\",\"Blouse\",\"Skirt\",\"Shorts\",\"Blouse\",\"Socks\",\"Shorts\",\"Shirt\",\"Jeans\",\"Dress\",\"Dress\",\"Pants\",\"Blouse\",\"Skirt\",\"Pants\",\"Hoodie\",\"Sweater\",\"Pants\",\"Hoodie\",\"Sweater\",\"Jeans\",\"Hoodie\",\"Socks\",\"Dress\",\"Pants\",\"Shirt\",\"Sweater\",\"Shorts\",\"Shorts\",\"Sweater\",\"Blouse\",\"Skirt\",\"Shorts\",\"Skirt\",\"Shirt\",\"T-shirt\",\"T-shirt\",\"Sweater\",\"Jeans\",\"Jeans\",\"Pants\",\"Shirt\",\"Dress\",\"Blouse\",\"Dress\",\"Blouse\",\"Dress\",\"Socks\",\"Jeans\",\"Jeans\",\"Shorts\",\"Socks\",\"Socks\",\"T-shirt\",\"Blouse\",\"Dress\",\"Shorts\",\"Blouse\",\"Jeans\",\"Dress\",\"Blouse\",\"Blouse\",\"Shorts\",\"Shorts\",\"Hoodie\",\"Pants\",\"Skirt\",\"Pants\",\"Skirt\",\"T-shirt\",\"Skirt\",\"Shirt\",\"Dress\",\"Pants\",\"Blouse\",\"Sweater\",\"Socks\",\"Jeans\",\"Skirt\",\"Dress\",\"Shirt\",\"Shirt\",\"Shorts\",\"Sweater\",\"T-shirt\",\"Shorts\",\"Shirt\",\"Socks\",\"Pants\",\"Skirt\",\"T-shirt\",\"Blouse\",\"Shorts\",\"Sweater\",\"Skirt\",\"Dress\",\"Blouse\",\"Sweater\",\"Socks\",\"Dress\",\"Hoodie\",\"Pants\",\"T-shirt\",\"Sweater\",\"Sweater\",\"Blouse\",\"Skirt\",\"T-shirt\",\"Shirt\",\"Skirt\",\"Blouse\",\"T-shirt\",\"Pants\",\"Hoodie\",\"Blouse\",\"Pants\",\"Jeans\",\"Pants\",\"Dress\",\"Socks\",\"Shirt\",\"Blouse\",\"Skirt\",\"Shirt\",\"Shirt\",\"Shirt\",\"Sweater\",\"Hoodie\",\"Jeans\",\"Shorts\",\"Skirt\",\"Pants\",\"T-shirt\",\"T-shirt\",\"Jeans\",\"Dress\",\"Blouse\",\"Hoodie\",\"T-shirt\",\"Sweater\",\"Shorts\",\"T-shirt\",\"Blouse\",\"Jeans\",\"Shorts\",\"Shirt\",\"Blouse\",\"Jeans\",\"Dress\",\"Shorts\",\"Pants\",\"Pants\",\"Skirt\",\"Skirt\",\"Skirt\",\"Hoodie\",\"Sweater\",\"Skirt\",\"Dress\",\"Dress\",\"Sweater\",\"Skirt\",\"Hoodie\",\"Dress\",\"Hoodie\",\"Sweater\",\"Socks\",\"Shirt\",\"Sweater\",\"T-shirt\",\"Pants\",\"Sweater\",\"Blouse\",\"Blouse\",\"Jeans\",\"Jeans\",\"Skirt\",\"Dress\",\"Hoodie\",\"Sweater\",\"Shorts\",\"Sweater\",\"T-shirt\",\"Jeans\",\"Shorts\",\"Jeans\",\"T-shirt\",\"Socks\",\"Shirt\",\"Shorts\",\"Shirt\",\"Socks\",\"Pants\",\"T-shirt\",\"T-shirt\",\"Blouse\",\"Skirt\",\"Pants\",\"Shirt\",\"Socks\",\"Shorts\",\"Jeans\",\"Skirt\",\"Skirt\",\"Sweater\",\"Blouse\",\"Sweater\",\"Shirt\",\"T-shirt\",\"T-shirt\",\"Pants\",\"T-shirt\",\"Skirt\",\"Blouse\",\"Blouse\",\"Jeans\",\"T-shirt\",\"Sweater\",\"Pants\",\"Skirt\",\"Socks\",\"T-shirt\",\"Blouse\",\"Blouse\",\"Shorts\",\"Hoodie\",\"Hoodie\",\"Skirt\",\"Dress\",\"Hoodie\",\"Jeans\",\"Pants\",\"Shorts\",\"Socks\",\"Pants\",\"T-shirt\",\"Skirt\",\"Sweater\",\"Sweater\",\"Skirt\",\"Shorts\",\"Hoodie\",\"Skirt\",\"Skirt\",\"Blouse\",\"Shirt\",\"Pants\",\"Jeans\",\"Pants\",\"Hoodie\",\"Blouse\",\"Socks\",\"Jeans\",\"Pants\",\"Socks\",\"Hoodie\",\"Hoodie\",\"Pants\",\"Shirt\",\"T-shirt\",\"Dress\",\"Skirt\",\"Hoodie\",\"Socks\",\"Shorts\",\"Jeans\",\"Shorts\",\"Pants\",\"Sweater\",\"Dress\",\"Shirt\",\"Dress\",\"Skirt\",\"Jeans\",\"Skirt\",\"Pants\",\"Hoodie\",\"Blouse\",\"Pants\",\"Socks\",\"Shirt\",\"Shirt\",\"Skirt\",\"Sweater\",\"Jeans\",\"Skirt\",\"Socks\",\"Shirt\",\"Sweater\",\"Socks\",\"Socks\",\"Shirt\",\"Socks\",\"Blouse\",\"Jeans\",\"Shorts\",\"T-shirt\",\"Blouse\",\"Blouse\",\"T-shirt\",\"Jeans\",\"Pants\",\"T-shirt\",\"Sweater\",\"Socks\",\"Shirt\",\"Shorts\",\"Sweater\",\"Shorts\",\"Pants\",\"T-shirt\",\"Sweater\",\"Dress\",\"Jeans\",\"Jeans\",\"Blouse\",\"Jeans\",\"Dress\",\"Socks\",\"Jeans\",\"Dress\",\"Socks\",\"Hoodie\",\"Dress\",\"T-shirt\",\"T-shirt\",\"Sweater\",\"Shirt\",\"Pants\",\"Pants\",\"Hoodie\",\"Socks\",\"Dress\",\"Shirt\",\"Dress\",\"Socks\",\"Skirt\",\"Skirt\",\"Shorts\",\"Skirt\",\"Socks\",\"Sweater\",\"Dress\",\"Skirt\",\"Skirt\",\"T-shirt\",\"Shirt\",\"Jeans\",\"Shorts\",\"Shirt\",\"Skirt\",\"Shirt\",\"Blouse\",\"Dress\",\"Shorts\",\"Pants\",\"Skirt\",\"Sweater\",\"Shorts\",\"Skirt\",\"Dress\",\"Socks\",\"Blouse\",\"Shorts\",\"Shorts\",\"Blouse\",\"Blouse\",\"Blouse\",\"Shirt\",\"Socks\",\"Jeans\",\"Dress\",\"Pants\",\"Dress\",\"Dress\",\"Jeans\",\"Sweater\",\"Sweater\",\"Pants\",\"Pants\",\"Blouse\",\"Shorts\",\"Pants\",\"Shirt\",\"Pants\",\"Blouse\",\"Socks\",\"T-shirt\",\"Skirt\",\"Shirt\",\"Shorts\",\"Socks\",\"T-shirt\",\"Hoodie\",\"Blouse\",\"Skirt\",\"T-shirt\",\"Jeans\",\"Dress\",\"Sweater\",\"Skirt\",\"Blouse\",\"Dress\",\"Dress\",\"Shorts\",\"Jeans\",\"Hoodie\",\"Blouse\",\"Socks\",\"Blouse\",\"Shorts\",\"T-shirt\",\"Sweater\",\"Socks\",\"Pants\",\"Hoodie\",\"Skirt\",\"Dress\",\"T-shirt\",\"Dress\",\"Socks\",\"Hoodie\",\"Skirt\",\"Skirt\",\"Pants\",\"Shirt\",\"Shirt\",\"Blouse\",\"Skirt\",\"Socks\",\"T-shirt\",\"Blouse\",\"Sweater\",\"Blouse\",\"Skirt\",\"Shirt\",\"Sweater\",\"Jeans\",\"Socks\",\"Socks\",\"Sweater\",\"Socks\",\"Hoodie\",\"Blouse\",\"Sweater\",\"Blouse\",\"Socks\",\"Dress\",\"Shirt\",\"Shirt\",\"Jeans\",\"Socks\",\"Blouse\",\"Shirt\",\"Dress\",\"Shorts\",\"Shorts\",\"Jeans\",\"Shorts\",\"Hoodie\",\"Shorts\",\"Socks\",\"Pants\",\"Sweater\",\"T-shirt\",\"Hoodie\",\"T-shirt\",\"T-shirt\",\"Jeans\",\"Socks\",\"Blouse\",\"Shirt\",\"Pants\",\"T-shirt\",\"Socks\",\"Shirt\",\"Sweater\",\"Jeans\",\"T-shirt\",\"Socks\",\"Jeans\",\"Pants\",\"Blouse\",\"Shorts\",\"Shorts\",\"Skirt\",\"Blouse\",\"Shirt\",\"Socks\",\"T-shirt\",\"Dress\",\"Socks\",\"Dress\",\"Socks\",\"Skirt\",\"Hoodie\",\"Blouse\",\"Jeans\",\"Blouse\",\"Socks\",\"Hoodie\",\"Shorts\",\"Skirt\",\"Shorts\",\"Dress\",\"Socks\",\"Socks\",\"Blouse\",\"Shorts\",\"Shirt\",\"Sweater\",\"Shorts\",\"Pants\",\"Skirt\",\"Socks\",\"Pants\",\"Pants\",\"T-shirt\",\"Shorts\",\"Hoodie\",\"Hoodie\",\"Shorts\",\"Socks\",\"T-shirt\",\"Dress\",\"Blouse\",\"T-shirt\",\"Shorts\",\"Hoodie\",\"Socks\",\"Blouse\",\"Jeans\",\"Dress\",\"Dress\",\"Jeans\",\"Socks\",\"Pants\",\"Shorts\",\"Pants\",\"Skirt\",\"Blouse\",\"Shirt\",\"Dress\",\"Dress\",\"Sweater\",\"Hoodie\",\"Jeans\",\"T-shirt\",\"Shorts\",\"Pants\",\"Blouse\",\"Dress\",\"Skirt\",\"Shirt\",\"Hoodie\",\"Skirt\",\"Skirt\",\"Hoodie\",\"Pants\",\"Shirt\",\"Blouse\",\"Skirt\",\"Pants\",\"T-shirt\",\"Pants\",\"Socks\",\"Shorts\",\"Blouse\",\"Shorts\",\"Dress\",\"Pants\",\"Skirt\",\"T-shirt\",\"Hoodie\",\"Shorts\",\"Shorts\",\"Shorts\",\"Socks\",\"Dress\",\"Socks\",\"Dress\",\"Blouse\",\"Pants\",\"Hoodie\",\"T-shirt\",\"Sweater\",\"Dress\",\"Dress\",\"Shirt\",\"Sweater\",\"Shorts\",\"Hoodie\",\"Shirt\",\"Skirt\",\"Socks\",\"Jeans\",\"Skirt\",\"Hoodie\",\"Shirt\",\"Dress\",\"Shirt\",\"Hoodie\",\"Jeans\",\"Dress\",\"Sweater\",\"Blouse\",\"Skirt\",\"T-shirt\",\"Sweater\",\"Dress\",\"Dress\",\"Blouse\",\"Shirt\",\"Pants\",\"Socks\",\"Blouse\",\"Skirt\",\"Skirt\",\"Blouse\",\"Sweater\",\"Socks\",\"Shorts\",\"Hoodie\",\"T-shirt\",\"Shirt\",\"Shirt\",\"T-shirt\",\"Hoodie\",\"Blouse\",\"Hoodie\",\"Skirt\",\"Shorts\",\"Jeans\",\"Hoodie\",\"Shirt\",\"T-shirt\",\"Blouse\",\"Skirt\",\"Shorts\",\"Shirt\",\"Skirt\",\"Dress\",\"Blouse\",\"Skirt\",\"Hoodie\",\"Jeans\",\"T-shirt\",\"Pants\",\"T-shirt\",\"Dress\",\"Sweater\",\"Socks\",\"Sweater\",\"Blouse\",\"Dress\",\"Jeans\",\"Shorts\",\"Shirt\",\"T-shirt\",\"Sweater\",\"Skirt\",\"Blouse\",\"Socks\",\"Shorts\",\"Sweater\",\"Shirt\",\"Pants\",\"Hoodie\",\"Socks\",\"Dress\",\"Blouse\",\"Skirt\",\"Blouse\",\"Socks\",\"Hoodie\",\"Jeans\",\"T-shirt\",\"Dress\",\"Hoodie\",\"Blouse\",\"Blouse\",\"Blouse\",\"Blouse\",\"Socks\",\"Sweater\",\"Shirt\",\"Shorts\",\"Shirt\",\"Shirt\",\"Shirt\",\"Sweater\",\"Shirt\",\"Socks\",\"T-shirt\",\"Skirt\",\"Sweater\",\"Skirt\",\"Socks\",\"Shirt\",\"Pants\",\"Pants\",\"Jeans\",\"Dress\",\"T-shirt\",\"Dress\",\"Skirt\",\"Hoodie\",\"Pants\",\"Sweater\",\"Shorts\",\"Shorts\",\"Jeans\",\"Pants\",\"Dress\",\"Pants\",\"Skirt\",\"Socks\",\"Shirt\",\"Dress\",\"Socks\",\"Sweater\",\"Jeans\",\"Sweater\",\"Hoodie\",\"Blouse\",\"Skirt\",\"Shorts\",\"Dress\",\"Skirt\",\"T-shirt\",\"Blouse\",\"Jeans\",\"Blouse\",\"Shirt\",\"Hoodie\",\"Dress\",\"Dress\",\"Blouse\",\"Sweater\",\"Hoodie\",\"Blouse\",\"Socks\",\"Sweater\",\"T-shirt\",\"Skirt\",\"Jeans\",\"Sweater\",\"Shirt\",\"Shorts\",\"Sweater\",\"Hoodie\",\"T-shirt\",\"Pants\",\"Sweater\",\"Shirt\",\"Dress\",\"Shirt\",\"Dress\",\"Socks\",\"Shirt\",\"Pants\",\"Shirt\",\"Shirt\",\"Pants\",\"Skirt\",\"Blouse\",\"Socks\",\"Blouse\",\"Shirt\",\"Hoodie\",\"Shorts\",\"Shirt\",\"Hoodie\",\"Socks\",\"Pants\",\"Sweater\",\"T-shirt\",\"Skirt\",\"Blouse\",\"Hoodie\",\"Shirt\",\"Sweater\",\"Shorts\",\"Blouse\",\"T-shirt\",\"Socks\",\"Shirt\",\"Dress\",\"Pants\",\"Dress\",\"Shirt\",\"Dress\",\"Jeans\",\"T-shirt\",\"Socks\",\"Skirt\",\"Pants\",\"Socks\",\"Shorts\",\"Sweater\",\"Skirt\",\"Blouse\",\"Blouse\",\"Jeans\",\"Hoodie\",\"Sweater\",\"Sweater\",\"Socks\",\"Pants\",\"Hoodie\",\"Socks\",\"Socks\",\"Pants\",\"Skirt\",\"Hoodie\",\"Skirt\",\"T-shirt\",\"Shirt\",\"Hoodie\",\"Blouse\",\"Pants\",\"T-shirt\",\"T-shirt\",\"Socks\",\"Hoodie\",\"Sweater\",\"Pants\",\"T-shirt\",\"Sweater\",\"Shorts\",\"Shirt\",\"T-shirt\",\"Shorts\",\"Pants\",\"Hoodie\",\"Dress\",\"Blouse\",\"Socks\",\"Socks\",\"Sweater\",\"Pants\",\"Skirt\",\"Dress\",\"Pants\",\"T-shirt\",\"Skirt\",\"Sweater\",\"Blouse\",\"Blouse\",\"Shorts\",\"Pants\",\"Blouse\",\"Hoodie\",\"Jeans\",\"Socks\",\"Socks\",\"Shorts\",\"Blouse\",\"Sweater\",\"T-shirt\",\"Shorts\",\"T-shirt\",\"Jeans\",\"Shirt\",\"Blouse\",\"Skirt\",\"T-shirt\",\"Shorts\",\"Jeans\",\"T-shirt\",\"Shirt\",\"Dress\",\"Skirt\",\"Blouse\",\"Jeans\",\"Hoodie\",\"T-shirt\",\"Sweater\",\"Skirt\",\"T-shirt\",\"Sweater\",\"Hoodie\",\"Socks\",\"Blouse\",\"Shirt\",\"Shorts\",\"Dress\",\"Sweater\",\"Hoodie\",\"T-shirt\",\"Pants\",\"Sweater\",\"Pants\",\"Socks\",\"Hoodie\",\"Dress\",\"Dress\",\"Pants\",\"Blouse\",\"Jeans\",\"Pants\",\"Hoodie\",\"Blouse\",\"Sweater\",\"Dress\",\"Socks\",\"Shirt\",\"Blouse\",\"Socks\",\"T-shirt\",\"Skirt\",\"Socks\",\"Socks\",\"Pants\",\"Socks\",\"Shirt\",\"Sweater\",\"Skirt\",\"Dress\",\"Pants\",\"Blouse\",\"Shorts\",\"Blouse\",\"Shirt\",\"T-shirt\",\"Hoodie\",\"Hoodie\",\"Jeans\",\"Socks\",\"Socks\",\"Blouse\",\"Dress\",\"Pants\",\"Sweater\",\"Socks\",\"Hoodie\",\"Dress\",\"Shirt\",\"Shorts\",\"Sweater\",\"Dress\",\"Pants\",\"Pants\",\"Shorts\",\"Socks\",\"Shirt\",\"Shirt\",\"Shirt\",\"Pants\",\"T-shirt\",\"Shirt\",\"Blouse\",\"Dress\",\"Skirt\",\"Shirt\",\"Shorts\",\"Pants\",\"Pants\",\"Sweater\",\"Blouse\",\"T-shirt\",\"Pants\",\"Shorts\",\"Shorts\",\"Blouse\",\"Socks\",\"Blouse\",\"T-shirt\",\"Dress\",\"Blouse\",\"Sweater\",\"Shorts\",\"Socks\",\"Blouse\",\"Jeans\",\"Dress\",\"Skirt\",\"Shorts\",\"Jeans\",\"Socks\",\"Blouse\",\"Dress\",\"Shorts\",\"Blouse\",\"Hoodie\",\"Sweater\",\"Dress\",\"Blouse\",\"Hoodie\",\"Hoodie\",\"Dress\",\"T-shirt\",\"Skirt\",\"Jeans\",\"Hoodie\",\"Jeans\",\"Socks\",\"T-shirt\",\"Dress\",\"Hoodie\",\"Dress\",\"Blouse\",\"Blouse\",\"T-shirt\",\"Socks\",\"Dress\",\"Blouse\",\"Shorts\",\"Skirt\",\"Skirt\",\"Jeans\",\"Sweater\",\"T-shirt\",\"Shorts\",\"Socks\",\"Pants\",\"Blouse\",\"Socks\",\"Socks\",\"Shirt\",\"Shirt\",\"Socks\",\"Skirt\",\"Shorts\",\"Shirt\",\"Blouse\",\"Blouse\",\"Sweater\",\"Skirt\",\"Blouse\",\"Hoodie\",\"Skirt\",\"Skirt\",\"Hoodie\",\"Socks\",\"Blouse\",\"Shirt\",\"T-shirt\",\"Pants\",\"Pants\",\"Dress\",\"Socks\",\"Shirt\",\"Socks\",\"Hoodie\",\"Jeans\",\"Shorts\",\"Pants\",\"Shirt\",\"Shirt\",\"Pants\",\"Hoodie\",\"Socks\",\"Sweater\",\"Blouse\",\"Hoodie\",\"Skirt\",\"Skirt\",\"Skirt\",\"Socks\",\"Shorts\",\"Shirt\",\"Socks\",\"Shorts\",\"Sweater\",\"Pants\",\"T-shirt\",\"Pants\",\"Sweater\",\"Shorts\",\"Jeans\",\"Socks\",\"Jeans\",\"Blouse\",\"Shirt\",\"Shorts\",\"Sweater\",\"Blouse\",\"Blouse\",\"Socks\",\"Skirt\",\"Skirt\",\"Pants\",\"Dress\",\"Pants\",\"Shirt\",\"Shorts\",\"Shorts\",\"Blouse\",\"Pants\",\"Hoodie\",\"Skirt\",\"Hoodie\",\"Dress\",\"Jeans\",\"Jeans\",\"Shorts\",\"Sweater\",\"Blouse\",\"Sweater\",\"Hoodie\",\"T-shirt\",\"Shirt\",\"T-shirt\",\"Shorts\",\"Shirt\",\"T-shirt\",\"Shorts\",\"Dress\",\"T-shirt\",\"Sweater\",\"Hoodie\",\"Skirt\",\"Shirt\",\"Pants\",\"Socks\",\"Shirt\",\"Dress\",\"Shirt\",\"Dress\",\"Skirt\",\"Hoodie\"],\"xaxis\":\"x\",\"yaxis\":\"y\",\"type\":\"histogram\"},{\"alignmentgroup\":\"True\",\"bingroup\":\"x\",\"hovertemplate\":\"Category=Footwear\\u003cbr\\u003eItem Purchased=%{x}\\u003cbr\\u003ecount=%{y}\\u003cextra\\u003e\\u003c\\u002fextra\\u003e\",\"legendgroup\":\"Footwear\",\"marker\":{\"color\":\"#EF553B\",\"pattern\":{\"shape\":\"\"}},\"name\":\"Footwear\",\"offsetgroup\":\"Footwear\",\"orientation\":\"v\",\"showlegend\":true,\"x\":[\"Sandals\",\"Sneakers\",\"Shoes\",\"Sneakers\",\"Boots\",\"Sandals\",\"Shoes\",\"Shoes\",\"Sneakers\",\"Shoes\",\"Boots\",\"Sneakers\",\"Shoes\",\"Sandals\",\"Sandals\",\"Sneakers\",\"Shoes\",\"Shoes\",\"Boots\",\"Sneakers\",\"Shoes\",\"Shoes\",\"Boots\",\"Sandals\",\"Sneakers\",\"Shoes\",\"Shoes\",\"Boots\",\"Sneakers\",\"Sandals\",\"Sneakers\",\"Shoes\",\"Sandals\",\"Sandals\",\"Boots\",\"Shoes\",\"Sneakers\",\"Sandals\",\"Shoes\",\"Sandals\",\"Shoes\",\"Sneakers\",\"Sandals\",\"Sneakers\",\"Sandals\",\"Shoes\",\"Sandals\",\"Sneakers\",\"Sneakers\",\"Sneakers\",\"Shoes\",\"Sneakers\",\"Shoes\",\"Boots\",\"Shoes\",\"Sneakers\",\"Boots\",\"Boots\",\"Sneakers\",\"Sneakers\",\"Sandals\",\"Sandals\",\"Shoes\",\"Boots\",\"Boots\",\"Shoes\",\"Boots\",\"Sneakers\",\"Shoes\",\"Sandals\",\"Sneakers\",\"Boots\",\"Sneakers\",\"Boots\",\"Shoes\",\"Boots\",\"Shoes\",\"Shoes\",\"Boots\",\"Sandals\",\"Sneakers\",\"Sandals\",\"Sandals\",\"Boots\",\"Sandals\",\"Sneakers\",\"Sneakers\",\"Shoes\",\"Sneakers\",\"Sneakers\",\"Sandals\",\"Sandals\",\"Boots\",\"Boots\",\"Shoes\",\"Shoes\",\"Boots\",\"Shoes\",\"Sandals\",\"Shoes\",\"Sandals\",\"Shoes\",\"Boots\",\"Sandals\",\"Sneakers\",\"Sandals\",\"Boots\",\"Sandals\",\"Sneakers\",\"Sandals\",\"Boots\",\"Boots\",\"Boots\",\"Boots\",\"Boots\",\"Sandals\",\"Boots\",\"Shoes\",\"Sneakers\",\"Sneakers\",\"Shoes\",\"Sneakers\",\"Sandals\",\"Boots\",\"Shoes\",\"Boots\",\"Sneakers\",\"Boots\",\"Sneakers\",\"Shoes\",\"Boots\",\"Sandals\",\"Boots\",\"Sandals\",\"Shoes\",\"Sandals\",\"Shoes\",\"Sneakers\",\"Boots\",\"Sandals\",\"Sandals\",\"Boots\",\"Sneakers\",\"Sneakers\",\"Sneakers\",\"Sneakers\",\"Boots\",\"Sneakers\",\"Shoes\",\"Boots\",\"Sneakers\",\"Boots\",\"Boots\",\"Sandals\",\"Boots\",\"Sneakers\",\"Boots\",\"Shoes\",\"Shoes\",\"Sandals\",\"Shoes\",\"Sandals\",\"Shoes\",\"Shoes\",\"Sandals\",\"Shoes\",\"Sandals\",\"Boots\",\"Sneakers\",\"Sneakers\",\"Shoes\",\"Boots\",\"Sneakers\",\"Sneakers\",\"Shoes\",\"Sneakers\",\"Sandals\",\"Shoes\",\"Boots\",\"Sneakers\",\"Sneakers\",\"Shoes\",\"Sandals\",\"Sneakers\",\"Sandals\",\"Shoes\",\"Sneakers\",\"Boots\",\"Boots\",\"Shoes\",\"Boots\",\"Boots\",\"Sandals\",\"Boots\",\"Sandals\",\"Sandals\",\"Sneakers\",\"Boots\",\"Boots\",\"Sandals\",\"Boots\",\"Sandals\",\"Sneakers\",\"Sandals\",\"Sneakers\",\"Shoes\",\"Shoes\",\"Boots\",\"Shoes\",\"Boots\",\"Sneakers\",\"Sneakers\",\"Shoes\",\"Sneakers\",\"Sandals\",\"Sneakers\",\"Shoes\",\"Sneakers\",\"Sandals\",\"Boots\",\"Sandals\",\"Sandals\",\"Sneakers\",\"Boots\",\"Boots\",\"Sandals\",\"Sandals\",\"Boots\",\"Boots\",\"Sneakers\",\"Shoes\",\"Boots\",\"Sneakers\",\"Sandals\",\"Sneakers\",\"Sneakers\",\"Boots\",\"Sneakers\",\"Shoes\",\"Shoes\",\"Sandals\",\"Shoes\",\"Sneakers\",\"Sneakers\",\"Sneakers\",\"Sneakers\",\"Boots\",\"Sneakers\",\"Boots\",\"Sneakers\",\"Shoes\",\"Boots\",\"Sandals\",\"Sandals\",\"Sneakers\",\"Shoes\",\"Boots\",\"Boots\",\"Boots\",\"Shoes\",\"Sneakers\",\"Shoes\",\"Sneakers\",\"Boots\",\"Shoes\",\"Sandals\",\"Boots\",\"Sandals\",\"Sandals\",\"Shoes\",\"Sneakers\",\"Sneakers\",\"Sneakers\",\"Sneakers\",\"Boots\",\"Shoes\",\"Boots\",\"Sandals\",\"Sandals\",\"Sandals\",\"Sneakers\",\"Sandals\",\"Boots\",\"Sandals\",\"Sandals\",\"Boots\",\"Sandals\",\"Sandals\",\"Sneakers\",\"Sandals\",\"Shoes\",\"Shoes\",\"Shoes\",\"Boots\",\"Sandals\",\"Sandals\",\"Shoes\",\"Sneakers\",\"Boots\",\"Sneakers\",\"Sneakers\",\"Shoes\",\"Sandals\",\"Boots\",\"Sandals\",\"Shoes\",\"Shoes\",\"Shoes\",\"Shoes\",\"Sneakers\",\"Boots\",\"Shoes\",\"Sneakers\",\"Sneakers\",\"Sandals\",\"Sandals\",\"Sneakers\",\"Shoes\",\"Shoes\",\"Boots\",\"Sandals\",\"Boots\",\"Sandals\",\"Shoes\",\"Sandals\",\"Shoes\",\"Sandals\",\"Shoes\",\"Sandals\",\"Boots\",\"Sandals\",\"Sandals\",\"Sandals\",\"Sandals\",\"Sneakers\",\"Shoes\",\"Boots\",\"Sandals\",\"Sneakers\",\"Sandals\",\"Shoes\",\"Shoes\",\"Shoes\",\"Sneakers\",\"Shoes\",\"Sneakers\",\"Boots\",\"Sneakers\",\"Sneakers\",\"Sandals\",\"Shoes\",\"Sandals\",\"Boots\",\"Boots\",\"Boots\",\"Sneakers\",\"Sandals\",\"Shoes\",\"Shoes\",\"Boots\",\"Sneakers\",\"Shoes\",\"Shoes\",\"Boots\",\"Sandals\",\"Sandals\",\"Boots\",\"Sneakers\",\"Shoes\",\"Sandals\",\"Sneakers\",\"Shoes\",\"Sneakers\",\"Sneakers\",\"Sneakers\",\"Sandals\",\"Sandals\",\"Sandals\",\"Boots\",\"Shoes\",\"Boots\",\"Shoes\",\"Sneakers\",\"Boots\",\"Sandals\",\"Sandals\",\"Shoes\",\"Boots\",\"Boots\",\"Shoes\",\"Boots\",\"Sneakers\",\"Shoes\",\"Shoes\",\"Sandals\",\"Shoes\",\"Shoes\",\"Sandals\",\"Shoes\",\"Sneakers\",\"Boots\",\"Boots\",\"Sneakers\",\"Sandals\",\"Boots\",\"Sandals\",\"Boots\",\"Shoes\",\"Sneakers\",\"Boots\",\"Sneakers\",\"Boots\",\"Boots\",\"Shoes\",\"Shoes\",\"Sneakers\",\"Shoes\",\"Sandals\",\"Shoes\",\"Sneakers\",\"Sneakers\",\"Shoes\",\"Boots\",\"Sandals\",\"Shoes\",\"Sneakers\",\"Boots\",\"Boots\",\"Boots\",\"Sandals\",\"Boots\",\"Boots\",\"Boots\",\"Shoes\",\"Shoes\",\"Boots\",\"Sandals\",\"Boots\",\"Sneakers\",\"Boots\",\"Sandals\",\"Sneakers\",\"Boots\",\"Boots\",\"Sandals\",\"Shoes\",\"Shoes\",\"Sneakers\",\"Sneakers\",\"Boots\",\"Boots\",\"Boots\",\"Sneakers\",\"Boots\",\"Sneakers\",\"Sandals\",\"Shoes\",\"Boots\",\"Sandals\",\"Shoes\",\"Sneakers\",\"Boots\",\"Boots\",\"Shoes\",\"Sneakers\",\"Shoes\",\"Shoes\",\"Boots\",\"Sandals\",\"Boots\",\"Shoes\",\"Boots\",\"Sneakers\",\"Sandals\",\"Sandals\",\"Shoes\",\"Sandals\",\"Sandals\",\"Sandals\",\"Boots\",\"Shoes\",\"Sneakers\",\"Boots\",\"Shoes\",\"Sandals\",\"Sandals\",\"Sneakers\",\"Boots\",\"Sneakers\",\"Boots\",\"Shoes\",\"Sneakers\",\"Sneakers\",\"Sneakers\",\"Shoes\",\"Sneakers\",\"Sandals\",\"Sneakers\",\"Sandals\",\"Shoes\",\"Shoes\",\"Sneakers\",\"Sandals\",\"Sandals\",\"Sneakers\",\"Shoes\",\"Shoes\",\"Sandals\",\"Sandals\",\"Boots\",\"Sandals\",\"Boots\",\"Sandals\",\"Shoes\",\"Sandals\",\"Boots\",\"Sandals\",\"Shoes\",\"Boots\",\"Boots\",\"Boots\",\"Sandals\",\"Shoes\",\"Sandals\",\"Sneakers\",\"Boots\",\"Sandals\",\"Sandals\",\"Boots\",\"Shoes\",\"Sandals\",\"Shoes\",\"Sneakers\",\"Sneakers\",\"Boots\",\"Shoes\",\"Shoes\",\"Sneakers\",\"Shoes\",\"Shoes\",\"Sandals\",\"Shoes\",\"Shoes\",\"Sneakers\",\"Sneakers\",\"Sandals\",\"Sandals\",\"Boots\",\"Shoes\",\"Sneakers\",\"Boots\",\"Sandals\",\"Sandals\",\"Sandals\",\"Sandals\",\"Sneakers\",\"Sneakers\",\"Sandals\",\"Sandals\",\"Boots\",\"Shoes\",\"Sandals\",\"Shoes\",\"Sandals\",\"Shoes\",\"Sandals\",\"Sandals\",\"Sandals\",\"Sandals\",\"Shoes\",\"Sandals\",\"Sandals\",\"Shoes\",\"Sandals\",\"Boots\",\"Shoes\",\"Sandals\",\"Shoes\",\"Sandals\",\"Sneakers\",\"Sneakers\",\"Sneakers\",\"Sneakers\",\"Boots\",\"Boots\",\"Boots\",\"Shoes\",\"Sneakers\",\"Sneakers\",\"Boots\",\"Sandals\",\"Sandals\",\"Sandals\",\"Sandals\",\"Sandals\",\"Shoes\",\"Sandals\",\"Sneakers\",\"Shoes\"],\"xaxis\":\"x\",\"yaxis\":\"y\",\"type\":\"histogram\"},{\"alignmentgroup\":\"True\",\"bingroup\":\"x\",\"hovertemplate\":\"Category=Outerwear\\u003cbr\\u003eItem Purchased=%{x}\\u003cbr\\u003ecount=%{y}\\u003cextra\\u003e\\u003c\\u002fextra\\u003e\",\"legendgroup\":\"Outerwear\",\"marker\":{\"color\":\"#00cc96\",\"pattern\":{\"shape\":\"\"}},\"name\":\"Outerwear\",\"offsetgroup\":\"Outerwear\",\"orientation\":\"v\",\"showlegend\":true,\"x\":[\"Coat\",\"Coat\",\"Coat\",\"Jacket\",\"Jacket\",\"Coat\",\"Coat\",\"Jacket\",\"Coat\",\"Coat\",\"Jacket\",\"Coat\",\"Jacket\",\"Jacket\",\"Coat\",\"Jacket\",\"Coat\",\"Coat\",\"Coat\",\"Jacket\",\"Coat\",\"Jacket\",\"Coat\",\"Coat\",\"Jacket\",\"Jacket\",\"Jacket\",\"Jacket\",\"Coat\",\"Coat\",\"Coat\",\"Coat\",\"Jacket\",\"Coat\",\"Coat\",\"Coat\",\"Coat\",\"Coat\",\"Jacket\",\"Coat\",\"Coat\",\"Coat\",\"Jacket\",\"Jacket\",\"Jacket\",\"Coat\",\"Jacket\",\"Coat\",\"Coat\",\"Coat\",\"Jacket\",\"Coat\",\"Jacket\",\"Coat\",\"Jacket\",\"Coat\",\"Coat\",\"Jacket\",\"Jacket\",\"Jacket\",\"Coat\",\"Coat\",\"Jacket\",\"Jacket\",\"Coat\",\"Jacket\",\"Jacket\",\"Jacket\",\"Jacket\",\"Jacket\",\"Coat\",\"Coat\",\"Coat\",\"Coat\",\"Jacket\",\"Coat\",\"Jacket\",\"Coat\",\"Jacket\",\"Jacket\",\"Jacket\",\"Coat\",\"Coat\",\"Coat\",\"Coat\",\"Jacket\",\"Coat\",\"Jacket\",\"Jacket\",\"Coat\",\"Coat\",\"Jacket\",\"Jacket\",\"Jacket\",\"Coat\",\"Coat\",\"Coat\",\"Jacket\",\"Coat\",\"Coat\",\"Coat\",\"Coat\",\"Coat\",\"Coat\",\"Jacket\",\"Coat\",\"Jacket\",\"Jacket\",\"Coat\",\"Coat\",\"Jacket\",\"Jacket\",\"Coat\",\"Coat\",\"Coat\",\"Coat\",\"Jacket\",\"Coat\",\"Jacket\",\"Jacket\",\"Jacket\",\"Coat\",\"Jacket\",\"Coat\",\"Coat\",\"Jacket\",\"Jacket\",\"Coat\",\"Coat\",\"Jacket\",\"Jacket\",\"Jacket\",\"Jacket\",\"Jacket\",\"Coat\",\"Jacket\",\"Jacket\",\"Coat\",\"Jacket\",\"Coat\",\"Coat\",\"Coat\",\"Jacket\",\"Coat\",\"Coat\",\"Coat\",\"Jacket\",\"Jacket\",\"Coat\",\"Coat\",\"Coat\",\"Jacket\",\"Jacket\",\"Jacket\",\"Coat\",\"Jacket\",\"Coat\",\"Jacket\",\"Jacket\",\"Jacket\",\"Jacket\",\"Jacket\",\"Jacket\",\"Coat\",\"Jacket\",\"Coat\",\"Jacket\",\"Coat\",\"Jacket\",\"Jacket\",\"Jacket\",\"Coat\",\"Coat\",\"Coat\",\"Jacket\",\"Coat\",\"Coat\",\"Coat\",\"Jacket\",\"Jacket\",\"Jacket\",\"Coat\",\"Coat\",\"Jacket\",\"Coat\",\"Coat\",\"Coat\",\"Coat\",\"Jacket\",\"Coat\",\"Coat\",\"Coat\",\"Jacket\",\"Jacket\",\"Coat\",\"Jacket\",\"Jacket\",\"Coat\",\"Jacket\",\"Jacket\",\"Jacket\",\"Jacket\",\"Jacket\",\"Coat\",\"Jacket\",\"Coat\",\"Coat\",\"Jacket\",\"Jacket\",\"Jacket\",\"Coat\",\"Coat\",\"Coat\",\"Jacket\",\"Jacket\",\"Coat\",\"Jacket\",\"Coat\",\"Jacket\",\"Jacket\",\"Jacket\",\"Jacket\",\"Jacket\",\"Coat\",\"Coat\",\"Coat\",\"Jacket\",\"Jacket\",\"Jacket\",\"Jacket\",\"Coat\",\"Jacket\",\"Jacket\",\"Jacket\",\"Jacket\",\"Jacket\",\"Coat\",\"Jacket\",\"Jacket\",\"Jacket\",\"Coat\",\"Coat\",\"Jacket\",\"Coat\",\"Coat\",\"Jacket\",\"Coat\",\"Coat\",\"Coat\",\"Coat\",\"Jacket\",\"Coat\",\"Jacket\",\"Coat\",\"Jacket\",\"Coat\",\"Coat\",\"Coat\",\"Jacket\",\"Jacket\",\"Jacket\",\"Coat\",\"Coat\",\"Jacket\",\"Jacket\",\"Coat\",\"Jacket\",\"Jacket\",\"Coat\",\"Jacket\",\"Coat\",\"Coat\",\"Coat\",\"Coat\",\"Coat\",\"Jacket\",\"Jacket\",\"Coat\",\"Coat\",\"Jacket\",\"Jacket\",\"Jacket\",\"Jacket\",\"Coat\",\"Jacket\",\"Jacket\",\"Jacket\",\"Jacket\",\"Coat\",\"Coat\",\"Jacket\",\"Coat\",\"Jacket\",\"Coat\",\"Jacket\",\"Coat\",\"Coat\",\"Coat\",\"Jacket\",\"Coat\",\"Jacket\",\"Jacket\",\"Coat\",\"Jacket\",\"Coat\",\"Jacket\",\"Jacket\",\"Coat\",\"Coat\",\"Coat\",\"Jacket\",\"Jacket\",\"Coat\",\"Coat\",\"Jacket\",\"Jacket\",\"Coat\",\"Jacket\",\"Jacket\",\"Jacket\",\"Jacket\",\"Jacket\",\"Coat\",\"Jacket\"],\"xaxis\":\"x\",\"yaxis\":\"y\",\"type\":\"histogram\"},{\"alignmentgroup\":\"True\",\"bingroup\":\"x\",\"hovertemplate\":\"Category=Accessories\\u003cbr\\u003eItem Purchased=%{x}\\u003cbr\\u003ecount=%{y}\\u003cextra\\u003e\\u003c\\u002fextra\\u003e\",\"legendgroup\":\"Accessories\",\"marker\":{\"color\":\"#ab63fa\",\"pattern\":{\"shape\":\"\"}},\"name\":\"Accessories\",\"offsetgroup\":\"Accessories\",\"orientation\":\"v\",\"showlegend\":true,\"x\":[\"Handbag\",\"Sunglasses\",\"Jewelry\",\"Handbag\",\"Jewelry\",\"Handbag\",\"Scarf\",\"Scarf\",\"Hat\",\"Jewelry\",\"Backpack\",\"Belt\",\"Scarf\",\"Sunglasses\",\"Backpack\",\"Handbag\",\"Belt\",\"Belt\",\"Gloves\",\"Scarf\",\"Hat\",\"Sunglasses\",\"Hat\",\"Scarf\",\"Gloves\",\"Sunglasses\",\"Sunglasses\",\"Backpack\",\"Backpack\",\"Belt\",\"Gloves\",\"Hat\",\"Hat\",\"Backpack\",\"Scarf\",\"Scarf\",\"Backpack\",\"Hat\",\"Gloves\",\"Jewelry\",\"Gloves\",\"Sunglasses\",\"Hat\",\"Gloves\",\"Gloves\",\"Backpack\",\"Sunglasses\",\"Handbag\",\"Handbag\",\"Gloves\",\"Jewelry\",\"Hat\",\"Backpack\",\"Gloves\",\"Backpack\",\"Hat\",\"Belt\",\"Backpack\",\"Scarf\",\"Jewelry\",\"Hat\",\"Hat\",\"Scarf\",\"Gloves\",\"Handbag\",\"Handbag\",\"Scarf\",\"Sunglasses\",\"Belt\",\"Hat\",\"Gloves\",\"Scarf\",\"Jewelry\",\"Gloves\",\"Sunglasses\",\"Jewelry\",\"Belt\",\"Sunglasses\",\"Belt\",\"Handbag\",\"Handbag\",\"Sunglasses\",\"Scarf\",\"Jewelry\",\"Handbag\",\"Gloves\",\"Hat\",\"Backpack\",\"Jewelry\",\"Sunglasses\",\"Jewelry\",\"Jewelry\",\"Backpack\",\"Belt\",\"Handbag\",\"Jewelry\",\"Scarf\",\"Handbag\",\"Sunglasses\",\"Hat\",\"Gloves\",\"Handbag\",\"Jewelry\",\"Handbag\",\"Backpack\",\"Jewelry\",\"Belt\",\"Scarf\",\"Hat\",\"Hat\",\"Hat\",\"Jewelry\",\"Jewelry\",\"Belt\",\"Hat\",\"Gloves\",\"Handbag\",\"Belt\",\"Scarf\",\"Jewelry\",\"Sunglasses\",\"Scarf\",\"Backpack\",\"Jewelry\",\"Sunglasses\",\"Jewelry\",\"Handbag\",\"Gloves\",\"Scarf\",\"Belt\",\"Scarf\",\"Backpack\",\"Gloves\",\"Jewelry\",\"Backpack\",\"Belt\",\"Scarf\",\"Backpack\",\"Hat\",\"Jewelry\",\"Belt\",\"Sunglasses\",\"Sunglasses\",\"Gloves\",\"Jewelry\",\"Jewelry\",\"Jewelry\",\"Gloves\",\"Hat\",\"Jewelry\",\"Sunglasses\",\"Backpack\",\"Backpack\",\"Scarf\",\"Scarf\",\"Jewelry\",\"Handbag\",\"Hat\",\"Belt\",\"Hat\",\"Backpack\",\"Handbag\",\"Scarf\",\"Jewelry\",\"Gloves\",\"Scarf\",\"Hat\",\"Belt\",\"Sunglasses\",\"Gloves\",\"Gloves\",\"Backpack\",\"Backpack\",\"Belt\",\"Sunglasses\",\"Gloves\",\"Scarf\",\"Jewelry\",\"Backpack\",\"Scarf\",\"Hat\",\"Belt\",\"Backpack\",\"Jewelry\",\"Hat\",\"Backpack\",\"Handbag\",\"Sunglasses\",\"Hat\",\"Scarf\",\"Backpack\",\"Scarf\",\"Hat\",\"Jewelry\",\"Gloves\",\"Backpack\",\"Backpack\",\"Backpack\",\"Sunglasses\",\"Jewelry\",\"Sunglasses\",\"Jewelry\",\"Backpack\",\"Handbag\",\"Backpack\",\"Gloves\",\"Hat\",\"Sunglasses\",\"Scarf\",\"Handbag\",\"Handbag\",\"Backpack\",\"Gloves\",\"Sunglasses\",\"Jewelry\",\"Sunglasses\",\"Hat\",\"Gloves\",\"Scarf\",\"Backpack\",\"Sunglasses\",\"Belt\",\"Scarf\",\"Handbag\",\"Backpack\",\"Scarf\",\"Jewelry\",\"Jewelry\",\"Jewelry\",\"Hat\",\"Sunglasses\",\"Sunglasses\",\"Sunglasses\",\"Sunglasses\",\"Sunglasses\",\"Hat\",\"Scarf\",\"Gloves\",\"Scarf\",\"Gloves\",\"Belt\",\"Gloves\",\"Jewelry\",\"Belt\",\"Gloves\",\"Backpack\",\"Hat\",\"Hat\",\"Handbag\",\"Scarf\",\"Hat\",\"Handbag\",\"Handbag\",\"Scarf\",\"Backpack\",\"Belt\",\"Belt\",\"Scarf\",\"Handbag\",\"Hat\",\"Handbag\",\"Sunglasses\",\"Sunglasses\",\"Belt\",\"Gloves\",\"Handbag\",\"Backpack\",\"Gloves\",\"Belt\",\"Hat\",\"Sunglasses\",\"Hat\",\"Handbag\",\"Belt\",\"Handbag\",\"Sunglasses\",\"Backpack\",\"Handbag\",\"Scarf\",\"Belt\",\"Gloves\",\"Backpack\",\"Hat\",\"Jewelry\",\"Belt\",\"Hat\",\"Scarf\",\"Hat\",\"Sunglasses\",\"Belt\",\"Belt\",\"Belt\",\"Handbag\",\"Hat\",\"Belt\",\"Hat\",\"Backpack\",\"Hat\",\"Sunglasses\",\"Hat\",\"Scarf\",\"Jewelry\",\"Sunglasses\",\"Sunglasses\",\"Belt\",\"Gloves\",\"Hat\",\"Belt\",\"Hat\",\"Handbag\",\"Scarf\",\"Handbag\",\"Sunglasses\",\"Jewelry\",\"Hat\",\"Backpack\",\"Backpack\",\"Gloves\",\"Scarf\",\"Backpack\",\"Belt\",\"Gloves\",\"Belt\",\"Scarf\",\"Handbag\",\"Sunglasses\",\"Handbag\",\"Jewelry\",\"Gloves\",\"Handbag\",\"Jewelry\",\"Belt\",\"Belt\",\"Sunglasses\",\"Scarf\",\"Hat\",\"Jewelry\",\"Hat\",\"Scarf\",\"Jewelry\",\"Sunglasses\",\"Scarf\",\"Belt\",\"Hat\",\"Backpack\",\"Jewelry\",\"Sunglasses\",\"Backpack\",\"Scarf\",\"Jewelry\",\"Jewelry\",\"Sunglasses\",\"Handbag\",\"Gloves\",\"Hat\",\"Sunglasses\",\"Hat\",\"Backpack\",\"Sunglasses\",\"Belt\",\"Jewelry\",\"Handbag\",\"Hat\",\"Scarf\",\"Gloves\",\"Jewelry\",\"Handbag\",\"Gloves\",\"Hat\",\"Jewelry\",\"Jewelry\",\"Handbag\",\"Belt\",\"Belt\",\"Handbag\",\"Scarf\",\"Scarf\",\"Backpack\",\"Jewelry\",\"Backpack\",\"Belt\",\"Jewelry\",\"Belt\",\"Hat\",\"Scarf\",\"Belt\",\"Scarf\",\"Belt\",\"Handbag\",\"Handbag\",\"Sunglasses\",\"Handbag\",\"Gloves\",\"Gloves\",\"Jewelry\",\"Hat\",\"Handbag\",\"Gloves\",\"Hat\",\"Scarf\",\"Hat\",\"Hat\",\"Jewelry\",\"Jewelry\",\"Hat\",\"Belt\",\"Gloves\",\"Gloves\",\"Belt\",\"Belt\",\"Belt\",\"Backpack\",\"Belt\",\"Sunglasses\",\"Hat\",\"Jewelry\",\"Backpack\",\"Gloves\",\"Handbag\",\"Handbag\",\"Belt\",\"Belt\",\"Sunglasses\",\"Belt\",\"Sunglasses\",\"Hat\",\"Backpack\",\"Backpack\",\"Scarf\",\"Hat\",\"Handbag\",\"Belt\",\"Belt\",\"Scarf\",\"Gloves\",\"Handbag\",\"Sunglasses\",\"Scarf\",\"Jewelry\",\"Scarf\",\"Hat\",\"Gloves\",\"Gloves\",\"Scarf\",\"Sunglasses\",\"Hat\",\"Backpack\",\"Sunglasses\",\"Backpack\",\"Jewelry\",\"Handbag\",\"Backpack\",\"Hat\",\"Belt\",\"Handbag\",\"Backpack\",\"Hat\",\"Scarf\",\"Belt\",\"Sunglasses\",\"Jewelry\",\"Belt\",\"Gloves\",\"Jewelry\",\"Gloves\",\"Jewelry\",\"Jewelry\",\"Hat\",\"Hat\",\"Belt\",\"Gloves\",\"Jewelry\",\"Gloves\",\"Jewelry\",\"Gloves\",\"Hat\",\"Jewelry\",\"Belt\",\"Jewelry\",\"Belt\",\"Gloves\",\"Belt\",\"Sunglasses\",\"Hat\",\"Backpack\",\"Belt\",\"Hat\",\"Backpack\",\"Backpack\",\"Sunglasses\",\"Belt\",\"Handbag\",\"Jewelry\",\"Belt\",\"Hat\",\"Sunglasses\",\"Handbag\",\"Backpack\",\"Sunglasses\",\"Scarf\",\"Hat\",\"Scarf\",\"Scarf\",\"Backpack\",\"Sunglasses\",\"Backpack\",\"Jewelry\",\"Jewelry\",\"Belt\",\"Scarf\",\"Belt\",\"Handbag\",\"Backpack\",\"Jewelry\",\"Hat\",\"Jewelry\",\"Sunglasses\",\"Belt\",\"Jewelry\",\"Jewelry\",\"Hat\",\"Handbag\",\"Hat\",\"Scarf\",\"Backpack\",\"Sunglasses\",\"Gloves\",\"Sunglasses\",\"Gloves\",\"Scarf\",\"Scarf\",\"Scarf\",\"Handbag\",\"Scarf\",\"Belt\",\"Belt\",\"Jewelry\",\"Gloves\",\"Gloves\",\"Sunglasses\",\"Handbag\",\"Handbag\",\"Sunglasses\",\"Gloves\",\"Handbag\",\"Handbag\",\"Hat\",\"Sunglasses\",\"Belt\",\"Handbag\",\"Backpack\",\"Jewelry\",\"Sunglasses\",\"Jewelry\",\"Scarf\",\"Sunglasses\",\"Backpack\",\"Belt\",\"Jewelry\",\"Handbag\",\"Jewelry\",\"Sunglasses\",\"Handbag\",\"Sunglasses\",\"Belt\",\"Jewelry\",\"Hat\",\"Jewelry\",\"Jewelry\",\"Backpack\",\"Belt\",\"Scarf\",\"Jewelry\",\"Handbag\",\"Backpack\",\"Gloves\",\"Gloves\",\"Hat\",\"Backpack\",\"Belt\",\"Handbag\",\"Backpack\",\"Belt\",\"Hat\",\"Sunglasses\",\"Hat\",\"Sunglasses\",\"Jewelry\",\"Jewelry\",\"Scarf\",\"Hat\",\"Gloves\",\"Handbag\",\"Scarf\",\"Gloves\",\"Jewelry\",\"Scarf\",\"Belt\",\"Gloves\",\"Backpack\",\"Gloves\",\"Gloves\",\"Scarf\",\"Backpack\",\"Jewelry\",\"Gloves\",\"Sunglasses\",\"Jewelry\",\"Sunglasses\",\"Jewelry\",\"Backpack\",\"Scarf\",\"Jewelry\",\"Backpack\",\"Backpack\",\"Gloves\",\"Backpack\",\"Sunglasses\",\"Jewelry\",\"Jewelry\",\"Gloves\",\"Hat\",\"Backpack\",\"Gloves\",\"Gloves\",\"Gloves\",\"Hat\",\"Belt\",\"Hat\",\"Backpack\",\"Gloves\",\"Handbag\",\"Sunglasses\",\"Sunglasses\",\"Scarf\",\"Gloves\",\"Belt\",\"Jewelry\",\"Backpack\",\"Sunglasses\",\"Backpack\",\"Belt\",\"Sunglasses\",\"Scarf\",\"Backpack\",\"Belt\",\"Backpack\",\"Handbag\",\"Jewelry\",\"Scarf\",\"Scarf\",\"Sunglasses\",\"Belt\",\"Jewelry\",\"Gloves\",\"Jewelry\",\"Jewelry\",\"Hat\",\"Backpack\",\"Sunglasses\",\"Handbag\",\"Backpack\",\"Belt\",\"Jewelry\",\"Jewelry\",\"Backpack\",\"Belt\",\"Scarf\",\"Gloves\",\"Scarf\",\"Sunglasses\",\"Scarf\",\"Hat\",\"Hat\",\"Gloves\",\"Jewelry\",\"Jewelry\",\"Sunglasses\",\"Belt\",\"Scarf\",\"Jewelry\",\"Scarf\",\"Backpack\",\"Backpack\",\"Hat\",\"Sunglasses\",\"Sunglasses\",\"Handbag\",\"Hat\",\"Sunglasses\",\"Scarf\",\"Handbag\",\"Handbag\",\"Gloves\",\"Handbag\",\"Gloves\",\"Backpack\",\"Belt\",\"Gloves\",\"Jewelry\",\"Handbag\",\"Belt\",\"Scarf\",\"Scarf\",\"Scarf\",\"Gloves\",\"Handbag\",\"Scarf\",\"Sunglasses\",\"Hat\",\"Belt\",\"Jewelry\",\"Sunglasses\",\"Belt\",\"Gloves\",\"Belt\",\"Scarf\",\"Gloves\",\"Jewelry\",\"Jewelry\",\"Gloves\",\"Belt\",\"Scarf\",\"Backpack\",\"Backpack\",\"Scarf\",\"Hat\",\"Gloves\",\"Hat\",\"Gloves\",\"Handbag\",\"Belt\",\"Jewelry\",\"Sunglasses\",\"Hat\",\"Gloves\",\"Handbag\",\"Belt\",\"Sunglasses\",\"Handbag\",\"Gloves\",\"Sunglasses\",\"Gloves\",\"Handbag\",\"Gloves\",\"Hat\",\"Backpack\",\"Scarf\",\"Scarf\",\"Belt\",\"Belt\",\"Handbag\",\"Backpack\",\"Scarf\",\"Handbag\",\"Scarf\",\"Sunglasses\",\"Sunglasses\",\"Gloves\",\"Backpack\",\"Gloves\",\"Scarf\",\"Hat\",\"Scarf\",\"Backpack\",\"Scarf\",\"Hat\",\"Sunglasses\",\"Sunglasses\",\"Scarf\",\"Scarf\",\"Jewelry\",\"Backpack\",\"Jewelry\",\"Backpack\",\"Jewelry\",\"Gloves\",\"Handbag\",\"Jewelry\",\"Backpack\",\"Scarf\",\"Scarf\",\"Hat\",\"Gloves\",\"Belt\",\"Handbag\",\"Scarf\",\"Hat\",\"Gloves\",\"Belt\",\"Handbag\",\"Handbag\",\"Handbag\",\"Sunglasses\",\"Backpack\",\"Scarf\",\"Backpack\",\"Gloves\",\"Handbag\",\"Backpack\",\"Handbag\",\"Hat\",\"Handbag\",\"Belt\",\"Handbag\",\"Jewelry\",\"Gloves\",\"Jewelry\",\"Sunglasses\",\"Belt\",\"Scarf\",\"Belt\",\"Scarf\",\"Jewelry\",\"Scarf\",\"Backpack\",\"Belt\",\"Jewelry\",\"Jewelry\",\"Belt\",\"Backpack\",\"Scarf\",\"Handbag\",\"Sunglasses\",\"Sunglasses\",\"Hat\",\"Sunglasses\",\"Sunglasses\",\"Scarf\",\"Backpack\",\"Gloves\",\"Jewelry\",\"Backpack\",\"Jewelry\",\"Belt\",\"Backpack\",\"Sunglasses\",\"Gloves\",\"Handbag\",\"Backpack\",\"Scarf\",\"Scarf\",\"Sunglasses\",\"Sunglasses\",\"Belt\",\"Gloves\",\"Scarf\",\"Gloves\",\"Sunglasses\",\"Handbag\",\"Jewelry\",\"Belt\",\"Sunglasses\",\"Hat\",\"Backpack\",\"Belt\",\"Backpack\",\"Handbag\",\"Belt\",\"Sunglasses\",\"Hat\",\"Scarf\",\"Backpack\",\"Sunglasses\",\"Sunglasses\",\"Scarf\",\"Hat\",\"Backpack\",\"Belt\",\"Gloves\",\"Gloves\",\"Handbag\",\"Backpack\",\"Jewelry\",\"Sunglasses\",\"Belt\",\"Gloves\",\"Sunglasses\",\"Belt\",\"Hat\",\"Hat\",\"Handbag\",\"Gloves\",\"Backpack\",\"Scarf\",\"Belt\",\"Sunglasses\",\"Gloves\",\"Handbag\",\"Gloves\",\"Scarf\",\"Jewelry\",\"Sunglasses\",\"Backpack\",\"Backpack\",\"Hat\",\"Handbag\",\"Handbag\",\"Scarf\",\"Jewelry\",\"Scarf\",\"Scarf\",\"Hat\",\"Backpack\",\"Jewelry\",\"Belt\",\"Hat\",\"Backpack\",\"Jewelry\",\"Jewelry\",\"Backpack\",\"Backpack\",\"Hat\",\"Sunglasses\",\"Belt\",\"Jewelry\",\"Scarf\",\"Sunglasses\",\"Sunglasses\",\"Backpack\",\"Belt\",\"Sunglasses\",\"Sunglasses\",\"Handbag\",\"Sunglasses\",\"Handbag\",\"Jewelry\",\"Jewelry\",\"Backpack\",\"Hat\",\"Gloves\",\"Handbag\",\"Sunglasses\",\"Handbag\",\"Belt\",\"Jewelry\",\"Jewelry\",\"Scarf\",\"Belt\",\"Jewelry\",\"Handbag\",\"Scarf\",\"Belt\",\"Jewelry\",\"Handbag\",\"Scarf\",\"Gloves\",\"Gloves\",\"Belt\",\"Belt\",\"Belt\",\"Jewelry\",\"Sunglasses\",\"Belt\",\"Sunglasses\",\"Belt\",\"Belt\",\"Belt\",\"Belt\",\"Scarf\",\"Sunglasses\",\"Sunglasses\",\"Backpack\",\"Backpack\",\"Handbag\",\"Belt\",\"Jewelry\",\"Handbag\",\"Handbag\",\"Belt\",\"Jewelry\",\"Handbag\",\"Sunglasses\",\"Gloves\",\"Backpack\",\"Handbag\",\"Backpack\",\"Sunglasses\",\"Belt\",\"Belt\",\"Jewelry\",\"Handbag\",\"Belt\",\"Belt\",\"Scarf\",\"Handbag\",\"Sunglasses\",\"Hat\",\"Hat\",\"Jewelry\",\"Handbag\",\"Belt\",\"Handbag\",\"Scarf\",\"Handbag\",\"Jewelry\",\"Sunglasses\",\"Gloves\",\"Sunglasses\",\"Gloves\",\"Sunglasses\",\"Handbag\",\"Belt\",\"Belt\",\"Belt\",\"Handbag\",\"Belt\",\"Jewelry\",\"Hat\",\"Backpack\",\"Sunglasses\",\"Jewelry\",\"Belt\",\"Handbag\",\"Sunglasses\",\"Jewelry\",\"Gloves\",\"Sunglasses\",\"Belt\",\"Gloves\",\"Handbag\",\"Scarf\",\"Jewelry\",\"Sunglasses\",\"Sunglasses\",\"Handbag\",\"Sunglasses\",\"Scarf\",\"Jewelry\",\"Belt\",\"Jewelry\",\"Belt\",\"Belt\",\"Sunglasses\",\"Handbag\",\"Gloves\",\"Backpack\",\"Backpack\",\"Sunglasses\",\"Hat\",\"Scarf\",\"Belt\",\"Sunglasses\",\"Belt\",\"Scarf\",\"Hat\",\"Handbag\",\"Scarf\",\"Hat\",\"Handbag\",\"Backpack\",\"Belt\",\"Handbag\",\"Belt\",\"Hat\",\"Belt\",\"Handbag\",\"Scarf\",\"Handbag\",\"Hat\",\"Hat\",\"Scarf\",\"Hat\",\"Handbag\",\"Gloves\",\"Backpack\",\"Sunglasses\",\"Hat\",\"Gloves\",\"Hat\",\"Handbag\",\"Jewelry\",\"Handbag\",\"Belt\",\"Sunglasses\",\"Handbag\",\"Scarf\",\"Gloves\",\"Belt\",\"Hat\",\"Handbag\",\"Hat\",\"Jewelry\",\"Scarf\",\"Sunglasses\",\"Backpack\",\"Gloves\",\"Gloves\",\"Jewelry\",\"Hat\",\"Scarf\",\"Hat\",\"Jewelry\",\"Belt\",\"Belt\",\"Gloves\",\"Handbag\",\"Hat\",\"Handbag\",\"Jewelry\",\"Jewelry\",\"Scarf\",\"Jewelry\",\"Backpack\",\"Scarf\",\"Sunglasses\",\"Handbag\",\"Handbag\",\"Gloves\",\"Gloves\",\"Scarf\",\"Handbag\",\"Backpack\",\"Handbag\",\"Jewelry\",\"Handbag\",\"Jewelry\",\"Hat\",\"Backpack\",\"Sunglasses\",\"Scarf\",\"Sunglasses\",\"Handbag\",\"Handbag\",\"Jewelry\",\"Hat\",\"Scarf\",\"Scarf\",\"Gloves\",\"Sunglasses\",\"Backpack\",\"Gloves\",\"Handbag\",\"Scarf\",\"Belt\",\"Scarf\",\"Gloves\",\"Sunglasses\",\"Belt\",\"Scarf\",\"Sunglasses\",\"Scarf\",\"Hat\",\"Gloves\",\"Hat\",\"Gloves\",\"Belt\",\"Gloves\",\"Scarf\",\"Jewelry\",\"Hat\",\"Scarf\",\"Belt\",\"Hat\",\"Hat\",\"Gloves\",\"Backpack\",\"Sunglasses\",\"Scarf\",\"Backpack\",\"Jewelry\",\"Handbag\",\"Handbag\",\"Jewelry\",\"Backpack\",\"Jewelry\",\"Handbag\",\"Handbag\",\"Hat\",\"Jewelry\",\"Backpack\",\"Sunglasses\",\"Gloves\",\"Sunglasses\",\"Jewelry\",\"Backpack\",\"Handbag\",\"Sunglasses\",\"Gloves\",\"Jewelry\",\"Hat\",\"Hat\",\"Sunglasses\",\"Hat\",\"Gloves\",\"Belt\",\"Hat\",\"Jewelry\",\"Sunglasses\",\"Backpack\",\"Jewelry\",\"Sunglasses\",\"Backpack\",\"Jewelry\",\"Handbag\",\"Gloves\",\"Gloves\",\"Belt\",\"Gloves\",\"Hat\",\"Handbag\",\"Sunglasses\",\"Scarf\",\"Sunglasses\",\"Scarf\",\"Gloves\",\"Sunglasses\",\"Jewelry\",\"Scarf\",\"Handbag\",\"Hat\",\"Scarf\",\"Belt\",\"Hat\",\"Scarf\",\"Belt\",\"Hat\",\"Jewelry\",\"Hat\",\"Backpack\",\"Hat\",\"Jewelry\",\"Jewelry\",\"Scarf\",\"Hat\",\"Sunglasses\",\"Hat\",\"Sunglasses\",\"Scarf\",\"Hat\",\"Hat\",\"Hat\",\"Scarf\",\"Hat\",\"Jewelry\",\"Jewelry\",\"Hat\",\"Backpack\",\"Belt\",\"Handbag\"],\"xaxis\":\"x\",\"yaxis\":\"y\",\"type\":\"histogram\"}],                        {\"template\":{\"data\":{\"histogram2dcontour\":[{\"type\":\"histogram2dcontour\",\"colorbar\":{\"outlinewidth\":0,\"ticks\":\"\"},\"colorscale\":[[0.0,\"#0d0887\"],[0.1111111111111111,\"#46039f\"],[0.2222222222222222,\"#7201a8\"],[0.3333333333333333,\"#9c179e\"],[0.4444444444444444,\"#bd3786\"],[0.5555555555555556,\"#d8576b\"],[0.6666666666666666,\"#ed7953\"],[0.7777777777777778,\"#fb9f3a\"],[0.8888888888888888,\"#fdca26\"],[1.0,\"#f0f921\"]]}],\"choropleth\":[{\"type\":\"choropleth\",\"colorbar\":{\"outlinewidth\":0,\"ticks\":\"\"}}],\"histogram2d\":[{\"type\":\"histogram2d\",\"colorbar\":{\"outlinewidth\":0,\"ticks\":\"\"},\"colorscale\":[[0.0,\"#0d0887\"],[0.1111111111111111,\"#46039f\"],[0.2222222222222222,\"#7201a8\"],[0.3333333333333333,\"#9c179e\"],[0.4444444444444444,\"#bd3786\"],[0.5555555555555556,\"#d8576b\"],[0.6666666666666666,\"#ed7953\"],[0.7777777777777778,\"#fb9f3a\"],[0.8888888888888888,\"#fdca26\"],[1.0,\"#f0f921\"]]}],\"heatmap\":[{\"type\":\"heatmap\",\"colorbar\":{\"outlinewidth\":0,\"ticks\":\"\"},\"colorscale\":[[0.0,\"#0d0887\"],[0.1111111111111111,\"#46039f\"],[0.2222222222222222,\"#7201a8\"],[0.3333333333333333,\"#9c179e\"],[0.4444444444444444,\"#bd3786\"],[0.5555555555555556,\"#d8576b\"],[0.6666666666666666,\"#ed7953\"],[0.7777777777777778,\"#fb9f3a\"],[0.8888888888888888,\"#fdca26\"],[1.0,\"#f0f921\"]]}],\"heatmapgl\":[{\"type\":\"heatmapgl\",\"colorbar\":{\"outlinewidth\":0,\"ticks\":\"\"},\"colorscale\":[[0.0,\"#0d0887\"],[0.1111111111111111,\"#46039f\"],[0.2222222222222222,\"#7201a8\"],[0.3333333333333333,\"#9c179e\"],[0.4444444444444444,\"#bd3786\"],[0.5555555555555556,\"#d8576b\"],[0.6666666666666666,\"#ed7953\"],[0.7777777777777778,\"#fb9f3a\"],[0.8888888888888888,\"#fdca26\"],[1.0,\"#f0f921\"]]}],\"contourcarpet\":[{\"type\":\"contourcarpet\",\"colorbar\":{\"outlinewidth\":0,\"ticks\":\"\"}}],\"contour\":[{\"type\":\"contour\",\"colorbar\":{\"outlinewidth\":0,\"ticks\":\"\"},\"colorscale\":[[0.0,\"#0d0887\"],[0.1111111111111111,\"#46039f\"],[0.2222222222222222,\"#7201a8\"],[0.3333333333333333,\"#9c179e\"],[0.4444444444444444,\"#bd3786\"],[0.5555555555555556,\"#d8576b\"],[0.6666666666666666,\"#ed7953\"],[0.7777777777777778,\"#fb9f3a\"],[0.8888888888888888,\"#fdca26\"],[1.0,\"#f0f921\"]]}],\"surface\":[{\"type\":\"surface\",\"colorbar\":{\"outlinewidth\":0,\"ticks\":\"\"},\"colorscale\":[[0.0,\"#0d0887\"],[0.1111111111111111,\"#46039f\"],[0.2222222222222222,\"#7201a8\"],[0.3333333333333333,\"#9c179e\"],[0.4444444444444444,\"#bd3786\"],[0.5555555555555556,\"#d8576b\"],[0.6666666666666666,\"#ed7953\"],[0.7777777777777778,\"#fb9f3a\"],[0.8888888888888888,\"#fdca26\"],[1.0,\"#f0f921\"]]}],\"mesh3d\":[{\"type\":\"mesh3d\",\"colorbar\":{\"outlinewidth\":0,\"ticks\":\"\"}}],\"scatter\":[{\"fillpattern\":{\"fillmode\":\"overlay\",\"size\":10,\"solidity\":0.2},\"type\":\"scatter\"}],\"parcoords\":[{\"type\":\"parcoords\",\"line\":{\"colorbar\":{\"outlinewidth\":0,\"ticks\":\"\"}}}],\"scatterpolargl\":[{\"type\":\"scatterpolargl\",\"marker\":{\"colorbar\":{\"outlinewidth\":0,\"ticks\":\"\"}}}],\"bar\":[{\"error_x\":{\"color\":\"#2a3f5f\"},\"error_y\":{\"color\":\"#2a3f5f\"},\"marker\":{\"line\":{\"color\":\"#E5ECF6\",\"width\":0.5},\"pattern\":{\"fillmode\":\"overlay\",\"size\":10,\"solidity\":0.2}},\"type\":\"bar\"}],\"scattergeo\":[{\"type\":\"scattergeo\",\"marker\":{\"colorbar\":{\"outlinewidth\":0,\"ticks\":\"\"}}}],\"scatterpolar\":[{\"type\":\"scatterpolar\",\"marker\":{\"colorbar\":{\"outlinewidth\":0,\"ticks\":\"\"}}}],\"histogram\":[{\"marker\":{\"pattern\":{\"fillmode\":\"overlay\",\"size\":10,\"solidity\":0.2}},\"type\":\"histogram\"}],\"scattergl\":[{\"type\":\"scattergl\",\"marker\":{\"colorbar\":{\"outlinewidth\":0,\"ticks\":\"\"}}}],\"scatter3d\":[{\"type\":\"scatter3d\",\"line\":{\"colorbar\":{\"outlinewidth\":0,\"ticks\":\"\"}},\"marker\":{\"colorbar\":{\"outlinewidth\":0,\"ticks\":\"\"}}}],\"scattermapbox\":[{\"type\":\"scattermapbox\",\"marker\":{\"colorbar\":{\"outlinewidth\":0,\"ticks\":\"\"}}}],\"scatterternary\":[{\"type\":\"scatterternary\",\"marker\":{\"colorbar\":{\"outlinewidth\":0,\"ticks\":\"\"}}}],\"scattercarpet\":[{\"type\":\"scattercarpet\",\"marker\":{\"colorbar\":{\"outlinewidth\":0,\"ticks\":\"\"}}}],\"carpet\":[{\"aaxis\":{\"endlinecolor\":\"#2a3f5f\",\"gridcolor\":\"white\",\"linecolor\":\"white\",\"minorgridcolor\":\"white\",\"startlinecolor\":\"#2a3f5f\"},\"baxis\":{\"endlinecolor\":\"#2a3f5f\",\"gridcolor\":\"white\",\"linecolor\":\"white\",\"minorgridcolor\":\"white\",\"startlinecolor\":\"#2a3f5f\"},\"type\":\"carpet\"}],\"table\":[{\"cells\":{\"fill\":{\"color\":\"#EBF0F8\"},\"line\":{\"color\":\"white\"}},\"header\":{\"fill\":{\"color\":\"#C8D4E3\"},\"line\":{\"color\":\"white\"}},\"type\":\"table\"}],\"barpolar\":[{\"marker\":{\"line\":{\"color\":\"#E5ECF6\",\"width\":0.5},\"pattern\":{\"fillmode\":\"overlay\",\"size\":10,\"solidity\":0.2}},\"type\":\"barpolar\"}],\"pie\":[{\"automargin\":true,\"type\":\"pie\"}]},\"layout\":{\"autotypenumbers\":\"strict\",\"colorway\":[\"#636efa\",\"#EF553B\",\"#00cc96\",\"#ab63fa\",\"#FFA15A\",\"#19d3f3\",\"#FF6692\",\"#B6E880\",\"#FF97FF\",\"#FECB52\"],\"font\":{\"color\":\"#2a3f5f\"},\"hovermode\":\"closest\",\"hoverlabel\":{\"align\":\"left\"},\"paper_bgcolor\":\"white\",\"plot_bgcolor\":\"#E5ECF6\",\"polar\":{\"bgcolor\":\"#E5ECF6\",\"angularaxis\":{\"gridcolor\":\"white\",\"linecolor\":\"white\",\"ticks\":\"\"},\"radialaxis\":{\"gridcolor\":\"white\",\"linecolor\":\"white\",\"ticks\":\"\"}},\"ternary\":{\"bgcolor\":\"#E5ECF6\",\"aaxis\":{\"gridcolor\":\"white\",\"linecolor\":\"white\",\"ticks\":\"\"},\"baxis\":{\"gridcolor\":\"white\",\"linecolor\":\"white\",\"ticks\":\"\"},\"caxis\":{\"gridcolor\":\"white\",\"linecolor\":\"white\",\"ticks\":\"\"}},\"coloraxis\":{\"colorbar\":{\"outlinewidth\":0,\"ticks\":\"\"}},\"colorscale\":{\"sequential\":[[0.0,\"#0d0887\"],[0.1111111111111111,\"#46039f\"],[0.2222222222222222,\"#7201a8\"],[0.3333333333333333,\"#9c179e\"],[0.4444444444444444,\"#bd3786\"],[0.5555555555555556,\"#d8576b\"],[0.6666666666666666,\"#ed7953\"],[0.7777777777777778,\"#fb9f3a\"],[0.8888888888888888,\"#fdca26\"],[1.0,\"#f0f921\"]],\"sequentialminus\":[[0.0,\"#0d0887\"],[0.1111111111111111,\"#46039f\"],[0.2222222222222222,\"#7201a8\"],[0.3333333333333333,\"#9c179e\"],[0.4444444444444444,\"#bd3786\"],[0.5555555555555556,\"#d8576b\"],[0.6666666666666666,\"#ed7953\"],[0.7777777777777778,\"#fb9f3a\"],[0.8888888888888888,\"#fdca26\"],[1.0,\"#f0f921\"]],\"diverging\":[[0,\"#8e0152\"],[0.1,\"#c51b7d\"],[0.2,\"#de77ae\"],[0.3,\"#f1b6da\"],[0.4,\"#fde0ef\"],[0.5,\"#f7f7f7\"],[0.6,\"#e6f5d0\"],[0.7,\"#b8e186\"],[0.8,\"#7fbc41\"],[0.9,\"#4d9221\"],[1,\"#276419\"]]},\"xaxis\":{\"gridcolor\":\"white\",\"linecolor\":\"white\",\"ticks\":\"\",\"title\":{\"standoff\":15},\"zerolinecolor\":\"white\",\"automargin\":true,\"zerolinewidth\":2},\"yaxis\":{\"gridcolor\":\"white\",\"linecolor\":\"white\",\"ticks\":\"\",\"title\":{\"standoff\":15},\"zerolinecolor\":\"white\",\"automargin\":true,\"zerolinewidth\":2},\"scene\":{\"xaxis\":{\"backgroundcolor\":\"#E5ECF6\",\"gridcolor\":\"white\",\"linecolor\":\"white\",\"showbackground\":true,\"ticks\":\"\",\"zerolinecolor\":\"white\",\"gridwidth\":2},\"yaxis\":{\"backgroundcolor\":\"#E5ECF6\",\"gridcolor\":\"white\",\"linecolor\":\"white\",\"showbackground\":true,\"ticks\":\"\",\"zerolinecolor\":\"white\",\"gridwidth\":2},\"zaxis\":{\"backgroundcolor\":\"#E5ECF6\",\"gridcolor\":\"white\",\"linecolor\":\"white\",\"showbackground\":true,\"ticks\":\"\",\"zerolinecolor\":\"white\",\"gridwidth\":2}},\"shapedefaults\":{\"line\":{\"color\":\"#2a3f5f\"}},\"annotationdefaults\":{\"arrowcolor\":\"#2a3f5f\",\"arrowhead\":0,\"arrowwidth\":1},\"geo\":{\"bgcolor\":\"white\",\"landcolor\":\"#E5ECF6\",\"subunitcolor\":\"white\",\"showland\":true,\"showlakes\":true,\"lakecolor\":\"white\"},\"title\":{\"x\":0.05},\"mapbox\":{\"style\":\"light\"}}},\"xaxis\":{\"anchor\":\"y\",\"domain\":[0.0,1.0],\"title\":{\"text\":\"Item Purchased\"}},\"yaxis\":{\"anchor\":\"x\",\"domain\":[0.0,1.0],\"title\":{\"text\":\"count\"}},\"legend\":{\"title\":{\"text\":\"Category\"},\"tracegroupgap\":0},\"margin\":{\"t\":60},\"barmode\":\"relative\"},                        {\"responsive\": true}                    ).then(function(){\n",
              "                            \n",
              "var gd = document.getElementById('48320ce9-9e53-40ad-84d3-d4208db36e84');\n",
              "var x = new MutationObserver(function (mutations, observer) {{\n",
              "        var display = window.getComputedStyle(gd).display;\n",
              "        if (!display || display === 'none') {{\n",
              "            console.log([gd, 'removed!']);\n",
              "            Plotly.purge(gd);\n",
              "            observer.disconnect();\n",
              "        }}\n",
              "}});\n",
              "\n",
              "// Listen for the removal of the full notebook cells\n",
              "var notebookContainer = gd.closest('#notebook-container');\n",
              "if (notebookContainer) {{\n",
              "    x.observe(notebookContainer, {childList: true});\n",
              "}}\n",
              "\n",
              "// Listen for the clearing of the current output cell\n",
              "var outputEl = gd.closest('.output');\n",
              "if (outputEl) {{\n",
              "    x.observe(outputEl, {childList: true});\n",
              "}}\n",
              "\n",
              "                        })                };                            </script>        </div>\n",
              "</body>\n",
              "</html>"
            ]
          },
          "metadata": {}
        }
      ]
    },
    {
      "cell_type": "markdown",
      "source": [],
      "metadata": {
        "id": "4gfMyXZPdYuy"
      }
    },
    {
      "cell_type": "markdown",
      "source": [
        "# **5 Are there any specific seasons or months where customer spending is significantly higher?**"
      ],
      "metadata": {
        "id": "xxoR4nyCKAZA"
      }
    },
    {
      "cell_type": "code",
      "source": [
        "df['Season'].unique()"
      ],
      "metadata": {
        "colab": {
          "base_uri": "https://localhost:8080/"
        },
        "id": "34ahdqq6KHr4",
        "outputId": "8b94bb5f-12d1-4df7-e0f7-d2a154e882ee"
      },
      "execution_count": 87,
      "outputs": [
        {
          "output_type": "execute_result",
          "data": {
            "text/plain": [
              "array(['Winter', 'Spring', 'Summer', 'Fall'], dtype=object)"
            ]
          },
          "metadata": {},
          "execution_count": 87
        }
      ]
    },
    {
      "cell_type": "code",
      "source": [
        "df[df['Season'] == 'Summer'].value_counts().sum()"
      ],
      "metadata": {
        "colab": {
          "base_uri": "https://localhost:8080/"
        },
        "id": "h4PnQ2dgKRug",
        "outputId": "650a00be-87f8-44dd-c8ec-8cae3059d149"
      },
      "execution_count": 88,
      "outputs": [
        {
          "output_type": "execute_result",
          "data": {
            "text/plain": [
              "955"
            ]
          },
          "metadata": {},
          "execution_count": 88
        }
      ]
    },
    {
      "cell_type": "code",
      "source": [
        "df[df['Season'] == 'Winter'].value_counts().sum()"
      ],
      "metadata": {
        "colab": {
          "base_uri": "https://localhost:8080/"
        },
        "id": "fThPOGFLK8QY",
        "outputId": "91b3a3a3-fdc8-4756-bfaa-78ee2e048dbc"
      },
      "execution_count": 89,
      "outputs": [
        {
          "output_type": "execute_result",
          "data": {
            "text/plain": [
              "971"
            ]
          },
          "metadata": {},
          "execution_count": 89
        }
      ]
    },
    {
      "cell_type": "code",
      "source": [
        "df[df['Season'] == 'Spring'].value_counts().sum()"
      ],
      "metadata": {
        "colab": {
          "base_uri": "https://localhost:8080/"
        },
        "id": "ENP6A9pGLE5L",
        "outputId": "8076f746-15ce-4d25-c4a5-32e9cac16ec0"
      },
      "execution_count": 90,
      "outputs": [
        {
          "output_type": "execute_result",
          "data": {
            "text/plain": [
              "999"
            ]
          },
          "metadata": {},
          "execution_count": 90
        }
      ]
    },
    {
      "cell_type": "code",
      "source": [
        "df[df['Season'] == 'Fall'].value_counts().sum()"
      ],
      "metadata": {
        "colab": {
          "base_uri": "https://localhost:8080/"
        },
        "id": "PErfWzdKLMQa",
        "outputId": "56e9ef98-4ead-400d-98a3-1c0fe281966c"
      },
      "execution_count": 91,
      "outputs": [
        {
          "output_type": "execute_result",
          "data": {
            "text/plain": [
              "975"
            ]
          },
          "metadata": {},
          "execution_count": 91
        }
      ]
    },
    {
      "cell_type": "code",
      "source": [
        "fig = px.histogram(df , x = 'Season' , range_y= [200 , 1500] )\n",
        "\n",
        "fig.show()"
      ],
      "metadata": {
        "colab": {
          "base_uri": "https://localhost:8080/",
          "height": 542
        },
        "id": "i-f5xQaPLSEK",
        "outputId": "8f6bc2f9-0c6b-47fb-c0cc-71ebe82ce13d"
      },
      "execution_count": 92,
      "outputs": [
        {
          "output_type": "display_data",
          "data": {
            "text/html": [
              "<html>\n",
              "<head><meta charset=\"utf-8\" /></head>\n",
              "<body>\n",
              "    <div>            <script src=\"https://cdnjs.cloudflare.com/ajax/libs/mathjax/2.7.5/MathJax.js?config=TeX-AMS-MML_SVG\"></script><script type=\"text/javascript\">if (window.MathJax && window.MathJax.Hub && window.MathJax.Hub.Config) {window.MathJax.Hub.Config({SVG: {font: \"STIX-Web\"}});}</script>                <script type=\"text/javascript\">window.PlotlyConfig = {MathJaxConfig: 'local'};</script>\n",
              "        <script charset=\"utf-8\" src=\"https://cdn.plot.ly/plotly-2.35.2.min.js\"></script>                <div id=\"347e2e5a-92d5-438b-a82b-3013333ab071\" class=\"plotly-graph-div\" style=\"height:525px; width:100%;\"></div>            <script type=\"text/javascript\">                                    window.PLOTLYENV=window.PLOTLYENV || {};                                    if (document.getElementById(\"347e2e5a-92d5-438b-a82b-3013333ab071\")) {                    Plotly.newPlot(                        \"347e2e5a-92d5-438b-a82b-3013333ab071\",                        [{\"alignmentgroup\":\"True\",\"bingroup\":\"x\",\"hovertemplate\":\"Season=%{x}\\u003cbr\\u003ecount=%{y}\\u003cextra\\u003e\\u003c\\u002fextra\\u003e\",\"legendgroup\":\"\",\"marker\":{\"color\":\"#636efa\",\"pattern\":{\"shape\":\"\"}},\"name\":\"\",\"offsetgroup\":\"\",\"orientation\":\"v\",\"showlegend\":false,\"x\":[\"Winter\",\"Winter\",\"Spring\",\"Spring\",\"Spring\",\"Summer\",\"Fall\",\"Winter\",\"Summer\",\"Spring\",\"Fall\",\"Winter\",\"Winter\",\"Spring\",\"Winter\",\"Winter\",\"Spring\",\"Winter\",\"Summer\",\"Summer\",\"Winter\",\"Winter\",\"Summer\",\"Winter\",\"Fall\",\"Summer\",\"Spring\",\"Summer\",\"Fall\",\"Fall\",\"Winter\",\"Winter\",\"Summer\",\"Summer\",\"Spring\",\"Summer\",\"Winter\",\"Summer\",\"Winter\",\"Summer\",\"Winter\",\"Spring\",\"Spring\",\"Fall\",\"Summer\",\"Fall\",\"Summer\",\"Winter\",\"Summer\",\"Spring\",\"Spring\",\"Winter\",\"Summer\",\"Winter\",\"Summer\",\"Winter\",\"Summer\",\"Summer\",\"Summer\",\"Spring\",\"Summer\",\"Winter\",\"Spring\",\"Winter\",\"Fall\",\"Spring\",\"Winter\",\"Winter\",\"Summer\",\"Summer\",\"Fall\",\"Summer\",\"Winter\",\"Spring\",\"Spring\",\"Summer\",\"Summer\",\"Summer\",\"Spring\",\"Winter\",\"Summer\",\"Summer\",\"Spring\",\"Summer\",\"Spring\",\"Winter\",\"Spring\",\"Fall\",\"Fall\",\"Fall\",\"Summer\",\"Winter\",\"Winter\",\"Fall\",\"Spring\",\"Fall\",\"Spring\",\"Winter\",\"Spring\",\"Summer\",\"Fall\",\"Spring\",\"Winter\",\"Winter\",\"Spring\",\"Fall\",\"Summer\",\"Winter\",\"Spring\",\"Spring\",\"Summer\",\"Summer\",\"Spring\",\"Winter\",\"Summer\",\"Spring\",\"Spring\",\"Summer\",\"Fall\",\"Fall\",\"Summer\",\"Winter\",\"Spring\",\"Fall\",\"Spring\",\"Winter\",\"Spring\",\"Winter\",\"Spring\",\"Summer\",\"Fall\",\"Summer\",\"Fall\",\"Winter\",\"Fall\",\"Fall\",\"Winter\",\"Spring\",\"Winter\",\"Fall\",\"Fall\",\"Fall\",\"Fall\",\"Fall\",\"Fall\",\"Fall\",\"Fall\",\"Summer\",\"Fall\",\"Summer\",\"Fall\",\"Fall\",\"Summer\",\"Winter\",\"Fall\",\"Spring\",\"Fall\",\"Fall\",\"Fall\",\"Fall\",\"Summer\",\"Fall\",\"Summer\",\"Summer\",\"Spring\",\"Winter\",\"Fall\",\"Fall\",\"Summer\",\"Summer\",\"Fall\",\"Summer\",\"Summer\",\"Fall\",\"Winter\",\"Fall\",\"Spring\",\"Fall\",\"Fall\",\"Fall\",\"Fall\",\"Summer\",\"Summer\",\"Spring\",\"Spring\",\"Summer\",\"Summer\",\"Spring\",\"Spring\",\"Fall\",\"Fall\",\"Fall\",\"Summer\",\"Fall\",\"Spring\",\"Fall\",\"Summer\",\"Fall\",\"Winter\",\"Summer\",\"Summer\",\"Fall\",\"Spring\",\"Fall\",\"Fall\",\"Winter\",\"Summer\",\"Summer\",\"Spring\",\"Winter\",\"Fall\",\"Fall\",\"Fall\",\"Fall\",\"Summer\",\"Spring\",\"Spring\",\"Winter\",\"Spring\",\"Spring\",\"Spring\",\"Summer\",\"Spring\",\"Spring\",\"Summer\",\"Spring\",\"Spring\",\"Winter\",\"Spring\",\"Spring\",\"Fall\",\"Spring\",\"Winter\",\"Fall\",\"Summer\",\"Winter\",\"Winter\",\"Summer\",\"Fall\",\"Summer\",\"Winter\",\"Winter\",\"Summer\",\"Winter\",\"Spring\",\"Summer\",\"Spring\",\"Spring\",\"Winter\",\"Fall\",\"Fall\",\"Winter\",\"Summer\",\"Winter\",\"Winter\",\"Spring\",\"Spring\",\"Summer\",\"Spring\",\"Fall\",\"Winter\",\"Winter\",\"Summer\",\"Summer\",\"Fall\",\"Spring\",\"Summer\",\"Spring\",\"Spring\",\"Winter\",\"Fall\",\"Summer\",\"Summer\",\"Spring\",\"Spring\",\"Winter\",\"Fall\",\"Winter\",\"Spring\",\"Summer\",\"Fall\",\"Spring\",\"Summer\",\"Fall\",\"Summer\",\"Summer\",\"Summer\",\"Spring\",\"Winter\",\"Fall\",\"Winter\",\"Fall\",\"Spring\",\"Spring\",\"Spring\",\"Winter\",\"Spring\",\"Summer\",\"Winter\",\"Summer\",\"Spring\",\"Spring\",\"Summer\",\"Summer\",\"Winter\",\"Fall\",\"Summer\",\"Winter\",\"Fall\",\"Spring\",\"Winter\",\"Winter\",\"Spring\",\"Spring\",\"Summer\",\"Spring\",\"Fall\",\"Fall\",\"Winter\",\"Spring\",\"Summer\",\"Summer\",\"Winter\",\"Winter\",\"Summer\",\"Winter\",\"Fall\",\"Summer\",\"Fall\",\"Summer\",\"Winter\",\"Fall\",\"Winter\",\"Winter\",\"Fall\",\"Spring\",\"Fall\",\"Winter\",\"Winter\",\"Spring\",\"Summer\",\"Summer\",\"Spring\",\"Summer\",\"Winter\",\"Winter\",\"Spring\",\"Fall\",\"Fall\",\"Winter\",\"Spring\",\"Winter\",\"Fall\",\"Fall\",\"Fall\",\"Fall\",\"Spring\",\"Spring\",\"Summer\",\"Winter\",\"Summer\",\"Spring\",\"Fall\",\"Winter\",\"Summer\",\"Summer\",\"Spring\",\"Spring\",\"Spring\",\"Summer\",\"Winter\",\"Winter\",\"Summer\",\"Summer\",\"Spring\",\"Summer\",\"Fall\",\"Spring\",\"Winter\",\"Fall\",\"Fall\",\"Winter\",\"Winter\",\"Fall\",\"Fall\",\"Fall\",\"Spring\",\"Summer\",\"Summer\",\"Spring\",\"Winter\",\"Spring\",\"Spring\",\"Fall\",\"Spring\",\"Winter\",\"Fall\",\"Fall\",\"Winter\",\"Fall\",\"Winter\",\"Fall\",\"Fall\",\"Winter\",\"Spring\",\"Summer\",\"Spring\",\"Spring\",\"Spring\",\"Winter\",\"Spring\",\"Summer\",\"Summer\",\"Summer\",\"Winter\",\"Winter\",\"Spring\",\"Fall\",\"Spring\",\"Winter\",\"Spring\",\"Winter\",\"Fall\",\"Spring\",\"Winter\",\"Winter\",\"Winter\",\"Winter\",\"Winter\",\"Winter\",\"Summer\",\"Winter\",\"Fall\",\"Fall\",\"Spring\",\"Winter\",\"Summer\",\"Summer\",\"Winter\",\"Summer\",\"Winter\",\"Winter\",\"Fall\",\"Summer\",\"Summer\",\"Fall\",\"Summer\",\"Spring\",\"Summer\",\"Summer\",\"Summer\",\"Summer\",\"Summer\",\"Winter\",\"Summer\",\"Fall\",\"Fall\",\"Spring\",\"Winter\",\"Winter\",\"Summer\",\"Winter\",\"Fall\",\"Summer\",\"Winter\",\"Summer\",\"Winter\",\"Spring\",\"Fall\",\"Fall\",\"Summer\",\"Winter\",\"Winter\",\"Spring\",\"Summer\",\"Summer\",\"Spring\",\"Summer\",\"Winter\",\"Winter\",\"Summer\",\"Fall\",\"Winter\",\"Fall\",\"Summer\",\"Spring\",\"Fall\",\"Winter\",\"Spring\",\"Summer\",\"Winter\",\"Summer\",\"Fall\",\"Summer\",\"Winter\",\"Fall\",\"Fall\",\"Winter\",\"Spring\",\"Winter\",\"Fall\",\"Spring\",\"Fall\",\"Summer\",\"Winter\",\"Spring\",\"Fall\",\"Spring\",\"Winter\",\"Summer\",\"Fall\",\"Fall\",\"Winter\",\"Fall\",\"Winter\",\"Spring\",\"Fall\",\"Fall\",\"Fall\",\"Summer\",\"Spring\",\"Winter\",\"Spring\",\"Spring\",\"Summer\",\"Spring\",\"Winter\",\"Winter\",\"Winter\",\"Fall\",\"Winter\",\"Fall\",\"Winter\",\"Spring\",\"Fall\",\"Spring\",\"Fall\",\"Summer\",\"Spring\",\"Winter\",\"Spring\",\"Fall\",\"Spring\",\"Spring\",\"Summer\",\"Summer\",\"Winter\",\"Winter\",\"Winter\",\"Fall\",\"Summer\",\"Fall\",\"Fall\",\"Winter\",\"Summer\",\"Fall\",\"Winter\",\"Spring\",\"Fall\",\"Fall\",\"Fall\",\"Fall\",\"Summer\",\"Fall\",\"Winter\",\"Fall\",\"Spring\",\"Winter\",\"Summer\",\"Fall\",\"Fall\",\"Spring\",\"Summer\",\"Summer\",\"Fall\",\"Fall\",\"Winter\",\"Fall\",\"Fall\",\"Winter\",\"Spring\",\"Winter\",\"Spring\",\"Spring\",\"Spring\",\"Fall\",\"Winter\",\"Fall\",\"Fall\",\"Fall\",\"Fall\",\"Fall\",\"Fall\",\"Winter\",\"Winter\",\"Summer\",\"Summer\",\"Summer\",\"Winter\",\"Spring\",\"Spring\",\"Summer\",\"Summer\",\"Winter\",\"Fall\",\"Winter\",\"Spring\",\"Fall\",\"Fall\",\"Fall\",\"Summer\",\"Winter\",\"Fall\",\"Fall\",\"Winter\",\"Summer\",\"Spring\",\"Fall\",\"Spring\",\"Summer\",\"Fall\",\"Fall\",\"Spring\",\"Fall\",\"Fall\",\"Fall\",\"Spring\",\"Winter\",\"Fall\",\"Spring\",\"Fall\",\"Summer\",\"Winter\",\"Spring\",\"Summer\",\"Fall\",\"Summer\",\"Winter\",\"Summer\",\"Spring\",\"Summer\",\"Winter\",\"Spring\",\"Winter\",\"Summer\",\"Summer\",\"Spring\",\"Summer\",\"Winter\",\"Spring\",\"Spring\",\"Summer\",\"Winter\",\"Winter\",\"Summer\",\"Fall\",\"Summer\",\"Winter\",\"Fall\",\"Spring\",\"Fall\",\"Fall\",\"Fall\",\"Fall\",\"Winter\",\"Spring\",\"Winter\",\"Winter\",\"Fall\",\"Spring\",\"Spring\",\"Winter\",\"Winter\",\"Spring\",\"Winter\",\"Spring\",\"Winter\",\"Summer\",\"Fall\",\"Fall\",\"Spring\",\"Winter\",\"Summer\",\"Winter\",\"Summer\",\"Winter\",\"Fall\",\"Winter\",\"Summer\",\"Summer\",\"Spring\",\"Summer\",\"Spring\",\"Spring\",\"Fall\",\"Summer\",\"Fall\",\"Summer\",\"Winter\",\"Fall\",\"Winter\",\"Fall\",\"Winter\",\"Summer\",\"Spring\",\"Summer\",\"Summer\",\"Spring\",\"Summer\",\"Summer\",\"Spring\",\"Spring\",\"Summer\",\"Summer\",\"Fall\",\"Spring\",\"Spring\",\"Spring\",\"Summer\",\"Summer\",\"Fall\",\"Summer\",\"Summer\",\"Fall\",\"Fall\",\"Winter\",\"Summer\",\"Winter\",\"Winter\",\"Summer\",\"Summer\",\"Spring\",\"Spring\",\"Fall\",\"Winter\",\"Fall\",\"Spring\",\"Spring\",\"Winter\",\"Summer\",\"Summer\",\"Summer\",\"Summer\",\"Fall\",\"Spring\",\"Fall\",\"Winter\",\"Spring\",\"Fall\",\"Winter\",\"Fall\",\"Fall\",\"Fall\",\"Fall\",\"Spring\",\"Spring\",\"Summer\",\"Fall\",\"Summer\",\"Winter\",\"Fall\",\"Fall\",\"Fall\",\"Spring\",\"Fall\",\"Summer\",\"Winter\",\"Fall\",\"Spring\",\"Spring\",\"Spring\",\"Fall\",\"Fall\",\"Winter\",\"Summer\",\"Winter\",\"Spring\",\"Spring\",\"Summer\",\"Spring\",\"Spring\",\"Winter\",\"Summer\",\"Winter\",\"Winter\",\"Spring\",\"Winter\",\"Spring\",\"Summer\",\"Fall\",\"Summer\",\"Summer\",\"Spring\",\"Summer\",\"Winter\",\"Summer\",\"Fall\",\"Fall\",\"Spring\",\"Summer\",\"Summer\",\"Fall\",\"Winter\",\"Winter\",\"Summer\",\"Summer\",\"Summer\",\"Winter\",\"Fall\",\"Fall\",\"Fall\",\"Winter\",\"Summer\",\"Summer\",\"Winter\",\"Spring\",\"Summer\",\"Spring\",\"Winter\",\"Winter\",\"Spring\",\"Spring\",\"Winter\",\"Winter\",\"Spring\",\"Fall\",\"Winter\",\"Fall\",\"Fall\",\"Spring\",\"Fall\",\"Summer\",\"Fall\",\"Fall\",\"Summer\",\"Summer\",\"Winter\",\"Spring\",\"Spring\",\"Spring\",\"Summer\",\"Summer\",\"Spring\",\"Summer\",\"Winter\",\"Winter\",\"Spring\",\"Fall\",\"Fall\",\"Spring\",\"Winter\",\"Summer\",\"Spring\",\"Winter\",\"Spring\",\"Spring\",\"Summer\",\"Fall\",\"Fall\",\"Winter\",\"Spring\",\"Spring\",\"Winter\",\"Summer\",\"Winter\",\"Winter\",\"Summer\",\"Spring\",\"Summer\",\"Spring\",\"Fall\",\"Spring\",\"Spring\",\"Summer\",\"Fall\",\"Summer\",\"Summer\",\"Winter\",\"Summer\",\"Spring\",\"Spring\",\"Summer\",\"Fall\",\"Fall\",\"Winter\",\"Fall\",\"Summer\",\"Winter\",\"Spring\",\"Fall\",\"Spring\",\"Summer\",\"Summer\",\"Spring\",\"Spring\",\"Spring\",\"Spring\",\"Spring\",\"Spring\",\"Summer\",\"Fall\",\"Summer\",\"Summer\",\"Winter\",\"Spring\",\"Spring\",\"Spring\",\"Winter\",\"Winter\",\"Fall\",\"Spring\",\"Winter\",\"Winter\",\"Fall\",\"Summer\",\"Winter\",\"Spring\",\"Spring\",\"Spring\",\"Winter\",\"Summer\",\"Summer\",\"Fall\",\"Spring\",\"Winter\",\"Winter\",\"Spring\",\"Summer\",\"Winter\",\"Fall\",\"Fall\",\"Winter\",\"Winter\",\"Spring\",\"Spring\",\"Fall\",\"Summer\",\"Summer\",\"Fall\",\"Winter\",\"Spring\",\"Winter\",\"Winter\",\"Winter\",\"Spring\",\"Summer\",\"Spring\",\"Winter\",\"Summer\",\"Summer\",\"Winter\",\"Summer\",\"Fall\",\"Spring\",\"Fall\",\"Summer\",\"Spring\",\"Spring\",\"Winter\",\"Spring\",\"Spring\",\"Fall\",\"Spring\",\"Spring\",\"Spring\",\"Spring\",\"Spring\",\"Summer\",\"Summer\",\"Fall\",\"Winter\",\"Summer\",\"Winter\",\"Fall\",\"Spring\",\"Summer\",\"Fall\",\"Spring\",\"Summer\",\"Fall\",\"Spring\",\"Spring\",\"Summer\",\"Winter\",\"Summer\",\"Fall\",\"Spring\",\"Summer\",\"Winter\",\"Spring\",\"Spring\",\"Spring\",\"Winter\",\"Winter\",\"Fall\",\"Spring\",\"Summer\",\"Spring\",\"Spring\",\"Spring\",\"Winter\",\"Fall\",\"Spring\",\"Fall\",\"Summer\",\"Winter\",\"Summer\",\"Spring\",\"Spring\",\"Summer\",\"Spring\",\"Spring\",\"Summer\",\"Summer\",\"Summer\",\"Summer\",\"Summer\",\"Fall\",\"Spring\",\"Winter\",\"Fall\",\"Winter\",\"Winter\",\"Winter\",\"Summer\",\"Winter\",\"Winter\",\"Summer\",\"Summer\",\"Spring\",\"Winter\",\"Spring\",\"Fall\",\"Spring\",\"Fall\",\"Fall\",\"Fall\",\"Spring\",\"Fall\",\"Fall\",\"Fall\",\"Summer\",\"Spring\",\"Spring\",\"Summer\",\"Fall\",\"Winter\",\"Fall\",\"Fall\",\"Fall\",\"Winter\",\"Fall\",\"Fall\",\"Spring\",\"Winter\",\"Spring\",\"Winter\",\"Spring\",\"Summer\",\"Winter\",\"Summer\",\"Summer\",\"Fall\",\"Summer\",\"Spring\",\"Spring\",\"Winter\",\"Summer\",\"Fall\",\"Fall\",\"Summer\",\"Summer\",\"Fall\",\"Spring\",\"Fall\",\"Summer\",\"Spring\",\"Winter\",\"Fall\",\"Summer\",\"Fall\",\"Spring\",\"Winter\",\"Summer\",\"Fall\",\"Winter\",\"Winter\",\"Winter\",\"Winter\",\"Spring\",\"Spring\",\"Spring\",\"Spring\",\"Winter\",\"Winter\",\"Summer\",\"Fall\",\"Summer\",\"Spring\",\"Fall\",\"Spring\",\"Fall\",\"Fall\",\"Spring\",\"Fall\",\"Spring\",\"Winter\",\"Fall\",\"Fall\",\"Winter\",\"Fall\",\"Summer\",\"Spring\",\"Summer\",\"Fall\",\"Fall\",\"Winter\",\"Spring\",\"Summer\",\"Spring\",\"Winter\",\"Fall\",\"Spring\",\"Fall\",\"Spring\",\"Summer\",\"Winter\",\"Spring\",\"Winter\",\"Winter\",\"Summer\",\"Spring\",\"Spring\",\"Winter\",\"Summer\",\"Winter\",\"Summer\",\"Winter\",\"Summer\",\"Spring\",\"Winter\",\"Winter\",\"Spring\",\"Winter\",\"Fall\",\"Summer\",\"Summer\",\"Winter\",\"Spring\",\"Spring\",\"Winter\",\"Spring\",\"Fall\",\"Summer\",\"Spring\",\"Fall\",\"Summer\",\"Fall\",\"Summer\",\"Fall\",\"Summer\",\"Fall\",\"Winter\",\"Summer\",\"Winter\",\"Winter\",\"Winter\",\"Summer\",\"Summer\",\"Fall\",\"Spring\",\"Spring\",\"Spring\",\"Winter\",\"Winter\",\"Spring\",\"Winter\",\"Spring\",\"Spring\",\"Summer\",\"Spring\",\"Summer\",\"Spring\",\"Spring\",\"Fall\",\"Spring\",\"Summer\",\"Fall\",\"Summer\",\"Summer\",\"Winter\",\"Winter\",\"Summer\",\"Fall\",\"Winter\",\"Winter\",\"Winter\",\"Fall\",\"Summer\",\"Fall\",\"Winter\",\"Summer\",\"Spring\",\"Winter\",\"Spring\",\"Spring\",\"Fall\",\"Summer\",\"Winter\",\"Winter\",\"Fall\",\"Spring\",\"Summer\",\"Spring\",\"Fall\",\"Winter\",\"Summer\",\"Fall\",\"Spring\",\"Winter\",\"Winter\",\"Winter\",\"Fall\",\"Winter\",\"Summer\",\"Fall\",\"Fall\",\"Spring\",\"Winter\",\"Winter\",\"Spring\",\"Spring\",\"Summer\",\"Winter\",\"Fall\",\"Spring\",\"Summer\",\"Spring\",\"Winter\",\"Spring\",\"Winter\",\"Winter\",\"Summer\",\"Spring\",\"Summer\",\"Fall\",\"Winter\",\"Spring\",\"Winter\",\"Winter\",\"Winter\",\"Spring\",\"Fall\",\"Winter\",\"Spring\",\"Fall\",\"Winter\",\"Spring\",\"Spring\",\"Fall\",\"Spring\",\"Summer\",\"Winter\",\"Winter\",\"Winter\",\"Spring\",\"Fall\",\"Spring\",\"Winter\",\"Spring\",\"Fall\",\"Spring\",\"Winter\",\"Spring\",\"Spring\",\"Fall\",\"Spring\",\"Spring\",\"Fall\",\"Fall\",\"Winter\",\"Spring\",\"Winter\",\"Winter\",\"Spring\",\"Fall\",\"Winter\",\"Winter\",\"Winter\",\"Fall\",\"Spring\",\"Spring\",\"Summer\",\"Fall\",\"Summer\",\"Fall\",\"Spring\",\"Summer\",\"Summer\",\"Fall\",\"Spring\",\"Fall\",\"Fall\",\"Summer\",\"Spring\",\"Spring\",\"Winter\",\"Summer\",\"Summer\",\"Summer\",\"Winter\",\"Fall\",\"Winter\",\"Summer\",\"Summer\",\"Spring\",\"Spring\",\"Spring\",\"Spring\",\"Spring\",\"Fall\",\"Winter\",\"Winter\",\"Spring\",\"Summer\",\"Summer\",\"Spring\",\"Winter\",\"Winter\",\"Fall\",\"Fall\",\"Spring\",\"Spring\",\"Winter\",\"Spring\",\"Fall\",\"Spring\",\"Spring\",\"Winter\",\"Winter\",\"Fall\",\"Fall\",\"Summer\",\"Spring\",\"Fall\",\"Fall\",\"Winter\",\"Summer\",\"Spring\",\"Spring\",\"Fall\",\"Summer\",\"Spring\",\"Winter\",\"Spring\",\"Summer\",\"Spring\",\"Summer\",\"Spring\",\"Winter\",\"Fall\",\"Fall\",\"Fall\",\"Summer\",\"Fall\",\"Winter\",\"Fall\",\"Fall\",\"Summer\",\"Winter\",\"Summer\",\"Spring\",\"Fall\",\"Winter\",\"Fall\",\"Spring\",\"Spring\",\"Spring\",\"Fall\",\"Fall\",\"Winter\",\"Winter\",\"Winter\",\"Spring\",\"Fall\",\"Fall\",\"Fall\",\"Winter\",\"Spring\",\"Fall\",\"Summer\",\"Winter\",\"Spring\",\"Spring\",\"Fall\",\"Spring\",\"Winter\",\"Summer\",\"Summer\",\"Winter\",\"Fall\",\"Fall\",\"Summer\",\"Spring\",\"Winter\",\"Winter\",\"Spring\",\"Spring\",\"Winter\",\"Spring\",\"Summer\",\"Summer\",\"Summer\",\"Fall\",\"Summer\",\"Winter\",\"Summer\",\"Spring\",\"Summer\",\"Summer\",\"Summer\",\"Spring\",\"Fall\",\"Fall\",\"Fall\",\"Winter\",\"Summer\",\"Summer\",\"Summer\",\"Fall\",\"Summer\",\"Fall\",\"Winter\",\"Winter\",\"Summer\",\"Fall\",\"Winter\",\"Winter\",\"Spring\",\"Summer\",\"Spring\",\"Summer\",\"Spring\",\"Fall\",\"Fall\",\"Fall\",\"Summer\",\"Summer\",\"Summer\",\"Winter\",\"Winter\",\"Fall\",\"Spring\",\"Winter\",\"Winter\",\"Fall\",\"Spring\",\"Spring\",\"Spring\",\"Winter\",\"Fall\",\"Summer\",\"Summer\",\"Summer\",\"Winter\",\"Winter\",\"Summer\",\"Winter\",\"Fall\",\"Winter\",\"Spring\",\"Spring\",\"Spring\",\"Fall\",\"Fall\",\"Spring\",\"Fall\",\"Summer\",\"Summer\",\"Spring\",\"Fall\",\"Spring\",\"Spring\",\"Summer\",\"Summer\",\"Spring\",\"Spring\",\"Summer\",\"Winter\",\"Summer\",\"Spring\",\"Summer\",\"Summer\",\"Fall\",\"Spring\",\"Winter\",\"Winter\",\"Spring\",\"Summer\",\"Fall\",\"Summer\",\"Spring\",\"Summer\",\"Fall\",\"Winter\",\"Summer\",\"Fall\",\"Winter\",\"Spring\",\"Summer\",\"Fall\",\"Winter\",\"Winter\",\"Spring\",\"Winter\",\"Fall\",\"Winter\",\"Spring\",\"Winter\",\"Fall\",\"Summer\",\"Summer\",\"Spring\",\"Summer\",\"Summer\",\"Winter\",\"Summer\",\"Fall\",\"Spring\",\"Winter\",\"Spring\",\"Spring\",\"Winter\",\"Summer\",\"Summer\",\"Fall\",\"Summer\",\"Spring\",\"Fall\",\"Spring\",\"Winter\",\"Winter\",\"Winter\",\"Fall\",\"Spring\",\"Winter\",\"Summer\",\"Summer\",\"Summer\",\"Spring\",\"Summer\",\"Summer\",\"Spring\",\"Spring\",\"Winter\",\"Winter\",\"Fall\",\"Fall\",\"Fall\",\"Fall\",\"Winter\",\"Summer\",\"Winter\",\"Fall\",\"Summer\",\"Fall\",\"Winter\",\"Spring\",\"Spring\",\"Summer\",\"Winter\",\"Winter\",\"Summer\",\"Summer\",\"Spring\",\"Spring\",\"Spring\",\"Spring\",\"Winter\",\"Summer\",\"Summer\",\"Fall\",\"Spring\",\"Summer\",\"Spring\",\"Fall\",\"Fall\",\"Summer\",\"Winter\",\"Summer\",\"Winter\",\"Winter\",\"Summer\",\"Spring\",\"Summer\",\"Spring\",\"Fall\",\"Winter\",\"Fall\",\"Winter\",\"Spring\",\"Spring\",\"Winter\",\"Summer\",\"Summer\",\"Winter\",\"Spring\",\"Fall\",\"Fall\",\"Fall\",\"Spring\",\"Winter\",\"Summer\",\"Summer\",\"Summer\",\"Fall\",\"Spring\",\"Winter\",\"Summer\",\"Winter\",\"Winter\",\"Summer\",\"Winter\",\"Summer\",\"Winter\",\"Winter\",\"Summer\",\"Winter\",\"Winter\",\"Spring\",\"Summer\",\"Summer\",\"Summer\",\"Spring\",\"Summer\",\"Summer\",\"Fall\",\"Spring\",\"Spring\",\"Summer\",\"Spring\",\"Summer\",\"Spring\",\"Summer\",\"Summer\",\"Summer\",\"Summer\",\"Summer\",\"Summer\",\"Summer\",\"Winter\",\"Winter\",\"Summer\",\"Winter\",\"Spring\",\"Spring\",\"Spring\",\"Spring\",\"Spring\",\"Fall\",\"Winter\",\"Summer\",\"Winter\",\"Summer\",\"Spring\",\"Fall\",\"Summer\",\"Winter\",\"Summer\",\"Winter\",\"Fall\",\"Winter\",\"Fall\",\"Fall\",\"Winter\",\"Spring\",\"Winter\",\"Summer\",\"Summer\",\"Fall\",\"Summer\",\"Winter\",\"Fall\",\"Spring\",\"Spring\",\"Winter\",\"Fall\",\"Winter\",\"Winter\",\"Winter\",\"Summer\",\"Summer\",\"Winter\",\"Fall\",\"Summer\",\"Fall\",\"Spring\",\"Fall\",\"Winter\",\"Spring\",\"Fall\",\"Winter\",\"Summer\",\"Spring\",\"Summer\",\"Summer\",\"Spring\",\"Fall\",\"Spring\",\"Winter\",\"Fall\",\"Spring\",\"Fall\",\"Winter\",\"Summer\",\"Spring\",\"Winter\",\"Summer\",\"Winter\",\"Winter\",\"Winter\",\"Spring\",\"Summer\",\"Spring\",\"Winter\",\"Spring\",\"Summer\",\"Spring\",\"Fall\",\"Winter\",\"Fall\",\"Fall\",\"Winter\",\"Summer\",\"Spring\",\"Winter\",\"Summer\",\"Summer\",\"Spring\",\"Winter\",\"Fall\",\"Winter\",\"Spring\",\"Winter\",\"Winter\",\"Winter\",\"Summer\",\"Winter\",\"Winter\",\"Fall\",\"Fall\",\"Winter\",\"Winter\",\"Fall\",\"Fall\",\"Spring\",\"Fall\",\"Fall\",\"Winter\",\"Spring\",\"Spring\",\"Fall\",\"Summer\",\"Winter\",\"Summer\",\"Spring\",\"Winter\",\"Fall\",\"Summer\",\"Winter\",\"Fall\",\"Fall\",\"Summer\",\"Summer\",\"Spring\",\"Spring\",\"Summer\",\"Winter\",\"Winter\",\"Winter\",\"Summer\",\"Fall\",\"Fall\",\"Winter\",\"Summer\",\"Fall\",\"Spring\",\"Fall\",\"Summer\",\"Spring\",\"Summer\",\"Winter\",\"Fall\",\"Fall\",\"Spring\",\"Fall\",\"Spring\",\"Spring\",\"Winter\",\"Fall\",\"Winter\",\"Spring\",\"Winter\",\"Summer\",\"Winter\",\"Spring\",\"Fall\",\"Summer\",\"Spring\",\"Fall\",\"Fall\",\"Summer\",\"Summer\",\"Spring\",\"Summer\",\"Winter\",\"Summer\",\"Summer\",\"Fall\",\"Spring\",\"Fall\",\"Spring\",\"Summer\",\"Fall\",\"Winter\",\"Winter\",\"Winter\",\"Spring\",\"Spring\",\"Spring\",\"Winter\",\"Summer\",\"Fall\",\"Spring\",\"Summer\",\"Fall\",\"Fall\",\"Winter\",\"Fall\",\"Winter\",\"Winter\",\"Winter\",\"Summer\",\"Fall\",\"Spring\",\"Winter\",\"Summer\",\"Summer\",\"Winter\",\"Winter\",\"Winter\",\"Fall\",\"Winter\",\"Spring\",\"Spring\",\"Spring\",\"Summer\",\"Summer\",\"Spring\",\"Summer\",\"Summer\",\"Fall\",\"Winter\",\"Spring\",\"Fall\",\"Summer\",\"Winter\",\"Fall\",\"Spring\",\"Spring\",\"Spring\",\"Fall\",\"Summer\",\"Fall\",\"Fall\",\"Winter\",\"Fall\",\"Fall\",\"Summer\",\"Spring\",\"Fall\",\"Winter\",\"Winter\",\"Spring\",\"Summer\",\"Winter\",\"Spring\",\"Fall\",\"Winter\",\"Spring\",\"Spring\",\"Summer\",\"Fall\",\"Summer\",\"Fall\",\"Fall\",\"Fall\",\"Winter\",\"Fall\",\"Winter\",\"Summer\",\"Winter\",\"Spring\",\"Summer\",\"Spring\",\"Summer\",\"Spring\",\"Fall\",\"Winter\",\"Spring\",\"Fall\",\"Spring\",\"Winter\",\"Winter\",\"Fall\",\"Fall\",\"Winter\",\"Winter\",\"Summer\",\"Summer\",\"Spring\",\"Fall\",\"Summer\",\"Summer\",\"Fall\",\"Winter\",\"Spring\",\"Summer\",\"Summer\",\"Fall\",\"Spring\",\"Spring\",\"Spring\",\"Summer\",\"Winter\",\"Spring\",\"Summer\",\"Summer\",\"Spring\",\"Winter\",\"Fall\",\"Winter\",\"Fall\",\"Summer\",\"Winter\",\"Winter\",\"Summer\",\"Summer\",\"Winter\",\"Winter\",\"Summer\",\"Summer\",\"Summer\",\"Spring\",\"Winter\",\"Winter\",\"Winter\",\"Spring\",\"Winter\",\"Fall\",\"Summer\",\"Summer\",\"Fall\",\"Spring\",\"Summer\",\"Fall\",\"Winter\",\"Fall\",\"Spring\",\"Winter\",\"Spring\",\"Spring\",\"Summer\",\"Fall\",\"Winter\",\"Fall\",\"Spring\",\"Summer\",\"Spring\",\"Spring\",\"Winter\",\"Summer\",\"Summer\",\"Summer\",\"Summer\",\"Spring\",\"Summer\",\"Summer\",\"Winter\",\"Spring\",\"Spring\",\"Summer\",\"Winter\",\"Spring\",\"Fall\",\"Spring\",\"Summer\",\"Fall\",\"Fall\",\"Winter\",\"Winter\",\"Winter\",\"Summer\",\"Spring\",\"Fall\",\"Winter\",\"Fall\",\"Summer\",\"Spring\",\"Summer\",\"Summer\",\"Spring\",\"Fall\",\"Winter\",\"Summer\",\"Summer\",\"Winter\",\"Winter\",\"Fall\",\"Winter\",\"Winter\",\"Winter\",\"Winter\",\"Winter\",\"Fall\",\"Summer\",\"Winter\",\"Fall\",\"Fall\",\"Spring\",\"Summer\",\"Spring\",\"Winter\",\"Summer\",\"Spring\",\"Summer\",\"Winter\",\"Summer\",\"Spring\",\"Spring\",\"Spring\",\"Winter\",\"Spring\",\"Summer\",\"Spring\",\"Fall\",\"Winter\",\"Summer\",\"Winter\",\"Fall\",\"Summer\",\"Spring\",\"Winter\",\"Spring\",\"Spring\",\"Fall\",\"Spring\",\"Spring\",\"Winter\",\"Spring\",\"Fall\",\"Summer\",\"Fall\",\"Fall\",\"Summer\",\"Spring\",\"Fall\",\"Fall\",\"Summer\",\"Fall\",\"Spring\",\"Fall\",\"Winter\",\"Winter\",\"Summer\",\"Fall\",\"Fall\",\"Fall\",\"Spring\",\"Summer\",\"Fall\",\"Spring\",\"Summer\",\"Fall\",\"Summer\",\"Fall\",\"Summer\",\"Summer\",\"Spring\",\"Spring\",\"Winter\",\"Fall\",\"Fall\",\"Spring\",\"Spring\",\"Fall\",\"Summer\",\"Winter\",\"Summer\",\"Summer\",\"Spring\",\"Winter\",\"Spring\",\"Summer\",\"Spring\",\"Spring\",\"Fall\",\"Winter\",\"Winter\",\"Fall\",\"Spring\",\"Spring\",\"Fall\",\"Spring\",\"Winter\",\"Winter\",\"Summer\",\"Summer\",\"Fall\",\"Spring\",\"Fall\",\"Winter\",\"Fall\",\"Spring\",\"Fall\",\"Fall\",\"Winter\",\"Spring\",\"Fall\",\"Fall\",\"Summer\",\"Fall\",\"Fall\",\"Summer\",\"Winter\",\"Winter\",\"Summer\",\"Winter\",\"Fall\",\"Winter\",\"Fall\",\"Winter\",\"Winter\",\"Fall\",\"Winter\",\"Winter\",\"Summer\",\"Fall\",\"Winter\",\"Winter\",\"Spring\",\"Fall\",\"Summer\",\"Fall\",\"Spring\",\"Fall\",\"Winter\",\"Winter\",\"Spring\",\"Fall\",\"Winter\",\"Summer\",\"Summer\",\"Spring\",\"Winter\",\"Summer\",\"Spring\",\"Winter\",\"Spring\",\"Fall\",\"Fall\",\"Summer\",\"Fall\",\"Summer\",\"Spring\",\"Spring\",\"Winter\",\"Winter\",\"Summer\",\"Fall\",\"Summer\",\"Fall\",\"Winter\",\"Spring\",\"Spring\",\"Winter\",\"Winter\",\"Spring\",\"Winter\",\"Fall\",\"Spring\",\"Summer\",\"Winter\",\"Spring\",\"Summer\",\"Fall\",\"Spring\",\"Summer\",\"Summer\",\"Summer\",\"Summer\",\"Spring\",\"Summer\",\"Winter\",\"Winter\",\"Fall\",\"Spring\",\"Fall\",\"Summer\",\"Summer\",\"Summer\",\"Winter\",\"Winter\",\"Fall\",\"Fall\",\"Winter\",\"Winter\",\"Fall\",\"Winter\",\"Fall\",\"Fall\",\"Fall\",\"Summer\",\"Fall\",\"Winter\",\"Spring\",\"Spring\",\"Summer\",\"Fall\",\"Fall\",\"Spring\",\"Fall\",\"Spring\",\"Summer\",\"Winter\",\"Spring\",\"Winter\",\"Summer\",\"Winter\",\"Summer\",\"Winter\",\"Summer\",\"Spring\",\"Winter\",\"Summer\",\"Fall\",\"Fall\",\"Summer\",\"Winter\",\"Spring\",\"Summer\",\"Fall\",\"Summer\",\"Spring\",\"Winter\",\"Spring\",\"Fall\",\"Fall\",\"Winter\",\"Spring\",\"Fall\",\"Spring\",\"Winter\",\"Winter\",\"Summer\",\"Fall\",\"Fall\",\"Spring\",\"Spring\",\"Fall\",\"Spring\",\"Summer\",\"Spring\",\"Winter\",\"Spring\",\"Winter\",\"Summer\",\"Summer\",\"Fall\",\"Spring\",\"Summer\",\"Summer\",\"Fall\",\"Winter\",\"Fall\",\"Summer\",\"Spring\",\"Summer\",\"Fall\",\"Fall\",\"Winter\",\"Spring\",\"Spring\",\"Fall\",\"Winter\",\"Spring\",\"Fall\",\"Summer\",\"Spring\",\"Summer\",\"Summer\",\"Winter\",\"Summer\",\"Spring\",\"Winter\",\"Summer\",\"Winter\",\"Fall\",\"Winter\",\"Fall\",\"Spring\",\"Spring\",\"Summer\",\"Summer\",\"Winter\",\"Winter\",\"Winter\",\"Summer\",\"Spring\",\"Winter\",\"Spring\",\"Winter\",\"Spring\",\"Winter\",\"Winter\",\"Summer\",\"Winter\",\"Winter\",\"Fall\",\"Spring\",\"Summer\",\"Spring\",\"Fall\",\"Spring\",\"Summer\",\"Summer\",\"Winter\",\"Fall\",\"Fall\",\"Spring\",\"Summer\",\"Summer\",\"Fall\",\"Summer\",\"Fall\",\"Winter\",\"Winter\",\"Fall\",\"Spring\",\"Fall\",\"Winter\",\"Fall\",\"Fall\",\"Fall\",\"Summer\",\"Winter\",\"Summer\",\"Fall\",\"Spring\",\"Spring\",\"Fall\",\"Spring\",\"Fall\",\"Winter\",\"Winter\",\"Winter\",\"Winter\",\"Winter\",\"Summer\",\"Winter\",\"Spring\",\"Winter\",\"Spring\",\"Spring\",\"Winter\",\"Fall\",\"Spring\",\"Fall\",\"Summer\",\"Spring\",\"Fall\",\"Summer\",\"Spring\",\"Spring\",\"Winter\",\"Fall\",\"Summer\",\"Summer\",\"Fall\",\"Spring\",\"Winter\",\"Winter\",\"Spring\",\"Winter\",\"Fall\",\"Winter\",\"Spring\",\"Fall\",\"Winter\",\"Spring\",\"Winter\",\"Winter\",\"Winter\",\"Fall\",\"Winter\",\"Fall\",\"Winter\",\"Summer\",\"Fall\",\"Spring\",\"Summer\",\"Summer\",\"Winter\",\"Fall\",\"Summer\",\"Fall\",\"Summer\",\"Fall\",\"Fall\",\"Fall\",\"Winter\",\"Spring\",\"Winter\",\"Summer\",\"Winter\",\"Summer\",\"Fall\",\"Spring\",\"Spring\",\"Summer\",\"Summer\",\"Fall\",\"Winter\",\"Spring\",\"Spring\",\"Fall\",\"Fall\",\"Winter\",\"Winter\",\"Summer\",\"Spring\",\"Fall\",\"Winter\",\"Spring\",\"Fall\",\"Summer\",\"Spring\",\"Fall\",\"Fall\",\"Fall\",\"Fall\",\"Fall\",\"Winter\",\"Spring\",\"Winter\",\"Spring\",\"Winter\",\"Fall\",\"Fall\",\"Fall\",\"Winter\",\"Summer\",\"Spring\",\"Summer\",\"Winter\",\"Spring\",\"Summer\",\"Spring\",\"Winter\",\"Fall\",\"Fall\",\"Spring\",\"Summer\",\"Winter\",\"Fall\",\"Summer\",\"Summer\",\"Spring\",\"Winter\",\"Fall\",\"Summer\",\"Fall\",\"Winter\",\"Fall\",\"Summer\",\"Spring\",\"Spring\",\"Spring\",\"Summer\",\"Winter\",\"Spring\",\"Spring\",\"Summer\",\"Fall\",\"Winter\",\"Spring\",\"Summer\",\"Summer\",\"Fall\",\"Summer\",\"Fall\",\"Fall\",\"Spring\",\"Summer\",\"Winter\",\"Summer\",\"Spring\",\"Fall\",\"Spring\",\"Spring\",\"Winter\",\"Summer\",\"Summer\",\"Winter\",\"Spring\",\"Summer\",\"Spring\",\"Spring\",\"Fall\",\"Spring\",\"Summer\",\"Fall\",\"Winter\",\"Spring\",\"Spring\",\"Winter\",\"Spring\",\"Fall\",\"Fall\",\"Spring\",\"Spring\",\"Summer\",\"Summer\",\"Summer\",\"Fall\",\"Winter\",\"Spring\",\"Summer\",\"Summer\",\"Fall\",\"Summer\",\"Spring\",\"Winter\",\"Spring\",\"Spring\",\"Spring\",\"Summer\",\"Summer\",\"Winter\",\"Fall\",\"Fall\",\"Winter\",\"Spring\",\"Summer\",\"Summer\",\"Fall\",\"Fall\",\"Spring\",\"Fall\",\"Winter\",\"Spring\",\"Spring\",\"Spring\",\"Winter\",\"Winter\",\"Fall\",\"Fall\",\"Spring\",\"Winter\",\"Spring\",\"Spring\",\"Winter\",\"Fall\",\"Summer\",\"Summer\",\"Fall\",\"Winter\",\"Fall\",\"Fall\",\"Summer\",\"Summer\",\"Winter\",\"Fall\",\"Fall\",\"Summer\",\"Fall\",\"Winter\",\"Winter\",\"Summer\",\"Winter\",\"Summer\",\"Spring\",\"Summer\",\"Fall\",\"Fall\",\"Summer\",\"Spring\",\"Summer\",\"Fall\",\"Winter\",\"Fall\",\"Winter\",\"Fall\",\"Spring\",\"Spring\",\"Spring\",\"Spring\",\"Spring\",\"Fall\",\"Summer\",\"Spring\",\"Fall\",\"Winter\",\"Fall\",\"Spring\",\"Fall\",\"Spring\",\"Spring\",\"Fall\",\"Winter\",\"Winter\",\"Winter\",\"Spring\",\"Fall\",\"Summer\",\"Summer\",\"Fall\",\"Fall\",\"Summer\",\"Winter\",\"Spring\",\"Summer\",\"Fall\",\"Fall\",\"Summer\",\"Spring\",\"Winter\",\"Spring\",\"Spring\",\"Winter\",\"Summer\",\"Winter\",\"Summer\",\"Spring\",\"Spring\",\"Spring\",\"Summer\",\"Summer\",\"Spring\",\"Fall\",\"Summer\",\"Summer\",\"Summer\",\"Fall\",\"Fall\",\"Summer\",\"Winter\",\"Summer\",\"Summer\",\"Summer\",\"Spring\",\"Fall\",\"Summer\",\"Fall\",\"Winter\",\"Winter\",\"Winter\",\"Summer\",\"Summer\",\"Spring\",\"Fall\",\"Winter\",\"Spring\",\"Summer\",\"Fall\",\"Winter\",\"Spring\",\"Spring\",\"Spring\",\"Spring\",\"Fall\",\"Summer\",\"Winter\",\"Summer\",\"Summer\",\"Winter\",\"Winter\",\"Fall\",\"Spring\",\"Fall\",\"Summer\",\"Winter\",\"Spring\",\"Summer\",\"Spring\",\"Fall\",\"Spring\",\"Winter\",\"Summer\",\"Fall\",\"Winter\",\"Summer\",\"Fall\",\"Winter\",\"Spring\",\"Spring\",\"Spring\",\"Fall\",\"Summer\",\"Winter\",\"Summer\",\"Spring\",\"Fall\",\"Fall\",\"Winter\",\"Winter\",\"Spring\",\"Winter\",\"Winter\",\"Fall\",\"Spring\",\"Spring\",\"Spring\",\"Summer\",\"Spring\",\"Summer\",\"Winter\",\"Winter\",\"Winter\",\"Summer\",\"Winter\",\"Summer\",\"Winter\",\"Summer\",\"Summer\",\"Spring\",\"Spring\",\"Spring\",\"Summer\",\"Winter\",\"Summer\",\"Fall\",\"Spring\",\"Fall\",\"Winter\",\"Summer\",\"Fall\",\"Winter\",\"Spring\",\"Spring\",\"Spring\",\"Fall\",\"Winter\",\"Spring\",\"Summer\",\"Winter\",\"Winter\",\"Fall\",\"Summer\",\"Summer\",\"Fall\",\"Fall\",\"Fall\",\"Fall\",\"Spring\",\"Summer\",\"Winter\",\"Spring\",\"Spring\",\"Fall\",\"Fall\",\"Summer\",\"Spring\",\"Spring\",\"Fall\",\"Fall\",\"Fall\",\"Fall\",\"Spring\",\"Winter\",\"Winter\",\"Spring\",\"Spring\",\"Spring\",\"Winter\",\"Summer\",\"Spring\",\"Spring\",\"Summer\",\"Fall\",\"Spring\",\"Fall\",\"Winter\",\"Spring\",\"Fall\",\"Winter\",\"Winter\",\"Winter\",\"Winter\",\"Spring\",\"Fall\",\"Winter\",\"Fall\",\"Winter\",\"Spring\",\"Fall\",\"Spring\",\"Spring\",\"Spring\",\"Summer\",\"Summer\",\"Fall\",\"Fall\",\"Summer\",\"Winter\",\"Fall\",\"Spring\",\"Winter\",\"Fall\",\"Spring\",\"Summer\",\"Summer\",\"Fall\",\"Summer\",\"Fall\",\"Winter\",\"Fall\",\"Fall\",\"Fall\",\"Fall\",\"Spring\",\"Winter\",\"Summer\",\"Fall\",\"Fall\",\"Winter\",\"Winter\",\"Summer\",\"Fall\",\"Summer\",\"Spring\",\"Winter\",\"Fall\",\"Summer\",\"Summer\",\"Summer\",\"Fall\",\"Winter\",\"Fall\",\"Spring\",\"Spring\",\"Summer\",\"Spring\",\"Winter\",\"Fall\",\"Winter\",\"Winter\",\"Spring\",\"Summer\",\"Fall\",\"Spring\",\"Fall\",\"Summer\",\"Fall\",\"Fall\",\"Fall\",\"Summer\",\"Summer\",\"Winter\",\"Summer\",\"Winter\",\"Summer\",\"Fall\",\"Spring\",\"Summer\",\"Fall\",\"Spring\",\"Summer\",\"Summer\",\"Winter\",\"Winter\",\"Winter\",\"Winter\",\"Spring\",\"Summer\",\"Summer\",\"Spring\",\"Winter\",\"Spring\",\"Fall\",\"Winter\",\"Winter\",\"Spring\",\"Spring\",\"Spring\",\"Summer\",\"Summer\",\"Fall\",\"Summer\",\"Spring\",\"Winter\",\"Winter\",\"Spring\",\"Spring\",\"Spring\",\"Winter\",\"Spring\",\"Summer\",\"Winter\",\"Winter\",\"Summer\",\"Fall\",\"Winter\",\"Winter\",\"Fall\",\"Fall\",\"Winter\",\"Winter\",\"Fall\",\"Winter\",\"Spring\",\"Fall\",\"Winter\",\"Spring\",\"Winter\",\"Spring\",\"Winter\",\"Summer\",\"Spring\",\"Winter\",\"Spring\",\"Fall\",\"Spring\",\"Summer\",\"Fall\",\"Spring\",\"Spring\",\"Spring\",\"Fall\",\"Winter\",\"Summer\",\"Spring\",\"Summer\",\"Spring\",\"Summer\",\"Summer\",\"Spring\",\"Spring\",\"Winter\",\"Spring\",\"Winter\",\"Fall\",\"Spring\",\"Summer\",\"Winter\",\"Winter\",\"Fall\",\"Fall\",\"Summer\",\"Summer\",\"Spring\",\"Fall\",\"Fall\",\"Spring\",\"Fall\",\"Summer\",\"Fall\",\"Summer\",\"Fall\",\"Fall\",\"Winter\",\"Fall\",\"Fall\",\"Summer\",\"Summer\",\"Winter\",\"Summer\",\"Winter\",\"Spring\",\"Fall\",\"Fall\",\"Winter\",\"Summer\",\"Winter\",\"Spring\",\"Summer\",\"Summer\",\"Winter\",\"Spring\",\"Summer\",\"Fall\",\"Summer\",\"Spring\",\"Spring\",\"Winter\",\"Summer\",\"Spring\",\"Spring\",\"Summer\",\"Winter\",\"Winter\",\"Summer\",\"Fall\",\"Fall\",\"Winter\",\"Spring\",\"Summer\",\"Winter\",\"Winter\",\"Winter\",\"Winter\",\"Summer\",\"Fall\",\"Summer\",\"Spring\",\"Spring\",\"Summer\",\"Summer\",\"Summer\",\"Winter\",\"Fall\",\"Summer\",\"Fall\",\"Summer\",\"Spring\",\"Summer\",\"Fall\",\"Winter\",\"Summer\",\"Summer\",\"Spring\",\"Summer\",\"Summer\",\"Spring\",\"Spring\",\"Spring\",\"Spring\",\"Summer\",\"Summer\",\"Spring\",\"Fall\",\"Winter\",\"Winter\",\"Fall\",\"Winter\",\"Winter\",\"Spring\",\"Fall\",\"Summer\",\"Summer\",\"Spring\",\"Summer\",\"Spring\",\"Winter\",\"Summer\",\"Fall\",\"Spring\",\"Spring\",\"Winter\",\"Spring\",\"Summer\",\"Fall\",\"Fall\",\"Winter\",\"Winter\",\"Fall\",\"Summer\",\"Spring\",\"Winter\",\"Spring\",\"Fall\",\"Spring\",\"Spring\",\"Winter\",\"Winter\",\"Winter\",\"Summer\",\"Spring\",\"Spring\",\"Fall\",\"Spring\",\"Winter\",\"Spring\",\"Summer\",\"Spring\",\"Winter\",\"Summer\",\"Spring\",\"Spring\",\"Fall\",\"Summer\",\"Winter\",\"Fall\",\"Summer\",\"Summer\",\"Fall\",\"Winter\",\"Fall\",\"Summer\",\"Fall\",\"Winter\",\"Summer\",\"Summer\",\"Winter\",\"Summer\",\"Fall\",\"Winter\",\"Winter\",\"Fall\",\"Winter\",\"Fall\",\"Spring\",\"Fall\",\"Summer\",\"Spring\",\"Fall\",\"Spring\",\"Fall\",\"Summer\",\"Winter\",\"Fall\",\"Fall\",\"Fall\",\"Fall\",\"Summer\",\"Spring\",\"Winter\",\"Winter\",\"Fall\",\"Summer\",\"Summer\",\"Fall\",\"Summer\",\"Spring\",\"Spring\",\"Spring\",\"Fall\",\"Spring\",\"Fall\",\"Winter\",\"Summer\",\"Winter\",\"Winter\",\"Summer\",\"Spring\",\"Spring\",\"Winter\",\"Winter\",\"Fall\",\"Winter\",\"Spring\",\"Fall\",\"Fall\",\"Fall\",\"Winter\",\"Fall\",\"Winter\",\"Fall\",\"Winter\",\"Winter\",\"Fall\",\"Winter\",\"Winter\",\"Summer\",\"Winter\",\"Spring\",\"Winter\",\"Fall\",\"Spring\",\"Fall\",\"Spring\",\"Spring\",\"Fall\",\"Summer\",\"Winter\",\"Fall\",\"Spring\",\"Fall\",\"Spring\",\"Spring\",\"Fall\",\"Summer\",\"Fall\",\"Winter\",\"Spring\",\"Fall\",\"Winter\",\"Winter\",\"Winter\",\"Summer\",\"Fall\",\"Winter\",\"Fall\",\"Winter\",\"Summer\",\"Spring\",\"Winter\",\"Spring\",\"Winter\",\"Winter\",\"Spring\",\"Fall\",\"Fall\",\"Spring\",\"Fall\",\"Fall\",\"Winter\",\"Summer\",\"Winter\",\"Fall\",\"Summer\",\"Winter\",\"Winter\",\"Winter\",\"Spring\",\"Summer\",\"Winter\",\"Fall\",\"Fall\",\"Summer\",\"Fall\",\"Winter\",\"Fall\",\"Spring\",\"Winter\",\"Fall\",\"Spring\",\"Fall\",\"Spring\",\"Fall\",\"Summer\",\"Winter\",\"Spring\",\"Fall\",\"Winter\",\"Summer\",\"Fall\",\"Summer\",\"Fall\",\"Fall\",\"Fall\",\"Summer\",\"Fall\",\"Summer\",\"Fall\",\"Fall\",\"Summer\",\"Summer\",\"Summer\",\"Summer\",\"Spring\",\"Winter\",\"Spring\",\"Fall\",\"Winter\",\"Fall\",\"Winter\",\"Fall\",\"Spring\",\"Fall\",\"Summer\",\"Winter\",\"Spring\",\"Fall\",\"Winter\",\"Winter\",\"Winter\",\"Winter\",\"Fall\",\"Winter\",\"Winter\",\"Spring\",\"Winter\",\"Summer\",\"Spring\",\"Summer\",\"Summer\",\"Spring\",\"Summer\",\"Fall\",\"Winter\",\"Winter\",\"Fall\",\"Spring\",\"Spring\",\"Fall\",\"Winter\",\"Spring\",\"Spring\",\"Summer\",\"Spring\",\"Fall\",\"Spring\",\"Spring\",\"Spring\",\"Summer\",\"Spring\",\"Fall\",\"Fall\",\"Spring\",\"Spring\",\"Summer\",\"Winter\",\"Summer\",\"Fall\",\"Summer\",\"Summer\",\"Winter\",\"Fall\",\"Summer\",\"Winter\",\"Summer\",\"Summer\",\"Fall\",\"Spring\",\"Summer\",\"Summer\",\"Summer\",\"Summer\",\"Summer\",\"Fall\",\"Winter\",\"Winter\",\"Winter\",\"Fall\",\"Fall\",\"Summer\",\"Spring\",\"Spring\",\"Winter\",\"Spring\",\"Summer\",\"Summer\",\"Spring\",\"Summer\",\"Winter\",\"Fall\",\"Winter\",\"Winter\",\"Fall\",\"Fall\",\"Summer\",\"Spring\",\"Winter\",\"Fall\",\"Summer\",\"Summer\",\"Summer\",\"Winter\",\"Fall\",\"Fall\",\"Spring\",\"Summer\",\"Fall\",\"Fall\",\"Spring\",\"Summer\",\"Winter\",\"Fall\",\"Fall\",\"Spring\",\"Spring\",\"Summer\",\"Winter\",\"Fall\",\"Fall\",\"Spring\",\"Summer\",\"Spring\",\"Winter\",\"Summer\",\"Winter\",\"Winter\",\"Spring\",\"Spring\",\"Fall\",\"Winter\",\"Winter\",\"Fall\",\"Summer\",\"Summer\",\"Winter\",\"Spring\",\"Fall\",\"Summer\",\"Winter\",\"Fall\",\"Spring\",\"Spring\",\"Fall\",\"Summer\",\"Fall\",\"Winter\",\"Fall\",\"Spring\",\"Winter\",\"Winter\",\"Summer\",\"Winter\",\"Winter\",\"Fall\",\"Winter\",\"Spring\",\"Summer\",\"Fall\",\"Summer\",\"Spring\",\"Spring\",\"Summer\",\"Summer\",\"Summer\",\"Winter\",\"Fall\",\"Winter\",\"Spring\",\"Fall\",\"Spring\",\"Summer\",\"Summer\",\"Winter\",\"Winter\",\"Summer\",\"Winter\",\"Spring\",\"Summer\",\"Summer\",\"Fall\",\"Winter\",\"Fall\",\"Winter\",\"Winter\",\"Summer\",\"Summer\",\"Spring\",\"Summer\",\"Summer\",\"Winter\",\"Winter\",\"Fall\",\"Summer\",\"Fall\",\"Fall\",\"Spring\",\"Summer\",\"Summer\",\"Fall\",\"Spring\",\"Fall\",\"Winter\",\"Spring\",\"Spring\",\"Fall\",\"Spring\",\"Winter\",\"Fall\",\"Fall\",\"Fall\",\"Summer\",\"Spring\",\"Fall\",\"Spring\",\"Spring\",\"Spring\",\"Fall\",\"Winter\",\"Spring\",\"Summer\",\"Fall\",\"Winter\",\"Fall\",\"Summer\",\"Spring\",\"Summer\",\"Spring\",\"Winter\",\"Spring\",\"Summer\",\"Spring\",\"Fall\",\"Summer\",\"Winter\",\"Summer\",\"Winter\",\"Winter\",\"Fall\",\"Winter\",\"Winter\",\"Fall\",\"Spring\",\"Summer\",\"Spring\",\"Winter\",\"Fall\",\"Winter\",\"Winter\",\"Spring\",\"Summer\",\"Spring\",\"Summer\",\"Fall\",\"Fall\",\"Fall\",\"Fall\",\"Spring\",\"Fall\",\"Winter\",\"Winter\",\"Spring\",\"Fall\",\"Winter\",\"Fall\",\"Summer\",\"Fall\",\"Spring\",\"Winter\",\"Winter\",\"Summer\",\"Winter\",\"Spring\",\"Winter\",\"Spring\",\"Winter\",\"Spring\",\"Summer\",\"Summer\",\"Winter\",\"Spring\",\"Spring\",\"Summer\",\"Winter\",\"Spring\",\"Winter\",\"Fall\",\"Fall\",\"Fall\",\"Summer\",\"Spring\",\"Spring\",\"Spring\",\"Spring\",\"Spring\",\"Winter\",\"Spring\",\"Winter\",\"Fall\",\"Spring\",\"Summer\",\"Summer\",\"Fall\",\"Summer\",\"Winter\",\"Spring\",\"Winter\",\"Spring\",\"Spring\",\"Spring\",\"Fall\",\"Summer\",\"Summer\",\"Fall\",\"Fall\",\"Spring\",\"Winter\",\"Summer\",\"Summer\",\"Spring\",\"Spring\",\"Summer\",\"Spring\",\"Fall\",\"Winter\",\"Summer\",\"Spring\",\"Fall\",\"Fall\",\"Fall\",\"Spring\",\"Winter\",\"Winter\",\"Fall\",\"Summer\",\"Fall\",\"Summer\",\"Summer\",\"Fall\",\"Winter\",\"Winter\",\"Summer\",\"Spring\",\"Spring\",\"Fall\",\"Winter\",\"Spring\",\"Spring\",\"Summer\",\"Spring\",\"Spring\",\"Summer\",\"Spring\",\"Spring\",\"Spring\",\"Summer\",\"Summer\",\"Spring\",\"Fall\",\"Fall\",\"Fall\",\"Fall\",\"Fall\",\"Summer\",\"Fall\",\"Spring\",\"Summer\",\"Fall\",\"Spring\",\"Winter\",\"Winter\",\"Fall\",\"Fall\",\"Winter\",\"Summer\",\"Summer\",\"Fall\",\"Winter\",\"Fall\",\"Winter\",\"Fall\",\"Winter\",\"Summer\",\"Summer\",\"Winter\",\"Fall\",\"Spring\",\"Spring\",\"Winter\",\"Fall\",\"Summer\",\"Winter\",\"Spring\",\"Summer\",\"Spring\",\"Fall\",\"Summer\",\"Fall\",\"Winter\",\"Summer\",\"Spring\",\"Winter\",\"Winter\",\"Fall\",\"Summer\",\"Spring\",\"Fall\",\"Spring\",\"Winter\",\"Fall\",\"Spring\",\"Winter\",\"Fall\",\"Fall\",\"Winter\",\"Winter\",\"Spring\",\"Summer\",\"Fall\",\"Fall\",\"Winter\",\"Fall\",\"Summer\",\"Fall\",\"Winter\",\"Summer\",\"Fall\",\"Summer\",\"Winter\",\"Winter\",\"Spring\",\"Fall\",\"Fall\",\"Summer\",\"Winter\",\"Fall\",\"Fall\",\"Winter\",\"Spring\",\"Summer\",\"Spring\",\"Summer\",\"Spring\",\"Fall\",\"Fall\",\"Summer\",\"Spring\",\"Summer\",\"Winter\",\"Fall\",\"Fall\",\"Winter\",\"Spring\",\"Fall\",\"Summer\",\"Spring\",\"Spring\",\"Fall\",\"Winter\",\"Summer\",\"Spring\",\"Fall\",\"Fall\",\"Fall\",\"Summer\",\"Fall\",\"Spring\",\"Spring\",\"Winter\",\"Fall\",\"Fall\",\"Summer\",\"Fall\",\"Summer\",\"Fall\",\"Fall\",\"Fall\",\"Spring\",\"Winter\",\"Winter\",\"Fall\",\"Summer\",\"Winter\",\"Spring\",\"Summer\",\"Spring\",\"Spring\",\"Fall\",\"Spring\",\"Spring\",\"Spring\",\"Winter\",\"Spring\",\"Fall\",\"Summer\",\"Spring\",\"Fall\",\"Fall\",\"Summer\",\"Spring\",\"Summer\",\"Spring\",\"Fall\",\"Winter\",\"Fall\",\"Fall\",\"Winter\",\"Winter\",\"Summer\",\"Fall\",\"Spring\",\"Fall\",\"Spring\",\"Spring\",\"Fall\",\"Summer\",\"Fall\",\"Winter\",\"Fall\",\"Summer\",\"Fall\",\"Summer\",\"Winter\",\"Summer\",\"Summer\",\"Winter\",\"Fall\",\"Summer\",\"Winter\",\"Spring\",\"Spring\",\"Fall\",\"Fall\",\"Spring\",\"Fall\",\"Winter\",\"Spring\",\"Summer\",\"Winter\",\"Winter\",\"Fall\",\"Fall\",\"Spring\",\"Summer\",\"Summer\",\"Spring\",\"Summer\",\"Fall\",\"Summer\",\"Spring\",\"Fall\",\"Summer\",\"Winter\",\"Winter\",\"Fall\",\"Spring\",\"Spring\",\"Spring\",\"Fall\",\"Fall\",\"Spring\",\"Spring\",\"Winter\",\"Winter\",\"Fall\",\"Winter\",\"Spring\",\"Summer\",\"Winter\",\"Fall\",\"Summer\",\"Fall\",\"Winter\",\"Spring\",\"Winter\",\"Summer\",\"Spring\",\"Summer\",\"Summer\",\"Fall\",\"Summer\",\"Summer\",\"Spring\",\"Spring\",\"Summer\",\"Spring\",\"Winter\",\"Summer\",\"Winter\",\"Winter\",\"Spring\",\"Spring\",\"Summer\",\"Spring\",\"Spring\",\"Fall\",\"Winter\",\"Winter\",\"Fall\",\"Winter\",\"Summer\",\"Fall\",\"Winter\",\"Winter\",\"Summer\",\"Summer\",\"Fall\",\"Fall\",\"Spring\",\"Summer\",\"Summer\",\"Summer\",\"Winter\",\"Fall\",\"Summer\",\"Spring\",\"Winter\",\"Summer\",\"Winter\",\"Spring\",\"Winter\",\"Summer\",\"Winter\",\"Spring\",\"Fall\",\"Fall\",\"Spring\",\"Summer\",\"Summer\",\"Winter\",\"Fall\",\"Spring\",\"Summer\",\"Winter\",\"Winter\",\"Spring\",\"Fall\",\"Fall\",\"Fall\",\"Winter\",\"Summer\",\"Spring\",\"Spring\",\"Spring\",\"Winter\",\"Winter\",\"Summer\",\"Fall\",\"Spring\",\"Summer\",\"Spring\",\"Spring\",\"Summer\",\"Spring\"],\"xaxis\":\"x\",\"yaxis\":\"y\",\"type\":\"histogram\"}],                        {\"template\":{\"data\":{\"histogram2dcontour\":[{\"type\":\"histogram2dcontour\",\"colorbar\":{\"outlinewidth\":0,\"ticks\":\"\"},\"colorscale\":[[0.0,\"#0d0887\"],[0.1111111111111111,\"#46039f\"],[0.2222222222222222,\"#7201a8\"],[0.3333333333333333,\"#9c179e\"],[0.4444444444444444,\"#bd3786\"],[0.5555555555555556,\"#d8576b\"],[0.6666666666666666,\"#ed7953\"],[0.7777777777777778,\"#fb9f3a\"],[0.8888888888888888,\"#fdca26\"],[1.0,\"#f0f921\"]]}],\"choropleth\":[{\"type\":\"choropleth\",\"colorbar\":{\"outlinewidth\":0,\"ticks\":\"\"}}],\"histogram2d\":[{\"type\":\"histogram2d\",\"colorbar\":{\"outlinewidth\":0,\"ticks\":\"\"},\"colorscale\":[[0.0,\"#0d0887\"],[0.1111111111111111,\"#46039f\"],[0.2222222222222222,\"#7201a8\"],[0.3333333333333333,\"#9c179e\"],[0.4444444444444444,\"#bd3786\"],[0.5555555555555556,\"#d8576b\"],[0.6666666666666666,\"#ed7953\"],[0.7777777777777778,\"#fb9f3a\"],[0.8888888888888888,\"#fdca26\"],[1.0,\"#f0f921\"]]}],\"heatmap\":[{\"type\":\"heatmap\",\"colorbar\":{\"outlinewidth\":0,\"ticks\":\"\"},\"colorscale\":[[0.0,\"#0d0887\"],[0.1111111111111111,\"#46039f\"],[0.2222222222222222,\"#7201a8\"],[0.3333333333333333,\"#9c179e\"],[0.4444444444444444,\"#bd3786\"],[0.5555555555555556,\"#d8576b\"],[0.6666666666666666,\"#ed7953\"],[0.7777777777777778,\"#fb9f3a\"],[0.8888888888888888,\"#fdca26\"],[1.0,\"#f0f921\"]]}],\"heatmapgl\":[{\"type\":\"heatmapgl\",\"colorbar\":{\"outlinewidth\":0,\"ticks\":\"\"},\"colorscale\":[[0.0,\"#0d0887\"],[0.1111111111111111,\"#46039f\"],[0.2222222222222222,\"#7201a8\"],[0.3333333333333333,\"#9c179e\"],[0.4444444444444444,\"#bd3786\"],[0.5555555555555556,\"#d8576b\"],[0.6666666666666666,\"#ed7953\"],[0.7777777777777778,\"#fb9f3a\"],[0.8888888888888888,\"#fdca26\"],[1.0,\"#f0f921\"]]}],\"contourcarpet\":[{\"type\":\"contourcarpet\",\"colorbar\":{\"outlinewidth\":0,\"ticks\":\"\"}}],\"contour\":[{\"type\":\"contour\",\"colorbar\":{\"outlinewidth\":0,\"ticks\":\"\"},\"colorscale\":[[0.0,\"#0d0887\"],[0.1111111111111111,\"#46039f\"],[0.2222222222222222,\"#7201a8\"],[0.3333333333333333,\"#9c179e\"],[0.4444444444444444,\"#bd3786\"],[0.5555555555555556,\"#d8576b\"],[0.6666666666666666,\"#ed7953\"],[0.7777777777777778,\"#fb9f3a\"],[0.8888888888888888,\"#fdca26\"],[1.0,\"#f0f921\"]]}],\"surface\":[{\"type\":\"surface\",\"colorbar\":{\"outlinewidth\":0,\"ticks\":\"\"},\"colorscale\":[[0.0,\"#0d0887\"],[0.1111111111111111,\"#46039f\"],[0.2222222222222222,\"#7201a8\"],[0.3333333333333333,\"#9c179e\"],[0.4444444444444444,\"#bd3786\"],[0.5555555555555556,\"#d8576b\"],[0.6666666666666666,\"#ed7953\"],[0.7777777777777778,\"#fb9f3a\"],[0.8888888888888888,\"#fdca26\"],[1.0,\"#f0f921\"]]}],\"mesh3d\":[{\"type\":\"mesh3d\",\"colorbar\":{\"outlinewidth\":0,\"ticks\":\"\"}}],\"scatter\":[{\"fillpattern\":{\"fillmode\":\"overlay\",\"size\":10,\"solidity\":0.2},\"type\":\"scatter\"}],\"parcoords\":[{\"type\":\"parcoords\",\"line\":{\"colorbar\":{\"outlinewidth\":0,\"ticks\":\"\"}}}],\"scatterpolargl\":[{\"type\":\"scatterpolargl\",\"marker\":{\"colorbar\":{\"outlinewidth\":0,\"ticks\":\"\"}}}],\"bar\":[{\"error_x\":{\"color\":\"#2a3f5f\"},\"error_y\":{\"color\":\"#2a3f5f\"},\"marker\":{\"line\":{\"color\":\"#E5ECF6\",\"width\":0.5},\"pattern\":{\"fillmode\":\"overlay\",\"size\":10,\"solidity\":0.2}},\"type\":\"bar\"}],\"scattergeo\":[{\"type\":\"scattergeo\",\"marker\":{\"colorbar\":{\"outlinewidth\":0,\"ticks\":\"\"}}}],\"scatterpolar\":[{\"type\":\"scatterpolar\",\"marker\":{\"colorbar\":{\"outlinewidth\":0,\"ticks\":\"\"}}}],\"histogram\":[{\"marker\":{\"pattern\":{\"fillmode\":\"overlay\",\"size\":10,\"solidity\":0.2}},\"type\":\"histogram\"}],\"scattergl\":[{\"type\":\"scattergl\",\"marker\":{\"colorbar\":{\"outlinewidth\":0,\"ticks\":\"\"}}}],\"scatter3d\":[{\"type\":\"scatter3d\",\"line\":{\"colorbar\":{\"outlinewidth\":0,\"ticks\":\"\"}},\"marker\":{\"colorbar\":{\"outlinewidth\":0,\"ticks\":\"\"}}}],\"scattermapbox\":[{\"type\":\"scattermapbox\",\"marker\":{\"colorbar\":{\"outlinewidth\":0,\"ticks\":\"\"}}}],\"scatterternary\":[{\"type\":\"scatterternary\",\"marker\":{\"colorbar\":{\"outlinewidth\":0,\"ticks\":\"\"}}}],\"scattercarpet\":[{\"type\":\"scattercarpet\",\"marker\":{\"colorbar\":{\"outlinewidth\":0,\"ticks\":\"\"}}}],\"carpet\":[{\"aaxis\":{\"endlinecolor\":\"#2a3f5f\",\"gridcolor\":\"white\",\"linecolor\":\"white\",\"minorgridcolor\":\"white\",\"startlinecolor\":\"#2a3f5f\"},\"baxis\":{\"endlinecolor\":\"#2a3f5f\",\"gridcolor\":\"white\",\"linecolor\":\"white\",\"minorgridcolor\":\"white\",\"startlinecolor\":\"#2a3f5f\"},\"type\":\"carpet\"}],\"table\":[{\"cells\":{\"fill\":{\"color\":\"#EBF0F8\"},\"line\":{\"color\":\"white\"}},\"header\":{\"fill\":{\"color\":\"#C8D4E3\"},\"line\":{\"color\":\"white\"}},\"type\":\"table\"}],\"barpolar\":[{\"marker\":{\"line\":{\"color\":\"#E5ECF6\",\"width\":0.5},\"pattern\":{\"fillmode\":\"overlay\",\"size\":10,\"solidity\":0.2}},\"type\":\"barpolar\"}],\"pie\":[{\"automargin\":true,\"type\":\"pie\"}]},\"layout\":{\"autotypenumbers\":\"strict\",\"colorway\":[\"#636efa\",\"#EF553B\",\"#00cc96\",\"#ab63fa\",\"#FFA15A\",\"#19d3f3\",\"#FF6692\",\"#B6E880\",\"#FF97FF\",\"#FECB52\"],\"font\":{\"color\":\"#2a3f5f\"},\"hovermode\":\"closest\",\"hoverlabel\":{\"align\":\"left\"},\"paper_bgcolor\":\"white\",\"plot_bgcolor\":\"#E5ECF6\",\"polar\":{\"bgcolor\":\"#E5ECF6\",\"angularaxis\":{\"gridcolor\":\"white\",\"linecolor\":\"white\",\"ticks\":\"\"},\"radialaxis\":{\"gridcolor\":\"white\",\"linecolor\":\"white\",\"ticks\":\"\"}},\"ternary\":{\"bgcolor\":\"#E5ECF6\",\"aaxis\":{\"gridcolor\":\"white\",\"linecolor\":\"white\",\"ticks\":\"\"},\"baxis\":{\"gridcolor\":\"white\",\"linecolor\":\"white\",\"ticks\":\"\"},\"caxis\":{\"gridcolor\":\"white\",\"linecolor\":\"white\",\"ticks\":\"\"}},\"coloraxis\":{\"colorbar\":{\"outlinewidth\":0,\"ticks\":\"\"}},\"colorscale\":{\"sequential\":[[0.0,\"#0d0887\"],[0.1111111111111111,\"#46039f\"],[0.2222222222222222,\"#7201a8\"],[0.3333333333333333,\"#9c179e\"],[0.4444444444444444,\"#bd3786\"],[0.5555555555555556,\"#d8576b\"],[0.6666666666666666,\"#ed7953\"],[0.7777777777777778,\"#fb9f3a\"],[0.8888888888888888,\"#fdca26\"],[1.0,\"#f0f921\"]],\"sequentialminus\":[[0.0,\"#0d0887\"],[0.1111111111111111,\"#46039f\"],[0.2222222222222222,\"#7201a8\"],[0.3333333333333333,\"#9c179e\"],[0.4444444444444444,\"#bd3786\"],[0.5555555555555556,\"#d8576b\"],[0.6666666666666666,\"#ed7953\"],[0.7777777777777778,\"#fb9f3a\"],[0.8888888888888888,\"#fdca26\"],[1.0,\"#f0f921\"]],\"diverging\":[[0,\"#8e0152\"],[0.1,\"#c51b7d\"],[0.2,\"#de77ae\"],[0.3,\"#f1b6da\"],[0.4,\"#fde0ef\"],[0.5,\"#f7f7f7\"],[0.6,\"#e6f5d0\"],[0.7,\"#b8e186\"],[0.8,\"#7fbc41\"],[0.9,\"#4d9221\"],[1,\"#276419\"]]},\"xaxis\":{\"gridcolor\":\"white\",\"linecolor\":\"white\",\"ticks\":\"\",\"title\":{\"standoff\":15},\"zerolinecolor\":\"white\",\"automargin\":true,\"zerolinewidth\":2},\"yaxis\":{\"gridcolor\":\"white\",\"linecolor\":\"white\",\"ticks\":\"\",\"title\":{\"standoff\":15},\"zerolinecolor\":\"white\",\"automargin\":true,\"zerolinewidth\":2},\"scene\":{\"xaxis\":{\"backgroundcolor\":\"#E5ECF6\",\"gridcolor\":\"white\",\"linecolor\":\"white\",\"showbackground\":true,\"ticks\":\"\",\"zerolinecolor\":\"white\",\"gridwidth\":2},\"yaxis\":{\"backgroundcolor\":\"#E5ECF6\",\"gridcolor\":\"white\",\"linecolor\":\"white\",\"showbackground\":true,\"ticks\":\"\",\"zerolinecolor\":\"white\",\"gridwidth\":2},\"zaxis\":{\"backgroundcolor\":\"#E5ECF6\",\"gridcolor\":\"white\",\"linecolor\":\"white\",\"showbackground\":true,\"ticks\":\"\",\"zerolinecolor\":\"white\",\"gridwidth\":2}},\"shapedefaults\":{\"line\":{\"color\":\"#2a3f5f\"}},\"annotationdefaults\":{\"arrowcolor\":\"#2a3f5f\",\"arrowhead\":0,\"arrowwidth\":1},\"geo\":{\"bgcolor\":\"white\",\"landcolor\":\"#E5ECF6\",\"subunitcolor\":\"white\",\"showland\":true,\"showlakes\":true,\"lakecolor\":\"white\"},\"title\":{\"x\":0.05},\"mapbox\":{\"style\":\"light\"}}},\"xaxis\":{\"anchor\":\"y\",\"domain\":[0.0,1.0],\"title\":{\"text\":\"Season\"}},\"yaxis\":{\"anchor\":\"x\",\"domain\":[0.0,1.0],\"title\":{\"text\":\"count\"},\"range\":[200,1500]},\"legend\":{\"tracegroupgap\":0},\"margin\":{\"t\":60},\"barmode\":\"relative\"},                        {\"responsive\": true}                    ).then(function(){\n",
              "                            \n",
              "var gd = document.getElementById('347e2e5a-92d5-438b-a82b-3013333ab071');\n",
              "var x = new MutationObserver(function (mutations, observer) {{\n",
              "        var display = window.getComputedStyle(gd).display;\n",
              "        if (!display || display === 'none') {{\n",
              "            console.log([gd, 'removed!']);\n",
              "            Plotly.purge(gd);\n",
              "            observer.disconnect();\n",
              "        }}\n",
              "}});\n",
              "\n",
              "// Listen for the removal of the full notebook cells\n",
              "var notebookContainer = gd.closest('#notebook-container');\n",
              "if (notebookContainer) {{\n",
              "    x.observe(notebookContainer, {childList: true});\n",
              "}}\n",
              "\n",
              "// Listen for the clearing of the current output cell\n",
              "var outputEl = gd.closest('.output');\n",
              "if (outputEl) {{\n",
              "    x.observe(outputEl, {childList: true});\n",
              "}}\n",
              "\n",
              "                        })                };                            </script>        </div>\n",
              "</body>\n",
              "</html>"
            ]
          },
          "metadata": {}
        }
      ]
    },
    {
      "cell_type": "markdown",
      "source": [
        "# **6 What is the average rating given by customers for each product category?**"
      ],
      "metadata": {
        "id": "8BeqLrW4Lcj5"
      }
    },
    {
      "cell_type": "code",
      "source": [
        "shop_groupby = df.groupby('Category')['Review Rating'].mean().reset_index()"
      ],
      "metadata": {
        "id": "GA5nnn-9Ll9O"
      },
      "execution_count": 93,
      "outputs": []
    },
    {
      "cell_type": "code",
      "source": [
        "fig = px.bar(shop_groupby ,x= 'Category' , y = 'Review Rating' )\n",
        "fig.show()"
      ],
      "metadata": {
        "colab": {
          "base_uri": "https://localhost:8080/",
          "height": 542
        },
        "id": "s-VcPYZ4LhGw",
        "outputId": "1bb42116-b05b-4d22-9e7e-091a254c1fa0"
      },
      "execution_count": 94,
      "outputs": [
        {
          "output_type": "display_data",
          "data": {
            "text/html": [
              "<html>\n",
              "<head><meta charset=\"utf-8\" /></head>\n",
              "<body>\n",
              "    <div>            <script src=\"https://cdnjs.cloudflare.com/ajax/libs/mathjax/2.7.5/MathJax.js?config=TeX-AMS-MML_SVG\"></script><script type=\"text/javascript\">if (window.MathJax && window.MathJax.Hub && window.MathJax.Hub.Config) {window.MathJax.Hub.Config({SVG: {font: \"STIX-Web\"}});}</script>                <script type=\"text/javascript\">window.PlotlyConfig = {MathJaxConfig: 'local'};</script>\n",
              "        <script charset=\"utf-8\" src=\"https://cdn.plot.ly/plotly-2.35.2.min.js\"></script>                <div id=\"991f737b-20f2-414f-8dc1-095992f4b802\" class=\"plotly-graph-div\" style=\"height:525px; width:100%;\"></div>            <script type=\"text/javascript\">                                    window.PLOTLYENV=window.PLOTLYENV || {};                                    if (document.getElementById(\"991f737b-20f2-414f-8dc1-095992f4b802\")) {                    Plotly.newPlot(                        \"991f737b-20f2-414f-8dc1-095992f4b802\",                        [{\"alignmentgroup\":\"True\",\"hovertemplate\":\"Category=%{x}\\u003cbr\\u003eReview Rating=%{y}\\u003cextra\\u003e\\u003c\\u002fextra\\u003e\",\"legendgroup\":\"\",\"marker\":{\"color\":\"#636efa\",\"pattern\":{\"shape\":\"\"}},\"name\":\"\",\"offsetgroup\":\"\",\"orientation\":\"v\",\"showlegend\":false,\"textposition\":\"auto\",\"x\":[\"Accessories\",\"Clothing\",\"Footwear\",\"Outerwear\"],\"xaxis\":\"x\",\"y\":[3.768629032258065,3.7231433506044906,3.790651085141903,3.746913580246914],\"yaxis\":\"y\",\"type\":\"bar\"}],                        {\"template\":{\"data\":{\"histogram2dcontour\":[{\"type\":\"histogram2dcontour\",\"colorbar\":{\"outlinewidth\":0,\"ticks\":\"\"},\"colorscale\":[[0.0,\"#0d0887\"],[0.1111111111111111,\"#46039f\"],[0.2222222222222222,\"#7201a8\"],[0.3333333333333333,\"#9c179e\"],[0.4444444444444444,\"#bd3786\"],[0.5555555555555556,\"#d8576b\"],[0.6666666666666666,\"#ed7953\"],[0.7777777777777778,\"#fb9f3a\"],[0.8888888888888888,\"#fdca26\"],[1.0,\"#f0f921\"]]}],\"choropleth\":[{\"type\":\"choropleth\",\"colorbar\":{\"outlinewidth\":0,\"ticks\":\"\"}}],\"histogram2d\":[{\"type\":\"histogram2d\",\"colorbar\":{\"outlinewidth\":0,\"ticks\":\"\"},\"colorscale\":[[0.0,\"#0d0887\"],[0.1111111111111111,\"#46039f\"],[0.2222222222222222,\"#7201a8\"],[0.3333333333333333,\"#9c179e\"],[0.4444444444444444,\"#bd3786\"],[0.5555555555555556,\"#d8576b\"],[0.6666666666666666,\"#ed7953\"],[0.7777777777777778,\"#fb9f3a\"],[0.8888888888888888,\"#fdca26\"],[1.0,\"#f0f921\"]]}],\"heatmap\":[{\"type\":\"heatmap\",\"colorbar\":{\"outlinewidth\":0,\"ticks\":\"\"},\"colorscale\":[[0.0,\"#0d0887\"],[0.1111111111111111,\"#46039f\"],[0.2222222222222222,\"#7201a8\"],[0.3333333333333333,\"#9c179e\"],[0.4444444444444444,\"#bd3786\"],[0.5555555555555556,\"#d8576b\"],[0.6666666666666666,\"#ed7953\"],[0.7777777777777778,\"#fb9f3a\"],[0.8888888888888888,\"#fdca26\"],[1.0,\"#f0f921\"]]}],\"heatmapgl\":[{\"type\":\"heatmapgl\",\"colorbar\":{\"outlinewidth\":0,\"ticks\":\"\"},\"colorscale\":[[0.0,\"#0d0887\"],[0.1111111111111111,\"#46039f\"],[0.2222222222222222,\"#7201a8\"],[0.3333333333333333,\"#9c179e\"],[0.4444444444444444,\"#bd3786\"],[0.5555555555555556,\"#d8576b\"],[0.6666666666666666,\"#ed7953\"],[0.7777777777777778,\"#fb9f3a\"],[0.8888888888888888,\"#fdca26\"],[1.0,\"#f0f921\"]]}],\"contourcarpet\":[{\"type\":\"contourcarpet\",\"colorbar\":{\"outlinewidth\":0,\"ticks\":\"\"}}],\"contour\":[{\"type\":\"contour\",\"colorbar\":{\"outlinewidth\":0,\"ticks\":\"\"},\"colorscale\":[[0.0,\"#0d0887\"],[0.1111111111111111,\"#46039f\"],[0.2222222222222222,\"#7201a8\"],[0.3333333333333333,\"#9c179e\"],[0.4444444444444444,\"#bd3786\"],[0.5555555555555556,\"#d8576b\"],[0.6666666666666666,\"#ed7953\"],[0.7777777777777778,\"#fb9f3a\"],[0.8888888888888888,\"#fdca26\"],[1.0,\"#f0f921\"]]}],\"surface\":[{\"type\":\"surface\",\"colorbar\":{\"outlinewidth\":0,\"ticks\":\"\"},\"colorscale\":[[0.0,\"#0d0887\"],[0.1111111111111111,\"#46039f\"],[0.2222222222222222,\"#7201a8\"],[0.3333333333333333,\"#9c179e\"],[0.4444444444444444,\"#bd3786\"],[0.5555555555555556,\"#d8576b\"],[0.6666666666666666,\"#ed7953\"],[0.7777777777777778,\"#fb9f3a\"],[0.8888888888888888,\"#fdca26\"],[1.0,\"#f0f921\"]]}],\"mesh3d\":[{\"type\":\"mesh3d\",\"colorbar\":{\"outlinewidth\":0,\"ticks\":\"\"}}],\"scatter\":[{\"fillpattern\":{\"fillmode\":\"overlay\",\"size\":10,\"solidity\":0.2},\"type\":\"scatter\"}],\"parcoords\":[{\"type\":\"parcoords\",\"line\":{\"colorbar\":{\"outlinewidth\":0,\"ticks\":\"\"}}}],\"scatterpolargl\":[{\"type\":\"scatterpolargl\",\"marker\":{\"colorbar\":{\"outlinewidth\":0,\"ticks\":\"\"}}}],\"bar\":[{\"error_x\":{\"color\":\"#2a3f5f\"},\"error_y\":{\"color\":\"#2a3f5f\"},\"marker\":{\"line\":{\"color\":\"#E5ECF6\",\"width\":0.5},\"pattern\":{\"fillmode\":\"overlay\",\"size\":10,\"solidity\":0.2}},\"type\":\"bar\"}],\"scattergeo\":[{\"type\":\"scattergeo\",\"marker\":{\"colorbar\":{\"outlinewidth\":0,\"ticks\":\"\"}}}],\"scatterpolar\":[{\"type\":\"scatterpolar\",\"marker\":{\"colorbar\":{\"outlinewidth\":0,\"ticks\":\"\"}}}],\"histogram\":[{\"marker\":{\"pattern\":{\"fillmode\":\"overlay\",\"size\":10,\"solidity\":0.2}},\"type\":\"histogram\"}],\"scattergl\":[{\"type\":\"scattergl\",\"marker\":{\"colorbar\":{\"outlinewidth\":0,\"ticks\":\"\"}}}],\"scatter3d\":[{\"type\":\"scatter3d\",\"line\":{\"colorbar\":{\"outlinewidth\":0,\"ticks\":\"\"}},\"marker\":{\"colorbar\":{\"outlinewidth\":0,\"ticks\":\"\"}}}],\"scattermapbox\":[{\"type\":\"scattermapbox\",\"marker\":{\"colorbar\":{\"outlinewidth\":0,\"ticks\":\"\"}}}],\"scatterternary\":[{\"type\":\"scatterternary\",\"marker\":{\"colorbar\":{\"outlinewidth\":0,\"ticks\":\"\"}}}],\"scattercarpet\":[{\"type\":\"scattercarpet\",\"marker\":{\"colorbar\":{\"outlinewidth\":0,\"ticks\":\"\"}}}],\"carpet\":[{\"aaxis\":{\"endlinecolor\":\"#2a3f5f\",\"gridcolor\":\"white\",\"linecolor\":\"white\",\"minorgridcolor\":\"white\",\"startlinecolor\":\"#2a3f5f\"},\"baxis\":{\"endlinecolor\":\"#2a3f5f\",\"gridcolor\":\"white\",\"linecolor\":\"white\",\"minorgridcolor\":\"white\",\"startlinecolor\":\"#2a3f5f\"},\"type\":\"carpet\"}],\"table\":[{\"cells\":{\"fill\":{\"color\":\"#EBF0F8\"},\"line\":{\"color\":\"white\"}},\"header\":{\"fill\":{\"color\":\"#C8D4E3\"},\"line\":{\"color\":\"white\"}},\"type\":\"table\"}],\"barpolar\":[{\"marker\":{\"line\":{\"color\":\"#E5ECF6\",\"width\":0.5},\"pattern\":{\"fillmode\":\"overlay\",\"size\":10,\"solidity\":0.2}},\"type\":\"barpolar\"}],\"pie\":[{\"automargin\":true,\"type\":\"pie\"}]},\"layout\":{\"autotypenumbers\":\"strict\",\"colorway\":[\"#636efa\",\"#EF553B\",\"#00cc96\",\"#ab63fa\",\"#FFA15A\",\"#19d3f3\",\"#FF6692\",\"#B6E880\",\"#FF97FF\",\"#FECB52\"],\"font\":{\"color\":\"#2a3f5f\"},\"hovermode\":\"closest\",\"hoverlabel\":{\"align\":\"left\"},\"paper_bgcolor\":\"white\",\"plot_bgcolor\":\"#E5ECF6\",\"polar\":{\"bgcolor\":\"#E5ECF6\",\"angularaxis\":{\"gridcolor\":\"white\",\"linecolor\":\"white\",\"ticks\":\"\"},\"radialaxis\":{\"gridcolor\":\"white\",\"linecolor\":\"white\",\"ticks\":\"\"}},\"ternary\":{\"bgcolor\":\"#E5ECF6\",\"aaxis\":{\"gridcolor\":\"white\",\"linecolor\":\"white\",\"ticks\":\"\"},\"baxis\":{\"gridcolor\":\"white\",\"linecolor\":\"white\",\"ticks\":\"\"},\"caxis\":{\"gridcolor\":\"white\",\"linecolor\":\"white\",\"ticks\":\"\"}},\"coloraxis\":{\"colorbar\":{\"outlinewidth\":0,\"ticks\":\"\"}},\"colorscale\":{\"sequential\":[[0.0,\"#0d0887\"],[0.1111111111111111,\"#46039f\"],[0.2222222222222222,\"#7201a8\"],[0.3333333333333333,\"#9c179e\"],[0.4444444444444444,\"#bd3786\"],[0.5555555555555556,\"#d8576b\"],[0.6666666666666666,\"#ed7953\"],[0.7777777777777778,\"#fb9f3a\"],[0.8888888888888888,\"#fdca26\"],[1.0,\"#f0f921\"]],\"sequentialminus\":[[0.0,\"#0d0887\"],[0.1111111111111111,\"#46039f\"],[0.2222222222222222,\"#7201a8\"],[0.3333333333333333,\"#9c179e\"],[0.4444444444444444,\"#bd3786\"],[0.5555555555555556,\"#d8576b\"],[0.6666666666666666,\"#ed7953\"],[0.7777777777777778,\"#fb9f3a\"],[0.8888888888888888,\"#fdca26\"],[1.0,\"#f0f921\"]],\"diverging\":[[0,\"#8e0152\"],[0.1,\"#c51b7d\"],[0.2,\"#de77ae\"],[0.3,\"#f1b6da\"],[0.4,\"#fde0ef\"],[0.5,\"#f7f7f7\"],[0.6,\"#e6f5d0\"],[0.7,\"#b8e186\"],[0.8,\"#7fbc41\"],[0.9,\"#4d9221\"],[1,\"#276419\"]]},\"xaxis\":{\"gridcolor\":\"white\",\"linecolor\":\"white\",\"ticks\":\"\",\"title\":{\"standoff\":15},\"zerolinecolor\":\"white\",\"automargin\":true,\"zerolinewidth\":2},\"yaxis\":{\"gridcolor\":\"white\",\"linecolor\":\"white\",\"ticks\":\"\",\"title\":{\"standoff\":15},\"zerolinecolor\":\"white\",\"automargin\":true,\"zerolinewidth\":2},\"scene\":{\"xaxis\":{\"backgroundcolor\":\"#E5ECF6\",\"gridcolor\":\"white\",\"linecolor\":\"white\",\"showbackground\":true,\"ticks\":\"\",\"zerolinecolor\":\"white\",\"gridwidth\":2},\"yaxis\":{\"backgroundcolor\":\"#E5ECF6\",\"gridcolor\":\"white\",\"linecolor\":\"white\",\"showbackground\":true,\"ticks\":\"\",\"zerolinecolor\":\"white\",\"gridwidth\":2},\"zaxis\":{\"backgroundcolor\":\"#E5ECF6\",\"gridcolor\":\"white\",\"linecolor\":\"white\",\"showbackground\":true,\"ticks\":\"\",\"zerolinecolor\":\"white\",\"gridwidth\":2}},\"shapedefaults\":{\"line\":{\"color\":\"#2a3f5f\"}},\"annotationdefaults\":{\"arrowcolor\":\"#2a3f5f\",\"arrowhead\":0,\"arrowwidth\":1},\"geo\":{\"bgcolor\":\"white\",\"landcolor\":\"#E5ECF6\",\"subunitcolor\":\"white\",\"showland\":true,\"showlakes\":true,\"lakecolor\":\"white\"},\"title\":{\"x\":0.05},\"mapbox\":{\"style\":\"light\"}}},\"xaxis\":{\"anchor\":\"y\",\"domain\":[0.0,1.0],\"title\":{\"text\":\"Category\"}},\"yaxis\":{\"anchor\":\"x\",\"domain\":[0.0,1.0],\"title\":{\"text\":\"Review Rating\"}},\"legend\":{\"tracegroupgap\":0},\"margin\":{\"t\":60},\"barmode\":\"relative\"},                        {\"responsive\": true}                    ).then(function(){\n",
              "                            \n",
              "var gd = document.getElementById('991f737b-20f2-414f-8dc1-095992f4b802');\n",
              "var x = new MutationObserver(function (mutations, observer) {{\n",
              "        var display = window.getComputedStyle(gd).display;\n",
              "        if (!display || display === 'none') {{\n",
              "            console.log([gd, 'removed!']);\n",
              "            Plotly.purge(gd);\n",
              "            observer.disconnect();\n",
              "        }}\n",
              "}});\n",
              "\n",
              "// Listen for the removal of the full notebook cells\n",
              "var notebookContainer = gd.closest('#notebook-container');\n",
              "if (notebookContainer) {{\n",
              "    x.observe(notebookContainer, {childList: true});\n",
              "}}\n",
              "\n",
              "// Listen for the clearing of the current output cell\n",
              "var outputEl = gd.closest('.output');\n",
              "if (outputEl) {{\n",
              "    x.observe(outputEl, {childList: true});\n",
              "}}\n",
              "\n",
              "                        })                };                            </script>        </div>\n",
              "</body>\n",
              "</html>"
            ]
          },
          "metadata": {}
        }
      ]
    },
    {
      "cell_type": "markdown",
      "source": [
        "# **7 Are there any notable differences in purchase behavior between subscribed and non-subscribed customers?**"
      ],
      "metadata": {
        "id": "Y_YuWvzELu4U"
      }
    },
    {
      "cell_type": "code",
      "source": [
        "df.columns"
      ],
      "metadata": {
        "colab": {
          "base_uri": "https://localhost:8080/"
        },
        "id": "HnA5FMuCMPvF",
        "outputId": "d5da6af1-c140-4eb1-e73e-53ecb90c096b"
      },
      "execution_count": 95,
      "outputs": [
        {
          "output_type": "execute_result",
          "data": {
            "text/plain": [
              "Index(['Customer ID', 'Age', 'Gender', 'Item Purchased', 'Category',\n",
              "       'Purchase Amount (USD)', 'Location', 'Size', 'Color', 'Season',\n",
              "       'Review Rating', 'Subscription Status', 'Shipping Type',\n",
              "       'Discount Applied', 'Promo Code Used', 'Previous Purchases',\n",
              "       'Payment Method', 'Frequency of Purchases', 'Age_category'],\n",
              "      dtype='object')"
            ]
          },
          "metadata": {},
          "execution_count": 95
        }
      ]
    },
    {
      "cell_type": "code",
      "source": [
        "df['Subscription Status'].unique()"
      ],
      "metadata": {
        "colab": {
          "base_uri": "https://localhost:8080/"
        },
        "id": "48D8670hMY4G",
        "outputId": "807ad290-6061-4a2b-c375-7f98c781f6fc"
      },
      "execution_count": 96,
      "outputs": [
        {
          "output_type": "execute_result",
          "data": {
            "text/plain": [
              "array(['Yes', 'No'], dtype=object)"
            ]
          },
          "metadata": {},
          "execution_count": 96
        }
      ]
    },
    {
      "cell_type": "code",
      "source": [
        "sns.barplot(df  , x = 'Subscription Status' , y = 'Purchase Amount (USD)')"
      ],
      "metadata": {
        "colab": {
          "base_uri": "https://localhost:8080/",
          "height": 466
        },
        "id": "r_6XlxOzMb2U",
        "outputId": "97673b0d-67a8-466e-d77f-99ae4fca182e"
      },
      "execution_count": 97,
      "outputs": [
        {
          "output_type": "execute_result",
          "data": {
            "text/plain": [
              "<Axes: xlabel='Subscription Status', ylabel='Purchase Amount (USD)'>"
            ]
          },
          "metadata": {},
          "execution_count": 97
        },
        {
          "output_type": "display_data",
          "data": {
            "text/plain": [
              "<Figure size 640x480 with 1 Axes>"
            ],
            "image/png": "[encoded data removed]"
          },
          "metadata": {}
        }
      ]
    },
    {
      "cell_type": "code",
      "source": [
        "df['Purchase Amount (USD)'].sum()"
      ],
      "metadata": {
        "colab": {
          "base_uri": "https://localhost:8080/"
        },
        "id": "tph014Z1MlHf",
        "outputId": "c7c05f1d-f9f2-44c8-ffd5-9c866ba2fcf8"
      },
      "execution_count": 98,
      "outputs": [
        {
          "output_type": "execute_result",
          "data": {
            "text/plain": [
              "233081"
            ]
          },
          "metadata": {},
          "execution_count": 98
        }
      ]
    },
    {
      "cell_type": "code",
      "source": [
        "df.groupby('Subscription Status')['Purchase Amount (USD)'].mean()"
      ],
      "metadata": {
        "colab": {
          "base_uri": "https://localhost:8080/",
          "height": 178
        },
        "id": "YJJHwsM1MnEA",
        "outputId": "e48fc290-0a54-4bd6-f78a-8f620a1bcfe1"
      },
      "execution_count": 99,
      "outputs": [
        {
          "output_type": "execute_result",
          "data": {
            "text/plain": [
              "Subscription Status\n",
              "No     59.865121\n",
              "Yes    59.491928\n",
              "Name: Purchase Amount (USD), dtype: float64"
            ],
            "text/html": [
              "<div>\n",
              "<style scoped>\n",
              "    .dataframe tbody tr th:only-of-type {\n",
              "        vertical-align: middle;\n",
              "    }\n",
              "\n",
              "    .dataframe tbody tr th {\n",
              "        vertical-align: top;\n",
              "    }\n",
              "\n",
              "    .dataframe thead th {\n",
              "        text-align: right;\n",
              "    }\n",
              "</style>\n",
              "<table border=\"1\" class=\"dataframe\">\n",
              "  <thead>\n",
              "    <tr style=\"text-align: right;\">\n",
              "      <th></th>\n",
              "      <th>Purchase Amount (USD)</th>\n",
              "    </tr>\n",
              "    <tr>\n",
              "      <th>Subscription Status</th>\n",
              "      <th></th>\n",
              "    </tr>\n",
              "  </thead>\n",
              "  <tbody>\n",
              "    <tr>\n",
              "      <th>No</th>\n",
              "      <td>59.865121</td>\n",
              "    </tr>\n",
              "    <tr>\n",
              "      <th>Yes</th>\n",
              "      <td>59.491928</td>\n",
              "    </tr>\n",
              "  </tbody>\n",
              "</table>\n",
              "</div><br><label><b>dtype:</b> float64</label>"
            ]
          },
          "metadata": {},
          "execution_count": 99
        }
      ]
    },
    {
      "cell_type": "markdown",
      "source": [
        "# **8 Which payment method is the most popular among customers?**"
      ],
      "metadata": {
        "id": "fLp797RhMvUM"
      }
    },
    {
      "cell_type": "code",
      "source": [
        "df.groupby('Payment Method')['Purchase Amount (USD)'].mean().sort_values(ascending= False)"
      ],
      "metadata": {
        "colab": {
          "base_uri": "https://localhost:8080/",
          "height": 303
        },
        "id": "7_MhcLD3M1IM",
        "outputId": "8910bde8-e658-415f-d7f8-91dd673b9dc4"
      },
      "execution_count": 100,
      "outputs": [
        {
          "output_type": "execute_result",
          "data": {
            "text/plain": [
              "Payment Method\n",
              "Debit Card       60.915094\n",
              "Credit Card      60.074516\n",
              "Bank Transfer    59.712418\n",
              "Cash             59.704478\n",
              "PayPal           59.245199\n",
              "Venmo            58.949527\n",
              "Name: Purchase Amount (USD), dtype: float64"
            ],
            "text/html": [
              "<div>\n",
              "<style scoped>\n",
              "    .dataframe tbody tr th:only-of-type {\n",
              "        vertical-align: middle;\n",
              "    }\n",
              "\n",
              "    .dataframe tbody tr th {\n",
              "        vertical-align: top;\n",
              "    }\n",
              "\n",
              "    .dataframe thead th {\n",
              "        text-align: right;\n",
              "    }\n",
              "</style>\n",
              "<table border=\"1\" class=\"dataframe\">\n",
              "  <thead>\n",
              "    <tr style=\"text-align: right;\">\n",
              "      <th></th>\n",
              "      <th>Purchase Amount (USD)</th>\n",
              "    </tr>\n",
              "    <tr>\n",
              "      <th>Payment Method</th>\n",
              "      <th></th>\n",
              "    </tr>\n",
              "  </thead>\n",
              "  <tbody>\n",
              "    <tr>\n",
              "      <th>Debit Card</th>\n",
              "      <td>60.915094</td>\n",
              "    </tr>\n",
              "    <tr>\n",
              "      <th>Credit Card</th>\n",
              "      <td>60.074516</td>\n",
              "    </tr>\n",
              "    <tr>\n",
              "      <th>Bank Transfer</th>\n",
              "      <td>59.712418</td>\n",
              "    </tr>\n",
              "    <tr>\n",
              "      <th>Cash</th>\n",
              "      <td>59.704478</td>\n",
              "    </tr>\n",
              "    <tr>\n",
              "      <th>PayPal</th>\n",
              "      <td>59.245199</td>\n",
              "    </tr>\n",
              "    <tr>\n",
              "      <th>Venmo</th>\n",
              "      <td>58.949527</td>\n",
              "    </tr>\n",
              "  </tbody>\n",
              "</table>\n",
              "</div><br><label><b>dtype:</b> float64</label>"
            ]
          },
          "metadata": {},
          "execution_count": 100
        }
      ]
    },
    {
      "cell_type": "code",
      "source": [
        "shop_groupby = df.groupby('Payment Method')['Purchase Amount (USD)'].mean().reset_index()"
      ],
      "metadata": {
        "id": "8pSZtruoM5HP"
      },
      "execution_count": 101,
      "outputs": []
    },
    {
      "cell_type": "code",
      "source": [
        "fig = px.bar(shop_groupby , x = 'Payment Method' , y = 'Purchase Amount (USD)')\n",
        "fig.show()"
      ],
      "metadata": {
        "colab": {
          "base_uri": "https://localhost:8080/",
          "height": 542
        },
        "id": "r1fmAyluM8U6",
        "outputId": "7989f3a1-46c7-4a50-872b-3bfa2ddd779c"
      },
      "execution_count": 102,
      "outputs": [
        {
          "output_type": "display_data",
          "data": {
            "text/html": [
              "<html>\n",
              "<head><meta charset=\"utf-8\" /></head>\n",
              "<body>\n",
              "    <div>            <script src=\"https://cdnjs.cloudflare.com/ajax/libs/mathjax/2.7.5/MathJax.js?config=TeX-AMS-MML_SVG\"></script><script type=\"text/javascript\">if (window.MathJax && window.MathJax.Hub && window.MathJax.Hub.Config) {window.MathJax.Hub.Config({SVG: {font: \"STIX-Web\"}});}</script>                <script type=\"text/javascript\">window.PlotlyConfig = {MathJaxConfig: 'local'};</script>\n",
              "        <script charset=\"utf-8\" src=\"https://cdn.plot.ly/plotly-2.35.2.min.js\"></script>                <div id=\"7bb753cf-0898-4686-a15c-e1185eb02236\" class=\"plotly-graph-div\" style=\"height:525px; width:100%;\"></div>            <script type=\"text/javascript\">                                    window.PLOTLYENV=window.PLOTLYENV || {};                                    if (document.getElementById(\"7bb753cf-0898-4686-a15c-e1185eb02236\")) {                    Plotly.newPlot(                        \"7bb753cf-0898-4686-a15c-e1185eb02236\",                        [{\"alignmentgroup\":\"True\",\"hovertemplate\":\"Payment Method=%{x}\\u003cbr\\u003ePurchase Amount (USD)=%{y}\\u003cextra\\u003e\\u003c\\u002fextra\\u003e\",\"legendgroup\":\"\",\"marker\":{\"color\":\"#636efa\",\"pattern\":{\"shape\":\"\"}},\"name\":\"\",\"offsetgroup\":\"\",\"orientation\":\"v\",\"showlegend\":false,\"textposition\":\"auto\",\"x\":[\"Bank Transfer\",\"Cash\",\"Credit Card\",\"Debit Card\",\"PayPal\",\"Venmo\"],\"xaxis\":\"x\",\"y\":[59.712418300653596,59.7044776119403,60.07451564828614,60.91509433962264,59.24519940915805,58.94952681388013],\"yaxis\":\"y\",\"type\":\"bar\"}],                        {\"template\":{\"data\":{\"histogram2dcontour\":[{\"type\":\"histogram2dcontour\",\"colorbar\":{\"outlinewidth\":0,\"ticks\":\"\"},\"colorscale\":[[0.0,\"#0d0887\"],[0.1111111111111111,\"#46039f\"],[0.2222222222222222,\"#7201a8\"],[0.3333333333333333,\"#9c179e\"],[0.4444444444444444,\"#bd3786\"],[0.5555555555555556,\"#d8576b\"],[0.6666666666666666,\"#ed7953\"],[0.7777777777777778,\"#fb9f3a\"],[0.8888888888888888,\"#fdca26\"],[1.0,\"#f0f921\"]]}],\"choropleth\":[{\"type\":\"choropleth\",\"colorbar\":{\"outlinewidth\":0,\"ticks\":\"\"}}],\"histogram2d\":[{\"type\":\"histogram2d\",\"colorbar\":{\"outlinewidth\":0,\"ticks\":\"\"},\"colorscale\":[[0.0,\"#0d0887\"],[0.1111111111111111,\"#46039f\"],[0.2222222222222222,\"#7201a8\"],[0.3333333333333333,\"#9c179e\"],[0.4444444444444444,\"#bd3786\"],[0.5555555555555556,\"#d8576b\"],[0.6666666666666666,\"#ed7953\"],[0.7777777777777778,\"#fb9f3a\"],[0.8888888888888888,\"#fdca26\"],[1.0,\"#f0f921\"]]}],\"heatmap\":[{\"type\":\"heatmap\",\"colorbar\":{\"outlinewidth\":0,\"ticks\":\"\"},\"colorscale\":[[0.0,\"#0d0887\"],[0.1111111111111111,\"#46039f\"],[0.2222222222222222,\"#7201a8\"],[0.3333333333333333,\"#9c179e\"],[0.4444444444444444,\"#bd3786\"],[0.5555555555555556,\"#d8576b\"],[0.6666666666666666,\"#ed7953\"],[0.7777777777777778,\"#fb9f3a\"],[0.8888888888888888,\"#fdca26\"],[1.0,\"#f0f921\"]]}],\"heatmapgl\":[{\"type\":\"heatmapgl\",\"colorbar\":{\"outlinewidth\":0,\"ticks\":\"\"},\"colorscale\":[[0.0,\"#0d0887\"],[0.1111111111111111,\"#46039f\"],[0.2222222222222222,\"#7201a8\"],[0.3333333333333333,\"#9c179e\"],[0.4444444444444444,\"#bd3786\"],[0.5555555555555556,\"#d8576b\"],[0.6666666666666666,\"#ed7953\"],[0.7777777777777778,\"#fb9f3a\"],[0.8888888888888888,\"#fdca26\"],[1.0,\"#f0f921\"]]}],\"contourcarpet\":[{\"type\":\"contourcarpet\",\"colorbar\":{\"outlinewidth\":0,\"ticks\":\"\"}}],\"contour\":[{\"type\":\"contour\",\"colorbar\":{\"outlinewidth\":0,\"ticks\":\"\"},\"colorscale\":[[0.0,\"#0d0887\"],[0.1111111111111111,\"#46039f\"],[0.2222222222222222,\"#7201a8\"],[0.3333333333333333,\"#9c179e\"],[0.4444444444444444,\"#bd3786\"],[0.5555555555555556,\"#d8576b\"],[0.6666666666666666,\"#ed7953\"],[0.7777777777777778,\"#fb9f3a\"],[0.8888888888888888,\"#fdca26\"],[1.0,\"#f0f921\"]]}],\"surface\":[{\"type\":\"surface\",\"colorbar\":{\"outlinewidth\":0,\"ticks\":\"\"},\"colorscale\":[[0.0,\"#0d0887\"],[0.1111111111111111,\"#46039f\"],[0.2222222222222222,\"#7201a8\"],[0.3333333333333333,\"#9c179e\"],[0.4444444444444444,\"#bd3786\"],[0.5555555555555556,\"#d8576b\"],[0.6666666666666666,\"#ed7953\"],[0.7777777777777778,\"#fb9f3a\"],[0.8888888888888888,\"#fdca26\"],[1.0,\"#f0f921\"]]}],\"mesh3d\":[{\"type\":\"mesh3d\",\"colorbar\":{\"outlinewidth\":0,\"ticks\":\"\"}}],\"scatter\":[{\"fillpattern\":{\"fillmode\":\"overlay\",\"size\":10,\"solidity\":0.2},\"type\":\"scatter\"}],\"parcoords\":[{\"type\":\"parcoords\",\"line\":{\"colorbar\":{\"outlinewidth\":0,\"ticks\":\"\"}}}],\"scatterpolargl\":[{\"type\":\"scatterpolargl\",\"marker\":{\"colorbar\":{\"outlinewidth\":0,\"ticks\":\"\"}}}],\"bar\":[{\"error_x\":{\"color\":\"#2a3f5f\"},\"error_y\":{\"color\":\"#2a3f5f\"},\"marker\":{\"line\":{\"color\":\"#E5ECF6\",\"width\":0.5},\"pattern\":{\"fillmode\":\"overlay\",\"size\":10,\"solidity\":0.2}},\"type\":\"bar\"}],\"scattergeo\":[{\"type\":\"scattergeo\",\"marker\":{\"colorbar\":{\"outlinewidth\":0,\"ticks\":\"\"}}}],\"scatterpolar\":[{\"type\":\"scatterpolar\",\"marker\":{\"colorbar\":{\"outlinewidth\":0,\"ticks\":\"\"}}}],\"histogram\":[{\"marker\":{\"pattern\":{\"fillmode\":\"overlay\",\"size\":10,\"solidity\":0.2}},\"type\":\"histogram\"}],\"scattergl\":[{\"type\":\"scattergl\",\"marker\":{\"colorbar\":{\"outlinewidth\":0,\"ticks\":\"\"}}}],\"scatter3d\":[{\"type\":\"scatter3d\",\"line\":{\"colorbar\":{\"outlinewidth\":0,\"ticks\":\"\"}},\"marker\":{\"colorbar\":{\"outlinewidth\":0,\"ticks\":\"\"}}}],\"scattermapbox\":[{\"type\":\"scattermapbox\",\"marker\":{\"colorbar\":{\"outlinewidth\":0,\"ticks\":\"\"}}}],\"scatterternary\":[{\"type\":\"scatterternary\",\"marker\":{\"colorbar\":{\"outlinewidth\":0,\"ticks\":\"\"}}}],\"scattercarpet\":[{\"type\":\"scattercarpet\",\"marker\":{\"colorbar\":{\"outlinewidth\":0,\"ticks\":\"\"}}}],\"carpet\":[{\"aaxis\":{\"endlinecolor\":\"#2a3f5f\",\"gridcolor\":\"white\",\"linecolor\":\"white\",\"minorgridcolor\":\"white\",\"startlinecolor\":\"#2a3f5f\"},\"baxis\":{\"endlinecolor\":\"#2a3f5f\",\"gridcolor\":\"white\",\"linecolor\":\"white\",\"minorgridcolor\":\"white\",\"startlinecolor\":\"#2a3f5f\"},\"type\":\"carpet\"}],\"table\":[{\"cells\":{\"fill\":{\"color\":\"#EBF0F8\"},\"line\":{\"color\":\"white\"}},\"header\":{\"fill\":{\"color\":\"#C8D4E3\"},\"line\":{\"color\":\"white\"}},\"type\":\"table\"}],\"barpolar\":[{\"marker\":{\"line\":{\"color\":\"#E5ECF6\",\"width\":0.5},\"pattern\":{\"fillmode\":\"overlay\",\"size\":10,\"solidity\":0.2}},\"type\":\"barpolar\"}],\"pie\":[{\"automargin\":true,\"type\":\"pie\"}]},\"layout\":{\"autotypenumbers\":\"strict\",\"colorway\":[\"#636efa\",\"#EF553B\",\"#00cc96\",\"#ab63fa\",\"#FFA15A\",\"#19d3f3\",\"#FF6692\",\"#B6E880\",\"#FF97FF\",\"#FECB52\"],\"font\":{\"color\":\"#2a3f5f\"},\"hovermode\":\"closest\",\"hoverlabel\":{\"align\":\"left\"},\"paper_bgcolor\":\"white\",\"plot_bgcolor\":\"#E5ECF6\",\"polar\":{\"bgcolor\":\"#E5ECF6\",\"angularaxis\":{\"gridcolor\":\"white\",\"linecolor\":\"white\",\"ticks\":\"\"},\"radialaxis\":{\"gridcolor\":\"white\",\"linecolor\":\"white\",\"ticks\":\"\"}},\"ternary\":{\"bgcolor\":\"#E5ECF6\",\"aaxis\":{\"gridcolor\":\"white\",\"linecolor\":\"white\",\"ticks\":\"\"},\"baxis\":{\"gridcolor\":\"white\",\"linecolor\":\"white\",\"ticks\":\"\"},\"caxis\":{\"gridcolor\":\"white\",\"linecolor\":\"white\",\"ticks\":\"\"}},\"coloraxis\":{\"colorbar\":{\"outlinewidth\":0,\"ticks\":\"\"}},\"colorscale\":{\"sequential\":[[0.0,\"#0d0887\"],[0.1111111111111111,\"#46039f\"],[0.2222222222222222,\"#7201a8\"],[0.3333333333333333,\"#9c179e\"],[0.4444444444444444,\"#bd3786\"],[0.5555555555555556,\"#d8576b\"],[0.6666666666666666,\"#ed7953\"],[0.7777777777777778,\"#fb9f3a\"],[0.8888888888888888,\"#fdca26\"],[1.0,\"#f0f921\"]],\"sequentialminus\":[[0.0,\"#0d0887\"],[0.1111111111111111,\"#46039f\"],[0.2222222222222222,\"#7201a8\"],[0.3333333333333333,\"#9c179e\"],[0.4444444444444444,\"#bd3786\"],[0.5555555555555556,\"#d8576b\"],[0.6666666666666666,\"#ed7953\"],[0.7777777777777778,\"#fb9f3a\"],[0.8888888888888888,\"#fdca26\"],[1.0,\"#f0f921\"]],\"diverging\":[[0,\"#8e0152\"],[0.1,\"#c51b7d\"],[0.2,\"#de77ae\"],[0.3,\"#f1b6da\"],[0.4,\"#fde0ef\"],[0.5,\"#f7f7f7\"],[0.6,\"#e6f5d0\"],[0.7,\"#b8e186\"],[0.8,\"#7fbc41\"],[0.9,\"#4d9221\"],[1,\"#276419\"]]},\"xaxis\":{\"gridcolor\":\"white\",\"linecolor\":\"white\",\"ticks\":\"\",\"title\":{\"standoff\":15},\"zerolinecolor\":\"white\",\"automargin\":true,\"zerolinewidth\":2},\"yaxis\":{\"gridcolor\":\"white\",\"linecolor\":\"white\",\"ticks\":\"\",\"title\":{\"standoff\":15},\"zerolinecolor\":\"white\",\"automargin\":true,\"zerolinewidth\":2},\"scene\":{\"xaxis\":{\"backgroundcolor\":\"#E5ECF6\",\"gridcolor\":\"white\",\"linecolor\":\"white\",\"showbackground\":true,\"ticks\":\"\",\"zerolinecolor\":\"white\",\"gridwidth\":2},\"yaxis\":{\"backgroundcolor\":\"#E5ECF6\",\"gridcolor\":\"white\",\"linecolor\":\"white\",\"showbackground\":true,\"ticks\":\"\",\"zerolinecolor\":\"white\",\"gridwidth\":2},\"zaxis\":{\"backgroundcolor\":\"#E5ECF6\",\"gridcolor\":\"white\",\"linecolor\":\"white\",\"showbackground\":true,\"ticks\":\"\",\"zerolinecolor\":\"white\",\"gridwidth\":2}},\"shapedefaults\":{\"line\":{\"color\":\"#2a3f5f\"}},\"annotationdefaults\":{\"arrowcolor\":\"#2a3f5f\",\"arrowhead\":0,\"arrowwidth\":1},\"geo\":{\"bgcolor\":\"white\",\"landcolor\":\"#E5ECF6\",\"subunitcolor\":\"white\",\"showland\":true,\"showlakes\":true,\"lakecolor\":\"white\"},\"title\":{\"x\":0.05},\"mapbox\":{\"style\":\"light\"}}},\"xaxis\":{\"anchor\":\"y\",\"domain\":[0.0,1.0],\"title\":{\"text\":\"Payment Method\"}},\"yaxis\":{\"anchor\":\"x\",\"domain\":[0.0,1.0],\"title\":{\"text\":\"Purchase Amount (USD)\"}},\"legend\":{\"tracegroupgap\":0},\"margin\":{\"t\":60},\"barmode\":\"relative\"},                        {\"responsive\": true}                    ).then(function(){\n",
              "                            \n",
              "var gd = document.getElementById('7bb753cf-0898-4686-a15c-e1185eb02236');\n",
              "var x = new MutationObserver(function (mutations, observer) {{\n",
              "        var display = window.getComputedStyle(gd).display;\n",
              "        if (!display || display === 'none') {{\n",
              "            console.log([gd, 'removed!']);\n",
              "            Plotly.purge(gd);\n",
              "            observer.disconnect();\n",
              "        }}\n",
              "}});\n",
              "\n",
              "// Listen for the removal of the full notebook cells\n",
              "var notebookContainer = gd.closest('#notebook-container');\n",
              "if (notebookContainer) {{\n",
              "    x.observe(notebookContainer, {childList: true});\n",
              "}}\n",
              "\n",
              "// Listen for the clearing of the current output cell\n",
              "var outputEl = gd.closest('.output');\n",
              "if (outputEl) {{\n",
              "    x.observe(outputEl, {childList: true});\n",
              "}}\n",
              "\n",
              "                        })                };                            </script>        </div>\n",
              "</body>\n",
              "</html>"
            ]
          },
          "metadata": {}
        }
      ]
    },
    {
      "cell_type": "code",
      "source": [
        "sns.barplot(df ,x='Payment Method' , y = 'Purchase Amount (USD)')"
      ],
      "metadata": {
        "colab": {
          "base_uri": "https://localhost:8080/",
          "height": 466
        },
        "id": "qhhpEmVfM-wp",
        "outputId": "71ae6adb-fdfa-4f5f-f0d4-e0e275ddf2c6"
      },
      "execution_count": 103,
      "outputs": [
        {
          "output_type": "execute_result",
          "data": {
            "text/plain": [
              "<Axes: xlabel='Payment Method', ylabel='Purchase Amount (USD)'>"
            ]
          },
          "metadata": {},
          "execution_count": 103
        },
        {
          "output_type": "display_data",
          "data": {
            "text/plain": [
              "<Figure size 640x480 with 1 Axes>"
            ],
            "image/png": "[encoded data removed]"
          },
          "metadata": {}
        }
      ]
    },
    {
      "cell_type": "markdown",
      "source": [
        "# **9 Do customers who use promo codes tend to spend more than those who don't?**"
      ],
      "metadata": {
        "id": "z2zteJtsNJBv"
      }
    },
    {
      "cell_type": "code",
      "source": [
        "shop_groupby  = df.groupby('Promo Code Used')['Purchase Amount (USD)'].sum().reset_index()"
      ],
      "metadata": {
        "id": "3dvr7CC4NNCk"
      },
      "execution_count": 104,
      "outputs": []
    },
    {
      "cell_type": "code",
      "source": [
        "fig = px.sunburst(df , path=['Gender' , 'Promo Code Used'] , values='Purchase Amount (USD)')\n",
        "fig.show()"
      ],
      "metadata": {
        "colab": {
          "base_uri": "https://localhost:8080/",
          "height": 542
        },
        "id": "oAQzsxdvNTLh",
        "outputId": "9be8ff4c-ff81-433d-9e6f-cde0bc5cb619"
      },
      "execution_count": 105,
      "outputs": [
        {
          "output_type": "display_data",
          "data": {
            "text/html": [
              "<html>\n",
              "<head><meta charset=\"utf-8\" /></head>\n",
              "<body>\n",
              "    <div>            <script src=\"https://cdnjs.cloudflare.com/ajax/libs/mathjax/2.7.5/MathJax.js?config=TeX-AMS-MML_SVG\"></script><script type=\"text/javascript\">if (window.MathJax && window.MathJax.Hub && window.MathJax.Hub.Config) {window.MathJax.Hub.Config({SVG: {font: \"STIX-Web\"}});}</script>                <script type=\"text/javascript\">window.PlotlyConfig = {MathJaxConfig: 'local'};</script>\n",
              "        <script charset=\"utf-8\" src=\"https://cdn.plot.ly/plotly-2.35.2.min.js\"></script>                <div id=\"ad13635e-5c93-42f8-b6a7-2d86b7fdeb3e\" class=\"plotly-graph-div\" style=\"height:525px; width:100%;\"></div>            <script type=\"text/javascript\">                                    window.PLOTLYENV=window.PLOTLYENV || {};                                    if (document.getElementById(\"ad13635e-5c93-42f8-b6a7-2d86b7fdeb3e\")) {                    Plotly.newPlot(                        \"ad13635e-5c93-42f8-b6a7-2d86b7fdeb3e\",                        [{\"branchvalues\":\"total\",\"domain\":{\"x\":[0.0,1.0],\"y\":[0.0,1.0]},\"hovertemplate\":\"labels=%{label}\\u003cbr\\u003ePurchase Amount (USD)=%{value}\\u003cbr\\u003eparent=%{parent}\\u003cbr\\u003eid=%{id}\\u003cextra\\u003e\\u003c\\u002fextra\\u003e\",\"ids\":[\"Female\\u002fNo\",\"Male\\u002fNo\",\"Male\\u002fYes\",\"Female\",\"Male\"],\"labels\":[\"No\",\"No\",\"Yes\",\"Female\",\"Male\"],\"name\":\"\",\"parents\":[\"Female\",\"Male\",\"Male\",\"\",\"\"],\"values\":[75191,58479,99411,75191,157890],\"type\":\"sunburst\"}],                        {\"template\":{\"data\":{\"histogram2dcontour\":[{\"type\":\"histogram2dcontour\",\"colorbar\":{\"outlinewidth\":0,\"ticks\":\"\"},\"colorscale\":[[0.0,\"#0d0887\"],[0.1111111111111111,\"#46039f\"],[0.2222222222222222,\"#7201a8\"],[0.3333333333333333,\"#9c179e\"],[0.4444444444444444,\"#bd3786\"],[0.5555555555555556,\"#d8576b\"],[0.6666666666666666,\"#ed7953\"],[0.7777777777777778,\"#fb9f3a\"],[0.8888888888888888,\"#fdca26\"],[1.0,\"#f0f921\"]]}],\"choropleth\":[{\"type\":\"choropleth\",\"colorbar\":{\"outlinewidth\":0,\"ticks\":\"\"}}],\"histogram2d\":[{\"type\":\"histogram2d\",\"colorbar\":{\"outlinewidth\":0,\"ticks\":\"\"},\"colorscale\":[[0.0,\"#0d0887\"],[0.1111111111111111,\"#46039f\"],[0.2222222222222222,\"#7201a8\"],[0.3333333333333333,\"#9c179e\"],[0.4444444444444444,\"#bd3786\"],[0.5555555555555556,\"#d8576b\"],[0.6666666666666666,\"#ed7953\"],[0.7777777777777778,\"#fb9f3a\"],[0.8888888888888888,\"#fdca26\"],[1.0,\"#f0f921\"]]}],\"heatmap\":[{\"type\":\"heatmap\",\"colorbar\":{\"outlinewidth\":0,\"ticks\":\"\"},\"colorscale\":[[0.0,\"#0d0887\"],[0.1111111111111111,\"#46039f\"],[0.2222222222222222,\"#7201a8\"],[0.3333333333333333,\"#9c179e\"],[0.4444444444444444,\"#bd3786\"],[0.5555555555555556,\"#d8576b\"],[0.6666666666666666,\"#ed7953\"],[0.7777777777777778,\"#fb9f3a\"],[0.8888888888888888,\"#fdca26\"],[1.0,\"#f0f921\"]]}],\"heatmapgl\":[{\"type\":\"heatmapgl\",\"colorbar\":{\"outlinewidth\":0,\"ticks\":\"\"},\"colorscale\":[[0.0,\"#0d0887\"],[0.1111111111111111,\"#46039f\"],[0.2222222222222222,\"#7201a8\"],[0.3333333333333333,\"#9c179e\"],[0.4444444444444444,\"#bd3786\"],[0.5555555555555556,\"#d8576b\"],[0.6666666666666666,\"#ed7953\"],[0.7777777777777778,\"#fb9f3a\"],[0.8888888888888888,\"#fdca26\"],[1.0,\"#f0f921\"]]}],\"contourcarpet\":[{\"type\":\"contourcarpet\",\"colorbar\":{\"outlinewidth\":0,\"ticks\":\"\"}}],\"contour\":[{\"type\":\"contour\",\"colorbar\":{\"outlinewidth\":0,\"ticks\":\"\"},\"colorscale\":[[0.0,\"#0d0887\"],[0.1111111111111111,\"#46039f\"],[0.2222222222222222,\"#7201a8\"],[0.3333333333333333,\"#9c179e\"],[0.4444444444444444,\"#bd3786\"],[0.5555555555555556,\"#d8576b\"],[0.6666666666666666,\"#ed7953\"],[0.7777777777777778,\"#fb9f3a\"],[0.8888888888888888,\"#fdca26\"],[1.0,\"#f0f921\"]]}],\"surface\":[{\"type\":\"surface\",\"colorbar\":{\"outlinewidth\":0,\"ticks\":\"\"},\"colorscale\":[[0.0,\"#0d0887\"],[0.1111111111111111,\"#46039f\"],[0.2222222222222222,\"#7201a8\"],[0.3333333333333333,\"#9c179e\"],[0.4444444444444444,\"#bd3786\"],[0.5555555555555556,\"#d8576b\"],[0.6666666666666666,\"#ed7953\"],[0.7777777777777778,\"#fb9f3a\"],[0.8888888888888888,\"#fdca26\"],[1.0,\"#f0f921\"]]}],\"mesh3d\":[{\"type\":\"mesh3d\",\"colorbar\":{\"outlinewidth\":0,\"ticks\":\"\"}}],\"scatter\":[{\"fillpattern\":{\"fillmode\":\"overlay\",\"size\":10,\"solidity\":0.2},\"type\":\"scatter\"}],\"parcoords\":[{\"type\":\"parcoords\",\"line\":{\"colorbar\":{\"outlinewidth\":0,\"ticks\":\"\"}}}],\"scatterpolargl\":[{\"type\":\"scatterpolargl\",\"marker\":{\"colorbar\":{\"outlinewidth\":0,\"ticks\":\"\"}}}],\"bar\":[{\"error_x\":{\"color\":\"#2a3f5f\"},\"error_y\":{\"color\":\"#2a3f5f\"},\"marker\":{\"line\":{\"color\":\"#E5ECF6\",\"width\":0.5},\"pattern\":{\"fillmode\":\"overlay\",\"size\":10,\"solidity\":0.2}},\"type\":\"bar\"}],\"scattergeo\":[{\"type\":\"scattergeo\",\"marker\":{\"colorbar\":{\"outlinewidth\":0,\"ticks\":\"\"}}}],\"scatterpolar\":[{\"type\":\"scatterpolar\",\"marker\":{\"colorbar\":{\"outlinewidth\":0,\"ticks\":\"\"}}}],\"histogram\":[{\"marker\":{\"pattern\":{\"fillmode\":\"overlay\",\"size\":10,\"solidity\":0.2}},\"type\":\"histogram\"}],\"scattergl\":[{\"type\":\"scattergl\",\"marker\":{\"colorbar\":{\"outlinewidth\":0,\"ticks\":\"\"}}}],\"scatter3d\":[{\"type\":\"scatter3d\",\"line\":{\"colorbar\":{\"outlinewidth\":0,\"ticks\":\"\"}},\"marker\":{\"colorbar\":{\"outlinewidth\":0,\"ticks\":\"\"}}}],\"scattermapbox\":[{\"type\":\"scattermapbox\",\"marker\":{\"colorbar\":{\"outlinewidth\":0,\"ticks\":\"\"}}}],\"scatterternary\":[{\"type\":\"scatterternary\",\"marker\":{\"colorbar\":{\"outlinewidth\":0,\"ticks\":\"\"}}}],\"scattercarpet\":[{\"type\":\"scattercarpet\",\"marker\":{\"colorbar\":{\"outlinewidth\":0,\"ticks\":\"\"}}}],\"carpet\":[{\"aaxis\":{\"endlinecolor\":\"#2a3f5f\",\"gridcolor\":\"white\",\"linecolor\":\"white\",\"minorgridcolor\":\"white\",\"startlinecolor\":\"#2a3f5f\"},\"baxis\":{\"endlinecolor\":\"#2a3f5f\",\"gridcolor\":\"white\",\"linecolor\":\"white\",\"minorgridcolor\":\"white\",\"startlinecolor\":\"#2a3f5f\"},\"type\":\"carpet\"}],\"table\":[{\"cells\":{\"fill\":{\"color\":\"#EBF0F8\"},\"line\":{\"color\":\"white\"}},\"header\":{\"fill\":{\"color\":\"#C8D4E3\"},\"line\":{\"color\":\"white\"}},\"type\":\"table\"}],\"barpolar\":[{\"marker\":{\"line\":{\"color\":\"#E5ECF6\",\"width\":0.5},\"pattern\":{\"fillmode\":\"overlay\",\"size\":10,\"solidity\":0.2}},\"type\":\"barpolar\"}],\"pie\":[{\"automargin\":true,\"type\":\"pie\"}]},\"layout\":{\"autotypenumbers\":\"strict\",\"colorway\":[\"#636efa\",\"#EF553B\",\"#00cc96\",\"#ab63fa\",\"#FFA15A\",\"#19d3f3\",\"#FF6692\",\"#B6E880\",\"#FF97FF\",\"#FECB52\"],\"font\":{\"color\":\"#2a3f5f\"},\"hovermode\":\"closest\",\"hoverlabel\":{\"align\":\"left\"},\"paper_bgcolor\":\"white\",\"plot_bgcolor\":\"#E5ECF6\",\"polar\":{\"bgcolor\":\"#E5ECF6\",\"angularaxis\":{\"gridcolor\":\"white\",\"linecolor\":\"white\",\"ticks\":\"\"},\"radialaxis\":{\"gridcolor\":\"white\",\"linecolor\":\"white\",\"ticks\":\"\"}},\"ternary\":{\"bgcolor\":\"#E5ECF6\",\"aaxis\":{\"gridcolor\":\"white\",\"linecolor\":\"white\",\"ticks\":\"\"},\"baxis\":{\"gridcolor\":\"white\",\"linecolor\":\"white\",\"ticks\":\"\"},\"caxis\":{\"gridcolor\":\"white\",\"linecolor\":\"white\",\"ticks\":\"\"}},\"coloraxis\":{\"colorbar\":{\"outlinewidth\":0,\"ticks\":\"\"}},\"colorscale\":{\"sequential\":[[0.0,\"#0d0887\"],[0.1111111111111111,\"#46039f\"],[0.2222222222222222,\"#7201a8\"],[0.3333333333333333,\"#9c179e\"],[0.4444444444444444,\"#bd3786\"],[0.5555555555555556,\"#d8576b\"],[0.6666666666666666,\"#ed7953\"],[0.7777777777777778,\"#fb9f3a\"],[0.8888888888888888,\"#fdca26\"],[1.0,\"#f0f921\"]],\"sequentialminus\":[[0.0,\"#0d0887\"],[0.1111111111111111,\"#46039f\"],[0.2222222222222222,\"#7201a8\"],[0.3333333333333333,\"#9c179e\"],[0.4444444444444444,\"#bd3786\"],[0.5555555555555556,\"#d8576b\"],[0.6666666666666666,\"#ed7953\"],[0.7777777777777778,\"#fb9f3a\"],[0.8888888888888888,\"#fdca26\"],[1.0,\"#f0f921\"]],\"diverging\":[[0,\"#8e0152\"],[0.1,\"#c51b7d\"],[0.2,\"#de77ae\"],[0.3,\"#f1b6da\"],[0.4,\"#fde0ef\"],[0.5,\"#f7f7f7\"],[0.6,\"#e6f5d0\"],[0.7,\"#b8e186\"],[0.8,\"#7fbc41\"],[0.9,\"#4d9221\"],[1,\"#276419\"]]},\"xaxis\":{\"gridcolor\":\"white\",\"linecolor\":\"white\",\"ticks\":\"\",\"title\":{\"standoff\":15},\"zerolinecolor\":\"white\",\"automargin\":true,\"zerolinewidth\":2},\"yaxis\":{\"gridcolor\":\"white\",\"linecolor\":\"white\",\"ticks\":\"\",\"title\":{\"standoff\":15},\"zerolinecolor\":\"white\",\"automargin\":true,\"zerolinewidth\":2},\"scene\":{\"xaxis\":{\"backgroundcolor\":\"#E5ECF6\",\"gridcolor\":\"white\",\"linecolor\":\"white\",\"showbackground\":true,\"ticks\":\"\",\"zerolinecolor\":\"white\",\"gridwidth\":2},\"yaxis\":{\"backgroundcolor\":\"#E5ECF6\",\"gridcolor\":\"white\",\"linecolor\":\"white\",\"showbackground\":true,\"ticks\":\"\",\"zerolinecolor\":\"white\",\"gridwidth\":2},\"zaxis\":{\"backgroundcolor\":\"#E5ECF6\",\"gridcolor\":\"white\",\"linecolor\":\"white\",\"showbackground\":true,\"ticks\":\"\",\"zerolinecolor\":\"white\",\"gridwidth\":2}},\"shapedefaults\":{\"line\":{\"color\":\"#2a3f5f\"}},\"annotationdefaults\":{\"arrowcolor\":\"#2a3f5f\",\"arrowhead\":0,\"arrowwidth\":1},\"geo\":{\"bgcolor\":\"white\",\"landcolor\":\"#E5ECF6\",\"subunitcolor\":\"white\",\"showland\":true,\"showlakes\":true,\"lakecolor\":\"white\"},\"title\":{\"x\":0.05},\"mapbox\":{\"style\":\"light\"}}},\"legend\":{\"tracegroupgap\":0},\"margin\":{\"t\":60}},                        {\"responsive\": true}                    ).then(function(){\n",
              "                            \n",
              "var gd = document.getElementById('ad13635e-5c93-42f8-b6a7-2d86b7fdeb3e');\n",
              "var x = new MutationObserver(function (mutations, observer) {{\n",
              "        var display = window.getComputedStyle(gd).display;\n",
              "        if (!display || display === 'none') {{\n",
              "            console.log([gd, 'removed!']);\n",
              "            Plotly.purge(gd);\n",
              "            observer.disconnect();\n",
              "        }}\n",
              "}});\n",
              "\n",
              "// Listen for the removal of the full notebook cells\n",
              "var notebookContainer = gd.closest('#notebook-container');\n",
              "if (notebookContainer) {{\n",
              "    x.observe(notebookContainer, {childList: true});\n",
              "}}\n",
              "\n",
              "// Listen for the clearing of the current output cell\n",
              "var outputEl = gd.closest('.output');\n",
              "if (outputEl) {{\n",
              "    x.observe(outputEl, {childList: true});\n",
              "}}\n",
              "\n",
              "                        })                };                            </script>        </div>\n",
              "</body>\n",
              "</html>"
            ]
          },
          "metadata": {}
        }
      ]
    },
    {
      "cell_type": "code",
      "source": [
        "fig  =  px.bar(shop_groupby , x= 'Promo Code Used' , y = 'Purchase Amount (USD)')\n",
        "fig.show()"
      ],
      "metadata": {
        "colab": {
          "base_uri": "https://localhost:8080/",
          "height": 542
        },
        "id": "Ghr7xJiVNWOv",
        "outputId": "316b3b95-66c5-485f-babe-25ea731436f5"
      },
      "execution_count": 106,
      "outputs": [
        {
          "output_type": "display_data",
          "data": {
            "text/html": [
              "<html>\n",
              "<head><meta charset=\"utf-8\" /></head>\n",
              "<body>\n",
              "    <div>            <script src=\"https://cdnjs.cloudflare.com/ajax/libs/mathjax/2.7.5/MathJax.js?config=TeX-AMS-MML_SVG\"></script><script type=\"text/javascript\">if (window.MathJax && window.MathJax.Hub && window.MathJax.Hub.Config) {window.MathJax.Hub.Config({SVG: {font: \"STIX-Web\"}});}</script>                <script type=\"text/javascript\">window.PlotlyConfig = {MathJaxConfig: 'local'};</script>\n",
              "        <script charset=\"utf-8\" src=\"https://cdn.plot.ly/plotly-2.35.2.min.js\"></script>                <div id=\"25726eec-f4ed-4ac6-8a47-d782e6ab29e1\" class=\"plotly-graph-div\" style=\"height:525px; width:100%;\"></div>            <script type=\"text/javascript\">                                    window.PLOTLYENV=window.PLOTLYENV || {};                                    if (document.getElementById(\"25726eec-f4ed-4ac6-8a47-d782e6ab29e1\")) {                    Plotly.newPlot(                        \"25726eec-f4ed-4ac6-8a47-d782e6ab29e1\",                        [{\"alignmentgroup\":\"True\",\"hovertemplate\":\"Promo Code Used=%{x}\\u003cbr\\u003ePurchase Amount (USD)=%{y}\\u003cextra\\u003e\\u003c\\u002fextra\\u003e\",\"legendgroup\":\"\",\"marker\":{\"color\":\"#636efa\",\"pattern\":{\"shape\":\"\"}},\"name\":\"\",\"offsetgroup\":\"\",\"orientation\":\"v\",\"showlegend\":false,\"textposition\":\"auto\",\"x\":[\"No\",\"Yes\"],\"xaxis\":\"x\",\"y\":[133670,99411],\"yaxis\":\"y\",\"type\":\"bar\"}],                        {\"template\":{\"data\":{\"histogram2dcontour\":[{\"type\":\"histogram2dcontour\",\"colorbar\":{\"outlinewidth\":0,\"ticks\":\"\"},\"colorscale\":[[0.0,\"#0d0887\"],[0.1111111111111111,\"#46039f\"],[0.2222222222222222,\"#7201a8\"],[0.3333333333333333,\"#9c179e\"],[0.4444444444444444,\"#bd3786\"],[0.5555555555555556,\"#d8576b\"],[0.6666666666666666,\"#ed7953\"],[0.7777777777777778,\"#fb9f3a\"],[0.8888888888888888,\"#fdca26\"],[1.0,\"#f0f921\"]]}],\"choropleth\":[{\"type\":\"choropleth\",\"colorbar\":{\"outlinewidth\":0,\"ticks\":\"\"}}],\"histogram2d\":[{\"type\":\"histogram2d\",\"colorbar\":{\"outlinewidth\":0,\"ticks\":\"\"},\"colorscale\":[[0.0,\"#0d0887\"],[0.1111111111111111,\"#46039f\"],[0.2222222222222222,\"#7201a8\"],[0.3333333333333333,\"#9c179e\"],[0.4444444444444444,\"#bd3786\"],[0.5555555555555556,\"#d8576b\"],[0.6666666666666666,\"#ed7953\"],[0.7777777777777778,\"#fb9f3a\"],[0.8888888888888888,\"#fdca26\"],[1.0,\"#f0f921\"]]}],\"heatmap\":[{\"type\":\"heatmap\",\"colorbar\":{\"outlinewidth\":0,\"ticks\":\"\"},\"colorscale\":[[0.0,\"#0d0887\"],[0.1111111111111111,\"#46039f\"],[0.2222222222222222,\"#7201a8\"],[0.3333333333333333,\"#9c179e\"],[0.4444444444444444,\"#bd3786\"],[0.5555555555555556,\"#d8576b\"],[0.6666666666666666,\"#ed7953\"],[0.7777777777777778,\"#fb9f3a\"],[0.8888888888888888,\"#fdca26\"],[1.0,\"#f0f921\"]]}],\"heatmapgl\":[{\"type\":\"heatmapgl\",\"colorbar\":{\"outlinewidth\":0,\"ticks\":\"\"},\"colorscale\":[[0.0,\"#0d0887\"],[0.1111111111111111,\"#46039f\"],[0.2222222222222222,\"#7201a8\"],[0.3333333333333333,\"#9c179e\"],[0.4444444444444444,\"#bd3786\"],[0.5555555555555556,\"#d8576b\"],[0.6666666666666666,\"#ed7953\"],[0.7777777777777778,\"#fb9f3a\"],[0.8888888888888888,\"#fdca26\"],[1.0,\"#f0f921\"]]}],\"contourcarpet\":[{\"type\":\"contourcarpet\",\"colorbar\":{\"outlinewidth\":0,\"ticks\":\"\"}}],\"contour\":[{\"type\":\"contour\",\"colorbar\":{\"outlinewidth\":0,\"ticks\":\"\"},\"colorscale\":[[0.0,\"#0d0887\"],[0.1111111111111111,\"#46039f\"],[0.2222222222222222,\"#7201a8\"],[0.3333333333333333,\"#9c179e\"],[0.4444444444444444,\"#bd3786\"],[0.5555555555555556,\"#d8576b\"],[0.6666666666666666,\"#ed7953\"],[0.7777777777777778,\"#fb9f3a\"],[0.8888888888888888,\"#fdca26\"],[1.0,\"#f0f921\"]]}],\"surface\":[{\"type\":\"surface\",\"colorbar\":{\"outlinewidth\":0,\"ticks\":\"\"},\"colorscale\":[[0.0,\"#0d0887\"],[0.1111111111111111,\"#46039f\"],[0.2222222222222222,\"#7201a8\"],[0.3333333333333333,\"#9c179e\"],[0.4444444444444444,\"#bd3786\"],[0.5555555555555556,\"#d8576b\"],[0.6666666666666666,\"#ed7953\"],[0.7777777777777778,\"#fb9f3a\"],[0.8888888888888888,\"#fdca26\"],[1.0,\"#f0f921\"]]}],\"mesh3d\":[{\"type\":\"mesh3d\",\"colorbar\":{\"outlinewidth\":0,\"ticks\":\"\"}}],\"scatter\":[{\"fillpattern\":{\"fillmode\":\"overlay\",\"size\":10,\"solidity\":0.2},\"type\":\"scatter\"}],\"parcoords\":[{\"type\":\"parcoords\",\"line\":{\"colorbar\":{\"outlinewidth\":0,\"ticks\":\"\"}}}],\"scatterpolargl\":[{\"type\":\"scatterpolargl\",\"marker\":{\"colorbar\":{\"outlinewidth\":0,\"ticks\":\"\"}}}],\"bar\":[{\"error_x\":{\"color\":\"#2a3f5f\"},\"error_y\":{\"color\":\"#2a3f5f\"},\"marker\":{\"line\":{\"color\":\"#E5ECF6\",\"width\":0.5},\"pattern\":{\"fillmode\":\"overlay\",\"size\":10,\"solidity\":0.2}},\"type\":\"bar\"}],\"scattergeo\":[{\"type\":\"scattergeo\",\"marker\":{\"colorbar\":{\"outlinewidth\":0,\"ticks\":\"\"}}}],\"scatterpolar\":[{\"type\":\"scatterpolar\",\"marker\":{\"colorbar\":{\"outlinewidth\":0,\"ticks\":\"\"}}}],\"histogram\":[{\"marker\":{\"pattern\":{\"fillmode\":\"overlay\",\"size\":10,\"solidity\":0.2}},\"type\":\"histogram\"}],\"scattergl\":[{\"type\":\"scattergl\",\"marker\":{\"colorbar\":{\"outlinewidth\":0,\"ticks\":\"\"}}}],\"scatter3d\":[{\"type\":\"scatter3d\",\"line\":{\"colorbar\":{\"outlinewidth\":0,\"ticks\":\"\"}},\"marker\":{\"colorbar\":{\"outlinewidth\":0,\"ticks\":\"\"}}}],\"scattermapbox\":[{\"type\":\"scattermapbox\",\"marker\":{\"colorbar\":{\"outlinewidth\":0,\"ticks\":\"\"}}}],\"scatterternary\":[{\"type\":\"scatterternary\",\"marker\":{\"colorbar\":{\"outlinewidth\":0,\"ticks\":\"\"}}}],\"scattercarpet\":[{\"type\":\"scattercarpet\",\"marker\":{\"colorbar\":{\"outlinewidth\":0,\"ticks\":\"\"}}}],\"carpet\":[{\"aaxis\":{\"endlinecolor\":\"#2a3f5f\",\"gridcolor\":\"white\",\"linecolor\":\"white\",\"minorgridcolor\":\"white\",\"startlinecolor\":\"#2a3f5f\"},\"baxis\":{\"endlinecolor\":\"#2a3f5f\",\"gridcolor\":\"white\",\"linecolor\":\"white\",\"minorgridcolor\":\"white\",\"startlinecolor\":\"#2a3f5f\"},\"type\":\"carpet\"}],\"table\":[{\"cells\":{\"fill\":{\"color\":\"#EBF0F8\"},\"line\":{\"color\":\"white\"}},\"header\":{\"fill\":{\"color\":\"#C8D4E3\"},\"line\":{\"color\":\"white\"}},\"type\":\"table\"}],\"barpolar\":[{\"marker\":{\"line\":{\"color\":\"#E5ECF6\",\"width\":0.5},\"pattern\":{\"fillmode\":\"overlay\",\"size\":10,\"solidity\":0.2}},\"type\":\"barpolar\"}],\"pie\":[{\"automargin\":true,\"type\":\"pie\"}]},\"layout\":{\"autotypenumbers\":\"strict\",\"colorway\":[\"#636efa\",\"#EF553B\",\"#00cc96\",\"#ab63fa\",\"#FFA15A\",\"#19d3f3\",\"#FF6692\",\"#B6E880\",\"#FF97FF\",\"#FECB52\"],\"font\":{\"color\":\"#2a3f5f\"},\"hovermode\":\"closest\",\"hoverlabel\":{\"align\":\"left\"},\"paper_bgcolor\":\"white\",\"plot_bgcolor\":\"#E5ECF6\",\"polar\":{\"bgcolor\":\"#E5ECF6\",\"angularaxis\":{\"gridcolor\":\"white\",\"linecolor\":\"white\",\"ticks\":\"\"},\"radialaxis\":{\"gridcolor\":\"white\",\"linecolor\":\"white\",\"ticks\":\"\"}},\"ternary\":{\"bgcolor\":\"#E5ECF6\",\"aaxis\":{\"gridcolor\":\"white\",\"linecolor\":\"white\",\"ticks\":\"\"},\"baxis\":{\"gridcolor\":\"white\",\"linecolor\":\"white\",\"ticks\":\"\"},\"caxis\":{\"gridcolor\":\"white\",\"linecolor\":\"white\",\"ticks\":\"\"}},\"coloraxis\":{\"colorbar\":{\"outlinewidth\":0,\"ticks\":\"\"}},\"colorscale\":{\"sequential\":[[0.0,\"#0d0887\"],[0.1111111111111111,\"#46039f\"],[0.2222222222222222,\"#7201a8\"],[0.3333333333333333,\"#9c179e\"],[0.4444444444444444,\"#bd3786\"],[0.5555555555555556,\"#d8576b\"],[0.6666666666666666,\"#ed7953\"],[0.7777777777777778,\"#fb9f3a\"],[0.8888888888888888,\"#fdca26\"],[1.0,\"#f0f921\"]],\"sequentialminus\":[[0.0,\"#0d0887\"],[0.1111111111111111,\"#46039f\"],[0.2222222222222222,\"#7201a8\"],[0.3333333333333333,\"#9c179e\"],[0.4444444444444444,\"#bd3786\"],[0.5555555555555556,\"#d8576b\"],[0.6666666666666666,\"#ed7953\"],[0.7777777777777778,\"#fb9f3a\"],[0.8888888888888888,\"#fdca26\"],[1.0,\"#f0f921\"]],\"diverging\":[[0,\"#8e0152\"],[0.1,\"#c51b7d\"],[0.2,\"#de77ae\"],[0.3,\"#f1b6da\"],[0.4,\"#fde0ef\"],[0.5,\"#f7f7f7\"],[0.6,\"#e6f5d0\"],[0.7,\"#b8e186\"],[0.8,\"#7fbc41\"],[0.9,\"#4d9221\"],[1,\"#276419\"]]},\"xaxis\":{\"gridcolor\":\"white\",\"linecolor\":\"white\",\"ticks\":\"\",\"title\":{\"standoff\":15},\"zerolinecolor\":\"white\",\"automargin\":true,\"zerolinewidth\":2},\"yaxis\":{\"gridcolor\":\"white\",\"linecolor\":\"white\",\"ticks\":\"\",\"title\":{\"standoff\":15},\"zerolinecolor\":\"white\",\"automargin\":true,\"zerolinewidth\":2},\"scene\":{\"xaxis\":{\"backgroundcolor\":\"#E5ECF6\",\"gridcolor\":\"white\",\"linecolor\":\"white\",\"showbackground\":true,\"ticks\":\"\",\"zerolinecolor\":\"white\",\"gridwidth\":2},\"yaxis\":{\"backgroundcolor\":\"#E5ECF6\",\"gridcolor\":\"white\",\"linecolor\":\"white\",\"showbackground\":true,\"ticks\":\"\",\"zerolinecolor\":\"white\",\"gridwidth\":2},\"zaxis\":{\"backgroundcolor\":\"#E5ECF6\",\"gridcolor\":\"white\",\"linecolor\":\"white\",\"showbackground\":true,\"ticks\":\"\",\"zerolinecolor\":\"white\",\"gridwidth\":2}},\"shapedefaults\":{\"line\":{\"color\":\"#2a3f5f\"}},\"annotationdefaults\":{\"arrowcolor\":\"#2a3f5f\",\"arrowhead\":0,\"arrowwidth\":1},\"geo\":{\"bgcolor\":\"white\",\"landcolor\":\"#E5ECF6\",\"subunitcolor\":\"white\",\"showland\":true,\"showlakes\":true,\"lakecolor\":\"white\"},\"title\":{\"x\":0.05},\"mapbox\":{\"style\":\"light\"}}},\"xaxis\":{\"anchor\":\"y\",\"domain\":[0.0,1.0],\"title\":{\"text\":\"Promo Code Used\"}},\"yaxis\":{\"anchor\":\"x\",\"domain\":[0.0,1.0],\"title\":{\"text\":\"Purchase Amount (USD)\"}},\"legend\":{\"tracegroupgap\":0},\"margin\":{\"t\":60},\"barmode\":\"relative\"},                        {\"responsive\": true}                    ).then(function(){\n",
              "                            \n",
              "var gd = document.getElementById('25726eec-f4ed-4ac6-8a47-d782e6ab29e1');\n",
              "var x = new MutationObserver(function (mutations, observer) {{\n",
              "        var display = window.getComputedStyle(gd).display;\n",
              "        if (!display || display === 'none') {{\n",
              "            console.log([gd, 'removed!']);\n",
              "            Plotly.purge(gd);\n",
              "            observer.disconnect();\n",
              "        }}\n",
              "}});\n",
              "\n",
              "// Listen for the removal of the full notebook cells\n",
              "var notebookContainer = gd.closest('#notebook-container');\n",
              "if (notebookContainer) {{\n",
              "    x.observe(notebookContainer, {childList: true});\n",
              "}}\n",
              "\n",
              "// Listen for the clearing of the current output cell\n",
              "var outputEl = gd.closest('.output');\n",
              "if (outputEl) {{\n",
              "    x.observe(outputEl, {childList: true});\n",
              "}}\n",
              "\n",
              "                        })                };                            </script>        </div>\n",
              "</body>\n",
              "</html>"
            ]
          },
          "metadata": {}
        }
      ]
    },
    {
      "cell_type": "markdown",
      "source": [
        "# **10 How does the frequency of purchases vary across different age groups?**"
      ],
      "metadata": {
        "id": "kO7Kdst2NdhB"
      }
    },
    {
      "cell_type": "code",
      "source": [
        "df[['Age' , 'Age_category']]"
      ],
      "metadata": {
        "colab": {
          "base_uri": "https://localhost:8080/",
          "height": 423
        },
        "id": "tKO0eXWYNlvp",
        "outputId": "6a1daaea-39fa-4eeb-de94-88752f20c465"
      },
      "execution_count": 107,
      "outputs": [
        {
          "output_type": "execute_result",
          "data": {
            "text/plain": [
              "      Age        Age_category\n",
              "0      55                 old\n",
              "1      19        Young Adults\n",
              "2      50  Middle-Aged Adults\n",
              "3      21        Young Adults\n",
              "4      45  Middle-Aged Adults\n",
              "...   ...                 ...\n",
              "3895   40  Middle-Aged Adults\n",
              "3896   52                 old\n",
              "3897   46  Middle-Aged Adults\n",
              "3898   44  Middle-Aged Adults\n",
              "3899   52                 old\n",
              "\n",
              "[3900 rows x 2 columns]"
            ],
            "text/html": [
              "\n",
              "  <div id=\"df-0221cd92-85a8-41d8-b654-3b97207c0668\" class=\"colab-df-container\">\n",
              "    <div>\n",
              "<style scoped>\n",
              "    .dataframe tbody tr th:only-of-type {\n",
              "        vertical-align: middle;\n",
              "    }\n",
              "\n",
              "    .dataframe tbody tr th {\n",
              "        vertical-align: top;\n",
              "    }\n",
              "\n",
              "    .dataframe thead th {\n",
              "        text-align: right;\n",
              "    }\n",
              "</style>\n",
              "<table border=\"1\" class=\"dataframe\">\n",
              "  <thead>\n",
              "    <tr style=\"text-align: right;\">\n",
              "      <th></th>\n",
              "      <th>Age</th>\n",
              "      <th>Age_category</th>\n",
              "    </tr>\n",
              "  </thead>\n",
              "  <tbody>\n",
              "    <tr>\n",
              "      <th>0</th>\n",
              "      <td>55</td>\n",
              "      <td>old</td>\n",
              "    </tr>\n",
              "    <tr>\n",
              "      <th>1</th>\n",
              "      <td>19</td>\n",
              "      <td>Young Adults</td>\n",
              "    </tr>\n",
              "    <tr>\n",
              "      <th>2</th>\n",
              "      <td>50</td>\n",
              "      <td>Middle-Aged Adults</td>\n",
              "    </tr>\n",
              "    <tr>\n",
              "      <th>3</th>\n",
              "      <td>21</td>\n",
              "      <td>Young Adults</td>\n",
              "    </tr>\n",
              "    <tr>\n",
              "      <th>4</th>\n",
              "      <td>45</td>\n",
              "      <td>Middle-Aged Adults</td>\n",
              "    </tr>\n",
              "    <tr>\n",
              "      <th>...</th>\n",
              "      <td>...</td>\n",
              "      <td>...</td>\n",
              "    </tr>\n",
              "    <tr>\n",
              "      <th>3895</th>\n",
              "      <td>40</td>\n",
              "      <td>Middle-Aged Adults</td>\n",
              "    </tr>\n",
              "    <tr>\n",
              "      <th>3896</th>\n",
              "      <td>52</td>\n",
              "      <td>old</td>\n",
              "    </tr>\n",
              "    <tr>\n",
              "      <th>3897</th>\n",
              "      <td>46</td>\n",
              "      <td>Middle-Aged Adults</td>\n",
              "    </tr>\n",
              "    <tr>\n",
              "      <th>3898</th>\n",
              "      <td>44</td>\n",
              "      <td>Middle-Aged Adults</td>\n",
              "    </tr>\n",
              "    <tr>\n",
              "      <th>3899</th>\n",
              "      <td>52</td>\n",
              "      <td>old</td>\n",
              "    </tr>\n",
              "  </tbody>\n",
              "</table>\n",
              "<p>3900 rows × 2 columns</p>\n",
              "</div>\n",
              "    <div class=\"colab-df-buttons\">\n",
              "\n",
              "  <div class=\"colab-df-container\">\n",
              "    <button class=\"colab-df-convert\" onclick=\"convertToInteractive('df-0221cd92-85a8-41d8-b654-3b97207c0668')\"\n",
              "            title=\"Convert this dataframe to an interactive table.\"\n",
              "            style=\"display:none;\">\n",
              "\n",
              "  <svg xmlns=\"http://www.w3.org/2000/svg\" height=\"24px\" viewBox=\"0 -960 960 960\">\n",
              "    <path d=\"M120-120v-720h720v720H120Zm60-500h600v-160H180v160Zm220 220h160v-160H400v160Zm0 220h160v-160H400v160ZM180-400h160v-160H180v160Zm440 0h160v-160H620v160ZM180-180h160v-160H180v160Zm440 0h160v-160H620v160Z\"/>\n",
              "  </svg>\n",
              "    </button>\n",
              "\n",
              "  <style>\n",
              "    .colab-df-container {\n",
              "      display:flex;\n",
              "      gap: 12px;\n",
              "    }\n",
              "\n",
              "    .colab-df-convert {\n",
              "      background-color: #E8F0FE;\n",
              "      border: none;\n",
              "      border-radius: 50%;\n",
              "      cursor: pointer;\n",
              "      display: none;\n",
              "      fill: #1967D2;\n",
              "      height: 32px;\n",
              "      padding: 0 0 0 0;\n",
              "      width: 32px;\n",
              "    }\n",
              "\n",
              "    .colab-df-convert:hover {\n",
              "      background-color: #E2EBFA;\n",
              "      box-shadow: 0px 1px 2px rgba(60, 64, 67, 0.3), 0px 1px 3px 1px rgba(60, 64, 67, 0.15);\n",
              "      fill: #174EA6;\n",
              "    }\n",
              "\n",
              "    .colab-df-buttons div {\n",
              "      margin-bottom: 4px;\n",
              "    }\n",
              "\n",
              "    [theme=dark] .colab-df-convert {\n",
              "      background-color: #3B4455;\n",
              "      fill: #D2E3FC;\n",
              "    }\n",
              "\n",
              "    [theme=dark] .colab-df-convert:hover {\n",
              "      background-color: #434B5C;\n",
              "      box-shadow: 0px 1px 3px 1px rgba(0, 0, 0, 0.15);\n",
              "      filter: drop-shadow(0px 1px 2px rgba(0, 0, 0, 0.3));\n",
              "      fill: #FFFFFF;\n",
              "    }\n",
              "  </style>\n",
              "\n",
              "    <script>\n",
              "      const buttonEl =\n",
              "        document.querySelector('#df-0221cd92-85a8-41d8-b654-3b97207c0668 button.colab-df-convert');\n",
              "      buttonEl.style.display =\n",
              "        google.colab.kernel.accessAllowed ? 'block' : 'none';\n",
              "\n",
              "      async function convertToInteractive(key) {\n",
              "        const element = document.querySelector('#df-0221cd92-85a8-41d8-b654-3b97207c0668');\n",
              "        const dataTable =\n",
              "          await google.colab.kernel.invokeFunction('convertToInteractive',\n",
              "                                                    [key], {});\n",
              "        if (!dataTable) return;\n",
              "\n",
              "        const docLinkHtml = 'Like what you see? Visit the ' +\n",
              "          '<a target=\"_blank\" href=https://colab.research.google.com/notebooks/data_table.ipynb>data table notebook</a>'\n",
              "          + ' to learn more about interactive tables.';\n",
              "        element.innerHTML = '';\n",
              "        dataTable['output_type'] = 'display_data';\n",
              "        await google.colab.output.renderOutput(dataTable, element);\n",
              "        const docLink = document.createElement('div');\n",
              "        docLink.innerHTML = docLinkHtml;\n",
              "        element.appendChild(docLink);\n",
              "      }\n",
              "    </script>\n",
              "  </div>\n",
              "\n",
              "\n",
              "<div id=\"df-0ae27a27-7c49-4a24-8a21-4d76979eec6c\">\n",
              "  <button class=\"colab-df-quickchart\" onclick=\"quickchart('df-0ae27a27-7c49-4a24-8a21-4d76979eec6c')\"\n",
              "            title=\"Suggest charts\"\n",
              "            style=\"display:none;\">\n",
              "\n",
              "<svg xmlns=\"http://www.w3.org/2000/svg\" height=\"24px\"viewBox=\"0 0 24 24\"\n",
              "     width=\"24px\">\n",
              "    <g>\n",
              "        <path d=\"M19 3H5c-1.1 0-2 .9-2 2v14c0 1.1.9 2 2 2h14c1.1 0 2-.9 2-2V5c0-1.1-.9-2-2-2zM9 17H7v-7h2v7zm4 0h-2V7h2v10zm4 0h-2v-4h2v4z\"/>\n",
              "    </g>\n",
              "</svg>\n",
              "  </button>\n",
              "\n",
              "<style>\n",
              "  .colab-df-quickchart {\n",
              "      --bg-color: #E8F0FE;\n",
              "      --fill-color: #1967D2;\n",
              "      --hover-bg-color: #E2EBFA;\n",
              "      --hover-fill-color: #174EA6;\n",
              "      --disabled-fill-color: #AAA;\n",
              "      --disabled-bg-color: #DDD;\n",
              "  }\n",
              "\n",
              "  [theme=dark] .colab-df-quickchart {\n",
              "      --bg-color: #3B4455;\n",
              "      --fill-color: #D2E3FC;\n",
              "      --hover-bg-color: #434B5C;\n",
              "      --hover-fill-color: #FFFFFF;\n",
              "      --disabled-bg-color: #3B4455;\n",
              "      --disabled-fill-color: #666;\n",
              "  }\n",
              "\n",
              "  .colab-df-quickchart {\n",
              "    background-color: var(--bg-color);\n",
              "    border: none;\n",
              "    border-radius: 50%;\n",
              "    cursor: pointer;\n",
              "    display: none;\n",
              "    fill: var(--fill-color);\n",
              "    height: 32px;\n",
              "    padding: 0;\n",
              "    width: 32px;\n",
              "  }\n",
              "\n",
              "  .colab-df-quickchart:hover {\n",
              "    background-color: var(--hover-bg-color);\n",
              "    box-shadow: 0 1px 2px rgba(60, 64, 67, 0.3), 0 1px 3px 1px rgba(60, 64, 67, 0.15);\n",
              "    fill: var(--button-hover-fill-color);\n",
              "  }\n",
              "\n",
              "  .colab-df-quickchart-complete:disabled,\n",
              "  .colab-df-quickchart-complete:disabled:hover {\n",
              "    background-color: var(--disabled-bg-color);\n",
              "    fill: var(--disabled-fill-color);\n",
              "    box-shadow: none;\n",
              "  }\n",
              "\n",
              "  .colab-df-spinner {\n",
              "    border: 2px solid var(--fill-color);\n",
              "    border-color: transparent;\n",
              "    border-bottom-color: var(--fill-color);\n",
              "    animation:\n",
              "      spin 1s steps(1) infinite;\n",
              "  }\n",
              "\n",
              "  @keyframes spin {\n",
              "    0% {\n",
              "      border-color: transparent;\n",
              "      border-bottom-color: var(--fill-color);\n",
              "      border-left-color: var(--fill-color);\n",
              "    }\n",
              "    20% {\n",
              "      border-color: transparent;\n",
              "      border-left-color: var(--fill-color);\n",
              "      border-top-color: var(--fill-color);\n",
              "    }\n",
              "    30% {\n",
              "      border-color: transparent;\n",
              "      border-left-color: var(--fill-color);\n",
              "      border-top-color: var(--fill-color);\n",
              "      border-right-color: var(--fill-color);\n",
              "    }\n",
              "    40% {\n",
              "      border-color: transparent;\n",
              "      border-right-color: var(--fill-color);\n",
              "      border-top-color: var(--fill-color);\n",
              "    }\n",
              "    60% {\n",
              "      border-color: transparent;\n",
              "      border-right-color: var(--fill-color);\n",
              "    }\n",
              "    80% {\n",
              "      border-color: transparent;\n",
              "      border-right-color: var(--fill-color);\n",
              "      border-bottom-color: var(--fill-color);\n",
              "    }\n",
              "    90% {\n",
              "      border-color: transparent;\n",
              "      border-bottom-color: var(--fill-color);\n",
              "    }\n",
              "  }\n",
              "</style>\n",
              "\n",
              "  <script>\n",
              "    async function quickchart(key) {\n",
              "      const quickchartButtonEl =\n",
              "        document.querySelector('#' + key + ' button');\n",
              "      quickchartButtonEl.disabled = true;  // To prevent multiple clicks.\n",
              "      quickchartButtonEl.classList.add('colab-df-spinner');\n",
              "      try {\n",
              "        const charts = await google.colab.kernel.invokeFunction(\n",
              "            'suggestCharts', [key], {});\n",
              "      } catch (error) {\n",
              "        console.error('Error during call to suggestCharts:', error);\n",
              "      }\n",
              "      quickchartButtonEl.classList.remove('colab-df-spinner');\n",
              "      quickchartButtonEl.classList.add('colab-df-quickchart-complete');\n",
              "    }\n",
              "    (() => {\n",
              "      let quickchartButtonEl =\n",
              "        document.querySelector('#df-0ae27a27-7c49-4a24-8a21-4d76979eec6c button');\n",
              "      quickchartButtonEl.style.display =\n",
              "        google.colab.kernel.accessAllowed ? 'block' : 'none';\n",
              "    })();\n",
              "  </script>\n",
              "</div>\n",
              "\n",
              "    </div>\n",
              "  </div>\n"
            ],
            "application/vnd.google.colaboratory.intrinsic+json": {
              "type": "dataframe",
              "summary": "{\n  \"name\": \"df[['Age' , 'Age_category']]\",\n  \"rows\": 3900,\n  \"fields\": [\n    {\n      \"column\": \"Age\",\n      \"properties\": {\n        \"dtype\": \"number\",\n        \"std\": 15,\n        \"min\": 18,\n        \"max\": 70,\n        \"num_unique_values\": 53,\n        \"samples\": [\n          56,\n          24,\n          51\n        ],\n        \"semantic_type\": \"\",\n        \"description\": \"\"\n      }\n    },\n    {\n      \"column\": \"Age_category\",\n      \"properties\": {\n        \"dtype\": \"category\",\n        \"num_unique_values\": 4,\n        \"samples\": [\n          \"Young Adults\",\n          \"teen\",\n          \"old\"\n        ],\n        \"semantic_type\": \"\",\n        \"description\": \"\"\n      }\n    }\n  ]\n}"
            }
          },
          "metadata": {},
          "execution_count": 107
        }
      ]
    },
    {
      "cell_type": "code",
      "source": [
        "df['Age_category'].unique()"
      ],
      "metadata": {
        "colab": {
          "base_uri": "https://localhost:8080/"
        },
        "id": "2WQO4DZUNouM",
        "outputId": "bc2128ce-23f8-416a-acd5-b8ab3fa7d065"
      },
      "execution_count": 108,
      "outputs": [
        {
          "output_type": "execute_result",
          "data": {
            "text/plain": [
              "['old', 'Young Adults', 'Middle-Aged Adults', 'teen']\n",
              "Categories (5, object): ['child' < 'teen' < 'Young Adults' < 'Middle-Aged Adults' < 'old']"
            ]
          },
          "metadata": {},
          "execution_count": 108
        }
      ]
    },
    {
      "cell_type": "code",
      "source": [
        "shop_group = df.groupby('Frequency of Purchases')['Age'].sum()"
      ],
      "metadata": {
        "id": "B5EeI0dVNsJa"
      },
      "execution_count": 109,
      "outputs": []
    },
    {
      "cell_type": "code",
      "source": [
        "px.sunburst(df , path=['Frequency of Purchases','Age_category'] , values='Age')"
      ],
      "metadata": {
        "colab": {
          "base_uri": "https://localhost:8080/",
          "height": 631
        },
        "id": "TPIcmTNWNvx-",
        "outputId": "7f51f832-cb4a-48d2-cf45-8693e3d93659"
      },
      "execution_count": 110,
      "outputs": [
        {
          "output_type": "stream",
          "name": "stderr",
          "text": [
            "/usr/local/lib/python3.11/dist-packages/plotly/express/_core.py:1727: FutureWarning:\n",
            "\n",
            "The default of observed=False is deprecated and will be changed to True in a future version of pandas. Pass observed=False to retain current behavior or observed=True to adopt the future default and silence this warning.\n",
            "\n"
          ]
        },
        {
          "output_type": "display_data",
          "data": {
            "text/html": [
              "<html>\n",
              "<head><meta charset=\"utf-8\" /></head>\n",
              "<body>\n",
              "    <div>            <script src=\"https://cdnjs.cloudflare.com/ajax/libs/mathjax/2.7.5/MathJax.js?config=TeX-AMS-MML_SVG\"></script><script type=\"text/javascript\">if (window.MathJax && window.MathJax.Hub && window.MathJax.Hub.Config) {window.MathJax.Hub.Config({SVG: {font: \"STIX-Web\"}});}</script>                <script type=\"text/javascript\">window.PlotlyConfig = {MathJaxConfig: 'local'};</script>\n",
              "        <script charset=\"utf-8\" src=\"https://cdn.plot.ly/plotly-2.35.2.min.js\"></script>                <div id=\"2a309879-3356-40ce-ba72-a74b1f57070c\" class=\"plotly-graph-div\" style=\"height:525px; width:100%;\"></div>            <script type=\"text/javascript\">                                    window.PLOTLYENV=window.PLOTLYENV || {};                                    if (document.getElementById(\"2a309879-3356-40ce-ba72-a74b1f57070c\")) {                    Plotly.newPlot(                        \"2a309879-3356-40ce-ba72-a74b1f57070c\",                        [{\"branchvalues\":\"total\",\"domain\":{\"x\":[0.0,1.0],\"y\":[0.0,1.0]},\"hovertemplate\":\"labels=%{label}\\u003cbr\\u003eAge=%{value}\\u003cbr\\u003eparent=%{parent}\\u003cbr\\u003eid=%{id}\\u003cextra\\u003e\\u003c\\u002fextra\\u003e\",\"ids\":[\"Annually\\u002fchild\",\"Bi-Weekly\\u002fchild\",\"Every 3 Months\\u002fchild\",\"Fortnightly\\u002fchild\",\"Monthly\\u002fchild\",\"Quarterly\\u002fchild\",\"Weekly\\u002fchild\",\"Annually\\u002fteen\",\"Bi-Weekly\\u002fteen\",\"Every 3 Months\\u002fteen\",\"Fortnightly\\u002fteen\",\"Monthly\\u002fteen\",\"Quarterly\\u002fteen\",\"Weekly\\u002fteen\",\"Annually\\u002fYoung Adults\",\"Bi-Weekly\\u002fYoung Adults\",\"Every 3 Months\\u002fYoung Adults\",\"Fortnightly\\u002fYoung Adults\",\"Monthly\\u002fYoung Adults\",\"Quarterly\\u002fYoung Adults\",\"Weekly\\u002fYoung Adults\",\"Annually\\u002fMiddle-Aged Adults\",\"Bi-Weekly\\u002fMiddle-Aged Adults\",\"Every 3 Months\\u002fMiddle-Aged Adults\",\"Fortnightly\\u002fMiddle-Aged Adults\",\"Monthly\\u002fMiddle-Aged Adults\",\"Quarterly\\u002fMiddle-Aged Adults\",\"Weekly\\u002fMiddle-Aged Adults\",\"Annually\\u002fold\",\"Bi-Weekly\\u002fold\",\"Every 3 Months\\u002fold\",\"Fortnightly\\u002fold\",\"Monthly\\u002fold\",\"Quarterly\\u002fold\",\"Weekly\\u002fold\",\"Annually\",\"Bi-Weekly\",\"Every 3 Months\",\"Fortnightly\",\"Monthly\",\"Quarterly\",\"Weekly\"],\"labels\":[\"child\",\"child\",\"child\",\"child\",\"child\",\"child\",\"child\",\"teen\",\"teen\",\"teen\",\"teen\",\"teen\",\"teen\",\"teen\",\"Young Adults\",\"Young Adults\",\"Young Adults\",\"Young Adults\",\"Young Adults\",\"Young Adults\",\"Young Adults\",\"Middle-Aged Adults\",\"Middle-Aged Adults\",\"Middle-Aged Adults\",\"Middle-Aged Adults\",\"Middle-Aged Adults\",\"Middle-Aged Adults\",\"Middle-Aged Adults\",\"old\",\"old\",\"old\",\"old\",\"old\",\"old\",\"old\",\"Annually\",\"Bi-Weekly\",\"Every 3 Months\",\"Fortnightly\",\"Monthly\",\"Quarterly\",\"Weekly\"],\"name\":\"\",\"parents\":[\"Annually\",\"Bi-Weekly\",\"Every 3 Months\",\"Fortnightly\",\"Monthly\",\"Quarterly\",\"Weekly\",\"Annually\",\"Bi-Weekly\",\"Every 3 Months\",\"Fortnightly\",\"Monthly\",\"Quarterly\",\"Weekly\",\"Annually\",\"Bi-Weekly\",\"Every 3 Months\",\"Fortnightly\",\"Monthly\",\"Quarterly\",\"Weekly\",\"Annually\",\"Bi-Weekly\",\"Every 3 Months\",\"Fortnightly\",\"Monthly\",\"Quarterly\",\"Weekly\",\"Annually\",\"Bi-Weekly\",\"Every 3 Months\",\"Fortnightly\",\"Monthly\",\"Quarterly\",\"Weekly\",\"\",\"\",\"\",\"\",\"\",\"\",\"\"],\"values\":[0,0,0,0,0,0,0,180,180,216,180,126,198,162,2679,3709,3235,3110,2873,3365,2680,8712,7802,9343,8468,9106,7652,8736,13978,11940,12556,11866,12384,13943,12488,25549,23631,25350,23624,24489,25158,24066],\"type\":\"sunburst\"}],                        {\"template\":{\"data\":{\"histogram2dcontour\":[{\"type\":\"histogram2dcontour\",\"colorbar\":{\"outlinewidth\":0,\"ticks\":\"\"},\"colorscale\":[[0.0,\"#0d0887\"],[0.1111111111111111,\"#46039f\"],[0.2222222222222222,\"#7201a8\"],[0.3333333333333333,\"#9c179e\"],[0.4444444444444444,\"#bd3786\"],[0.5555555555555556,\"#d8576b\"],[0.6666666666666666,\"#ed7953\"],[0.7777777777777778,\"#fb9f3a\"],[0.8888888888888888,\"#fdca26\"],[1.0,\"#f0f921\"]]}],\"choropleth\":[{\"type\":\"choropleth\",\"colorbar\":{\"outlinewidth\":0,\"ticks\":\"\"}}],\"histogram2d\":[{\"type\":\"histogram2d\",\"colorbar\":{\"outlinewidth\":0,\"ticks\":\"\"},\"colorscale\":[[0.0,\"#0d0887\"],[0.1111111111111111,\"#46039f\"],[0.2222222222222222,\"#7201a8\"],[0.3333333333333333,\"#9c179e\"],[0.4444444444444444,\"#bd3786\"],[0.5555555555555556,\"#d8576b\"],[0.6666666666666666,\"#ed7953\"],[0.7777777777777778,\"#fb9f3a\"],[0.8888888888888888,\"#fdca26\"],[1.0,\"#f0f921\"]]}],\"heatmap\":[{\"type\":\"heatmap\",\"colorbar\":{\"outlinewidth\":0,\"ticks\":\"\"},\"colorscale\":[[0.0,\"#0d0887\"],[0.1111111111111111,\"#46039f\"],[0.2222222222222222,\"#7201a8\"],[0.3333333333333333,\"#9c179e\"],[0.4444444444444444,\"#bd3786\"],[0.5555555555555556,\"#d8576b\"],[0.6666666666666666,\"#ed7953\"],[0.7777777777777778,\"#fb9f3a\"],[0.8888888888888888,\"#fdca26\"],[1.0,\"#f0f921\"]]}],\"heatmapgl\":[{\"type\":\"heatmapgl\",\"colorbar\":{\"outlinewidth\":0,\"ticks\":\"\"},\"colorscale\":[[0.0,\"#0d0887\"],[0.1111111111111111,\"#46039f\"],[0.2222222222222222,\"#7201a8\"],[0.3333333333333333,\"#9c179e\"],[0.4444444444444444,\"#bd3786\"],[0.5555555555555556,\"#d8576b\"],[0.6666666666666666,\"#ed7953\"],[0.7777777777777778,\"#fb9f3a\"],[0.8888888888888888,\"#fdca26\"],[1.0,\"#f0f921\"]]}],\"contourcarpet\":[{\"type\":\"contourcarpet\",\"colorbar\":{\"outlinewidth\":0,\"ticks\":\"\"}}],\"contour\":[{\"type\":\"contour\",\"colorbar\":{\"outlinewidth\":0,\"ticks\":\"\"},\"colorscale\":[[0.0,\"#0d0887\"],[0.1111111111111111,\"#46039f\"],[0.2222222222222222,\"#7201a8\"],[0.3333333333333333,\"#9c179e\"],[0.4444444444444444,\"#bd3786\"],[0.5555555555555556,\"#d8576b\"],[0.6666666666666666,\"#ed7953\"],[0.7777777777777778,\"#fb9f3a\"],[0.8888888888888888,\"#fdca26\"],[1.0,\"#f0f921\"]]}],\"surface\":[{\"type\":\"surface\",\"colorbar\":{\"outlinewidth\":0,\"ticks\":\"\"},\"colorscale\":[[0.0,\"#0d0887\"],[0.1111111111111111,\"#46039f\"],[0.2222222222222222,\"#7201a8\"],[0.3333333333333333,\"#9c179e\"],[0.4444444444444444,\"#bd3786\"],[0.5555555555555556,\"#d8576b\"],[0.6666666666666666,\"#ed7953\"],[0.7777777777777778,\"#fb9f3a\"],[0.8888888888888888,\"#fdca26\"],[1.0,\"#f0f921\"]]}],\"mesh3d\":[{\"type\":\"mesh3d\",\"colorbar\":{\"outlinewidth\":0,\"ticks\":\"\"}}],\"scatter\":[{\"fillpattern\":{\"fillmode\":\"overlay\",\"size\":10,\"solidity\":0.2},\"type\":\"scatter\"}],\"parcoords\":[{\"type\":\"parcoords\",\"line\":{\"colorbar\":{\"outlinewidth\":0,\"ticks\":\"\"}}}],\"scatterpolargl\":[{\"type\":\"scatterpolargl\",\"marker\":{\"colorbar\":{\"outlinewidth\":0,\"ticks\":\"\"}}}],\"bar\":[{\"error_x\":{\"color\":\"#2a3f5f\"},\"error_y\":{\"color\":\"#2a3f5f\"},\"marker\":{\"line\":{\"color\":\"#E5ECF6\",\"width\":0.5},\"pattern\":{\"fillmode\":\"overlay\",\"size\":10,\"solidity\":0.2}},\"type\":\"bar\"}],\"scattergeo\":[{\"type\":\"scattergeo\",\"marker\":{\"colorbar\":{\"outlinewidth\":0,\"ticks\":\"\"}}}],\"scatterpolar\":[{\"type\":\"scatterpolar\",\"marker\":{\"colorbar\":{\"outlinewidth\":0,\"ticks\":\"\"}}}],\"histogram\":[{\"marker\":{\"pattern\":{\"fillmode\":\"overlay\",\"size\":10,\"solidity\":0.2}},\"type\":\"histogram\"}],\"scattergl\":[{\"type\":\"scattergl\",\"marker\":{\"colorbar\":{\"outlinewidth\":0,\"ticks\":\"\"}}}],\"scatter3d\":[{\"type\":\"scatter3d\",\"line\":{\"colorbar\":{\"outlinewidth\":0,\"ticks\":\"\"}},\"marker\":{\"colorbar\":{\"outlinewidth\":0,\"ticks\":\"\"}}}],\"scattermapbox\":[{\"type\":\"scattermapbox\",\"marker\":{\"colorbar\":{\"outlinewidth\":0,\"ticks\":\"\"}}}],\"scatterternary\":[{\"type\":\"scatterternary\",\"marker\":{\"colorbar\":{\"outlinewidth\":0,\"ticks\":\"\"}}}],\"scattercarpet\":[{\"type\":\"scattercarpet\",\"marker\":{\"colorbar\":{\"outlinewidth\":0,\"ticks\":\"\"}}}],\"carpet\":[{\"aaxis\":{\"endlinecolor\":\"#2a3f5f\",\"gridcolor\":\"white\",\"linecolor\":\"white\",\"minorgridcolor\":\"white\",\"startlinecolor\":\"#2a3f5f\"},\"baxis\":{\"endlinecolor\":\"#2a3f5f\",\"gridcolor\":\"white\",\"linecolor\":\"white\",\"minorgridcolor\":\"white\",\"startlinecolor\":\"#2a3f5f\"},\"type\":\"carpet\"}],\"table\":[{\"cells\":{\"fill\":{\"color\":\"#EBF0F8\"},\"line\":{\"color\":\"white\"}},\"header\":{\"fill\":{\"color\":\"#C8D4E3\"},\"line\":{\"color\":\"white\"}},\"type\":\"table\"}],\"barpolar\":[{\"marker\":{\"line\":{\"color\":\"#E5ECF6\",\"width\":0.5},\"pattern\":{\"fillmode\":\"overlay\",\"size\":10,\"solidity\":0.2}},\"type\":\"barpolar\"}],\"pie\":[{\"automargin\":true,\"type\":\"pie\"}]},\"layout\":{\"autotypenumbers\":\"strict\",\"colorway\":[\"#636efa\",\"#EF553B\",\"#00cc96\",\"#ab63fa\",\"#FFA15A\",\"#19d3f3\",\"#FF6692\",\"#B6E880\",\"#FF97FF\",\"#FECB52\"],\"font\":{\"color\":\"#2a3f5f\"},\"hovermode\":\"closest\",\"hoverlabel\":{\"align\":\"left\"},\"paper_bgcolor\":\"white\",\"plot_bgcolor\":\"#E5ECF6\",\"polar\":{\"bgcolor\":\"#E5ECF6\",\"angularaxis\":{\"gridcolor\":\"white\",\"linecolor\":\"white\",\"ticks\":\"\"},\"radialaxis\":{\"gridcolor\":\"white\",\"linecolor\":\"white\",\"ticks\":\"\"}},\"ternary\":{\"bgcolor\":\"#E5ECF6\",\"aaxis\":{\"gridcolor\":\"white\",\"linecolor\":\"white\",\"ticks\":\"\"},\"baxis\":{\"gridcolor\":\"white\",\"linecolor\":\"white\",\"ticks\":\"\"},\"caxis\":{\"gridcolor\":\"white\",\"linecolor\":\"white\",\"ticks\":\"\"}},\"coloraxis\":{\"colorbar\":{\"outlinewidth\":0,\"ticks\":\"\"}},\"colorscale\":{\"sequential\":[[0.0,\"#0d0887\"],[0.1111111111111111,\"#46039f\"],[0.2222222222222222,\"#7201a8\"],[0.3333333333333333,\"#9c179e\"],[0.4444444444444444,\"#bd3786\"],[0.5555555555555556,\"#d8576b\"],[0.6666666666666666,\"#ed7953\"],[0.7777777777777778,\"#fb9f3a\"],[0.8888888888888888,\"#fdca26\"],[1.0,\"#f0f921\"]],\"sequentialminus\":[[0.0,\"#0d0887\"],[0.1111111111111111,\"#46039f\"],[0.2222222222222222,\"#7201a8\"],[0.3333333333333333,\"#9c179e\"],[0.4444444444444444,\"#bd3786\"],[0.5555555555555556,\"#d8576b\"],[0.6666666666666666,\"#ed7953\"],[0.7777777777777778,\"#fb9f3a\"],[0.8888888888888888,\"#fdca26\"],[1.0,\"#f0f921\"]],\"diverging\":[[0,\"#8e0152\"],[0.1,\"#c51b7d\"],[0.2,\"#de77ae\"],[0.3,\"#f1b6da\"],[0.4,\"#fde0ef\"],[0.5,\"#f7f7f7\"],[0.6,\"#e6f5d0\"],[0.7,\"#b8e186\"],[0.8,\"#7fbc41\"],[0.9,\"#4d9221\"],[1,\"#276419\"]]},\"xaxis\":{\"gridcolor\":\"white\",\"linecolor\":\"white\",\"ticks\":\"\",\"title\":{\"standoff\":15},\"zerolinecolor\":\"white\",\"automargin\":true,\"zerolinewidth\":2},\"yaxis\":{\"gridcolor\":\"white\",\"linecolor\":\"white\",\"ticks\":\"\",\"title\":{\"standoff\":15},\"zerolinecolor\":\"white\",\"automargin\":true,\"zerolinewidth\":2},\"scene\":{\"xaxis\":{\"backgroundcolor\":\"#E5ECF6\",\"gridcolor\":\"white\",\"linecolor\":\"white\",\"showbackground\":true,\"ticks\":\"\",\"zerolinecolor\":\"white\",\"gridwidth\":2},\"yaxis\":{\"backgroundcolor\":\"#E5ECF6\",\"gridcolor\":\"white\",\"linecolor\":\"white\",\"showbackground\":true,\"ticks\":\"\",\"zerolinecolor\":\"white\",\"gridwidth\":2},\"zaxis\":{\"backgroundcolor\":\"#E5ECF6\",\"gridcolor\":\"white\",\"linecolor\":\"white\",\"showbackground\":true,\"ticks\":\"\",\"zerolinecolor\":\"white\",\"gridwidth\":2}},\"shapedefaults\":{\"line\":{\"color\":\"#2a3f5f\"}},\"annotationdefaults\":{\"arrowcolor\":\"#2a3f5f\",\"arrowhead\":0,\"arrowwidth\":1},\"geo\":{\"bgcolor\":\"white\",\"landcolor\":\"#E5ECF6\",\"subunitcolor\":\"white\",\"showland\":true,\"showlakes\":true,\"lakecolor\":\"white\"},\"title\":{\"x\":0.05},\"mapbox\":{\"style\":\"light\"}}},\"legend\":{\"tracegroupgap\":0},\"margin\":{\"t\":60}},                        {\"responsive\": true}                    ).then(function(){\n",
              "                            \n",
              "var gd = document.getElementById('2a309879-3356-40ce-ba72-a74b1f57070c');\n",
              "var x = new MutationObserver(function (mutations, observer) {{\n",
              "        var display = window.getComputedStyle(gd).display;\n",
              "        if (!display || display === 'none') {{\n",
              "            console.log([gd, 'removed!']);\n",
              "            Plotly.purge(gd);\n",
              "            observer.disconnect();\n",
              "        }}\n",
              "}});\n",
              "\n",
              "// Listen for the removal of the full notebook cells\n",
              "var notebookContainer = gd.closest('#notebook-container');\n",
              "if (notebookContainer) {{\n",
              "    x.observe(notebookContainer, {childList: true});\n",
              "}}\n",
              "\n",
              "// Listen for the clearing of the current output cell\n",
              "var outputEl = gd.closest('.output');\n",
              "if (outputEl) {{\n",
              "    x.observe(outputEl, {childList: true});\n",
              "}}\n",
              "\n",
              "                        })                };                            </script>        </div>\n",
              "</body>\n",
              "</html>"
            ]
          },
          "metadata": {}
        }
      ]
    },
    {
      "cell_type": "markdown",
      "source": [
        "# **11 Are there any correlations between the size of the product and the purchase amount?**"
      ],
      "metadata": {
        "id": "R5f7NnaUN1Xa"
      }
    },
    {
      "cell_type": "code",
      "source": [
        "shop_group = df.groupby('Size')['Purchase Amount (USD)'].sum().reset_index()"
      ],
      "metadata": {
        "id": "hYyoOot0N38q"
      },
      "execution_count": 111,
      "outputs": []
    },
    {
      "cell_type": "code",
      "source": [
        "fig  = px.bar(shop_group , x = 'Size' , y ='Purchase Amount (USD)'  )\n",
        "fig.show()"
      ],
      "metadata": {
        "colab": {
          "base_uri": "https://localhost:8080/",
          "height": 542
        },
        "id": "l232IXidN8qY",
        "outputId": "d898e2cf-ab83-4c5e-8598-c6265280a7bf"
      },
      "execution_count": 112,
      "outputs": [
        {
          "output_type": "display_data",
          "data": {
            "text/html": [
              "<html>\n",
              "<head><meta charset=\"utf-8\" /></head>\n",
              "<body>\n",
              "    <div>            <script src=\"https://cdnjs.cloudflare.com/ajax/libs/mathjax/2.7.5/MathJax.js?config=TeX-AMS-MML_SVG\"></script><script type=\"text/javascript\">if (window.MathJax && window.MathJax.Hub && window.MathJax.Hub.Config) {window.MathJax.Hub.Config({SVG: {font: \"STIX-Web\"}});}</script>                <script type=\"text/javascript\">window.PlotlyConfig = {MathJaxConfig: 'local'};</script>\n",
              "        <script charset=\"utf-8\" src=\"https://cdn.plot.ly/plotly-2.35.2.min.js\"></script>                <div id=\"05dbfac0-7cbd-4fec-92c1-c2662289d4c6\" class=\"plotly-graph-div\" style=\"height:525px; width:100%;\"></div>            <script type=\"text/javascript\">                                    window.PLOTLYENV=window.PLOTLYENV || {};                                    if (document.getElementById(\"05dbfac0-7cbd-4fec-92c1-c2662289d4c6\")) {                    Plotly.newPlot(                        \"05dbfac0-7cbd-4fec-92c1-c2662289d4c6\",                        [{\"alignmentgroup\":\"True\",\"hovertemplate\":\"Size=%{x}\\u003cbr\\u003ePurchase Amount (USD)=%{y}\\u003cextra\\u003e\\u003c\\u002fextra\\u003e\",\"legendgroup\":\"\",\"marker\":{\"color\":\"#636efa\",\"pattern\":{\"shape\":\"\"}},\"name\":\"\",\"offsetgroup\":\"\",\"orientation\":\"v\",\"showlegend\":false,\"textposition\":\"auto\",\"x\":[\"L\",\"M\",\"S\",\"XL\"],\"xaxis\":\"x\",\"y\":[61667,105167,40468,25779],\"yaxis\":\"y\",\"type\":\"bar\"}],                        {\"template\":{\"data\":{\"histogram2dcontour\":[{\"type\":\"histogram2dcontour\",\"colorbar\":{\"outlinewidth\":0,\"ticks\":\"\"},\"colorscale\":[[0.0,\"#0d0887\"],[0.1111111111111111,\"#46039f\"],[0.2222222222222222,\"#7201a8\"],[0.3333333333333333,\"#9c179e\"],[0.4444444444444444,\"#bd3786\"],[0.5555555555555556,\"#d8576b\"],[0.6666666666666666,\"#ed7953\"],[0.7777777777777778,\"#fb9f3a\"],[0.8888888888888888,\"#fdca26\"],[1.0,\"#f0f921\"]]}],\"choropleth\":[{\"type\":\"choropleth\",\"colorbar\":{\"outlinewidth\":0,\"ticks\":\"\"}}],\"histogram2d\":[{\"type\":\"histogram2d\",\"colorbar\":{\"outlinewidth\":0,\"ticks\":\"\"},\"colorscale\":[[0.0,\"#0d0887\"],[0.1111111111111111,\"#46039f\"],[0.2222222222222222,\"#7201a8\"],[0.3333333333333333,\"#9c179e\"],[0.4444444444444444,\"#bd3786\"],[0.5555555555555556,\"#d8576b\"],[0.6666666666666666,\"#ed7953\"],[0.7777777777777778,\"#fb9f3a\"],[0.8888888888888888,\"#fdca26\"],[1.0,\"#f0f921\"]]}],\"heatmap\":[{\"type\":\"heatmap\",\"colorbar\":{\"outlinewidth\":0,\"ticks\":\"\"},\"colorscale\":[[0.0,\"#0d0887\"],[0.1111111111111111,\"#46039f\"],[0.2222222222222222,\"#7201a8\"],[0.3333333333333333,\"#9c179e\"],[0.4444444444444444,\"#bd3786\"],[0.5555555555555556,\"#d8576b\"],[0.6666666666666666,\"#ed7953\"],[0.7777777777777778,\"#fb9f3a\"],[0.8888888888888888,\"#fdca26\"],[1.0,\"#f0f921\"]]}],\"heatmapgl\":[{\"type\":\"heatmapgl\",\"colorbar\":{\"outlinewidth\":0,\"ticks\":\"\"},\"colorscale\":[[0.0,\"#0d0887\"],[0.1111111111111111,\"#46039f\"],[0.2222222222222222,\"#7201a8\"],[0.3333333333333333,\"#9c179e\"],[0.4444444444444444,\"#bd3786\"],[0.5555555555555556,\"#d8576b\"],[0.6666666666666666,\"#ed7953\"],[0.7777777777777778,\"#fb9f3a\"],[0.8888888888888888,\"#fdca26\"],[1.0,\"#f0f921\"]]}],\"contourcarpet\":[{\"type\":\"contourcarpet\",\"colorbar\":{\"outlinewidth\":0,\"ticks\":\"\"}}],\"contour\":[{\"type\":\"contour\",\"colorbar\":{\"outlinewidth\":0,\"ticks\":\"\"},\"colorscale\":[[0.0,\"#0d0887\"],[0.1111111111111111,\"#46039f\"],[0.2222222222222222,\"#7201a8\"],[0.3333333333333333,\"#9c179e\"],[0.4444444444444444,\"#bd3786\"],[0.5555555555555556,\"#d8576b\"],[0.6666666666666666,\"#ed7953\"],[0.7777777777777778,\"#fb9f3a\"],[0.8888888888888888,\"#fdca26\"],[1.0,\"#f0f921\"]]}],\"surface\":[{\"type\":\"surface\",\"colorbar\":{\"outlinewidth\":0,\"ticks\":\"\"},\"colorscale\":[[0.0,\"#0d0887\"],[0.1111111111111111,\"#46039f\"],[0.2222222222222222,\"#7201a8\"],[0.3333333333333333,\"#9c179e\"],[0.4444444444444444,\"#bd3786\"],[0.5555555555555556,\"#d8576b\"],[0.6666666666666666,\"#ed7953\"],[0.7777777777777778,\"#fb9f3a\"],[0.8888888888888888,\"#fdca26\"],[1.0,\"#f0f921\"]]}],\"mesh3d\":[{\"type\":\"mesh3d\",\"colorbar\":{\"outlinewidth\":0,\"ticks\":\"\"}}],\"scatter\":[{\"fillpattern\":{\"fillmode\":\"overlay\",\"size\":10,\"solidity\":0.2},\"type\":\"scatter\"}],\"parcoords\":[{\"type\":\"parcoords\",\"line\":{\"colorbar\":{\"outlinewidth\":0,\"ticks\":\"\"}}}],\"scatterpolargl\":[{\"type\":\"scatterpolargl\",\"marker\":{\"colorbar\":{\"outlinewidth\":0,\"ticks\":\"\"}}}],\"bar\":[{\"error_x\":{\"color\":\"#2a3f5f\"},\"error_y\":{\"color\":\"#2a3f5f\"},\"marker\":{\"line\":{\"color\":\"#E5ECF6\",\"width\":0.5},\"pattern\":{\"fillmode\":\"overlay\",\"size\":10,\"solidity\":0.2}},\"type\":\"bar\"}],\"scattergeo\":[{\"type\":\"scattergeo\",\"marker\":{\"colorbar\":{\"outlinewidth\":0,\"ticks\":\"\"}}}],\"scatterpolar\":[{\"type\":\"scatterpolar\",\"marker\":{\"colorbar\":{\"outlinewidth\":0,\"ticks\":\"\"}}}],\"histogram\":[{\"marker\":{\"pattern\":{\"fillmode\":\"overlay\",\"size\":10,\"solidity\":0.2}},\"type\":\"histogram\"}],\"scattergl\":[{\"type\":\"scattergl\",\"marker\":{\"colorbar\":{\"outlinewidth\":0,\"ticks\":\"\"}}}],\"scatter3d\":[{\"type\":\"scatter3d\",\"line\":{\"colorbar\":{\"outlinewidth\":0,\"ticks\":\"\"}},\"marker\":{\"colorbar\":{\"outlinewidth\":0,\"ticks\":\"\"}}}],\"scattermapbox\":[{\"type\":\"scattermapbox\",\"marker\":{\"colorbar\":{\"outlinewidth\":0,\"ticks\":\"\"}}}],\"scatterternary\":[{\"type\":\"scatterternary\",\"marker\":{\"colorbar\":{\"outlinewidth\":0,\"ticks\":\"\"}}}],\"scattercarpet\":[{\"type\":\"scattercarpet\",\"marker\":{\"colorbar\":{\"outlinewidth\":0,\"ticks\":\"\"}}}],\"carpet\":[{\"aaxis\":{\"endlinecolor\":\"#2a3f5f\",\"gridcolor\":\"white\",\"linecolor\":\"white\",\"minorgridcolor\":\"white\",\"startlinecolor\":\"#2a3f5f\"},\"baxis\":{\"endlinecolor\":\"#2a3f5f\",\"gridcolor\":\"white\",\"linecolor\":\"white\",\"minorgridcolor\":\"white\",\"startlinecolor\":\"#2a3f5f\"},\"type\":\"carpet\"}],\"table\":[{\"cells\":{\"fill\":{\"color\":\"#EBF0F8\"},\"line\":{\"color\":\"white\"}},\"header\":{\"fill\":{\"color\":\"#C8D4E3\"},\"line\":{\"color\":\"white\"}},\"type\":\"table\"}],\"barpolar\":[{\"marker\":{\"line\":{\"color\":\"#E5ECF6\",\"width\":0.5},\"pattern\":{\"fillmode\":\"overlay\",\"size\":10,\"solidity\":0.2}},\"type\":\"barpolar\"}],\"pie\":[{\"automargin\":true,\"type\":\"pie\"}]},\"layout\":{\"autotypenumbers\":\"strict\",\"colorway\":[\"#636efa\",\"#EF553B\",\"#00cc96\",\"#ab63fa\",\"#FFA15A\",\"#19d3f3\",\"#FF6692\",\"#B6E880\",\"#FF97FF\",\"#FECB52\"],\"font\":{\"color\":\"#2a3f5f\"},\"hovermode\":\"closest\",\"hoverlabel\":{\"align\":\"left\"},\"paper_bgcolor\":\"white\",\"plot_bgcolor\":\"#E5ECF6\",\"polar\":{\"bgcolor\":\"#E5ECF6\",\"angularaxis\":{\"gridcolor\":\"white\",\"linecolor\":\"white\",\"ticks\":\"\"},\"radialaxis\":{\"gridcolor\":\"white\",\"linecolor\":\"white\",\"ticks\":\"\"}},\"ternary\":{\"bgcolor\":\"#E5ECF6\",\"aaxis\":{\"gridcolor\":\"white\",\"linecolor\":\"white\",\"ticks\":\"\"},\"baxis\":{\"gridcolor\":\"white\",\"linecolor\":\"white\",\"ticks\":\"\"},\"caxis\":{\"gridcolor\":\"white\",\"linecolor\":\"white\",\"ticks\":\"\"}},\"coloraxis\":{\"colorbar\":{\"outlinewidth\":0,\"ticks\":\"\"}},\"colorscale\":{\"sequential\":[[0.0,\"#0d0887\"],[0.1111111111111111,\"#46039f\"],[0.2222222222222222,\"#7201a8\"],[0.3333333333333333,\"#9c179e\"],[0.4444444444444444,\"#bd3786\"],[0.5555555555555556,\"#d8576b\"],[0.6666666666666666,\"#ed7953\"],[0.7777777777777778,\"#fb9f3a\"],[0.8888888888888888,\"#fdca26\"],[1.0,\"#f0f921\"]],\"sequentialminus\":[[0.0,\"#0d0887\"],[0.1111111111111111,\"#46039f\"],[0.2222222222222222,\"#7201a8\"],[0.3333333333333333,\"#9c179e\"],[0.4444444444444444,\"#bd3786\"],[0.5555555555555556,\"#d8576b\"],[0.6666666666666666,\"#ed7953\"],[0.7777777777777778,\"#fb9f3a\"],[0.8888888888888888,\"#fdca26\"],[1.0,\"#f0f921\"]],\"diverging\":[[0,\"#8e0152\"],[0.1,\"#c51b7d\"],[0.2,\"#de77ae\"],[0.3,\"#f1b6da\"],[0.4,\"#fde0ef\"],[0.5,\"#f7f7f7\"],[0.6,\"#e6f5d0\"],[0.7,\"#b8e186\"],[0.8,\"#7fbc41\"],[0.9,\"#4d9221\"],[1,\"#276419\"]]},\"xaxis\":{\"gridcolor\":\"white\",\"linecolor\":\"white\",\"ticks\":\"\",\"title\":{\"standoff\":15},\"zerolinecolor\":\"white\",\"automargin\":true,\"zerolinewidth\":2},\"yaxis\":{\"gridcolor\":\"white\",\"linecolor\":\"white\",\"ticks\":\"\",\"title\":{\"standoff\":15},\"zerolinecolor\":\"white\",\"automargin\":true,\"zerolinewidth\":2},\"scene\":{\"xaxis\":{\"backgroundcolor\":\"#E5ECF6\",\"gridcolor\":\"white\",\"linecolor\":\"white\",\"showbackground\":true,\"ticks\":\"\",\"zerolinecolor\":\"white\",\"gridwidth\":2},\"yaxis\":{\"backgroundcolor\":\"#E5ECF6\",\"gridcolor\":\"white\",\"linecolor\":\"white\",\"showbackground\":true,\"ticks\":\"\",\"zerolinecolor\":\"white\",\"gridwidth\":2},\"zaxis\":{\"backgroundcolor\":\"#E5ECF6\",\"gridcolor\":\"white\",\"linecolor\":\"white\",\"showbackground\":true,\"ticks\":\"\",\"zerolinecolor\":\"white\",\"gridwidth\":2}},\"shapedefaults\":{\"line\":{\"color\":\"#2a3f5f\"}},\"annotationdefaults\":{\"arrowcolor\":\"#2a3f5f\",\"arrowhead\":0,\"arrowwidth\":1},\"geo\":{\"bgcolor\":\"white\",\"landcolor\":\"#E5ECF6\",\"subunitcolor\":\"white\",\"showland\":true,\"showlakes\":true,\"lakecolor\":\"white\"},\"title\":{\"x\":0.05},\"mapbox\":{\"style\":\"light\"}}},\"xaxis\":{\"anchor\":\"y\",\"domain\":[0.0,1.0],\"title\":{\"text\":\"Size\"}},\"yaxis\":{\"anchor\":\"x\",\"domain\":[0.0,1.0],\"title\":{\"text\":\"Purchase Amount (USD)\"}},\"legend\":{\"tracegroupgap\":0},\"margin\":{\"t\":60},\"barmode\":\"relative\"},                        {\"responsive\": true}                    ).then(function(){\n",
              "                            \n",
              "var gd = document.getElementById('05dbfac0-7cbd-4fec-92c1-c2662289d4c6');\n",
              "var x = new MutationObserver(function (mutations, observer) {{\n",
              "        var display = window.getComputedStyle(gd).display;\n",
              "        if (!display || display === 'none') {{\n",
              "            console.log([gd, 'removed!']);\n",
              "            Plotly.purge(gd);\n",
              "            observer.disconnect();\n",
              "        }}\n",
              "}});\n",
              "\n",
              "// Listen for the removal of the full notebook cells\n",
              "var notebookContainer = gd.closest('#notebook-container');\n",
              "if (notebookContainer) {{\n",
              "    x.observe(notebookContainer, {childList: true});\n",
              "}}\n",
              "\n",
              "// Listen for the clearing of the current output cell\n",
              "var outputEl = gd.closest('.output');\n",
              "if (outputEl) {{\n",
              "    x.observe(outputEl, {childList: true});\n",
              "}}\n",
              "\n",
              "                        })                };                            </script>        </div>\n",
              "</body>\n",
              "</html>"
            ]
          },
          "metadata": {}
        }
      ]
    },
    {
      "cell_type": "markdown",
      "source": [
        "# **12 Which shipping type is preferred by customers for different product categories?**"
      ],
      "metadata": {
        "id": "duNV1YDzOBoN"
      }
    },
    {
      "cell_type": "code",
      "source": [
        "df.groupby('Category')['Shipping Type'].value_counts().sort_values(ascending= False)"
      ],
      "metadata": {
        "colab": {
          "base_uri": "https://localhost:8080/",
          "height": 867
        },
        "id": "6A8WYh-nOHJO",
        "outputId": "5db64552-4008-43d9-8325-0e24894d83cd"
      },
      "execution_count": 113,
      "outputs": [
        {
          "output_type": "execute_result",
          "data": {
            "text/plain": [
              "Category     Shipping Type \n",
              "Clothing     Standard          297\n",
              "             Free Shipping     294\n",
              "             Next Day Air      293\n",
              "             Express           290\n",
              "             Store Pickup      282\n",
              "             2-Day Shipping    281\n",
              "Accessories  Store Pickup      217\n",
              "             Next Day Air      211\n",
              "             Standard          208\n",
              "             2-Day Shipping    206\n",
              "             Express           203\n",
              "             Free Shipping     195\n",
              "Footwear     Free Shipping     122\n",
              "             Standard          100\n",
              "             Store Pickup       98\n",
              "             Express            96\n",
              "             Next Day Air       93\n",
              "             2-Day Shipping     90\n",
              "Outerwear    Free Shipping      64\n",
              "             Express            57\n",
              "             Store Pickup       53\n",
              "             Next Day Air       51\n",
              "             2-Day Shipping     50\n",
              "             Standard           49\n",
              "Name: count, dtype: int64"
            ],
            "text/html": [
              "<div>\n",
              "<style scoped>\n",
              "    .dataframe tbody tr th:only-of-type {\n",
              "        vertical-align: middle;\n",
              "    }\n",
              "\n",
              "    .dataframe tbody tr th {\n",
              "        vertical-align: top;\n",
              "    }\n",
              "\n",
              "    .dataframe thead th {\n",
              "        text-align: right;\n",
              "    }\n",
              "</style>\n",
              "<table border=\"1\" class=\"dataframe\">\n",
              "  <thead>\n",
              "    <tr style=\"text-align: right;\">\n",
              "      <th></th>\n",
              "      <th></th>\n",
              "      <th>count</th>\n",
              "    </tr>\n",
              "    <tr>\n",
              "      <th>Category</th>\n",
              "      <th>Shipping Type</th>\n",
              "      <th></th>\n",
              "    </tr>\n",
              "  </thead>\n",
              "  <tbody>\n",
              "    <tr>\n",
              "      <th rowspan=\"6\" valign=\"top\">Clothing</th>\n",
              "      <th>Standard</th>\n",
              "      <td>297</td>\n",
              "    </tr>\n",
              "    <tr>\n",
              "      <th>Free Shipping</th>\n",
              "      <td>294</td>\n",
              "    </tr>\n",
              "    <tr>\n",
              "      <th>Next Day Air</th>\n",
              "      <td>293</td>\n",
              "    </tr>\n",
              "    <tr>\n",
              "      <th>Express</th>\n",
              "      <td>290</td>\n",
              "    </tr>\n",
              "    <tr>\n",
              "      <th>Store Pickup</th>\n",
              "      <td>282</td>\n",
              "    </tr>\n",
              "    <tr>\n",
              "      <th>2-Day Shipping</th>\n",
              "      <td>281</td>\n",
              "    </tr>\n",
              "    <tr>\n",
              "      <th rowspan=\"6\" valign=\"top\">Accessories</th>\n",
              "      <th>Store Pickup</th>\n",
              "      <td>217</td>\n",
              "    </tr>\n",
              "    <tr>\n",
              "      <th>Next Day Air</th>\n",
              "      <td>211</td>\n",
              "    </tr>\n",
              "    <tr>\n",
              "      <th>Standard</th>\n",
              "      <td>208</td>\n",
              "    </tr>\n",
              "    <tr>\n",
              "      <th>2-Day Shipping</th>\n",
              "      <td>206</td>\n",
              "    </tr>\n",
              "    <tr>\n",
              "      <th>Express</th>\n",
              "      <td>203</td>\n",
              "    </tr>\n",
              "    <tr>\n",
              "      <th>Free Shipping</th>\n",
              "      <td>195</td>\n",
              "    </tr>\n",
              "    <tr>\n",
              "      <th rowspan=\"6\" valign=\"top\">Footwear</th>\n",
              "      <th>Free Shipping</th>\n",
              "      <td>122</td>\n",
              "    </tr>\n",
              "    <tr>\n",
              "      <th>Standard</th>\n",
              "      <td>100</td>\n",
              "    </tr>\n",
              "    <tr>\n",
              "      <th>Store Pickup</th>\n",
              "      <td>98</td>\n",
              "    </tr>\n",
              "    <tr>\n",
              "      <th>Express</th>\n",
              "      <td>96</td>\n",
              "    </tr>\n",
              "    <tr>\n",
              "      <th>Next Day Air</th>\n",
              "      <td>93</td>\n",
              "    </tr>\n",
              "    <tr>\n",
              "      <th>2-Day Shipping</th>\n",
              "      <td>90</td>\n",
              "    </tr>\n",
              "    <tr>\n",
              "      <th rowspan=\"6\" valign=\"top\">Outerwear</th>\n",
              "      <th>Free Shipping</th>\n",
              "      <td>64</td>\n",
              "    </tr>\n",
              "    <tr>\n",
              "      <th>Express</th>\n",
              "      <td>57</td>\n",
              "    </tr>\n",
              "    <tr>\n",
              "      <th>Store Pickup</th>\n",
              "      <td>53</td>\n",
              "    </tr>\n",
              "    <tr>\n",
              "      <th>Next Day Air</th>\n",
              "      <td>51</td>\n",
              "    </tr>\n",
              "    <tr>\n",
              "      <th>2-Day Shipping</th>\n",
              "      <td>50</td>\n",
              "    </tr>\n",
              "    <tr>\n",
              "      <th>Standard</th>\n",
              "      <td>49</td>\n",
              "    </tr>\n",
              "  </tbody>\n",
              "</table>\n",
              "</div><br><label><b>dtype:</b> int64</label>"
            ]
          },
          "metadata": {},
          "execution_count": 113
        }
      ]
    },
    {
      "cell_type": "code",
      "source": [
        "df['Shipping_Category'] =df['Shipping Type'].map({'Express': 0, 'Free Shipping': 1, 'Next Day Air': 2,\n",
        "                                                       'Standard': 3, '2-Day Shipping': 4, 'Store Pickup': 5})"
      ],
      "metadata": {
        "id": "7aDe9QlUOK_O"
      },
      "execution_count": 114,
      "outputs": []
    },
    {
      "cell_type": "code",
      "source": [
        "df['Category'].unique()"
      ],
      "metadata": {
        "colab": {
          "base_uri": "https://localhost:8080/"
        },
        "id": "_NdaaA9fOPal",
        "outputId": "345184b1-79f3-44a4-c4e2-58bf613ee49b"
      },
      "execution_count": 115,
      "outputs": [
        {
          "output_type": "execute_result",
          "data": {
            "text/plain": [
              "array(['Clothing', 'Footwear', 'Outerwear', 'Accessories'], dtype=object)"
            ]
          },
          "metadata": {},
          "execution_count": 115
        }
      ]
    },
    {
      "cell_type": "code",
      "source": [
        "df['Category_num'] =df['Category'].map({'Clothing':1, 'Footwear':2, 'Outerwear':3, 'Accessories':4})"
      ],
      "metadata": {
        "id": "UK30J3tiOT0H"
      },
      "execution_count": 116,
      "outputs": []
    },
    {
      "cell_type": "markdown",
      "source": [
        "# **13 How does the presence of a discount affect the purchase decision of customers?**"
      ],
      "metadata": {
        "id": "5O0S8PfxOgS_"
      }
    },
    {
      "cell_type": "code",
      "source": [
        "shop_group = df.groupby('Discount Applied')['Purchase Amount (USD)'].sum().reset_index()"
      ],
      "metadata": {
        "id": "6WOKogkrOjV_"
      },
      "execution_count": 117,
      "outputs": []
    },
    {
      "cell_type": "code",
      "source": [
        "px.histogram(shop_group , x = 'Discount Applied' , y = 'Purchase Amount (USD)')"
      ],
      "metadata": {
        "colab": {
          "base_uri": "https://localhost:8080/",
          "height": 542
        },
        "id": "GK8c2lY0Om1R",
        "outputId": "b228c0d4-c124-4f00-f953-a65b653aed08"
      },
      "execution_count": 118,
      "outputs": [
        {
          "output_type": "display_data",
          "data": {
            "text/html": [
              "<html>\n",
              "<head><meta charset=\"utf-8\" /></head>\n",
              "<body>\n",
              "    <div>            <script src=\"https://cdnjs.cloudflare.com/ajax/libs/mathjax/2.7.5/MathJax.js?config=TeX-AMS-MML_SVG\"></script><script type=\"text/javascript\">if (window.MathJax && window.MathJax.Hub && window.MathJax.Hub.Config) {window.MathJax.Hub.Config({SVG: {font: \"STIX-Web\"}});}</script>                <script type=\"text/javascript\">window.PlotlyConfig = {MathJaxConfig: 'local'};</script>\n",
              "        <script charset=\"utf-8\" src=\"https://cdn.plot.ly/plotly-2.35.2.min.js\"></script>                <div id=\"e548ee28-cba7-408b-94f7-097c15818dd0\" class=\"plotly-graph-div\" style=\"height:525px; width:100%;\"></div>            <script type=\"text/javascript\">                                    window.PLOTLYENV=window.PLOTLYENV || {};                                    if (document.getElementById(\"e548ee28-cba7-408b-94f7-097c15818dd0\")) {                    Plotly.newPlot(                        \"e548ee28-cba7-408b-94f7-097c15818dd0\",                        [{\"alignmentgroup\":\"True\",\"bingroup\":\"x\",\"histfunc\":\"sum\",\"hovertemplate\":\"Discount Applied=%{x}\\u003cbr\\u003esum of Purchase Amount (USD)=%{y}\\u003cextra\\u003e\\u003c\\u002fextra\\u003e\",\"legendgroup\":\"\",\"marker\":{\"color\":\"#636efa\",\"pattern\":{\"shape\":\"\"}},\"name\":\"\",\"offsetgroup\":\"\",\"orientation\":\"v\",\"showlegend\":false,\"x\":[\"No\",\"Yes\"],\"xaxis\":\"x\",\"y\":[133670,99411],\"yaxis\":\"y\",\"type\":\"histogram\"}],                        {\"template\":{\"data\":{\"histogram2dcontour\":[{\"type\":\"histogram2dcontour\",\"colorbar\":{\"outlinewidth\":0,\"ticks\":\"\"},\"colorscale\":[[0.0,\"#0d0887\"],[0.1111111111111111,\"#46039f\"],[0.2222222222222222,\"#7201a8\"],[0.3333333333333333,\"#9c179e\"],[0.4444444444444444,\"#bd3786\"],[0.5555555555555556,\"#d8576b\"],[0.6666666666666666,\"#ed7953\"],[0.7777777777777778,\"#fb9f3a\"],[0.8888888888888888,\"#fdca26\"],[1.0,\"#f0f921\"]]}],\"choropleth\":[{\"type\":\"choropleth\",\"colorbar\":{\"outlinewidth\":0,\"ticks\":\"\"}}],\"histogram2d\":[{\"type\":\"histogram2d\",\"colorbar\":{\"outlinewidth\":0,\"ticks\":\"\"},\"colorscale\":[[0.0,\"#0d0887\"],[0.1111111111111111,\"#46039f\"],[0.2222222222222222,\"#7201a8\"],[0.3333333333333333,\"#9c179e\"],[0.4444444444444444,\"#bd3786\"],[0.5555555555555556,\"#d8576b\"],[0.6666666666666666,\"#ed7953\"],[0.7777777777777778,\"#fb9f3a\"],[0.8888888888888888,\"#fdca26\"],[1.0,\"#f0f921\"]]}],\"heatmap\":[{\"type\":\"heatmap\",\"colorbar\":{\"outlinewidth\":0,\"ticks\":\"\"},\"colorscale\":[[0.0,\"#0d0887\"],[0.1111111111111111,\"#46039f\"],[0.2222222222222222,\"#7201a8\"],[0.3333333333333333,\"#9c179e\"],[0.4444444444444444,\"#bd3786\"],[0.5555555555555556,\"#d8576b\"],[0.6666666666666666,\"#ed7953\"],[0.7777777777777778,\"#fb9f3a\"],[0.8888888888888888,\"#fdca26\"],[1.0,\"#f0f921\"]]}],\"heatmapgl\":[{\"type\":\"heatmapgl\",\"colorbar\":{\"outlinewidth\":0,\"ticks\":\"\"},\"colorscale\":[[0.0,\"#0d0887\"],[0.1111111111111111,\"#46039f\"],[0.2222222222222222,\"#7201a8\"],[0.3333333333333333,\"#9c179e\"],[0.4444444444444444,\"#bd3786\"],[0.5555555555555556,\"#d8576b\"],[0.6666666666666666,\"#ed7953\"],[0.7777777777777778,\"#fb9f3a\"],[0.8888888888888888,\"#fdca26\"],[1.0,\"#f0f921\"]]}],\"contourcarpet\":[{\"type\":\"contourcarpet\",\"colorbar\":{\"outlinewidth\":0,\"ticks\":\"\"}}],\"contour\":[{\"type\":\"contour\",\"colorbar\":{\"outlinewidth\":0,\"ticks\":\"\"},\"colorscale\":[[0.0,\"#0d0887\"],[0.1111111111111111,\"#46039f\"],[0.2222222222222222,\"#7201a8\"],[0.3333333333333333,\"#9c179e\"],[0.4444444444444444,\"#bd3786\"],[0.5555555555555556,\"#d8576b\"],[0.6666666666666666,\"#ed7953\"],[0.7777777777777778,\"#fb9f3a\"],[0.8888888888888888,\"#fdca26\"],[1.0,\"#f0f921\"]]}],\"surface\":[{\"type\":\"surface\",\"colorbar\":{\"outlinewidth\":0,\"ticks\":\"\"},\"colorscale\":[[0.0,\"#0d0887\"],[0.1111111111111111,\"#46039f\"],[0.2222222222222222,\"#7201a8\"],[0.3333333333333333,\"#9c179e\"],[0.4444444444444444,\"#bd3786\"],[0.5555555555555556,\"#d8576b\"],[0.6666666666666666,\"#ed7953\"],[0.7777777777777778,\"#fb9f3a\"],[0.8888888888888888,\"#fdca26\"],[1.0,\"#f0f921\"]]}],\"mesh3d\":[{\"type\":\"mesh3d\",\"colorbar\":{\"outlinewidth\":0,\"ticks\":\"\"}}],\"scatter\":[{\"fillpattern\":{\"fillmode\":\"overlay\",\"size\":10,\"solidity\":0.2},\"type\":\"scatter\"}],\"parcoords\":[{\"type\":\"parcoords\",\"line\":{\"colorbar\":{\"outlinewidth\":0,\"ticks\":\"\"}}}],\"scatterpolargl\":[{\"type\":\"scatterpolargl\",\"marker\":{\"colorbar\":{\"outlinewidth\":0,\"ticks\":\"\"}}}],\"bar\":[{\"error_x\":{\"color\":\"#2a3f5f\"},\"error_y\":{\"color\":\"#2a3f5f\"},\"marker\":{\"line\":{\"color\":\"#E5ECF6\",\"width\":0.5},\"pattern\":{\"fillmode\":\"overlay\",\"size\":10,\"solidity\":0.2}},\"type\":\"bar\"}],\"scattergeo\":[{\"type\":\"scattergeo\",\"marker\":{\"colorbar\":{\"outlinewidth\":0,\"ticks\":\"\"}}}],\"scatterpolar\":[{\"type\":\"scatterpolar\",\"marker\":{\"colorbar\":{\"outlinewidth\":0,\"ticks\":\"\"}}}],\"histogram\":[{\"marker\":{\"pattern\":{\"fillmode\":\"overlay\",\"size\":10,\"solidity\":0.2}},\"type\":\"histogram\"}],\"scattergl\":[{\"type\":\"scattergl\",\"marker\":{\"colorbar\":{\"outlinewidth\":0,\"ticks\":\"\"}}}],\"scatter3d\":[{\"type\":\"scatter3d\",\"line\":{\"colorbar\":{\"outlinewidth\":0,\"ticks\":\"\"}},\"marker\":{\"colorbar\":{\"outlinewidth\":0,\"ticks\":\"\"}}}],\"scattermapbox\":[{\"type\":\"scattermapbox\",\"marker\":{\"colorbar\":{\"outlinewidth\":0,\"ticks\":\"\"}}}],\"scatterternary\":[{\"type\":\"scatterternary\",\"marker\":{\"colorbar\":{\"outlinewidth\":0,\"ticks\":\"\"}}}],\"scattercarpet\":[{\"type\":\"scattercarpet\",\"marker\":{\"colorbar\":{\"outlinewidth\":0,\"ticks\":\"\"}}}],\"carpet\":[{\"aaxis\":{\"endlinecolor\":\"#2a3f5f\",\"gridcolor\":\"white\",\"linecolor\":\"white\",\"minorgridcolor\":\"white\",\"startlinecolor\":\"#2a3f5f\"},\"baxis\":{\"endlinecolor\":\"#2a3f5f\",\"gridcolor\":\"white\",\"linecolor\":\"white\",\"minorgridcolor\":\"white\",\"startlinecolor\":\"#2a3f5f\"},\"type\":\"carpet\"}],\"table\":[{\"cells\":{\"fill\":{\"color\":\"#EBF0F8\"},\"line\":{\"color\":\"white\"}},\"header\":{\"fill\":{\"color\":\"#C8D4E3\"},\"line\":{\"color\":\"white\"}},\"type\":\"table\"}],\"barpolar\":[{\"marker\":{\"line\":{\"color\":\"#E5ECF6\",\"width\":0.5},\"pattern\":{\"fillmode\":\"overlay\",\"size\":10,\"solidity\":0.2}},\"type\":\"barpolar\"}],\"pie\":[{\"automargin\":true,\"type\":\"pie\"}]},\"layout\":{\"autotypenumbers\":\"strict\",\"colorway\":[\"#636efa\",\"#EF553B\",\"#00cc96\",\"#ab63fa\",\"#FFA15A\",\"#19d3f3\",\"#FF6692\",\"#B6E880\",\"#FF97FF\",\"#FECB52\"],\"font\":{\"color\":\"#2a3f5f\"},\"hovermode\":\"closest\",\"hoverlabel\":{\"align\":\"left\"},\"paper_bgcolor\":\"white\",\"plot_bgcolor\":\"#E5ECF6\",\"polar\":{\"bgcolor\":\"#E5ECF6\",\"angularaxis\":{\"gridcolor\":\"white\",\"linecolor\":\"white\",\"ticks\":\"\"},\"radialaxis\":{\"gridcolor\":\"white\",\"linecolor\":\"white\",\"ticks\":\"\"}},\"ternary\":{\"bgcolor\":\"#E5ECF6\",\"aaxis\":{\"gridcolor\":\"white\",\"linecolor\":\"white\",\"ticks\":\"\"},\"baxis\":{\"gridcolor\":\"white\",\"linecolor\":\"white\",\"ticks\":\"\"},\"caxis\":{\"gridcolor\":\"white\",\"linecolor\":\"white\",\"ticks\":\"\"}},\"coloraxis\":{\"colorbar\":{\"outlinewidth\":0,\"ticks\":\"\"}},\"colorscale\":{\"sequential\":[[0.0,\"#0d0887\"],[0.1111111111111111,\"#46039f\"],[0.2222222222222222,\"#7201a8\"],[0.3333333333333333,\"#9c179e\"],[0.4444444444444444,\"#bd3786\"],[0.5555555555555556,\"#d8576b\"],[0.6666666666666666,\"#ed7953\"],[0.7777777777777778,\"#fb9f3a\"],[0.8888888888888888,\"#fdca26\"],[1.0,\"#f0f921\"]],\"sequentialminus\":[[0.0,\"#0d0887\"],[0.1111111111111111,\"#46039f\"],[0.2222222222222222,\"#7201a8\"],[0.3333333333333333,\"#9c179e\"],[0.4444444444444444,\"#bd3786\"],[0.5555555555555556,\"#d8576b\"],[0.6666666666666666,\"#ed7953\"],[0.7777777777777778,\"#fb9f3a\"],[0.8888888888888888,\"#fdca26\"],[1.0,\"#f0f921\"]],\"diverging\":[[0,\"#8e0152\"],[0.1,\"#c51b7d\"],[0.2,\"#de77ae\"],[0.3,\"#f1b6da\"],[0.4,\"#fde0ef\"],[0.5,\"#f7f7f7\"],[0.6,\"#e6f5d0\"],[0.7,\"#b8e186\"],[0.8,\"#7fbc41\"],[0.9,\"#4d9221\"],[1,\"#276419\"]]},\"xaxis\":{\"gridcolor\":\"white\",\"linecolor\":\"white\",\"ticks\":\"\",\"title\":{\"standoff\":15},\"zerolinecolor\":\"white\",\"automargin\":true,\"zerolinewidth\":2},\"yaxis\":{\"gridcolor\":\"white\",\"linecolor\":\"white\",\"ticks\":\"\",\"title\":{\"standoff\":15},\"zerolinecolor\":\"white\",\"automargin\":true,\"zerolinewidth\":2},\"scene\":{\"xaxis\":{\"backgroundcolor\":\"#E5ECF6\",\"gridcolor\":\"white\",\"linecolor\":\"white\",\"showbackground\":true,\"ticks\":\"\",\"zerolinecolor\":\"white\",\"gridwidth\":2},\"yaxis\":{\"backgroundcolor\":\"#E5ECF6\",\"gridcolor\":\"white\",\"linecolor\":\"white\",\"showbackground\":true,\"ticks\":\"\",\"zerolinecolor\":\"white\",\"gridwidth\":2},\"zaxis\":{\"backgroundcolor\":\"#E5ECF6\",\"gridcolor\":\"white\",\"linecolor\":\"white\",\"showbackground\":true,\"ticks\":\"\",\"zerolinecolor\":\"white\",\"gridwidth\":2}},\"shapedefaults\":{\"line\":{\"color\":\"#2a3f5f\"}},\"annotationdefaults\":{\"arrowcolor\":\"#2a3f5f\",\"arrowhead\":0,\"arrowwidth\":1},\"geo\":{\"bgcolor\":\"white\",\"landcolor\":\"#E5ECF6\",\"subunitcolor\":\"white\",\"showland\":true,\"showlakes\":true,\"lakecolor\":\"white\"},\"title\":{\"x\":0.05},\"mapbox\":{\"style\":\"light\"}}},\"xaxis\":{\"anchor\":\"y\",\"domain\":[0.0,1.0],\"title\":{\"text\":\"Discount Applied\"}},\"yaxis\":{\"anchor\":\"x\",\"domain\":[0.0,1.0],\"title\":{\"text\":\"sum of Purchase Amount (USD)\"}},\"legend\":{\"tracegroupgap\":0},\"margin\":{\"t\":60},\"barmode\":\"relative\"},                        {\"responsive\": true}                    ).then(function(){\n",
              "                            \n",
              "var gd = document.getElementById('e548ee28-cba7-408b-94f7-097c15818dd0');\n",
              "var x = new MutationObserver(function (mutations, observer) {{\n",
              "        var display = window.getComputedStyle(gd).display;\n",
              "        if (!display || display === 'none') {{\n",
              "            console.log([gd, 'removed!']);\n",
              "            Plotly.purge(gd);\n",
              "            observer.disconnect();\n",
              "        }}\n",
              "}});\n",
              "\n",
              "// Listen for the removal of the full notebook cells\n",
              "var notebookContainer = gd.closest('#notebook-container');\n",
              "if (notebookContainer) {{\n",
              "    x.observe(notebookContainer, {childList: true});\n",
              "}}\n",
              "\n",
              "// Listen for the clearing of the current output cell\n",
              "var outputEl = gd.closest('.output');\n",
              "if (outputEl) {{\n",
              "    x.observe(outputEl, {childList: true});\n",
              "}}\n",
              "\n",
              "                        })                };                            </script>        </div>\n",
              "</body>\n",
              "</html>"
            ]
          },
          "metadata": {}
        }
      ]
    },
    {
      "cell_type": "code",
      "source": [
        "fig = px.sunburst(df , path = ['Gender' , 'Discount Applied'], values='Purchase Amount (USD)' , color= 'Gender')\n",
        "\n",
        "fig.show()"
      ],
      "metadata": {
        "colab": {
          "base_uri": "https://localhost:8080/",
          "height": 542
        },
        "id": "FKcdHvuHOqc1",
        "outputId": "20c541f3-966d-4e39-893f-a939f8ada773"
      },
      "execution_count": 119,
      "outputs": [
        {
          "output_type": "display_data",
          "data": {
            "text/html": [
              "<html>\n",
              "<head><meta charset=\"utf-8\" /></head>\n",
              "<body>\n",
              "    <div>            <script src=\"https://cdnjs.cloudflare.com/ajax/libs/mathjax/2.7.5/MathJax.js?config=TeX-AMS-MML_SVG\"></script><script type=\"text/javascript\">if (window.MathJax && window.MathJax.Hub && window.MathJax.Hub.Config) {window.MathJax.Hub.Config({SVG: {font: \"STIX-Web\"}});}</script>                <script type=\"text/javascript\">window.PlotlyConfig = {MathJaxConfig: 'local'};</script>\n",
              "        <script charset=\"utf-8\" src=\"https://cdn.plot.ly/plotly-2.35.2.min.js\"></script>                <div id=\"ad8d12ba-39db-411a-8cdc-8d726a2f3bdc\" class=\"plotly-graph-div\" style=\"height:525px; width:100%;\"></div>            <script type=\"text/javascript\">                                    window.PLOTLYENV=window.PLOTLYENV || {};                                    if (document.getElementById(\"ad8d12ba-39db-411a-8cdc-8d726a2f3bdc\")) {                    Plotly.newPlot(                        \"ad8d12ba-39db-411a-8cdc-8d726a2f3bdc\",                        [{\"branchvalues\":\"total\",\"customdata\":[[\"Female\"],[\"Male\"],[\"Male\"],[\"Female\"],[\"Male\"]],\"domain\":{\"x\":[0.0,1.0],\"y\":[0.0,1.0]},\"hovertemplate\":\"labels=%{label}\\u003cbr\\u003ePurchase Amount (USD)=%{value}\\u003cbr\\u003eparent=%{parent}\\u003cbr\\u003eid=%{id}\\u003cbr\\u003eGender=%{customdata[0]}\\u003cextra\\u003e\\u003c\\u002fextra\\u003e\",\"ids\":[\"Female\\u002fNo\",\"Male\\u002fNo\",\"Male\\u002fYes\",\"Female\",\"Male\"],\"labels\":[\"No\",\"No\",\"Yes\",\"Female\",\"Male\"],\"marker\":{\"colors\":[\"#636efa\",\"#EF553B\",\"#EF553B\",\"#636efa\",\"#EF553B\"]},\"name\":\"\",\"parents\":[\"Female\",\"Male\",\"Male\",\"\",\"\"],\"values\":[75191,58479,99411,75191,157890],\"type\":\"sunburst\"}],                        {\"template\":{\"data\":{\"histogram2dcontour\":[{\"type\":\"histogram2dcontour\",\"colorbar\":{\"outlinewidth\":0,\"ticks\":\"\"},\"colorscale\":[[0.0,\"#0d0887\"],[0.1111111111111111,\"#46039f\"],[0.2222222222222222,\"#7201a8\"],[0.3333333333333333,\"#9c179e\"],[0.4444444444444444,\"#bd3786\"],[0.5555555555555556,\"#d8576b\"],[0.6666666666666666,\"#ed7953\"],[0.7777777777777778,\"#fb9f3a\"],[0.8888888888888888,\"#fdca26\"],[1.0,\"#f0f921\"]]}],\"choropleth\":[{\"type\":\"choropleth\",\"colorbar\":{\"outlinewidth\":0,\"ticks\":\"\"}}],\"histogram2d\":[{\"type\":\"histogram2d\",\"colorbar\":{\"outlinewidth\":0,\"ticks\":\"\"},\"colorscale\":[[0.0,\"#0d0887\"],[0.1111111111111111,\"#46039f\"],[0.2222222222222222,\"#7201a8\"],[0.3333333333333333,\"#9c179e\"],[0.4444444444444444,\"#bd3786\"],[0.5555555555555556,\"#d8576b\"],[0.6666666666666666,\"#ed7953\"],[0.7777777777777778,\"#fb9f3a\"],[0.8888888888888888,\"#fdca26\"],[1.0,\"#f0f921\"]]}],\"heatmap\":[{\"type\":\"heatmap\",\"colorbar\":{\"outlinewidth\":0,\"ticks\":\"\"},\"colorscale\":[[0.0,\"#0d0887\"],[0.1111111111111111,\"#46039f\"],[0.2222222222222222,\"#7201a8\"],[0.3333333333333333,\"#9c179e\"],[0.4444444444444444,\"#bd3786\"],[0.5555555555555556,\"#d8576b\"],[0.6666666666666666,\"#ed7953\"],[0.7777777777777778,\"#fb9f3a\"],[0.8888888888888888,\"#fdca26\"],[1.0,\"#f0f921\"]]}],\"heatmapgl\":[{\"type\":\"heatmapgl\",\"colorbar\":{\"outlinewidth\":0,\"ticks\":\"\"},\"colorscale\":[[0.0,\"#0d0887\"],[0.1111111111111111,\"#46039f\"],[0.2222222222222222,\"#7201a8\"],[0.3333333333333333,\"#9c179e\"],[0.4444444444444444,\"#bd3786\"],[0.5555555555555556,\"#d8576b\"],[0.6666666666666666,\"#ed7953\"],[0.7777777777777778,\"#fb9f3a\"],[0.8888888888888888,\"#fdca26\"],[1.0,\"#f0f921\"]]}],\"contourcarpet\":[{\"type\":\"contourcarpet\",\"colorbar\":{\"outlinewidth\":0,\"ticks\":\"\"}}],\"contour\":[{\"type\":\"contour\",\"colorbar\":{\"outlinewidth\":0,\"ticks\":\"\"},\"colorscale\":[[0.0,\"#0d0887\"],[0.1111111111111111,\"#46039f\"],[0.2222222222222222,\"#7201a8\"],[0.3333333333333333,\"#9c179e\"],[0.4444444444444444,\"#bd3786\"],[0.5555555555555556,\"#d8576b\"],[0.6666666666666666,\"#ed7953\"],[0.7777777777777778,\"#fb9f3a\"],[0.8888888888888888,\"#fdca26\"],[1.0,\"#f0f921\"]]}],\"surface\":[{\"type\":\"surface\",\"colorbar\":{\"outlinewidth\":0,\"ticks\":\"\"},\"colorscale\":[[0.0,\"#0d0887\"],[0.1111111111111111,\"#46039f\"],[0.2222222222222222,\"#7201a8\"],[0.3333333333333333,\"#9c179e\"],[0.4444444444444444,\"#bd3786\"],[0.5555555555555556,\"#d8576b\"],[0.6666666666666666,\"#ed7953\"],[0.7777777777777778,\"#fb9f3a\"],[0.8888888888888888,\"#fdca26\"],[1.0,\"#f0f921\"]]}],\"mesh3d\":[{\"type\":\"mesh3d\",\"colorbar\":{\"outlinewidth\":0,\"ticks\":\"\"}}],\"scatter\":[{\"fillpattern\":{\"fillmode\":\"overlay\",\"size\":10,\"solidity\":0.2},\"type\":\"scatter\"}],\"parcoords\":[{\"type\":\"parcoords\",\"line\":{\"colorbar\":{\"outlinewidth\":0,\"ticks\":\"\"}}}],\"scatterpolargl\":[{\"type\":\"scatterpolargl\",\"marker\":{\"colorbar\":{\"outlinewidth\":0,\"ticks\":\"\"}}}],\"bar\":[{\"error_x\":{\"color\":\"#2a3f5f\"},\"error_y\":{\"color\":\"#2a3f5f\"},\"marker\":{\"line\":{\"color\":\"#E5ECF6\",\"width\":0.5},\"pattern\":{\"fillmode\":\"overlay\",\"size\":10,\"solidity\":0.2}},\"type\":\"bar\"}],\"scattergeo\":[{\"type\":\"scattergeo\",\"marker\":{\"colorbar\":{\"outlinewidth\":0,\"ticks\":\"\"}}}],\"scatterpolar\":[{\"type\":\"scatterpolar\",\"marker\":{\"colorbar\":{\"outlinewidth\":0,\"ticks\":\"\"}}}],\"histogram\":[{\"marker\":{\"pattern\":{\"fillmode\":\"overlay\",\"size\":10,\"solidity\":0.2}},\"type\":\"histogram\"}],\"scattergl\":[{\"type\":\"scattergl\",\"marker\":{\"colorbar\":{\"outlinewidth\":0,\"ticks\":\"\"}}}],\"scatter3d\":[{\"type\":\"scatter3d\",\"line\":{\"colorbar\":{\"outlinewidth\":0,\"ticks\":\"\"}},\"marker\":{\"colorbar\":{\"outlinewidth\":0,\"ticks\":\"\"}}}],\"scattermapbox\":[{\"type\":\"scattermapbox\",\"marker\":{\"colorbar\":{\"outlinewidth\":0,\"ticks\":\"\"}}}],\"scatterternary\":[{\"type\":\"scatterternary\",\"marker\":{\"colorbar\":{\"outlinewidth\":0,\"ticks\":\"\"}}}],\"scattercarpet\":[{\"type\":\"scattercarpet\",\"marker\":{\"colorbar\":{\"outlinewidth\":0,\"ticks\":\"\"}}}],\"carpet\":[{\"aaxis\":{\"endlinecolor\":\"#2a3f5f\",\"gridcolor\":\"white\",\"linecolor\":\"white\",\"minorgridcolor\":\"white\",\"startlinecolor\":\"#2a3f5f\"},\"baxis\":{\"endlinecolor\":\"#2a3f5f\",\"gridcolor\":\"white\",\"linecolor\":\"white\",\"minorgridcolor\":\"white\",\"startlinecolor\":\"#2a3f5f\"},\"type\":\"carpet\"}],\"table\":[{\"cells\":{\"fill\":{\"color\":\"#EBF0F8\"},\"line\":{\"color\":\"white\"}},\"header\":{\"fill\":{\"color\":\"#C8D4E3\"},\"line\":{\"color\":\"white\"}},\"type\":\"table\"}],\"barpolar\":[{\"marker\":{\"line\":{\"color\":\"#E5ECF6\",\"width\":0.5},\"pattern\":{\"fillmode\":\"overlay\",\"size\":10,\"solidity\":0.2}},\"type\":\"barpolar\"}],\"pie\":[{\"automargin\":true,\"type\":\"pie\"}]},\"layout\":{\"autotypenumbers\":\"strict\",\"colorway\":[\"#636efa\",\"#EF553B\",\"#00cc96\",\"#ab63fa\",\"#FFA15A\",\"#19d3f3\",\"#FF6692\",\"#B6E880\",\"#FF97FF\",\"#FECB52\"],\"font\":{\"color\":\"#2a3f5f\"},\"hovermode\":\"closest\",\"hoverlabel\":{\"align\":\"left\"},\"paper_bgcolor\":\"white\",\"plot_bgcolor\":\"#E5ECF6\",\"polar\":{\"bgcolor\":\"#E5ECF6\",\"angularaxis\":{\"gridcolor\":\"white\",\"linecolor\":\"white\",\"ticks\":\"\"},\"radialaxis\":{\"gridcolor\":\"white\",\"linecolor\":\"white\",\"ticks\":\"\"}},\"ternary\":{\"bgcolor\":\"#E5ECF6\",\"aaxis\":{\"gridcolor\":\"white\",\"linecolor\":\"white\",\"ticks\":\"\"},\"baxis\":{\"gridcolor\":\"white\",\"linecolor\":\"white\",\"ticks\":\"\"},\"caxis\":{\"gridcolor\":\"white\",\"linecolor\":\"white\",\"ticks\":\"\"}},\"coloraxis\":{\"colorbar\":{\"outlinewidth\":0,\"ticks\":\"\"}},\"colorscale\":{\"sequential\":[[0.0,\"#0d0887\"],[0.1111111111111111,\"#46039f\"],[0.2222222222222222,\"#7201a8\"],[0.3333333333333333,\"#9c179e\"],[0.4444444444444444,\"#bd3786\"],[0.5555555555555556,\"#d8576b\"],[0.6666666666666666,\"#ed7953\"],[0.7777777777777778,\"#fb9f3a\"],[0.8888888888888888,\"#fdca26\"],[1.0,\"#f0f921\"]],\"sequentialminus\":[[0.0,\"#0d0887\"],[0.1111111111111111,\"#46039f\"],[0.2222222222222222,\"#7201a8\"],[0.3333333333333333,\"#9c179e\"],[0.4444444444444444,\"#bd3786\"],[0.5555555555555556,\"#d8576b\"],[0.6666666666666666,\"#ed7953\"],[0.7777777777777778,\"#fb9f3a\"],[0.8888888888888888,\"#fdca26\"],[1.0,\"#f0f921\"]],\"diverging\":[[0,\"#8e0152\"],[0.1,\"#c51b7d\"],[0.2,\"#de77ae\"],[0.3,\"#f1b6da\"],[0.4,\"#fde0ef\"],[0.5,\"#f7f7f7\"],[0.6,\"#e6f5d0\"],[0.7,\"#b8e186\"],[0.8,\"#7fbc41\"],[0.9,\"#4d9221\"],[1,\"#276419\"]]},\"xaxis\":{\"gridcolor\":\"white\",\"linecolor\":\"white\",\"ticks\":\"\",\"title\":{\"standoff\":15},\"zerolinecolor\":\"white\",\"automargin\":true,\"zerolinewidth\":2},\"yaxis\":{\"gridcolor\":\"white\",\"linecolor\":\"white\",\"ticks\":\"\",\"title\":{\"standoff\":15},\"zerolinecolor\":\"white\",\"automargin\":true,\"zerolinewidth\":2},\"scene\":{\"xaxis\":{\"backgroundcolor\":\"#E5ECF6\",\"gridcolor\":\"white\",\"linecolor\":\"white\",\"showbackground\":true,\"ticks\":\"\",\"zerolinecolor\":\"white\",\"gridwidth\":2},\"yaxis\":{\"backgroundcolor\":\"#E5ECF6\",\"gridcolor\":\"white\",\"linecolor\":\"white\",\"showbackground\":true,\"ticks\":\"\",\"zerolinecolor\":\"white\",\"gridwidth\":2},\"zaxis\":{\"backgroundcolor\":\"#E5ECF6\",\"gridcolor\":\"white\",\"linecolor\":\"white\",\"showbackground\":true,\"ticks\":\"\",\"zerolinecolor\":\"white\",\"gridwidth\":2}},\"shapedefaults\":{\"line\":{\"color\":\"#2a3f5f\"}},\"annotationdefaults\":{\"arrowcolor\":\"#2a3f5f\",\"arrowhead\":0,\"arrowwidth\":1},\"geo\":{\"bgcolor\":\"white\",\"landcolor\":\"#E5ECF6\",\"subunitcolor\":\"white\",\"showland\":true,\"showlakes\":true,\"lakecolor\":\"white\"},\"title\":{\"x\":0.05},\"mapbox\":{\"style\":\"light\"}}},\"legend\":{\"tracegroupgap\":0},\"margin\":{\"t\":60}},                        {\"responsive\": true}                    ).then(function(){\n",
              "                            \n",
              "var gd = document.getElementById('ad8d12ba-39db-411a-8cdc-8d726a2f3bdc');\n",
              "var x = new MutationObserver(function (mutations, observer) {{\n",
              "        var display = window.getComputedStyle(gd).display;\n",
              "        if (!display || display === 'none') {{\n",
              "            console.log([gd, 'removed!']);\n",
              "            Plotly.purge(gd);\n",
              "            observer.disconnect();\n",
              "        }}\n",
              "}});\n",
              "\n",
              "// Listen for the removal of the full notebook cells\n",
              "var notebookContainer = gd.closest('#notebook-container');\n",
              "if (notebookContainer) {{\n",
              "    x.observe(notebookContainer, {childList: true});\n",
              "}}\n",
              "\n",
              "// Listen for the clearing of the current output cell\n",
              "var outputEl = gd.closest('.output');\n",
              "if (outputEl) {{\n",
              "    x.observe(outputEl, {childList: true});\n",
              "}}\n",
              "\n",
              "                        })                };                            </script>        </div>\n",
              "</body>\n",
              "</html>"
            ]
          },
          "metadata": {}
        }
      ]
    },
    {
      "cell_type": "markdown",
      "source": [
        "# **14 Are there any specific colors that are more popular among customers?**"
      ],
      "metadata": {
        "id": "jCnpP0CfO1jW"
      }
    },
    {
      "cell_type": "code",
      "source": [
        "px.histogram(df , x = 'Color')"
      ],
      "metadata": {
        "colab": {
          "base_uri": "https://localhost:8080/",
          "height": 542
        },
        "id": "GRJ3DhcFO45U",
        "outputId": "aa8d293c-ce5d-4bbd-e8b9-8b164f13c45a"
      },
      "execution_count": 120,
      "outputs": [
        {
          "output_type": "display_data",
          "data": {
            "text/html": [
              "<html>\n",
              "<head><meta charset=\"utf-8\" /></head>\n",
              "<body>\n",
              "    <div>            <script src=\"https://cdnjs.cloudflare.com/ajax/libs/mathjax/2.7.5/MathJax.js?config=TeX-AMS-MML_SVG\"></script><script type=\"text/javascript\">if (window.MathJax && window.MathJax.Hub && window.MathJax.Hub.Config) {window.MathJax.Hub.Config({SVG: {font: \"STIX-Web\"}});}</script>                <script type=\"text/javascript\">window.PlotlyConfig = {MathJaxConfig: 'local'};</script>\n",
              "        <script charset=\"utf-8\" src=\"https://cdn.plot.ly/plotly-2.35.2.min.js\"></script>                <div id=\"f4c10cce-6ad4-47fe-8e39-bb9e76b73a11\" class=\"plotly-graph-div\" style=\"height:525px; width:100%;\"></div>            <script type=\"text/javascript\">                                    window.PLOTLYENV=window.PLOTLYENV || {};                                    if (document.getElementById(\"f4c10cce-6ad4-47fe-8e39-bb9e76b73a11\")) {                    Plotly.newPlot(                        \"f4c10cce-6ad4-47fe-8e39-bb9e76b73a11\",                        [{\"alignmentgroup\":\"True\",\"bingroup\":\"x\",\"hovertemplate\":\"Color=%{x}\\u003cbr\\u003ecount=%{y}\\u003cextra\\u003e\\u003c\\u002fextra\\u003e\",\"legendgroup\":\"\",\"marker\":{\"color\":\"#636efa\",\"pattern\":{\"shape\":\"\"}},\"name\":\"\",\"offsetgroup\":\"\",\"orientation\":\"v\",\"showlegend\":false,\"x\":[\"Gray\",\"Maroon\",\"Maroon\",\"Maroon\",\"Turquoise\",\"White\",\"Gray\",\"Charcoal\",\"Silver\",\"Pink\",\"Purple\",\"Olive\",\"Gold\",\"Violet\",\"Teal\",\"Teal\",\"Gray\",\"Lavender\",\"Black\",\"Green\",\"Black\",\"Charcoal\",\"Peach\",\"White\",\"Green\",\"Silver\",\"Red\",\"Cyan\",\"Gray\",\"Black\",\"Black\",\"Brown\",\"Silver\",\"Green\",\"Violet\",\"Cyan\",\"Maroon\",\"Cyan\",\"Red\",\"Turquoise\",\"Beige\",\"Orange\",\"Beige\",\"Lavender\",\"Silver\",\"Indigo\",\"White\",\"Charcoal\",\"Orange\",\"Indigo\",\"Red\",\"Gray\",\"Green\",\"Peach\",\"Brown\",\"Lavender\",\"Brown\",\"White\",\"Charcoal\",\"Yellow\",\"Brown\",\"Orange\",\"Magenta\",\"Lavender\",\"Green\",\"Purple\",\"Magenta\",\"Gray\",\"Silver\",\"Cyan\",\"Magenta\",\"Gold\",\"Olive\",\"Teal\",\"Violet\",\"Blue\",\"Teal\",\"Gold\",\"Maroon\",\"Olive\",\"Blue\",\"Maroon\",\"Olive\",\"Turquoise\",\"Peach\",\"Charcoal\",\"Pink\",\"Green\",\"Orange\",\"Pink\",\"Violet\",\"Green\",\"Olive\",\"Purple\",\"Silver\",\"Pink\",\"Gold\",\"Teal\",\"Teal\",\"Indigo\",\"Maroon\",\"White\",\"Violet\",\"Red\",\"Pink\",\"Charcoal\",\"White\",\"Olive\",\"Purple\",\"Violet\",\"Black\",\"Purple\",\"Red\",\"Maroon\",\"Blue\",\"Gray\",\"Blue\",\"Yellow\",\"Orange\",\"Orange\",\"Red\",\"Olive\",\"Brown\",\"Brown\",\"Gray\",\"Indigo\",\"Pink\",\"Gray\",\"Gold\",\"Olive\",\"Violet\",\"Indigo\",\"Orange\",\"Violet\",\"Gray\",\"Purple\",\"White\",\"Turquoise\",\"Maroon\",\"White\",\"Yellow\",\"Turquoise\",\"Violet\",\"Beige\",\"Silver\",\"Teal\",\"Black\",\"Purple\",\"Gray\",\"White\",\"Cyan\",\"Turquoise\",\"Brown\",\"Maroon\",\"Charcoal\",\"Olive\",\"Lavender\",\"Yellow\",\"Teal\",\"Charcoal\",\"Orange\",\"Olive\",\"Turquoise\",\"Purple\",\"Purple\",\"Yellow\",\"Indigo\",\"Green\",\"Magenta\",\"Gold\",\"Maroon\",\"Blue\",\"Violet\",\"Turquoise\",\"Brown\",\"Violet\",\"Black\",\"Magenta\",\"Lavender\",\"Violet\",\"Green\",\"Beige\",\"Purple\",\"Beige\",\"Cyan\",\"Silver\",\"Lavender\",\"Purple\",\"Pink\",\"Maroon\",\"Beige\",\"Gray\",\"Turquoise\",\"Silver\",\"Olive\",\"Magenta\",\"Lavender\",\"Black\",\"Turquoise\",\"Green\",\"Teal\",\"Beige\",\"Magenta\",\"Yellow\",\"Yellow\",\"Silver\",\"Silver\",\"Silver\",\"Gold\",\"Olive\",\"Teal\",\"Maroon\",\"Blue\",\"Peach\",\"Blue\",\"Orange\",\"Yellow\",\"Purple\",\"Magenta\",\"Cyan\",\"Indigo\",\"Magenta\",\"Gray\",\"Turquoise\",\"Beige\",\"Olive\",\"Violet\",\"Turquoise\",\"White\",\"Silver\",\"Olive\",\"Blue\",\"Purple\",\"Yellow\",\"Silver\",\"Cyan\",\"Green\",\"Beige\",\"Peach\",\"Yellow\",\"Turquoise\",\"Peach\",\"Gray\",\"Olive\",\"Indigo\",\"Charcoal\",\"Beige\",\"Brown\",\"Blue\",\"Teal\",\"Black\",\"Gold\",\"Violet\",\"Cyan\",\"White\",\"Charcoal\",\"Violet\",\"Red\",\"Lavender\",\"Gold\",\"Red\",\"Magenta\",\"Teal\",\"Purple\",\"Charcoal\",\"Gray\",\"White\",\"Olive\",\"Charcoal\",\"Charcoal\",\"Orange\",\"Yellow\",\"Beige\",\"Silver\",\"Indigo\",\"Lavender\",\"Turquoise\",\"Green\",\"Orange\",\"Turquoise\",\"Cyan\",\"Charcoal\",\"Teal\",\"Maroon\",\"Red\",\"Yellow\",\"Gray\",\"Blue\",\"Lavender\",\"Yellow\",\"Indigo\",\"Violet\",\"Green\",\"White\",\"Gold\",\"Indigo\",\"Lavender\",\"Purple\",\"Lavender\",\"Maroon\",\"Teal\",\"Green\",\"Olive\",\"Turquoise\",\"Green\",\"Teal\",\"White\",\"Orange\",\"Beige\",\"Yellow\",\"Charcoal\",\"Silver\",\"Green\",\"Pink\",\"Purple\",\"Orange\",\"Charcoal\",\"Teal\",\"Beige\",\"White\",\"White\",\"Orange\",\"Cyan\",\"Orange\",\"Olive\",\"Charcoal\",\"White\",\"Teal\",\"Yellow\",\"White\",\"Beige\",\"Beige\",\"Maroon\",\"Teal\",\"Lavender\",\"Maroon\",\"Orange\",\"Cyan\",\"Silver\",\"Teal\",\"Blue\",\"Blue\",\"Olive\",\"Purple\",\"Charcoal\",\"Olive\",\"Violet\",\"Red\",\"Beige\",\"Green\",\"Violet\",\"Teal\",\"Yellow\",\"Yellow\",\"Olive\",\"Magenta\",\"Black\",\"Olive\",\"Magenta\",\"Olive\",\"Teal\",\"White\",\"Charcoal\",\"Yellow\",\"Charcoal\",\"Gray\",\"Turquoise\",\"Cyan\",\"Charcoal\",\"Silver\",\"Olive\",\"Pink\",\"Orange\",\"White\",\"Purple\",\"Olive\",\"Gray\",\"Silver\",\"Orange\",\"Magenta\",\"Beige\",\"Lavender\",\"Peach\",\"Magenta\",\"Beige\",\"Yellow\",\"Brown\",\"Silver\",\"Orange\",\"Purple\",\"Indigo\",\"Gray\",\"Black\",\"Maroon\",\"Beige\",\"Brown\",\"Black\",\"Indigo\",\"Silver\",\"Blue\",\"Green\",\"Orange\",\"Cyan\",\"Orange\",\"Indigo\",\"Silver\",\"Peach\",\"Teal\",\"White\",\"Brown\",\"Lavender\",\"Indigo\",\"Yellow\",\"White\",\"Violet\",\"Lavender\",\"Olive\",\"Beige\",\"Purple\",\"Teal\",\"Peach\",\"Violet\",\"Purple\",\"Teal\",\"Gold\",\"Teal\",\"Violet\",\"Black\",\"Gold\",\"Gold\",\"Brown\",\"Cyan\",\"Indigo\",\"Orange\",\"Pink\",\"Olive\",\"Cyan\",\"Peach\",\"Turquoise\",\"Turquoise\",\"Maroon\",\"Maroon\",\"Olive\",\"Magenta\",\"Red\",\"Olive\",\"Silver\",\"Turquoise\",\"Yellow\",\"Peach\",\"Beige\",\"Pink\",\"Violet\",\"Peach\",\"Gold\",\"Gold\",\"Indigo\",\"Blue\",\"Black\",\"Black\",\"Teal\",\"Yellow\",\"White\",\"Orange\",\"Silver\",\"Pink\",\"Turquoise\",\"Orange\",\"Peach\",\"Pink\",\"Teal\",\"White\",\"Gray\",\"Olive\",\"Maroon\",\"Magenta\",\"Magenta\",\"Green\",\"Turquoise\",\"Yellow\",\"Gray\",\"Peach\",\"Yellow\",\"White\",\"Lavender\",\"Blue\",\"Charcoal\",\"Red\",\"Olive\",\"Green\",\"Silver\",\"Silver\",\"Black\",\"Red\",\"Indigo\",\"Cyan\",\"Maroon\",\"Silver\",\"Lavender\",\"Silver\",\"Purple\",\"Cyan\",\"Cyan\",\"Lavender\",\"Maroon\",\"Gray\",\"Olive\",\"Magenta\",\"Yellow\",\"Cyan\",\"Teal\",\"Yellow\",\"Peach\",\"Peach\",\"Olive\",\"Charcoal\",\"Indigo\",\"Silver\",\"Beige\",\"Blue\",\"White\",\"Gold\",\"Blue\",\"Orange\",\"Gold\",\"Cyan\",\"Red\",\"Yellow\",\"Beige\",\"Orange\",\"Magenta\",\"Purple\",\"Black\",\"Pink\",\"Pink\",\"Maroon\",\"Maroon\",\"Turquoise\",\"Green\",\"Violet\",\"Lavender\",\"Gray\",\"Teal\",\"Red\",\"Yellow\",\"Magenta\",\"Brown\",\"Blue\",\"Black\",\"Olive\",\"Olive\",\"Green\",\"Peach\",\"White\",\"Red\",\"White\",\"Indigo\",\"White\",\"Teal\",\"Indigo\",\"Red\",\"Blue\",\"Blue\",\"Black\",\"Olive\",\"Lavender\",\"Indigo\",\"Red\",\"Red\",\"Pink\",\"Purple\",\"Cyan\",\"Cyan\",\"Charcoal\",\"Red\",\"Peach\",\"Black\",\"Black\",\"Purple\",\"Violet\",\"Orange\",\"Charcoal\",\"Turquoise\",\"Yellow\",\"White\",\"Gray\",\"Blue\",\"Maroon\",\"Violet\",\"Orange\",\"Turquoise\",\"Olive\",\"Brown\",\"Green\",\"Brown\",\"Silver\",\"White\",\"Gold\",\"Green\",\"Teal\",\"Charcoal\",\"Maroon\",\"Lavender\",\"Green\",\"Pink\",\"Charcoal\",\"Blue\",\"Purple\",\"Gold\",\"Purple\",\"Charcoal\",\"Black\",\"Lavender\",\"Lavender\",\"Lavender\",\"Olive\",\"Teal\",\"Maroon\",\"Cyan\",\"Charcoal\",\"Black\",\"Red\",\"Peach\",\"White\",\"Pink\",\"Red\",\"Indigo\",\"Black\",\"White\",\"Beige\",\"Silver\",\"Violet\",\"Red\",\"Orange\",\"Teal\",\"Brown\",\"Indigo\",\"Cyan\",\"Blue\",\"Olive\",\"Gray\",\"Red\",\"Red\",\"Green\",\"Blue\",\"Purple\",\"Pink\",\"Charcoal\",\"Brown\",\"Orange\",\"Magenta\",\"Yellow\",\"Beige\",\"Olive\",\"Gray\",\"Purple\",\"Beige\",\"White\",\"White\",\"Gold\",\"Olive\",\"Green\",\"Magenta\",\"Charcoal\",\"Indigo\",\"Peach\",\"Turquoise\",\"Blue\",\"Turquoise\",\"Gray\",\"Purple\",\"Black\",\"Peach\",\"Indigo\",\"Beige\",\"Yellow\",\"Peach\",\"Turquoise\",\"Teal\",\"Turquoise\",\"Magenta\",\"Purple\",\"Brown\",\"Violet\",\"Yellow\",\"Magenta\",\"Beige\",\"Turquoise\",\"Peach\",\"Orange\",\"Red\",\"Silver\",\"Cyan\",\"Turquoise\",\"Charcoal\",\"Peach\",\"Green\",\"Brown\",\"Yellow\",\"Charcoal\",\"Olive\",\"Red\",\"White\",\"Pink\",\"Black\",\"Indigo\",\"Turquoise\",\"Purple\",\"Beige\",\"Charcoal\",\"Turquoise\",\"Maroon\",\"Black\",\"Lavender\",\"Magenta\",\"Green\",\"Olive\",\"Green\",\"Peach\",\"Turquoise\",\"Orange\",\"Silver\",\"Blue\",\"Cyan\",\"Green\",\"Silver\",\"Yellow\",\"Gray\",\"Pink\",\"Beige\",\"Indigo\",\"Red\",\"Blue\",\"Cyan\",\"Violet\",\"Orange\",\"Maroon\",\"Teal\",\"Orange\",\"Purple\",\"Orange\",\"Yellow\",\"Charcoal\",\"Gray\",\"Charcoal\",\"Orange\",\"Red\",\"Gold\",\"Brown\",\"Olive\",\"Violet\",\"Indigo\",\"Yellow\",\"Teal\",\"Pink\",\"Violet\",\"Orange\",\"Red\",\"Peach\",\"Green\",\"Violet\",\"Yellow\",\"Pink\",\"Brown\",\"Silver\",\"Pink\",\"Cyan\",\"Brown\",\"Red\",\"Silver\",\"Gray\",\"Cyan\",\"Teal\",\"Indigo\",\"Yellow\",\"Gold\",\"Maroon\",\"Silver\",\"Yellow\",\"Blue\",\"Turquoise\",\"Indigo\",\"Green\",\"Purple\",\"Peach\",\"Purple\",\"Teal\",\"Green\",\"Yellow\",\"Purple\",\"Indigo\",\"Magenta\",\"Violet\",\"Maroon\",\"Yellow\",\"Beige\",\"Black\",\"Violet\",\"Violet\",\"Brown\",\"Gold\",\"Blue\",\"Teal\",\"Silver\",\"Maroon\",\"White\",\"Charcoal\",\"Brown\",\"Lavender\",\"Violet\",\"Lavender\",\"Green\",\"Olive\",\"Olive\",\"Pink\",\"Teal\",\"Cyan\",\"Gray\",\"Peach\",\"Teal\",\"Turquoise\",\"Green\",\"Magenta\",\"Green\",\"White\",\"Brown\",\"Purple\",\"Green\",\"Peach\",\"Silver\",\"Maroon\",\"Red\",\"Blue\",\"Purple\",\"Indigo\",\"Indigo\",\"Violet\",\"Brown\",\"Gray\",\"Teal\",\"Teal\",\"Beige\",\"Violet\",\"Beige\",\"Purple\",\"Charcoal\",\"Pink\",\"Blue\",\"Lavender\",\"Charcoal\",\"Turquoise\",\"Red\",\"Yellow\",\"Orange\",\"Blue\",\"Gold\",\"Gold\",\"Cyan\",\"Olive\",\"Teal\",\"Maroon\",\"Green\",\"Charcoal\",\"Cyan\",\"Charcoal\",\"Charcoal\",\"Lavender\",\"Turquoise\",\"Green\",\"Silver\",\"Blue\",\"Charcoal\",\"Pink\",\"Pink\",\"Magenta\",\"Gray\",\"Gray\",\"Orange\",\"Black\",\"Lavender\",\"Red\",\"Silver\",\"Cyan\",\"Gold\",\"Yellow\",\"Purple\",\"Brown\",\"Turquoise\",\"Gold\",\"Olive\",\"Purple\",\"Lavender\",\"Gray\",\"Red\",\"Purple\",\"Olive\",\"Lavender\",\"Gray\",\"Red\",\"Peach\",\"Gray\",\"Violet\",\"Beige\",\"Blue\",\"Magenta\",\"Cyan\",\"Red\",\"Cyan\",\"Turquoise\",\"Silver\",\"Pink\",\"Black\",\"Green\",\"Yellow\",\"Purple\",\"Purple\",\"Blue\",\"Maroon\",\"Orange\",\"Green\",\"Gold\",\"Silver\",\"Cyan\",\"Silver\",\"Beige\",\"Teal\",\"Green\",\"Black\",\"Yellow\",\"White\",\"Green\",\"Silver\",\"Blue\",\"Magenta\",\"Yellow\",\"White\",\"Pink\",\"Magenta\",\"Teal\",\"Indigo\",\"Maroon\",\"Black\",\"Cyan\",\"Cyan\",\"Gray\",\"Violet\",\"Blue\",\"Charcoal\",\"Olive\",\"Olive\",\"Turquoise\",\"Cyan\",\"Red\",\"Cyan\",\"Turquoise\",\"Lavender\",\"Cyan\",\"Violet\",\"Beige\",\"Cyan\",\"Indigo\",\"Olive\",\"Green\",\"Green\",\"Beige\",\"Black\",\"Brown\",\"Silver\",\"Gray\",\"Pink\",\"Maroon\",\"Cyan\",\"Gold\",\"Teal\",\"Beige\",\"Olive\",\"Gray\",\"Black\",\"Turquoise\",\"Brown\",\"Magenta\",\"Silver\",\"Red\",\"Indigo\",\"Green\",\"Gray\",\"Peach\",\"Charcoal\",\"Orange\",\"Beige\",\"Yellow\",\"White\",\"Gray\",\"Peach\",\"Violet\",\"Magenta\",\"Maroon\",\"Cyan\",\"White\",\"Brown\",\"Red\",\"Orange\",\"White\",\"Green\",\"Black\",\"Gold\",\"Lavender\",\"Turquoise\",\"Pink\",\"Silver\",\"Gray\",\"Indigo\",\"Teal\",\"Green\",\"Violet\",\"Cyan\",\"Blue\",\"Orange\",\"Charcoal\",\"Beige\",\"Black\",\"Lavender\",\"Lavender\",\"Turquoise\",\"Purple\",\"Olive\",\"Turquoise\",\"Teal\",\"Lavender\",\"Purple\",\"Blue\",\"Teal\",\"Lavender\",\"Silver\",\"Olive\",\"Brown\",\"Yellow\",\"Brown\",\"Cyan\",\"Magenta\",\"Magenta\",\"Orange\",\"Maroon\",\"Green\",\"Teal\",\"Black\",\"Magenta\",\"Olive\",\"Yellow\",\"Purple\",\"Beige\",\"Indigo\",\"Pink\",\"Blue\",\"Cyan\",\"Orange\",\"Black\",\"Maroon\",\"Violet\",\"Beige\",\"Gray\",\"Gray\",\"Brown\",\"Indigo\",\"Violet\",\"Blue\",\"Red\",\"Peach\",\"Olive\",\"White\",\"Magenta\",\"Beige\",\"Gold\",\"Purple\",\"White\",\"Indigo\",\"Charcoal\",\"Pink\",\"Silver\",\"Blue\",\"Blue\",\"Brown\",\"Cyan\",\"Teal\",\"Purple\",\"Turquoise\",\"Olive\",\"White\",\"Turquoise\",\"Silver\",\"Violet\",\"Lavender\",\"Magenta\",\"Indigo\",\"Black\",\"Peach\",\"Beige\",\"Black\",\"Turquoise\",\"Peach\",\"Gold\",\"Silver\",\"Peach\",\"Charcoal\",\"Beige\",\"Olive\",\"Violet\",\"Peach\",\"Teal\",\"Violet\",\"Cyan\",\"Olive\",\"Pink\",\"Purple\",\"Violet\",\"Peach\",\"Charcoal\",\"Lavender\",\"Purple\",\"Indigo\",\"Magenta\",\"Peach\",\"Charcoal\",\"Purple\",\"Orange\",\"Lavender\",\"Beige\",\"Maroon\",\"Charcoal\",\"White\",\"Lavender\",\"Black\",\"Teal\",\"Magenta\",\"Brown\",\"Peach\",\"Cyan\",\"Pink\",\"Purple\",\"Purple\",\"White\",\"Silver\",\"Green\",\"Teal\",\"Indigo\",\"Pink\",\"Indigo\",\"Red\",\"Violet\",\"Cyan\",\"Red\",\"Gray\",\"Gold\",\"Pink\",\"Cyan\",\"Red\",\"Gold\",\"Charcoal\",\"Orange\",\"Blue\",\"Blue\",\"Orange\",\"Blue\",\"White\",\"Green\",\"Silver\",\"Lavender\",\"Beige\",\"Violet\",\"Gray\",\"Red\",\"Lavender\",\"Peach\",\"Indigo\",\"Black\",\"Beige\",\"Red\",\"Black\",\"Teal\",\"Blue\",\"Beige\",\"Teal\",\"Maroon\",\"Yellow\",\"Indigo\",\"Magenta\",\"Beige\",\"Maroon\",\"Magenta\",\"Teal\",\"Orange\",\"Charcoal\",\"Turquoise\",\"Pink\",\"Teal\",\"White\",\"Maroon\",\"Violet\",\"Brown\",\"Indigo\",\"Black\",\"Black\",\"Olive\",\"Orange\",\"Pink\",\"Olive\",\"Cyan\",\"White\",\"Red\",\"Blue\",\"Olive\",\"Green\",\"Yellow\",\"Black\",\"Blue\",\"Pink\",\"Lavender\",\"Cyan\",\"Cyan\",\"Gold\",\"Green\",\"Red\",\"Magenta\",\"Red\",\"Yellow\",\"Turquoise\",\"Cyan\",\"Yellow\",\"Yellow\",\"Maroon\",\"Brown\",\"Gold\",\"Charcoal\",\"Beige\",\"Indigo\",\"Red\",\"White\",\"Charcoal\",\"Violet\",\"Magenta\",\"White\",\"Pink\",\"Lavender\",\"Pink\",\"Silver\",\"Violet\",\"Charcoal\",\"Charcoal\",\"Red\",\"Peach\",\"Purple\",\"Orange\",\"Magenta\",\"Red\",\"Black\",\"Peach\",\"Olive\",\"Gold\",\"Gold\",\"Turquoise\",\"Green\",\"Maroon\",\"Brown\",\"Brown\",\"Blue\",\"Lavender\",\"Peach\",\"Gray\",\"Charcoal\",\"Lavender\",\"Green\",\"Gray\",\"Orange\",\"Silver\",\"Olive\",\"Turquoise\",\"Turquoise\",\"Green\",\"Violet\",\"Charcoal\",\"White\",\"Olive\",\"Violet\",\"Violet\",\"Black\",\"Charcoal\",\"Yellow\",\"Blue\",\"Charcoal\",\"Red\",\"Indigo\",\"Beige\",\"Maroon\",\"Yellow\",\"Silver\",\"Olive\",\"Teal\",\"Silver\",\"Indigo\",\"Teal\",\"Charcoal\",\"Orange\",\"Gold\",\"Silver\",\"Orange\",\"Peach\",\"Brown\",\"Black\",\"Red\",\"Lavender\",\"Brown\",\"Maroon\",\"Violet\",\"Lavender\",\"Magenta\",\"Green\",\"Lavender\",\"Green\",\"Maroon\",\"Magenta\",\"Teal\",\"Orange\",\"Violet\",\"Yellow\",\"Orange\",\"Gold\",\"Indigo\",\"Turquoise\",\"Orange\",\"Indigo\",\"Charcoal\",\"Lavender\",\"Gold\",\"Lavender\",\"White\",\"Lavender\",\"Charcoal\",\"Silver\",\"Yellow\",\"Olive\",\"Peach\",\"Yellow\",\"Yellow\",\"Indigo\",\"Violet\",\"White\",\"White\",\"Cyan\",\"Purple\",\"Black\",\"Orange\",\"Maroon\",\"Orange\",\"Teal\",\"Gray\",\"Blue\",\"Cyan\",\"Red\",\"Pink\",\"Cyan\",\"Black\",\"Beige\",\"Gray\",\"Red\",\"Yellow\",\"Magenta\",\"Magenta\",\"Black\",\"Orange\",\"Green\",\"Peach\",\"Charcoal\",\"Gray\",\"Turquoise\",\"Red\",\"Brown\",\"Pink\",\"Olive\",\"Lavender\",\"Purple\",\"Beige\",\"Green\",\"Brown\",\"Beige\",\"Beige\",\"Indigo\",\"Silver\",\"Gold\",\"Lavender\",\"Orange\",\"Maroon\",\"White\",\"Yellow\",\"Yellow\",\"Magenta\",\"Turquoise\",\"Lavender\",\"Magenta\",\"Cyan\",\"Olive\",\"Red\",\"Blue\",\"White\",\"Peach\",\"Charcoal\",\"Peach\",\"Turquoise\",\"Charcoal\",\"Yellow\",\"Blue\",\"Purple\",\"Green\",\"Charcoal\",\"Indigo\",\"Black\",\"Blue\",\"Silver\",\"Brown\",\"Violet\",\"Orange\",\"Gray\",\"Gold\",\"Charcoal\",\"Black\",\"Indigo\",\"White\",\"Yellow\",\"Orange\",\"Green\",\"Gold\",\"Orange\",\"Cyan\",\"Black\",\"Yellow\",\"Maroon\",\"Black\",\"Gray\",\"Orange\",\"Cyan\",\"Magenta\",\"Pink\",\"Turquoise\",\"Violet\",\"Teal\",\"Pink\",\"Gold\",\"Red\",\"Beige\",\"Black\",\"Lavender\",\"Teal\",\"Maroon\",\"Blue\",\"Teal\",\"Maroon\",\"Silver\",\"Olive\",\"Gray\",\"Peach\",\"Yellow\",\"Violet\",\"Red\",\"Charcoal\",\"Beige\",\"Peach\",\"Violet\",\"Green\",\"Olive\",\"Silver\",\"Purple\",\"Silver\",\"Gray\",\"Turquoise\",\"Violet\",\"Pink\",\"Teal\",\"Magenta\",\"Silver\",\"Blue\",\"Black\",\"Gold\",\"Gray\",\"Magenta\",\"Yellow\",\"Teal\",\"Red\",\"Yellow\",\"Black\",\"Pink\",\"Magenta\",\"Olive\",\"Black\",\"Maroon\",\"Gold\",\"Gray\",\"Brown\",\"Purple\",\"Magenta\",\"Teal\",\"Olive\",\"Maroon\",\"Silver\",\"Black\",\"Maroon\",\"Teal\",\"Teal\",\"Beige\",\"Maroon\",\"Beige\",\"White\",\"Gray\",\"Violet\",\"Silver\",\"Red\",\"Brown\",\"Turquoise\",\"Indigo\",\"Violet\",\"Yellow\",\"Cyan\",\"Brown\",\"White\",\"Yellow\",\"White\",\"Pink\",\"Indigo\",\"White\",\"Red\",\"Red\",\"Lavender\",\"Teal\",\"Violet\",\"Silver\",\"Gold\",\"Green\",\"Turquoise\",\"Indigo\",\"Black\",\"Charcoal\",\"Turquoise\",\"Red\",\"Indigo\",\"Maroon\",\"Indigo\",\"Maroon\",\"Black\",\"Purple\",\"Teal\",\"Silver\",\"Black\",\"Black\",\"Olive\",\"Purple\",\"Indigo\",\"Lavender\",\"Cyan\",\"Gold\",\"Magenta\",\"Teal\",\"Beige\",\"Teal\",\"Indigo\",\"Purple\",\"Teal\",\"Turquoise\",\"Peach\",\"Green\",\"Turquoise\",\"Yellow\",\"Orange\",\"Brown\",\"Silver\",\"White\",\"Indigo\",\"Magenta\",\"Turquoise\",\"White\",\"Olive\",\"Maroon\",\"Violet\",\"Cyan\",\"Teal\",\"Red\",\"Yellow\",\"Silver\",\"Charcoal\",\"Purple\",\"Beige\",\"Cyan\",\"Silver\",\"Pink\",\"Gold\",\"Cyan\",\"Black\",\"Charcoal\",\"Magenta\",\"Pink\",\"Maroon\",\"Teal\",\"Orange\",\"Yellow\",\"Red\",\"Charcoal\",\"Black\",\"White\",\"Lavender\",\"White\",\"Gray\",\"Cyan\",\"Brown\",\"Purple\",\"Yellow\",\"Indigo\",\"Black\",\"Gray\",\"Indigo\",\"Green\",\"Peach\",\"Purple\",\"Beige\",\"Charcoal\",\"Gray\",\"Brown\",\"Cyan\",\"White\",\"Beige\",\"Orange\",\"Olive\",\"Teal\",\"Silver\",\"Gold\",\"Violet\",\"White\",\"Peach\",\"Orange\",\"Violet\",\"Green\",\"Peach\",\"Black\",\"Blue\",\"Magenta\",\"Violet\",\"Beige\",\"Pink\",\"Beige\",\"Green\",\"Silver\",\"Purple\",\"Gray\",\"White\",\"Silver\",\"Blue\",\"Orange\",\"Silver\",\"Gray\",\"Gold\",\"Brown\",\"Turquoise\",\"Pink\",\"Black\",\"Yellow\",\"Beige\",\"Olive\",\"Gold\",\"Purple\",\"Pink\",\"Blue\",\"Brown\",\"Charcoal\",\"Maroon\",\"Cyan\",\"Olive\",\"Gold\",\"Violet\",\"Peach\",\"Beige\",\"Cyan\",\"Silver\",\"Magenta\",\"Black\",\"Olive\",\"Green\",\"Yellow\",\"Lavender\",\"Indigo\",\"Pink\",\"Red\",\"Magenta\",\"Peach\",\"Turquoise\",\"Black\",\"Blue\",\"Beige\",\"Olive\",\"Turquoise\",\"Yellow\",\"Turquoise\",\"Lavender\",\"Turquoise\",\"Teal\",\"Black\",\"Blue\",\"Yellow\",\"Black\",\"Lavender\",\"Cyan\",\"Brown\",\"Maroon\",\"Cyan\",\"Pink\",\"Orange\",\"Lavender\",\"Beige\",\"Pink\",\"Charcoal\",\"Gray\",\"Cyan\",\"Orange\",\"Pink\",\"White\",\"Beige\",\"Magenta\",\"Violet\",\"Gold\",\"Teal\",\"Indigo\",\"Olive\",\"Violet\",\"Black\",\"Brown\",\"Silver\",\"Gray\",\"Charcoal\",\"Black\",\"Brown\",\"Purple\",\"Purple\",\"Gray\",\"Green\",\"Silver\",\"Charcoal\",\"Teal\",\"White\",\"Brown\",\"Teal\",\"Red\",\"Brown\",\"Yellow\",\"Teal\",\"Pink\",\"White\",\"Silver\",\"Blue\",\"Black\",\"Beige\",\"Charcoal\",\"Cyan\",\"Yellow\",\"Silver\",\"Green\",\"Peach\",\"Green\",\"Brown\",\"Lavender\",\"Charcoal\",\"Orange\",\"Cyan\",\"Lavender\",\"Indigo\",\"Brown\",\"Pink\",\"Turquoise\",\"Gold\",\"Blue\",\"Lavender\",\"Violet\",\"Cyan\",\"Purple\",\"Red\",\"Charcoal\",\"Gray\",\"Pink\",\"Lavender\",\"Lavender\",\"Yellow\",\"Peach\",\"Brown\",\"Gold\",\"Pink\",\"Peach\",\"Violet\",\"Purple\",\"Peach\",\"White\",\"Indigo\",\"Violet\",\"Brown\",\"Maroon\",\"Magenta\",\"Charcoal\",\"Indigo\",\"Turquoise\",\"Turquoise\",\"Gray\",\"Peach\",\"Gold\",\"Green\",\"Gold\",\"Lavender\",\"Blue\",\"Magenta\",\"Blue\",\"Blue\",\"Olive\",\"White\",\"White\",\"Purple\",\"White\",\"White\",\"Peach\",\"Gold\",\"Teal\",\"Cyan\",\"Pink\",\"Magenta\",\"Pink\",\"Turquoise\",\"Pink\",\"Gray\",\"White\",\"Blue\",\"Cyan\",\"Blue\",\"Yellow\",\"Charcoal\",\"Lavender\",\"Teal\",\"Beige\",\"Blue\",\"Purple\",\"Gold\",\"Blue\",\"Black\",\"Charcoal\",\"Purple\",\"Orange\",\"Yellow\",\"Cyan\",\"Yellow\",\"Maroon\",\"Black\",\"Lavender\",\"Violet\",\"Olive\",\"Teal\",\"Teal\",\"Beige\",\"Maroon\",\"Peach\",\"Beige\",\"Silver\",\"Peach\",\"Turquoise\",\"Orange\",\"Cyan\",\"Silver\",\"Gold\",\"Brown\",\"Silver\",\"Beige\",\"Violet\",\"Violet\",\"Lavender\",\"Red\",\"Purple\",\"Brown\",\"Gray\",\"Pink\",\"Magenta\",\"Charcoal\",\"Yellow\",\"Red\",\"Blue\",\"Cyan\",\"Pink\",\"Maroon\",\"Beige\",\"Gold\",\"Turquoise\",\"Peach\",\"Lavender\",\"Gray\",\"Blue\",\"Red\",\"Purple\",\"Indigo\",\"Gold\",\"Teal\",\"Magenta\",\"Maroon\",\"Blue\",\"Beige\",\"Olive\",\"Gold\",\"Silver\",\"Teal\",\"Green\",\"Orange\",\"Charcoal\",\"Black\",\"Yellow\",\"Gray\",\"Charcoal\",\"Peach\",\"Green\",\"Magenta\",\"Beige\",\"Black\",\"Purple\",\"Olive\",\"Purple\",\"Green\",\"Peach\",\"Blue\",\"Gray\",\"Black\",\"Silver\",\"Pink\",\"Lavender\",\"Brown\",\"Turquoise\",\"Olive\",\"White\",\"Violet\",\"Gold\",\"Violet\",\"Teal\",\"Olive\",\"Blue\",\"Magenta\",\"Gray\",\"Peach\",\"Cyan\",\"Violet\",\"Gold\",\"Gold\",\"White\",\"Gray\",\"Brown\",\"Gray\",\"Blue\",\"Gold\",\"Yellow\",\"Green\",\"Pink\",\"Pink\",\"Pink\",\"Cyan\",\"Gray\",\"White\",\"Red\",\"Black\",\"Silver\",\"Pink\",\"Cyan\",\"White\",\"Purple\",\"Yellow\",\"Blue\",\"Cyan\",\"Indigo\",\"Indigo\",\"Silver\",\"Red\",\"Peach\",\"Turquoise\",\"Pink\",\"Teal\",\"Magenta\",\"Blue\",\"Green\",\"Violet\",\"Turquoise\",\"Pink\",\"Black\",\"Gold\",\"Green\",\"White\",\"Gold\",\"Charcoal\",\"White\",\"Brown\",\"Gold\",\"Purple\",\"Brown\",\"Teal\",\"Indigo\",\"Purple\",\"Orange\",\"Indigo\",\"Lavender\",\"Purple\",\"Red\",\"Blue\",\"Blue\",\"Cyan\",\"Pink\",\"Silver\",\"Gray\",\"Indigo\",\"Maroon\",\"Beige\",\"Green\",\"Peach\",\"Black\",\"Pink\",\"Violet\",\"Green\",\"Gold\",\"Red\",\"Beige\",\"Green\",\"Black\",\"Teal\",\"Silver\",\"Turquoise\",\"Orange\",\"Gold\",\"Purple\",\"Pink\",\"Green\",\"Charcoal\",\"Maroon\",\"Olive\",\"Peach\",\"Yellow\",\"Lavender\",\"Green\",\"Orange\",\"Olive\",\"Gray\",\"Lavender\",\"Red\",\"Charcoal\",\"Orange\",\"Red\",\"Maroon\",\"Silver\",\"Pink\",\"Blue\",\"Teal\",\"Black\",\"Gray\",\"Purple\",\"Gold\",\"Silver\",\"Blue\",\"Yellow\",\"Brown\",\"Beige\",\"Blue\",\"Magenta\",\"Silver\",\"Cyan\",\"Green\",\"Blue\",\"Olive\",\"Beige\",\"Black\",\"Indigo\",\"Red\",\"Yellow\",\"Beige\",\"Green\",\"White\",\"Turquoise\",\"Indigo\",\"Orange\",\"Blue\",\"Violet\",\"Gray\",\"Cyan\",\"Yellow\",\"Orange\",\"Brown\",\"Teal\",\"Beige\",\"Blue\",\"Orange\",\"Gold\",\"Teal\",\"Beige\",\"Silver\",\"Maroon\",\"Indigo\",\"Gray\",\"Blue\",\"Cyan\",\"White\",\"Green\",\"Silver\",\"Blue\",\"Brown\",\"Red\",\"Gold\",\"Silver\",\"Gray\",\"Black\",\"Beige\",\"Peach\",\"Cyan\",\"Pink\",\"Lavender\",\"Brown\",\"Magenta\",\"Violet\",\"Teal\",\"Brown\",\"Olive\",\"Indigo\",\"Red\",\"Olive\",\"Teal\",\"Cyan\",\"Teal\",\"Beige\",\"Magenta\",\"Indigo\",\"Cyan\",\"Orange\",\"Violet\",\"Red\",\"Magenta\",\"Olive\",\"Maroon\",\"Yellow\",\"Red\",\"Purple\",\"Teal\",\"Red\",\"Brown\",\"Peach\",\"Maroon\",\"Red\",\"Orange\",\"White\",\"White\",\"Charcoal\",\"Turquoise\",\"Orange\",\"Orange\",\"Brown\",\"Magenta\",\"Violet\",\"Violet\",\"Yellow\",\"Maroon\",\"Turquoise\",\"Olive\",\"Peach\",\"Charcoal\",\"Peach\",\"Black\",\"Gray\",\"Olive\",\"Turquoise\",\"Purple\",\"Green\",\"Beige\",\"Brown\",\"Turquoise\",\"Yellow\",\"Lavender\",\"Cyan\",\"Olive\",\"Silver\",\"Red\",\"Green\",\"Gold\",\"Lavender\",\"Yellow\",\"Black\",\"Maroon\",\"Maroon\",\"Gold\",\"Violet\",\"Teal\",\"Violet\",\"Brown\",\"Brown\",\"Maroon\",\"Maroon\",\"Yellow\",\"Turquoise\",\"Silver\",\"Brown\",\"Gray\",\"Indigo\",\"Turquoise\",\"Maroon\",\"Charcoal\",\"Peach\",\"Red\",\"Indigo\",\"Lavender\",\"Red\",\"Green\",\"Gray\",\"Violet\",\"Beige\",\"Orange\",\"Purple\",\"Brown\",\"Maroon\",\"Gold\",\"Indigo\",\"Silver\",\"Red\",\"Magenta\",\"Purple\",\"Beige\",\"White\",\"Teal\",\"Gray\",\"Charcoal\",\"Olive\",\"Blue\",\"Gray\",\"Green\",\"Silver\",\"Teal\",\"Beige\",\"Lavender\",\"Gray\",\"Yellow\",\"Gray\",\"Yellow\",\"Black\",\"Beige\",\"Indigo\",\"Green\",\"Purple\",\"Orange\",\"Teal\",\"Gold\",\"Gray\",\"Cyan\",\"Teal\",\"Violet\",\"Indigo\",\"Pink\",\"Gold\",\"Maroon\",\"Brown\",\"Gold\",\"Teal\",\"Turquoise\",\"Olive\",\"Cyan\",\"Beige\",\"Blue\",\"Gold\",\"Green\",\"Green\",\"Turquoise\",\"Yellow\",\"Yellow\",\"Blue\",\"Charcoal\",\"Yellow\",\"Purple\",\"Green\",\"Charcoal\",\"Silver\",\"Turquoise\",\"Gray\",\"Red\",\"Beige\",\"Maroon\",\"Indigo\",\"Red\",\"Maroon\",\"Red\",\"Black\",\"Black\",\"Pink\",\"Blue\",\"Green\",\"Orange\",\"Orange\",\"Magenta\",\"Indigo\",\"Beige\",\"Green\",\"Red\",\"Beige\",\"Green\",\"Orange\",\"Cyan\",\"Violet\",\"Lavender\",\"Turquoise\",\"Pink\",\"Beige\",\"Silver\",\"Gold\",\"Silver\",\"Green\",\"Teal\",\"Gold\",\"Cyan\",\"Gold\",\"Violet\",\"Black\",\"Brown\",\"Indigo\",\"Yellow\",\"Purple\",\"White\",\"Turquoise\",\"Olive\",\"Beige\",\"Lavender\",\"White\",\"Brown\",\"Charcoal\",\"Maroon\",\"Red\",\"Maroon\",\"Teal\",\"Orange\",\"Olive\",\"Olive\",\"Beige\",\"Green\",\"Black\",\"Green\",\"Violet\",\"Silver\",\"Maroon\",\"Cyan\",\"Teal\",\"Olive\",\"Red\",\"Lavender\",\"Orange\",\"Brown\",\"Gray\",\"Orange\",\"Orange\",\"Turquoise\",\"Cyan\",\"Yellow\",\"White\",\"Blue\",\"Purple\",\"Gray\",\"Cyan\",\"Pink\",\"Gold\",\"Silver\",\"Gray\",\"Brown\",\"Pink\",\"Maroon\",\"Peach\",\"Brown\",\"Green\",\"Lavender\",\"Cyan\",\"Black\",\"Charcoal\",\"Silver\",\"Gray\",\"Peach\",\"Peach\",\"Cyan\",\"Magenta\",\"Teal\",\"Peach\",\"Black\",\"Teal\",\"Turquoise\",\"Gold\",\"Green\",\"Brown\",\"Blue\",\"Gold\",\"Peach\",\"Violet\",\"Yellow\",\"Black\",\"Silver\",\"Brown\",\"Peach\",\"Cyan\",\"Olive\",\"Black\",\"Orange\",\"Beige\",\"Peach\",\"Pink\",\"Brown\",\"Magenta\",\"Cyan\",\"Silver\",\"Indigo\",\"Beige\",\"Black\",\"Yellow\",\"Maroon\",\"Cyan\",\"Pink\",\"Violet\",\"Lavender\",\"Lavender\",\"Black\",\"Olive\",\"Indigo\",\"Blue\",\"Green\",\"Pink\",\"Peach\",\"Purple\",\"Peach\",\"Olive\",\"Olive\",\"Purple\",\"Violet\",\"Maroon\",\"White\",\"Olive\",\"Peach\",\"Blue\",\"Brown\",\"Black\",\"Yellow\",\"Magenta\",\"Cyan\",\"Maroon\",\"Red\",\"Black\",\"Violet\",\"Green\",\"Gold\",\"Brown\",\"Peach\",\"Peach\",\"Violet\",\"Violet\",\"Magenta\",\"Purple\",\"Purple\",\"Cyan\",\"Magenta\",\"Lavender\",\"Green\",\"Maroon\",\"Turquoise\",\"Violet\",\"Lavender\",\"Red\",\"Orange\",\"Indigo\",\"Teal\",\"Brown\",\"Pink\",\"Lavender\",\"Cyan\",\"Yellow\",\"Pink\",\"Gray\",\"Peach\",\"Red\",\"Olive\",\"Lavender\",\"Turquoise\",\"Turquoise\",\"Maroon\",\"Olive\",\"Maroon\",\"Cyan\",\"Peach\",\"Teal\",\"Green\",\"Beige\",\"Magenta\",\"Violet\",\"Charcoal\",\"Green\",\"Gray\",\"Magenta\",\"Silver\",\"Beige\",\"Peach\",\"Orange\",\"Yellow\",\"Violet\",\"Green\",\"Pink\",\"Violet\",\"Violet\",\"Pink\",\"Violet\",\"Turquoise\",\"Cyan\",\"Orange\",\"Cyan\",\"Indigo\",\"Black\",\"Purple\",\"Cyan\",\"Green\",\"Teal\",\"Teal\",\"Magenta\",\"Brown\",\"Orange\",\"Blue\",\"Magenta\",\"Magenta\",\"Magenta\",\"Olive\",\"Cyan\",\"Purple\",\"Purple\",\"Peach\",\"Gold\",\"Peach\",\"Magenta\",\"Cyan\",\"Violet\",\"Charcoal\",\"Blue\",\"Red\",\"Purple\",\"Gray\",\"Purple\",\"Silver\",\"Purple\",\"Charcoal\",\"Silver\",\"White\",\"Peach\",\"Red\",\"Olive\",\"Gray\",\"Beige\",\"Pink\",\"Red\",\"Peach\",\"Maroon\",\"Purple\",\"Maroon\",\"Gray\",\"Gray\",\"Magenta\",\"Cyan\",\"Silver\",\"Green\",\"Violet\",\"Magenta\",\"Yellow\",\"Gray\",\"Indigo\",\"Indigo\",\"Yellow\",\"Gold\",\"Green\",\"Charcoal\",\"Olive\",\"Black\",\"Silver\",\"Red\",\"Brown\",\"Silver\",\"Silver\",\"Black\",\"Purple\",\"Purple\",\"Turquoise\",\"Gold\",\"Indigo\",\"Lavender\",\"Blue\",\"Maroon\",\"Yellow\",\"Purple\",\"Peach\",\"Silver\",\"Turquoise\",\"Olive\",\"Peach\",\"Indigo\",\"Indigo\",\"Maroon\",\"Black\",\"Teal\",\"Olive\",\"Gold\",\"Gray\",\"Orange\",\"Black\",\"Teal\",\"Beige\",\"White\",\"Turquoise\",\"Teal\",\"Orange\",\"Black\",\"Violet\",\"Maroon\",\"Turquoise\",\"Gold\",\"Turquoise\",\"Maroon\",\"Purple\",\"Maroon\",\"Brown\",\"Indigo\",\"Lavender\",\"Beige\",\"Yellow\",\"Gold\",\"Indigo\",\"Cyan\",\"Silver\",\"Silver\",\"Silver\",\"Peach\",\"Pink\",\"Violet\",\"Black\",\"Purple\",\"Black\",\"Peach\",\"Magenta\",\"Magenta\",\"Black\",\"Pink\",\"Olive\",\"Olive\",\"Peach\",\"Silver\",\"Turquoise\",\"Olive\",\"Lavender\",\"Red\",\"Gray\",\"Magenta\",\"Maroon\",\"Cyan\",\"Cyan\",\"Lavender\",\"Pink\",\"Gray\",\"Yellow\",\"Pink\",\"Indigo\",\"Gray\",\"Yellow\",\"Olive\",\"Cyan\",\"Silver\",\"Silver\",\"Red\",\"Brown\",\"Orange\",\"Black\",\"Teal\",\"Yellow\",\"Gray\",\"Maroon\",\"Olive\",\"Charcoal\",\"Peach\",\"Maroon\",\"Olive\",\"Magenta\",\"Yellow\",\"Indigo\",\"Olive\",\"Maroon\",\"Indigo\",\"Gray\",\"Gray\",\"Black\",\"White\",\"Turquoise\",\"Orange\",\"Yellow\",\"Blue\",\"Violet\",\"Lavender\",\"Olive\",\"Orange\",\"White\",\"Red\",\"Magenta\",\"Violet\",\"Olive\",\"Silver\",\"Gray\",\"Olive\",\"Beige\",\"Turquoise\",\"Blue\",\"Pink\",\"Teal\",\"Cyan\",\"Purple\",\"Red\",\"Brown\",\"Magenta\",\"Olive\",\"Pink\",\"Black\",\"Beige\",\"Peach\",\"Peach\",\"Peach\",\"Teal\",\"Green\",\"Brown\",\"Brown\",\"Violet\",\"Blue\",\"Charcoal\",\"Pink\",\"Violet\",\"Teal\",\"Red\",\"Orange\",\"Magenta\",\"Yellow\",\"Yellow\",\"Pink\",\"Indigo\",\"Charcoal\",\"Blue\",\"Lavender\",\"Yellow\",\"Black\",\"Beige\",\"Silver\",\"Magenta\",\"Orange\",\"Teal\",\"Turquoise\",\"Cyan\",\"Pink\",\"Indigo\",\"Peach\",\"Beige\",\"Gold\",\"Indigo\",\"Violet\",\"Brown\",\"Purple\",\"Turquoise\",\"Violet\",\"Purple\",\"Charcoal\",\"Green\",\"White\",\"Purple\",\"Cyan\",\"Green\",\"Beige\",\"Lavender\",\"Blue\",\"Beige\",\"Blue\",\"Maroon\",\"Yellow\",\"Red\",\"Green\",\"Magenta\",\"Yellow\",\"Blue\",\"Charcoal\",\"Blue\",\"Cyan\",\"Silver\",\"Black\",\"Green\",\"Violet\",\"Pink\",\"Olive\",\"Orange\",\"Black\",\"Yellow\",\"Violet\",\"Silver\",\"Gold\",\"Magenta\",\"Red\",\"Green\",\"Red\",\"Pink\",\"Violet\",\"Indigo\",\"Red\",\"Violet\",\"Cyan\",\"Black\",\"Purple\",\"Charcoal\",\"Beige\",\"Teal\",\"Purple\",\"Blue\",\"Magenta\",\"Maroon\",\"Gold\",\"Black\",\"Black\",\"Yellow\",\"Turquoise\",\"Lavender\",\"Yellow\",\"Olive\",\"Brown\",\"Olive\",\"Purple\",\"Yellow\",\"Brown\",\"Magenta\",\"Lavender\",\"Teal\",\"Cyan\",\"Pink\",\"Magenta\",\"Teal\",\"Indigo\",\"Pink\",\"Charcoal\",\"Brown\",\"Blue\",\"Teal\",\"Pink\",\"Magenta\",\"Green\",\"White\",\"Indigo\",\"Lavender\",\"Black\",\"Charcoal\",\"Gray\",\"Gold\",\"Silver\",\"Teal\",\"Magenta\",\"Magenta\",\"Beige\",\"Maroon\",\"Indigo\",\"Maroon\",\"Teal\",\"Yellow\",\"Gold\",\"Teal\",\"Violet\",\"Yellow\",\"Maroon\",\"Silver\",\"Violet\",\"White\",\"Black\",\"White\",\"Blue\",\"Black\",\"Olive\",\"Teal\",\"Silver\",\"Pink\",\"Charcoal\",\"Silver\",\"Turquoise\",\"Turquoise\",\"Beige\",\"Cyan\",\"Gold\",\"Silver\",\"Purple\",\"Yellow\",\"Blue\",\"Blue\",\"Green\",\"Charcoal\",\"Violet\",\"Black\",\"Teal\",\"Orange\",\"Brown\",\"Green\",\"Silver\",\"Violet\",\"Peach\",\"Gold\",\"Violet\",\"Olive\",\"Orange\",\"Teal\",\"Gray\",\"Black\",\"Indigo\",\"Lavender\",\"Beige\",\"Indigo\",\"Blue\",\"Orange\",\"Yellow\",\"Cyan\",\"Yellow\",\"Cyan\",\"Green\",\"White\",\"Black\",\"Charcoal\",\"Brown\",\"Cyan\",\"Beige\",\"Magenta\",\"Indigo\",\"Maroon\",\"Gray\",\"Black\",\"Yellow\",\"White\",\"Orange\",\"Magenta\",\"Black\",\"Brown\",\"Orange\",\"Gray\",\"White\",\"White\",\"Violet\",\"Beige\",\"Beige\",\"Purple\",\"Brown\",\"Orange\",\"Cyan\",\"Charcoal\",\"Purple\",\"Peach\",\"Violet\",\"Peach\",\"Maroon\",\"Maroon\",\"Peach\",\"Silver\",\"Indigo\",\"Silver\",\"Olive\",\"Gray\",\"Black\",\"Maroon\",\"Olive\",\"Gold\",\"Pink\",\"Brown\",\"White\",\"Blue\",\"Orange\",\"Silver\",\"Gray\",\"Blue\",\"White\",\"Yellow\",\"Indigo\",\"Blue\",\"Peach\",\"Lavender\",\"Silver\",\"Gold\",\"Cyan\",\"Olive\",\"Teal\",\"Pink\",\"Orange\",\"Charcoal\",\"Red\",\"Teal\",\"Silver\",\"Black\",\"Pink\",\"Teal\",\"Teal\",\"Green\",\"Charcoal\",\"Indigo\",\"White\",\"Orange\",\"White\",\"Yellow\",\"Red\",\"Charcoal\",\"Lavender\",\"Charcoal\",\"Maroon\",\"Brown\",\"Lavender\",\"Brown\",\"Olive\",\"Lavender\",\"Gold\",\"Silver\",\"Violet\",\"Brown\",\"Teal\",\"Peach\",\"Maroon\",\"Lavender\",\"Lavender\",\"Purple\",\"Green\",\"Yellow\",\"Charcoal\",\"Blue\",\"Lavender\",\"Brown\",\"White\",\"Green\",\"Magenta\",\"Peach\",\"Charcoal\",\"Gold\",\"Purple\",\"Teal\",\"Green\",\"Orange\",\"Peach\",\"Gold\",\"Violet\",\"Charcoal\",\"Brown\",\"Blue\",\"Gold\",\"Orange\",\"Turquoise\",\"Peach\",\"Magenta\",\"Black\",\"White\",\"Violet\",\"Olive\",\"Red\",\"Green\",\"Gold\",\"Olive\",\"Brown\",\"Magenta\",\"Violet\",\"Beige\",\"Blue\",\"Orange\",\"Maroon\",\"Charcoal\",\"Olive\",\"Green\",\"Brown\",\"Cyan\",\"Beige\",\"Teal\",\"Gray\",\"Indigo\",\"Magenta\",\"Red\",\"Turquoise\",\"Peach\",\"White\",\"Maroon\",\"Beige\",\"Blue\",\"Red\",\"Blue\",\"Maroon\",\"Yellow\",\"Pink\",\"Maroon\",\"Purple\",\"Indigo\",\"Gray\",\"Lavender\",\"Charcoal\",\"Teal\",\"Blue\",\"Peach\",\"Orange\",\"Silver\",\"Red\",\"Gray\",\"Beige\",\"White\",\"Silver\",\"Cyan\",\"Maroon\",\"Purple\",\"Brown\",\"Green\",\"Peach\",\"Turquoise\",\"Olive\",\"Yellow\",\"Gray\",\"Purple\",\"Gray\",\"Lavender\",\"Indigo\",\"Green\",\"Green\",\"Olive\",\"Charcoal\",\"Gray\",\"Olive\",\"Blue\",\"Silver\",\"Magenta\",\"Black\",\"Pink\",\"Red\",\"Peach\",\"Lavender\",\"Lavender\",\"Beige\",\"Indigo\",\"Cyan\",\"Yellow\",\"Peach\",\"Yellow\",\"Orange\",\"Gray\",\"Yellow\",\"Gray\",\"Turquoise\",\"Gray\",\"Olive\",\"Peach\",\"Peach\",\"Magenta\",\"Purple\",\"Beige\",\"Purple\",\"Yellow\",\"Pink\",\"Purple\",\"Lavender\",\"Peach\",\"Orange\",\"Red\",\"Red\",\"Gold\",\"Brown\",\"Black\",\"Red\",\"Gray\",\"Pink\",\"Turquoise\",\"Charcoal\",\"Blue\",\"Turquoise\",\"Silver\",\"Lavender\",\"Gold\",\"Blue\",\"Orange\",\"White\",\"Charcoal\",\"Maroon\",\"Olive\",\"Teal\",\"Orange\",\"Maroon\",\"Turquoise\",\"Beige\",\"Beige\",\"Olive\",\"Turquoise\",\"Charcoal\",\"Green\",\"Green\",\"Green\",\"Gold\",\"Cyan\",\"Indigo\",\"Lavender\",\"Beige\",\"Purple\",\"Maroon\",\"Maroon\",\"Teal\",\"Gold\",\"Red\",\"Maroon\",\"Teal\",\"Peach\",\"Pink\",\"Black\",\"Indigo\",\"Green\",\"Teal\",\"Lavender\",\"Magenta\",\"Brown\",\"Beige\",\"Indigo\",\"Peach\",\"Magenta\",\"Turquoise\",\"Indigo\",\"Brown\",\"Yellow\",\"Magenta\",\"Olive\",\"Silver\",\"Teal\",\"White\",\"Blue\",\"Yellow\",\"Maroon\",\"Gray\",\"Indigo\",\"Pink\",\"Beige\",\"White\",\"Yellow\",\"Teal\",\"Olive\",\"Maroon\",\"White\",\"Lavender\",\"Black\",\"Green\",\"Olive\",\"Gray\",\"Teal\",\"Charcoal\",\"Violet\",\"Lavender\",\"Beige\",\"Black\",\"Black\",\"Purple\",\"Magenta\",\"Teal\",\"Teal\",\"Pink\",\"Teal\",\"Gold\",\"Brown\",\"Brown\",\"Magenta\",\"Black\",\"Teal\",\"Brown\",\"Magenta\",\"Indigo\",\"Violet\",\"Cyan\",\"Violet\",\"Black\",\"Charcoal\",\"White\",\"Gray\",\"Pink\",\"Cyan\",\"Blue\",\"Indigo\",\"Magenta\",\"Lavender\",\"Orange\",\"Cyan\",\"Green\",\"White\",\"Blue\",\"Black\",\"Red\",\"Red\",\"Gold\",\"Red\",\"Purple\",\"White\",\"Magenta\",\"Pink\",\"Black\",\"White\",\"Maroon\",\"Black\",\"Olive\",\"Gray\",\"Gold\",\"Magenta\",\"Lavender\",\"Green\",\"Violet\",\"Brown\",\"Teal\",\"Charcoal\",\"Charcoal\",\"Beige\",\"Turquoise\",\"Orange\",\"Cyan\",\"Orange\",\"Green\",\"Pink\",\"Blue\",\"Pink\",\"Blue\",\"Black\",\"Black\",\"Violet\",\"Gold\",\"Olive\",\"Pink\",\"Olive\",\"Indigo\",\"Silver\",\"Charcoal\",\"Orange\",\"Yellow\",\"Red\",\"Maroon\",\"Magenta\",\"Black\",\"Violet\",\"Gray\",\"Black\",\"Pink\",\"Silver\",\"Violet\",\"Beige\",\"Cyan\",\"Brown\",\"Blue\",\"White\",\"Cyan\",\"Maroon\",\"Olive\",\"Violet\",\"Green\",\"Magenta\",\"Turquoise\",\"Black\",\"Cyan\",\"Gray\",\"Red\",\"Olive\",\"Cyan\",\"Teal\",\"Teal\",\"Orange\",\"Peach\",\"Silver\",\"Pink\",\"Magenta\",\"Red\",\"Maroon\",\"Silver\",\"Gray\",\"Turquoise\",\"Peach\",\"Teal\",\"Red\",\"Blue\",\"Blue\",\"Indigo\",\"Charcoal\",\"Turquoise\",\"Maroon\",\"Purple\",\"Lavender\",\"Yellow\",\"Green\",\"Yellow\",\"Gold\",\"Turquoise\",\"Blue\",\"Turquoise\",\"Maroon\",\"Pink\",\"Maroon\",\"Olive\",\"Lavender\",\"Pink\",\"Cyan\",\"Maroon\",\"Red\",\"Silver\",\"Blue\",\"Gold\",\"Yellow\",\"Silver\",\"Black\",\"Yellow\",\"Pink\",\"Yellow\",\"Lavender\",\"Peach\",\"Black\",\"Olive\",\"Olive\",\"White\",\"Red\",\"Purple\",\"Purple\",\"Teal\",\"Teal\",\"Gray\",\"Magenta\",\"Black\",\"Maroon\",\"Gold\",\"Purple\",\"Blue\",\"Beige\",\"Indigo\",\"Purple\",\"Maroon\",\"Beige\",\"Brown\",\"Green\",\"Blue\",\"Magenta\",\"Turquoise\",\"Gray\",\"Purple\",\"Lavender\",\"Green\",\"Gray\",\"Yellow\",\"Orange\",\"Beige\",\"Peach\",\"Green\",\"Violet\",\"Gray\",\"Magenta\",\"Charcoal\",\"Violet\",\"Silver\",\"Green\",\"Magenta\",\"Purple\",\"Blue\",\"Yellow\",\"Brown\",\"Pink\",\"Silver\",\"Indigo\",\"Pink\",\"Lavender\",\"Orange\",\"Red\",\"Gray\",\"Violet\",\"Green\",\"Gold\",\"Maroon\",\"Olive\",\"Yellow\",\"Peach\",\"Gold\",\"Purple\",\"Charcoal\",\"Indigo\",\"Magenta\",\"Olive\",\"Blue\",\"White\",\"Cyan\",\"Cyan\",\"Orange\",\"Orange\",\"Teal\",\"Magenta\",\"Orange\",\"Peach\",\"Maroon\",\"Gold\",\"White\",\"Gray\",\"Brown\",\"Charcoal\",\"Beige\",\"Teal\",\"Black\",\"Violet\",\"Orange\",\"Turquoise\",\"Black\",\"Silver\",\"Gray\",\"Pink\",\"Red\",\"Lavender\",\"Indigo\",\"Silver\",\"Silver\",\"Green\",\"Pink\",\"Violet\",\"Red\",\"Olive\",\"Purple\",\"Gray\",\"Brown\",\"Orange\",\"Blue\",\"White\",\"Charcoal\",\"Gray\",\"Charcoal\",\"White\",\"Orange\",\"Black\",\"White\",\"Brown\",\"Pink\",\"Yellow\",\"Cyan\",\"Silver\",\"Olive\",\"Olive\",\"Charcoal\",\"Gray\",\"Maroon\",\"Black\",\"Violet\",\"Indigo\",\"Yellow\",\"Gray\",\"Red\",\"Peach\",\"Gray\",\"White\",\"Green\",\"Magenta\",\"Olive\",\"Olive\",\"Blue\",\"Charcoal\",\"Yellow\",\"Violet\",\"Magenta\",\"Red\",\"Cyan\",\"Orange\",\"Black\",\"Blue\",\"Charcoal\",\"Indigo\",\"Silver\",\"Brown\",\"Peach\",\"Magenta\",\"Beige\",\"Violet\",\"Black\",\"Cyan\",\"Green\",\"Brown\",\"Gray\",\"Orange\",\"Silver\",\"Purple\",\"Olive\",\"Teal\",\"White\",\"Black\",\"Maroon\",\"Cyan\",\"Violet\",\"Yellow\",\"Yellow\",\"Olive\",\"Olive\",\"Magenta\",\"Orange\",\"Beige\",\"Brown\",\"Indigo\",\"Gray\",\"Yellow\",\"Violet\",\"Magenta\",\"Blue\",\"Gray\",\"Gold\",\"Lavender\",\"Black\",\"Charcoal\",\"Violet\",\"Charcoal\",\"Maroon\",\"Purple\",\"Peach\",\"Olive\",\"Indigo\",\"Magenta\",\"Gold\",\"Orange\",\"Gold\",\"Purple\",\"Charcoal\",\"Cyan\",\"Cyan\",\"Green\",\"Silver\",\"Teal\",\"Magenta\",\"Maroon\",\"Gold\",\"Purple\",\"Lavender\",\"Maroon\",\"Magenta\",\"Turquoise\",\"Silver\",\"Purple\",\"Violet\",\"Peach\",\"Green\",\"Teal\",\"Silver\",\"Purple\",\"Lavender\",\"Lavender\",\"Peach\",\"Green\",\"Orange\",\"Pink\",\"Cyan\",\"Lavender\",\"Yellow\",\"Olive\",\"Brown\",\"Pink\",\"Cyan\",\"Maroon\",\"Magenta\",\"Violet\",\"Silver\",\"Maroon\",\"Gray\",\"White\",\"Brown\",\"Silver\",\"Yellow\",\"Magenta\",\"Blue\",\"Green\",\"Yellow\",\"Cyan\",\"Gold\",\"Magenta\",\"Gray\",\"Indigo\",\"White\",\"Indigo\",\"Green\",\"Turquoise\",\"Peach\",\"Olive\",\"Cyan\",\"Magenta\",\"Silver\",\"White\",\"Pink\",\"Pink\",\"Pink\",\"Blue\",\"White\",\"Teal\",\"Gray\",\"Beige\",\"Violet\",\"Blue\",\"Magenta\",\"Maroon\",\"Purple\",\"Charcoal\",\"Red\",\"Charcoal\",\"Lavender\",\"White\",\"Red\",\"Violet\",\"Orange\",\"Turquoise\",\"Violet\",\"Blue\",\"White\",\"Turquoise\",\"Pink\",\"Maroon\",\"Olive\",\"Charcoal\",\"Charcoal\",\"Indigo\",\"Teal\",\"Black\",\"Teal\",\"Green\",\"Gold\",\"Red\",\"Silver\",\"Yellow\",\"Peach\",\"Turquoise\",\"Peach\",\"Peach\",\"Orange\",\"Charcoal\",\"White\",\"Turquoise\",\"Red\",\"Peach\",\"Pink\",\"Yellow\",\"Beige\",\"Green\",\"Turquoise\",\"Orange\",\"Gold\",\"Red\",\"Teal\",\"Teal\",\"Lavender\",\"Pink\",\"Maroon\",\"Beige\",\"Orange\",\"Red\",\"Maroon\",\"Brown\",\"Olive\",\"Silver\",\"Purple\",\"Gray\",\"Cyan\",\"Gray\",\"Gold\",\"Cyan\",\"Olive\",\"Violet\",\"Yellow\",\"Gold\",\"Silver\",\"Pink\",\"Turquoise\",\"Turquoise\",\"Peach\",\"Teal\",\"Red\",\"Black\",\"Pink\",\"Peach\",\"Green\",\"Green\",\"Red\",\"Maroon\",\"Green\",\"Black\",\"Black\",\"Yellow\",\"Green\",\"Black\",\"Red\",\"Yellow\",\"Violet\",\"Cyan\",\"Pink\",\"Olive\",\"Maroon\",\"Cyan\",\"Lavender\",\"Yellow\",\"Pink\",\"Orange\",\"Orange\",\"Violet\",\"Lavender\",\"Yellow\",\"Pink\",\"Teal\",\"Magenta\",\"Beige\",\"Gray\",\"Turquoise\",\"Pink\",\"Violet\",\"Charcoal\",\"Lavender\",\"Gray\",\"Brown\",\"Violet\",\"Turquoise\",\"Peach\",\"Turquoise\",\"Violet\",\"Olive\",\"Green\",\"Teal\",\"Peach\",\"Pink\",\"Maroon\",\"Peach\",\"Maroon\",\"Pink\",\"Orange\",\"Orange\",\"Brown\",\"Silver\",\"Magenta\",\"Indigo\",\"Gold\",\"Purple\",\"Gold\",\"Gold\",\"Gold\",\"Olive\",\"Green\",\"Gray\",\"Red\",\"Charcoal\",\"Indigo\",\"Indigo\",\"Silver\",\"Purple\",\"Gray\",\"Magenta\",\"Silver\",\"Violet\",\"Green\",\"Green\",\"Peach\",\"Turquoise\",\"Pink\",\"Lavender\",\"Silver\",\"Cyan\",\"Green\",\"Orange\",\"Blue\",\"Magenta\",\"Cyan\",\"Indigo\",\"Pink\",\"Peach\",\"Lavender\",\"Black\",\"Lavender\",\"Brown\",\"Yellow\",\"Olive\",\"Blue\",\"Turquoise\",\"Yellow\",\"Turquoise\",\"Orange\",\"Blue\",\"Olive\",\"Beige\",\"Lavender\",\"Magenta\",\"Cyan\",\"Lavender\",\"Black\",\"Green\",\"Silver\",\"Beige\",\"Pink\",\"Cyan\",\"Olive\",\"Pink\",\"Maroon\",\"Red\",\"Silver\",\"Blue\",\"Purple\",\"Brown\",\"Purple\",\"Brown\",\"Charcoal\",\"Violet\",\"Yellow\",\"Green\",\"Peach\",\"Indigo\",\"White\",\"White\",\"Turquoise\",\"White\",\"Green\",\"Brown\",\"Beige\"],\"xaxis\":\"x\",\"yaxis\":\"y\",\"type\":\"histogram\"}],                        {\"template\":{\"data\":{\"histogram2dcontour\":[{\"type\":\"histogram2dcontour\",\"colorbar\":{\"outlinewidth\":0,\"ticks\":\"\"},\"colorscale\":[[0.0,\"#0d0887\"],[0.1111111111111111,\"#46039f\"],[0.2222222222222222,\"#7201a8\"],[0.3333333333333333,\"#9c179e\"],[0.4444444444444444,\"#bd3786\"],[0.5555555555555556,\"#d8576b\"],[0.6666666666666666,\"#ed7953\"],[0.7777777777777778,\"#fb9f3a\"],[0.8888888888888888,\"#fdca26\"],[1.0,\"#f0f921\"]]}],\"choropleth\":[{\"type\":\"choropleth\",\"colorbar\":{\"outlinewidth\":0,\"ticks\":\"\"}}],\"histogram2d\":[{\"type\":\"histogram2d\",\"colorbar\":{\"outlinewidth\":0,\"ticks\":\"\"},\"colorscale\":[[0.0,\"#0d0887\"],[0.1111111111111111,\"#46039f\"],[0.2222222222222222,\"#7201a8\"],[0.3333333333333333,\"#9c179e\"],[0.4444444444444444,\"#bd3786\"],[0.5555555555555556,\"#d8576b\"],[0.6666666666666666,\"#ed7953\"],[0.7777777777777778,\"#fb9f3a\"],[0.8888888888888888,\"#fdca26\"],[1.0,\"#f0f921\"]]}],\"heatmap\":[{\"type\":\"heatmap\",\"colorbar\":{\"outlinewidth\":0,\"ticks\":\"\"},\"colorscale\":[[0.0,\"#0d0887\"],[0.1111111111111111,\"#46039f\"],[0.2222222222222222,\"#7201a8\"],[0.3333333333333333,\"#9c179e\"],[0.4444444444444444,\"#bd3786\"],[0.5555555555555556,\"#d8576b\"],[0.6666666666666666,\"#ed7953\"],[0.7777777777777778,\"#fb9f3a\"],[0.8888888888888888,\"#fdca26\"],[1.0,\"#f0f921\"]]}],\"heatmapgl\":[{\"type\":\"heatmapgl\",\"colorbar\":{\"outlinewidth\":0,\"ticks\":\"\"},\"colorscale\":[[0.0,\"#0d0887\"],[0.1111111111111111,\"#46039f\"],[0.2222222222222222,\"#7201a8\"],[0.3333333333333333,\"#9c179e\"],[0.4444444444444444,\"#bd3786\"],[0.5555555555555556,\"#d8576b\"],[0.6666666666666666,\"#ed7953\"],[0.7777777777777778,\"#fb9f3a\"],[0.8888888888888888,\"#fdca26\"],[1.0,\"#f0f921\"]]}],\"contourcarpet\":[{\"type\":\"contourcarpet\",\"colorbar\":{\"outlinewidth\":0,\"ticks\":\"\"}}],\"contour\":[{\"type\":\"contour\",\"colorbar\":{\"outlinewidth\":0,\"ticks\":\"\"},\"colorscale\":[[0.0,\"#0d0887\"],[0.1111111111111111,\"#46039f\"],[0.2222222222222222,\"#7201a8\"],[0.3333333333333333,\"#9c179e\"],[0.4444444444444444,\"#bd3786\"],[0.5555555555555556,\"#d8576b\"],[0.6666666666666666,\"#ed7953\"],[0.7777777777777778,\"#fb9f3a\"],[0.8888888888888888,\"#fdca26\"],[1.0,\"#f0f921\"]]}],\"surface\":[{\"type\":\"surface\",\"colorbar\":{\"outlinewidth\":0,\"ticks\":\"\"},\"colorscale\":[[0.0,\"#0d0887\"],[0.1111111111111111,\"#46039f\"],[0.2222222222222222,\"#7201a8\"],[0.3333333333333333,\"#9c179e\"],[0.4444444444444444,\"#bd3786\"],[0.5555555555555556,\"#d8576b\"],[0.6666666666666666,\"#ed7953\"],[0.7777777777777778,\"#fb9f3a\"],[0.8888888888888888,\"#fdca26\"],[1.0,\"#f0f921\"]]}],\"mesh3d\":[{\"type\":\"mesh3d\",\"colorbar\":{\"outlinewidth\":0,\"ticks\":\"\"}}],\"scatter\":[{\"fillpattern\":{\"fillmode\":\"overlay\",\"size\":10,\"solidity\":0.2},\"type\":\"scatter\"}],\"parcoords\":[{\"type\":\"parcoords\",\"line\":{\"colorbar\":{\"outlinewidth\":0,\"ticks\":\"\"}}}],\"scatterpolargl\":[{\"type\":\"scatterpolargl\",\"marker\":{\"colorbar\":{\"outlinewidth\":0,\"ticks\":\"\"}}}],\"bar\":[{\"error_x\":{\"color\":\"#2a3f5f\"},\"error_y\":{\"color\":\"#2a3f5f\"},\"marker\":{\"line\":{\"color\":\"#E5ECF6\",\"width\":0.5},\"pattern\":{\"fillmode\":\"overlay\",\"size\":10,\"solidity\":0.2}},\"type\":\"bar\"}],\"scattergeo\":[{\"type\":\"scattergeo\",\"marker\":{\"colorbar\":{\"outlinewidth\":0,\"ticks\":\"\"}}}],\"scatterpolar\":[{\"type\":\"scatterpolar\",\"marker\":{\"colorbar\":{\"outlinewidth\":0,\"ticks\":\"\"}}}],\"histogram\":[{\"marker\":{\"pattern\":{\"fillmode\":\"overlay\",\"size\":10,\"solidity\":0.2}},\"type\":\"histogram\"}],\"scattergl\":[{\"type\":\"scattergl\",\"marker\":{\"colorbar\":{\"outlinewidth\":0,\"ticks\":\"\"}}}],\"scatter3d\":[{\"type\":\"scatter3d\",\"line\":{\"colorbar\":{\"outlinewidth\":0,\"ticks\":\"\"}},\"marker\":{\"colorbar\":{\"outlinewidth\":0,\"ticks\":\"\"}}}],\"scattermapbox\":[{\"type\":\"scattermapbox\",\"marker\":{\"colorbar\":{\"outlinewidth\":0,\"ticks\":\"\"}}}],\"scatterternary\":[{\"type\":\"scatterternary\",\"marker\":{\"colorbar\":{\"outlinewidth\":0,\"ticks\":\"\"}}}],\"scattercarpet\":[{\"type\":\"scattercarpet\",\"marker\":{\"colorbar\":{\"outlinewidth\":0,\"ticks\":\"\"}}}],\"carpet\":[{\"aaxis\":{\"endlinecolor\":\"#2a3f5f\",\"gridcolor\":\"white\",\"linecolor\":\"white\",\"minorgridcolor\":\"white\",\"startlinecolor\":\"#2a3f5f\"},\"baxis\":{\"endlinecolor\":\"#2a3f5f\",\"gridcolor\":\"white\",\"linecolor\":\"white\",\"minorgridcolor\":\"white\",\"startlinecolor\":\"#2a3f5f\"},\"type\":\"carpet\"}],\"table\":[{\"cells\":{\"fill\":{\"color\":\"#EBF0F8\"},\"line\":{\"color\":\"white\"}},\"header\":{\"fill\":{\"color\":\"#C8D4E3\"},\"line\":{\"color\":\"white\"}},\"type\":\"table\"}],\"barpolar\":[{\"marker\":{\"line\":{\"color\":\"#E5ECF6\",\"width\":0.5},\"pattern\":{\"fillmode\":\"overlay\",\"size\":10,\"solidity\":0.2}},\"type\":\"barpolar\"}],\"pie\":[{\"automargin\":true,\"type\":\"pie\"}]},\"layout\":{\"autotypenumbers\":\"strict\",\"colorway\":[\"#636efa\",\"#EF553B\",\"#00cc96\",\"#ab63fa\",\"#FFA15A\",\"#19d3f3\",\"#FF6692\",\"#B6E880\",\"#FF97FF\",\"#FECB52\"],\"font\":{\"color\":\"#2a3f5f\"},\"hovermode\":\"closest\",\"hoverlabel\":{\"align\":\"left\"},\"paper_bgcolor\":\"white\",\"plot_bgcolor\":\"#E5ECF6\",\"polar\":{\"bgcolor\":\"#E5ECF6\",\"angularaxis\":{\"gridcolor\":\"white\",\"linecolor\":\"white\",\"ticks\":\"\"},\"radialaxis\":{\"gridcolor\":\"white\",\"linecolor\":\"white\",\"ticks\":\"\"}},\"ternary\":{\"bgcolor\":\"#E5ECF6\",\"aaxis\":{\"gridcolor\":\"white\",\"linecolor\":\"white\",\"ticks\":\"\"},\"baxis\":{\"gridcolor\":\"white\",\"linecolor\":\"white\",\"ticks\":\"\"},\"caxis\":{\"gridcolor\":\"white\",\"linecolor\":\"white\",\"ticks\":\"\"}},\"coloraxis\":{\"colorbar\":{\"outlinewidth\":0,\"ticks\":\"\"}},\"colorscale\":{\"sequential\":[[0.0,\"#0d0887\"],[0.1111111111111111,\"#46039f\"],[0.2222222222222222,\"#7201a8\"],[0.3333333333333333,\"#9c179e\"],[0.4444444444444444,\"#bd3786\"],[0.5555555555555556,\"#d8576b\"],[0.6666666666666666,\"#ed7953\"],[0.7777777777777778,\"#fb9f3a\"],[0.8888888888888888,\"#fdca26\"],[1.0,\"#f0f921\"]],\"sequentialminus\":[[0.0,\"#0d0887\"],[0.1111111111111111,\"#46039f\"],[0.2222222222222222,\"#7201a8\"],[0.3333333333333333,\"#9c179e\"],[0.4444444444444444,\"#bd3786\"],[0.5555555555555556,\"#d8576b\"],[0.6666666666666666,\"#ed7953\"],[0.7777777777777778,\"#fb9f3a\"],[0.8888888888888888,\"#fdca26\"],[1.0,\"#f0f921\"]],\"diverging\":[[0,\"#8e0152\"],[0.1,\"#c51b7d\"],[0.2,\"#de77ae\"],[0.3,\"#f1b6da\"],[0.4,\"#fde0ef\"],[0.5,\"#f7f7f7\"],[0.6,\"#e6f5d0\"],[0.7,\"#b8e186\"],[0.8,\"#7fbc41\"],[0.9,\"#4d9221\"],[1,\"#276419\"]]},\"xaxis\":{\"gridcolor\":\"white\",\"linecolor\":\"white\",\"ticks\":\"\",\"title\":{\"standoff\":15},\"zerolinecolor\":\"white\",\"automargin\":true,\"zerolinewidth\":2},\"yaxis\":{\"gridcolor\":\"white\",\"linecolor\":\"white\",\"ticks\":\"\",\"title\":{\"standoff\":15},\"zerolinecolor\":\"white\",\"automargin\":true,\"zerolinewidth\":2},\"scene\":{\"xaxis\":{\"backgroundcolor\":\"#E5ECF6\",\"gridcolor\":\"white\",\"linecolor\":\"white\",\"showbackground\":true,\"ticks\":\"\",\"zerolinecolor\":\"white\",\"gridwidth\":2},\"yaxis\":{\"backgroundcolor\":\"#E5ECF6\",\"gridcolor\":\"white\",\"linecolor\":\"white\",\"showbackground\":true,\"ticks\":\"\",\"zerolinecolor\":\"white\",\"gridwidth\":2},\"zaxis\":{\"backgroundcolor\":\"#E5ECF6\",\"gridcolor\":\"white\",\"linecolor\":\"white\",\"showbackground\":true,\"ticks\":\"\",\"zerolinecolor\":\"white\",\"gridwidth\":2}},\"shapedefaults\":{\"line\":{\"color\":\"#2a3f5f\"}},\"annotationdefaults\":{\"arrowcolor\":\"#2a3f5f\",\"arrowhead\":0,\"arrowwidth\":1},\"geo\":{\"bgcolor\":\"white\",\"landcolor\":\"#E5ECF6\",\"subunitcolor\":\"white\",\"showland\":true,\"showlakes\":true,\"lakecolor\":\"white\"},\"title\":{\"x\":0.05},\"mapbox\":{\"style\":\"light\"}}},\"xaxis\":{\"anchor\":\"y\",\"domain\":[0.0,1.0],\"title\":{\"text\":\"Color\"}},\"yaxis\":{\"anchor\":\"x\",\"domain\":[0.0,1.0],\"title\":{\"text\":\"count\"}},\"legend\":{\"tracegroupgap\":0},\"margin\":{\"t\":60},\"barmode\":\"relative\"},                        {\"responsive\": true}                    ).then(function(){\n",
              "                            \n",
              "var gd = document.getElementById('f4c10cce-6ad4-47fe-8e39-bb9e76b73a11');\n",
              "var x = new MutationObserver(function (mutations, observer) {{\n",
              "        var display = window.getComputedStyle(gd).display;\n",
              "        if (!display || display === 'none') {{\n",
              "            console.log([gd, 'removed!']);\n",
              "            Plotly.purge(gd);\n",
              "            observer.disconnect();\n",
              "        }}\n",
              "}});\n",
              "\n",
              "// Listen for the removal of the full notebook cells\n",
              "var notebookContainer = gd.closest('#notebook-container');\n",
              "if (notebookContainer) {{\n",
              "    x.observe(notebookContainer, {childList: true});\n",
              "}}\n",
              "\n",
              "// Listen for the clearing of the current output cell\n",
              "var outputEl = gd.closest('.output');\n",
              "if (outputEl) {{\n",
              "    x.observe(outputEl, {childList: true});\n",
              "}}\n",
              "\n",
              "                        })                };                            </script>        </div>\n",
              "</body>\n",
              "</html>"
            ]
          },
          "metadata": {}
        }
      ]
    },
    {
      "cell_type": "code",
      "source": [
        "df['Color'].value_counts().nlargest(5)"
      ],
      "metadata": {
        "colab": {
          "base_uri": "https://localhost:8080/",
          "height": 272
        },
        "id": "HxS4kYcMO7vu",
        "outputId": "4b6a5f46-c48a-40af-a992-5da3af3bba74"
      },
      "execution_count": 121,
      "outputs": [
        {
          "output_type": "execute_result",
          "data": {
            "text/plain": [
              "Color\n",
              "Olive     177\n",
              "Yellow    174\n",
              "Silver    173\n",
              "Teal      172\n",
              "Green     169\n",
              "Name: count, dtype: int64"
            ],
            "text/html": [
              "<div>\n",
              "<style scoped>\n",
              "    .dataframe tbody tr th:only-of-type {\n",
              "        vertical-align: middle;\n",
              "    }\n",
              "\n",
              "    .dataframe tbody tr th {\n",
              "        vertical-align: top;\n",
              "    }\n",
              "\n",
              "    .dataframe thead th {\n",
              "        text-align: right;\n",
              "    }\n",
              "</style>\n",
              "<table border=\"1\" class=\"dataframe\">\n",
              "  <thead>\n",
              "    <tr style=\"text-align: right;\">\n",
              "      <th></th>\n",
              "      <th>count</th>\n",
              "    </tr>\n",
              "    <tr>\n",
              "      <th>Color</th>\n",
              "      <th></th>\n",
              "    </tr>\n",
              "  </thead>\n",
              "  <tbody>\n",
              "    <tr>\n",
              "      <th>Olive</th>\n",
              "      <td>177</td>\n",
              "    </tr>\n",
              "    <tr>\n",
              "      <th>Yellow</th>\n",
              "      <td>174</td>\n",
              "    </tr>\n",
              "    <tr>\n",
              "      <th>Silver</th>\n",
              "      <td>173</td>\n",
              "    </tr>\n",
              "    <tr>\n",
              "      <th>Teal</th>\n",
              "      <td>172</td>\n",
              "    </tr>\n",
              "    <tr>\n",
              "      <th>Green</th>\n",
              "      <td>169</td>\n",
              "    </tr>\n",
              "  </tbody>\n",
              "</table>\n",
              "</div><br><label><b>dtype:</b> int64</label>"
            ]
          },
          "metadata": {},
          "execution_count": 121
        }
      ]
    },
    {
      "cell_type": "markdown",
      "source": [
        "# **15 What is the average number of previous purchases made by customers?**"
      ],
      "metadata": {
        "id": "7b_QYFp7PPR4"
      }
    },
    {
      "cell_type": "code",
      "source": [
        "df['Previous Purchases'].mean()"
      ],
      "metadata": {
        "colab": {
          "base_uri": "https://localhost:8080/"
        },
        "id": "UnRNB_O8PR82",
        "outputId": "2b5fdb12-1407-4472-cdfe-fe64c470794c"
      },
      "execution_count": 122,
      "outputs": [
        {
          "output_type": "execute_result",
          "data": {
            "text/plain": [
              "25.35153846153846"
            ]
          },
          "metadata": {},
          "execution_count": 122
        }
      ]
    },
    {
      "cell_type": "markdown",
      "source": [
        "# **16 Is there a relationship between customer age and the category of products they purchase?**"
      ],
      "metadata": {
        "id": "HlzsYSxLPXuM"
      }
    },
    {
      "cell_type": "code",
      "source": [
        "shop_group = df.groupby('Category')['Age'].mean().reset_index()"
      ],
      "metadata": {
        "id": "0zquHtuzPfR_"
      },
      "execution_count": 123,
      "outputs": []
    },
    {
      "cell_type": "code",
      "source": [
        "fig = px.bar(shop_group ,y = 'Age' , x= 'Category')\n",
        "fig.show()"
      ],
      "metadata": {
        "colab": {
          "base_uri": "https://localhost:8080/",
          "height": 542
        },
        "id": "sAqnvn5rPmSu",
        "outputId": "9e7d3e41-60cf-4edc-844a-67f085490d57"
      },
      "execution_count": 124,
      "outputs": [
        {
          "output_type": "display_data",
          "data": {
            "text/html": [
              "<html>\n",
              "<head><meta charset=\"utf-8\" /></head>\n",
              "<body>\n",
              "    <div>            <script src=\"https://cdnjs.cloudflare.com/ajax/libs/mathjax/2.7.5/MathJax.js?config=TeX-AMS-MML_SVG\"></script><script type=\"text/javascript\">if (window.MathJax && window.MathJax.Hub && window.MathJax.Hub.Config) {window.MathJax.Hub.Config({SVG: {font: \"STIX-Web\"}});}</script>                <script type=\"text/javascript\">window.PlotlyConfig = {MathJaxConfig: 'local'};</script>\n",
              "        <script charset=\"utf-8\" src=\"https://cdn.plot.ly/plotly-2.35.2.min.js\"></script>                <div id=\"162028d9-cb4f-4cdc-9258-be8669371775\" class=\"plotly-graph-div\" style=\"height:525px; width:100%;\"></div>            <script type=\"text/javascript\">                                    window.PLOTLYENV=window.PLOTLYENV || {};                                    if (document.getElementById(\"162028d9-cb4f-4cdc-9258-be8669371775\")) {                    Plotly.newPlot(                        \"162028d9-cb4f-4cdc-9258-be8669371775\",                        [{\"alignmentgroup\":\"True\",\"hovertemplate\":\"Category=%{x}\\u003cbr\\u003eAge=%{y}\\u003cextra\\u003e\\u003c\\u002fextra\\u003e\",\"legendgroup\":\"\",\"marker\":{\"color\":\"#636efa\",\"pattern\":{\"shape\":\"\"}},\"name\":\"\",\"offsetgroup\":\"\",\"orientation\":\"v\",\"showlegend\":false,\"textposition\":\"auto\",\"x\":[\"Accessories\",\"Clothing\",\"Footwear\",\"Outerwear\"],\"xaxis\":\"x\",\"y\":[44.2241935483871,43.782959124928034,44.4424040066778,44.31172839506173],\"yaxis\":\"y\",\"type\":\"bar\"}],                        {\"template\":{\"data\":{\"histogram2dcontour\":[{\"type\":\"histogram2dcontour\",\"colorbar\":{\"outlinewidth\":0,\"ticks\":\"\"},\"colorscale\":[[0.0,\"#0d0887\"],[0.1111111111111111,\"#46039f\"],[0.2222222222222222,\"#7201a8\"],[0.3333333333333333,\"#9c179e\"],[0.4444444444444444,\"#bd3786\"],[0.5555555555555556,\"#d8576b\"],[0.6666666666666666,\"#ed7953\"],[0.7777777777777778,\"#fb9f3a\"],[0.8888888888888888,\"#fdca26\"],[1.0,\"#f0f921\"]]}],\"choropleth\":[{\"type\":\"choropleth\",\"colorbar\":{\"outlinewidth\":0,\"ticks\":\"\"}}],\"histogram2d\":[{\"type\":\"histogram2d\",\"colorbar\":{\"outlinewidth\":0,\"ticks\":\"\"},\"colorscale\":[[0.0,\"#0d0887\"],[0.1111111111111111,\"#46039f\"],[0.2222222222222222,\"#7201a8\"],[0.3333333333333333,\"#9c179e\"],[0.4444444444444444,\"#bd3786\"],[0.5555555555555556,\"#d8576b\"],[0.6666666666666666,\"#ed7953\"],[0.7777777777777778,\"#fb9f3a\"],[0.8888888888888888,\"#fdca26\"],[1.0,\"#f0f921\"]]}],\"heatmap\":[{\"type\":\"heatmap\",\"colorbar\":{\"outlinewidth\":0,\"ticks\":\"\"},\"colorscale\":[[0.0,\"#0d0887\"],[0.1111111111111111,\"#46039f\"],[0.2222222222222222,\"#7201a8\"],[0.3333333333333333,\"#9c179e\"],[0.4444444444444444,\"#bd3786\"],[0.5555555555555556,\"#d8576b\"],[0.6666666666666666,\"#ed7953\"],[0.7777777777777778,\"#fb9f3a\"],[0.8888888888888888,\"#fdca26\"],[1.0,\"#f0f921\"]]}],\"heatmapgl\":[{\"type\":\"heatmapgl\",\"colorbar\":{\"outlinewidth\":0,\"ticks\":\"\"},\"colorscale\":[[0.0,\"#0d0887\"],[0.1111111111111111,\"#46039f\"],[0.2222222222222222,\"#7201a8\"],[0.3333333333333333,\"#9c179e\"],[0.4444444444444444,\"#bd3786\"],[0.5555555555555556,\"#d8576b\"],[0.6666666666666666,\"#ed7953\"],[0.7777777777777778,\"#fb9f3a\"],[0.8888888888888888,\"#fdca26\"],[1.0,\"#f0f921\"]]}],\"contourcarpet\":[{\"type\":\"contourcarpet\",\"colorbar\":{\"outlinewidth\":0,\"ticks\":\"\"}}],\"contour\":[{\"type\":\"contour\",\"colorbar\":{\"outlinewidth\":0,\"ticks\":\"\"},\"colorscale\":[[0.0,\"#0d0887\"],[0.1111111111111111,\"#46039f\"],[0.2222222222222222,\"#7201a8\"],[0.3333333333333333,\"#9c179e\"],[0.4444444444444444,\"#bd3786\"],[0.5555555555555556,\"#d8576b\"],[0.6666666666666666,\"#ed7953\"],[0.7777777777777778,\"#fb9f3a\"],[0.8888888888888888,\"#fdca26\"],[1.0,\"#f0f921\"]]}],\"surface\":[{\"type\":\"surface\",\"colorbar\":{\"outlinewidth\":0,\"ticks\":\"\"},\"colorscale\":[[0.0,\"#0d0887\"],[0.1111111111111111,\"#46039f\"],[0.2222222222222222,\"#7201a8\"],[0.3333333333333333,\"#9c179e\"],[0.4444444444444444,\"#bd3786\"],[0.5555555555555556,\"#d8576b\"],[0.6666666666666666,\"#ed7953\"],[0.7777777777777778,\"#fb9f3a\"],[0.8888888888888888,\"#fdca26\"],[1.0,\"#f0f921\"]]}],\"mesh3d\":[{\"type\":\"mesh3d\",\"colorbar\":{\"outlinewidth\":0,\"ticks\":\"\"}}],\"scatter\":[{\"fillpattern\":{\"fillmode\":\"overlay\",\"size\":10,\"solidity\":0.2},\"type\":\"scatter\"}],\"parcoords\":[{\"type\":\"parcoords\",\"line\":{\"colorbar\":{\"outlinewidth\":0,\"ticks\":\"\"}}}],\"scatterpolargl\":[{\"type\":\"scatterpolargl\",\"marker\":{\"colorbar\":{\"outlinewidth\":0,\"ticks\":\"\"}}}],\"bar\":[{\"error_x\":{\"color\":\"#2a3f5f\"},\"error_y\":{\"color\":\"#2a3f5f\"},\"marker\":{\"line\":{\"color\":\"#E5ECF6\",\"width\":0.5},\"pattern\":{\"fillmode\":\"overlay\",\"size\":10,\"solidity\":0.2}},\"type\":\"bar\"}],\"scattergeo\":[{\"type\":\"scattergeo\",\"marker\":{\"colorbar\":{\"outlinewidth\":0,\"ticks\":\"\"}}}],\"scatterpolar\":[{\"type\":\"scatterpolar\",\"marker\":{\"colorbar\":{\"outlinewidth\":0,\"ticks\":\"\"}}}],\"histogram\":[{\"marker\":{\"pattern\":{\"fillmode\":\"overlay\",\"size\":10,\"solidity\":0.2}},\"type\":\"histogram\"}],\"scattergl\":[{\"type\":\"scattergl\",\"marker\":{\"colorbar\":{\"outlinewidth\":0,\"ticks\":\"\"}}}],\"scatter3d\":[{\"type\":\"scatter3d\",\"line\":{\"colorbar\":{\"outlinewidth\":0,\"ticks\":\"\"}},\"marker\":{\"colorbar\":{\"outlinewidth\":0,\"ticks\":\"\"}}}],\"scattermapbox\":[{\"type\":\"scattermapbox\",\"marker\":{\"colorbar\":{\"outlinewidth\":0,\"ticks\":\"\"}}}],\"scatterternary\":[{\"type\":\"scatterternary\",\"marker\":{\"colorbar\":{\"outlinewidth\":0,\"ticks\":\"\"}}}],\"scattercarpet\":[{\"type\":\"scattercarpet\",\"marker\":{\"colorbar\":{\"outlinewidth\":0,\"ticks\":\"\"}}}],\"carpet\":[{\"aaxis\":{\"endlinecolor\":\"#2a3f5f\",\"gridcolor\":\"white\",\"linecolor\":\"white\",\"minorgridcolor\":\"white\",\"startlinecolor\":\"#2a3f5f\"},\"baxis\":{\"endlinecolor\":\"#2a3f5f\",\"gridcolor\":\"white\",\"linecolor\":\"white\",\"minorgridcolor\":\"white\",\"startlinecolor\":\"#2a3f5f\"},\"type\":\"carpet\"}],\"table\":[{\"cells\":{\"fill\":{\"color\":\"#EBF0F8\"},\"line\":{\"color\":\"white\"}},\"header\":{\"fill\":{\"color\":\"#C8D4E3\"},\"line\":{\"color\":\"white\"}},\"type\":\"table\"}],\"barpolar\":[{\"marker\":{\"line\":{\"color\":\"#E5ECF6\",\"width\":0.5},\"pattern\":{\"fillmode\":\"overlay\",\"size\":10,\"solidity\":0.2}},\"type\":\"barpolar\"}],\"pie\":[{\"automargin\":true,\"type\":\"pie\"}]},\"layout\":{\"autotypenumbers\":\"strict\",\"colorway\":[\"#636efa\",\"#EF553B\",\"#00cc96\",\"#ab63fa\",\"#FFA15A\",\"#19d3f3\",\"#FF6692\",\"#B6E880\",\"#FF97FF\",\"#FECB52\"],\"font\":{\"color\":\"#2a3f5f\"},\"hovermode\":\"closest\",\"hoverlabel\":{\"align\":\"left\"},\"paper_bgcolor\":\"white\",\"plot_bgcolor\":\"#E5ECF6\",\"polar\":{\"bgcolor\":\"#E5ECF6\",\"angularaxis\":{\"gridcolor\":\"white\",\"linecolor\":\"white\",\"ticks\":\"\"},\"radialaxis\":{\"gridcolor\":\"white\",\"linecolor\":\"white\",\"ticks\":\"\"}},\"ternary\":{\"bgcolor\":\"#E5ECF6\",\"aaxis\":{\"gridcolor\":\"white\",\"linecolor\":\"white\",\"ticks\":\"\"},\"baxis\":{\"gridcolor\":\"white\",\"linecolor\":\"white\",\"ticks\":\"\"},\"caxis\":{\"gridcolor\":\"white\",\"linecolor\":\"white\",\"ticks\":\"\"}},\"coloraxis\":{\"colorbar\":{\"outlinewidth\":0,\"ticks\":\"\"}},\"colorscale\":{\"sequential\":[[0.0,\"#0d0887\"],[0.1111111111111111,\"#46039f\"],[0.2222222222222222,\"#7201a8\"],[0.3333333333333333,\"#9c179e\"],[0.4444444444444444,\"#bd3786\"],[0.5555555555555556,\"#d8576b\"],[0.6666666666666666,\"#ed7953\"],[0.7777777777777778,\"#fb9f3a\"],[0.8888888888888888,\"#fdca26\"],[1.0,\"#f0f921\"]],\"sequentialminus\":[[0.0,\"#0d0887\"],[0.1111111111111111,\"#46039f\"],[0.2222222222222222,\"#7201a8\"],[0.3333333333333333,\"#9c179e\"],[0.4444444444444444,\"#bd3786\"],[0.5555555555555556,\"#d8576b\"],[0.6666666666666666,\"#ed7953\"],[0.7777777777777778,\"#fb9f3a\"],[0.8888888888888888,\"#fdca26\"],[1.0,\"#f0f921\"]],\"diverging\":[[0,\"#8e0152\"],[0.1,\"#c51b7d\"],[0.2,\"#de77ae\"],[0.3,\"#f1b6da\"],[0.4,\"#fde0ef\"],[0.5,\"#f7f7f7\"],[0.6,\"#e6f5d0\"],[0.7,\"#b8e186\"],[0.8,\"#7fbc41\"],[0.9,\"#4d9221\"],[1,\"#276419\"]]},\"xaxis\":{\"gridcolor\":\"white\",\"linecolor\":\"white\",\"ticks\":\"\",\"title\":{\"standoff\":15},\"zerolinecolor\":\"white\",\"automargin\":true,\"zerolinewidth\":2},\"yaxis\":{\"gridcolor\":\"white\",\"linecolor\":\"white\",\"ticks\":\"\",\"title\":{\"standoff\":15},\"zerolinecolor\":\"white\",\"automargin\":true,\"zerolinewidth\":2},\"scene\":{\"xaxis\":{\"backgroundcolor\":\"#E5ECF6\",\"gridcolor\":\"white\",\"linecolor\":\"white\",\"showbackground\":true,\"ticks\":\"\",\"zerolinecolor\":\"white\",\"gridwidth\":2},\"yaxis\":{\"backgroundcolor\":\"#E5ECF6\",\"gridcolor\":\"white\",\"linecolor\":\"white\",\"showbackground\":true,\"ticks\":\"\",\"zerolinecolor\":\"white\",\"gridwidth\":2},\"zaxis\":{\"backgroundcolor\":\"#E5ECF6\",\"gridcolor\":\"white\",\"linecolor\":\"white\",\"showbackground\":true,\"ticks\":\"\",\"zerolinecolor\":\"white\",\"gridwidth\":2}},\"shapedefaults\":{\"line\":{\"color\":\"#2a3f5f\"}},\"annotationdefaults\":{\"arrowcolor\":\"#2a3f5f\",\"arrowhead\":0,\"arrowwidth\":1},\"geo\":{\"bgcolor\":\"white\",\"landcolor\":\"#E5ECF6\",\"subunitcolor\":\"white\",\"showland\":true,\"showlakes\":true,\"lakecolor\":\"white\"},\"title\":{\"x\":0.05},\"mapbox\":{\"style\":\"light\"}}},\"xaxis\":{\"anchor\":\"y\",\"domain\":[0.0,1.0],\"title\":{\"text\":\"Category\"}},\"yaxis\":{\"anchor\":\"x\",\"domain\":[0.0,1.0],\"title\":{\"text\":\"Age\"}},\"legend\":{\"tracegroupgap\":0},\"margin\":{\"t\":60},\"barmode\":\"relative\"},                        {\"responsive\": true}                    ).then(function(){\n",
              "                            \n",
              "var gd = document.getElementById('162028d9-cb4f-4cdc-9258-be8669371775');\n",
              "var x = new MutationObserver(function (mutations, observer) {{\n",
              "        var display = window.getComputedStyle(gd).display;\n",
              "        if (!display || display === 'none') {{\n",
              "            console.log([gd, 'removed!']);\n",
              "            Plotly.purge(gd);\n",
              "            observer.disconnect();\n",
              "        }}\n",
              "}});\n",
              "\n",
              "// Listen for the removal of the full notebook cells\n",
              "var notebookContainer = gd.closest('#notebook-container');\n",
              "if (notebookContainer) {{\n",
              "    x.observe(notebookContainer, {childList: true});\n",
              "}}\n",
              "\n",
              "// Listen for the clearing of the current output cell\n",
              "var outputEl = gd.closest('.output');\n",
              "if (outputEl) {{\n",
              "    x.observe(outputEl, {childList: true});\n",
              "}}\n",
              "\n",
              "                        })                };                            </script>        </div>\n",
              "</body>\n",
              "</html>"
            ]
          },
          "metadata": {}
        }
      ]
    },
    {
      "cell_type": "markdown",
      "source": [
        "# **17 How does the average purchase amount differ between male and female customers?**"
      ],
      "metadata": {
        "id": "384hxZNpPtxP"
      }
    },
    {
      "cell_type": "code",
      "source": [
        "shop_group = df.groupby('Gender')['Purchase Amount (USD)'].sum().reset_index()"
      ],
      "metadata": {
        "id": "02uNI9GKPwF8"
      },
      "execution_count": 125,
      "outputs": []
    },
    {
      "cell_type": "code",
      "source": [
        "fig = px.bar(shop_group , x = 'Gender' , y = 'Purchase Amount (USD)')\n",
        "fig.show()"
      ],
      "metadata": {
        "colab": {
          "base_uri": "https://localhost:8080/",
          "height": 542
        },
        "id": "3fRPbSgaPzhF",
        "outputId": "eb9db4e2-7750-4534-e373-c89c5a8e17ef"
      },
      "execution_count": 126,
      "outputs": [
        {
          "output_type": "display_data",
          "data": {
            "text/html": [
              "<html>\n",
              "<head><meta charset=\"utf-8\" /></head>\n",
              "<body>\n",
              "    <div>            <script src=\"https://cdnjs.cloudflare.com/ajax/libs/mathjax/2.7.5/MathJax.js?config=TeX-AMS-MML_SVG\"></script><script type=\"text/javascript\">if (window.MathJax && window.MathJax.Hub && window.MathJax.Hub.Config) {window.MathJax.Hub.Config({SVG: {font: \"STIX-Web\"}});}</script>                <script type=\"text/javascript\">window.PlotlyConfig = {MathJaxConfig: 'local'};</script>\n",
              "        <script charset=\"utf-8\" src=\"https://cdn.plot.ly/plotly-2.35.2.min.js\"></script>                <div id=\"ff609b9d-2c9d-4816-8f71-cf34dd0e510d\" class=\"plotly-graph-div\" style=\"height:525px; width:100%;\"></div>            <script type=\"text/javascript\">                                    window.PLOTLYENV=window.PLOTLYENV || {};                                    if (document.getElementById(\"ff609b9d-2c9d-4816-8f71-cf34dd0e510d\")) {                    Plotly.newPlot(                        \"ff609b9d-2c9d-4816-8f71-cf34dd0e510d\",                        [{\"alignmentgroup\":\"True\",\"hovertemplate\":\"Gender=%{x}\\u003cbr\\u003ePurchase Amount (USD)=%{y}\\u003cextra\\u003e\\u003c\\u002fextra\\u003e\",\"legendgroup\":\"\",\"marker\":{\"color\":\"#636efa\",\"pattern\":{\"shape\":\"\"}},\"name\":\"\",\"offsetgroup\":\"\",\"orientation\":\"v\",\"showlegend\":false,\"textposition\":\"auto\",\"x\":[\"Female\",\"Male\"],\"xaxis\":\"x\",\"y\":[75191,157890],\"yaxis\":\"y\",\"type\":\"bar\"}],                        {\"template\":{\"data\":{\"histogram2dcontour\":[{\"type\":\"histogram2dcontour\",\"colorbar\":{\"outlinewidth\":0,\"ticks\":\"\"},\"colorscale\":[[0.0,\"#0d0887\"],[0.1111111111111111,\"#46039f\"],[0.2222222222222222,\"#7201a8\"],[0.3333333333333333,\"#9c179e\"],[0.4444444444444444,\"#bd3786\"],[0.5555555555555556,\"#d8576b\"],[0.6666666666666666,\"#ed7953\"],[0.7777777777777778,\"#fb9f3a\"],[0.8888888888888888,\"#fdca26\"],[1.0,\"#f0f921\"]]}],\"choropleth\":[{\"type\":\"choropleth\",\"colorbar\":{\"outlinewidth\":0,\"ticks\":\"\"}}],\"histogram2d\":[{\"type\":\"histogram2d\",\"colorbar\":{\"outlinewidth\":0,\"ticks\":\"\"},\"colorscale\":[[0.0,\"#0d0887\"],[0.1111111111111111,\"#46039f\"],[0.2222222222222222,\"#7201a8\"],[0.3333333333333333,\"#9c179e\"],[0.4444444444444444,\"#bd3786\"],[0.5555555555555556,\"#d8576b\"],[0.6666666666666666,\"#ed7953\"],[0.7777777777777778,\"#fb9f3a\"],[0.8888888888888888,\"#fdca26\"],[1.0,\"#f0f921\"]]}],\"heatmap\":[{\"type\":\"heatmap\",\"colorbar\":{\"outlinewidth\":0,\"ticks\":\"\"},\"colorscale\":[[0.0,\"#0d0887\"],[0.1111111111111111,\"#46039f\"],[0.2222222222222222,\"#7201a8\"],[0.3333333333333333,\"#9c179e\"],[0.4444444444444444,\"#bd3786\"],[0.5555555555555556,\"#d8576b\"],[0.6666666666666666,\"#ed7953\"],[0.7777777777777778,\"#fb9f3a\"],[0.8888888888888888,\"#fdca26\"],[1.0,\"#f0f921\"]]}],\"heatmapgl\":[{\"type\":\"heatmapgl\",\"colorbar\":{\"outlinewidth\":0,\"ticks\":\"\"},\"colorscale\":[[0.0,\"#0d0887\"],[0.1111111111111111,\"#46039f\"],[0.2222222222222222,\"#7201a8\"],[0.3333333333333333,\"#9c179e\"],[0.4444444444444444,\"#bd3786\"],[0.5555555555555556,\"#d8576b\"],[0.6666666666666666,\"#ed7953\"],[0.7777777777777778,\"#fb9f3a\"],[0.8888888888888888,\"#fdca26\"],[1.0,\"#f0f921\"]]}],\"contourcarpet\":[{\"type\":\"contourcarpet\",\"colorbar\":{\"outlinewidth\":0,\"ticks\":\"\"}}],\"contour\":[{\"type\":\"contour\",\"colorbar\":{\"outlinewidth\":0,\"ticks\":\"\"},\"colorscale\":[[0.0,\"#0d0887\"],[0.1111111111111111,\"#46039f\"],[0.2222222222222222,\"#7201a8\"],[0.3333333333333333,\"#9c179e\"],[0.4444444444444444,\"#bd3786\"],[0.5555555555555556,\"#d8576b\"],[0.6666666666666666,\"#ed7953\"],[0.7777777777777778,\"#fb9f3a\"],[0.8888888888888888,\"#fdca26\"],[1.0,\"#f0f921\"]]}],\"surface\":[{\"type\":\"surface\",\"colorbar\":{\"outlinewidth\":0,\"ticks\":\"\"},\"colorscale\":[[0.0,\"#0d0887\"],[0.1111111111111111,\"#46039f\"],[0.2222222222222222,\"#7201a8\"],[0.3333333333333333,\"#9c179e\"],[0.4444444444444444,\"#bd3786\"],[0.5555555555555556,\"#d8576b\"],[0.6666666666666666,\"#ed7953\"],[0.7777777777777778,\"#fb9f3a\"],[0.8888888888888888,\"#fdca26\"],[1.0,\"#f0f921\"]]}],\"mesh3d\":[{\"type\":\"mesh3d\",\"colorbar\":{\"outlinewidth\":0,\"ticks\":\"\"}}],\"scatter\":[{\"fillpattern\":{\"fillmode\":\"overlay\",\"size\":10,\"solidity\":0.2},\"type\":\"scatter\"}],\"parcoords\":[{\"type\":\"parcoords\",\"line\":{\"colorbar\":{\"outlinewidth\":0,\"ticks\":\"\"}}}],\"scatterpolargl\":[{\"type\":\"scatterpolargl\",\"marker\":{\"colorbar\":{\"outlinewidth\":0,\"ticks\":\"\"}}}],\"bar\":[{\"error_x\":{\"color\":\"#2a3f5f\"},\"error_y\":{\"color\":\"#2a3f5f\"},\"marker\":{\"line\":{\"color\":\"#E5ECF6\",\"width\":0.5},\"pattern\":{\"fillmode\":\"overlay\",\"size\":10,\"solidity\":0.2}},\"type\":\"bar\"}],\"scattergeo\":[{\"type\":\"scattergeo\",\"marker\":{\"colorbar\":{\"outlinewidth\":0,\"ticks\":\"\"}}}],\"scatterpolar\":[{\"type\":\"scatterpolar\",\"marker\":{\"colorbar\":{\"outlinewidth\":0,\"ticks\":\"\"}}}],\"histogram\":[{\"marker\":{\"pattern\":{\"fillmode\":\"overlay\",\"size\":10,\"solidity\":0.2}},\"type\":\"histogram\"}],\"scattergl\":[{\"type\":\"scattergl\",\"marker\":{\"colorbar\":{\"outlinewidth\":0,\"ticks\":\"\"}}}],\"scatter3d\":[{\"type\":\"scatter3d\",\"line\":{\"colorbar\":{\"outlinewidth\":0,\"ticks\":\"\"}},\"marker\":{\"colorbar\":{\"outlinewidth\":0,\"ticks\":\"\"}}}],\"scattermapbox\":[{\"type\":\"scattermapbox\",\"marker\":{\"colorbar\":{\"outlinewidth\":0,\"ticks\":\"\"}}}],\"scatterternary\":[{\"type\":\"scatterternary\",\"marker\":{\"colorbar\":{\"outlinewidth\":0,\"ticks\":\"\"}}}],\"scattercarpet\":[{\"type\":\"scattercarpet\",\"marker\":{\"colorbar\":{\"outlinewidth\":0,\"ticks\":\"\"}}}],\"carpet\":[{\"aaxis\":{\"endlinecolor\":\"#2a3f5f\",\"gridcolor\":\"white\",\"linecolor\":\"white\",\"minorgridcolor\":\"white\",\"startlinecolor\":\"#2a3f5f\"},\"baxis\":{\"endlinecolor\":\"#2a3f5f\",\"gridcolor\":\"white\",\"linecolor\":\"white\",\"minorgridcolor\":\"white\",\"startlinecolor\":\"#2a3f5f\"},\"type\":\"carpet\"}],\"table\":[{\"cells\":{\"fill\":{\"color\":\"#EBF0F8\"},\"line\":{\"color\":\"white\"}},\"header\":{\"fill\":{\"color\":\"#C8D4E3\"},\"line\":{\"color\":\"white\"}},\"type\":\"table\"}],\"barpolar\":[{\"marker\":{\"line\":{\"color\":\"#E5ECF6\",\"width\":0.5},\"pattern\":{\"fillmode\":\"overlay\",\"size\":10,\"solidity\":0.2}},\"type\":\"barpolar\"}],\"pie\":[{\"automargin\":true,\"type\":\"pie\"}]},\"layout\":{\"autotypenumbers\":\"strict\",\"colorway\":[\"#636efa\",\"#EF553B\",\"#00cc96\",\"#ab63fa\",\"#FFA15A\",\"#19d3f3\",\"#FF6692\",\"#B6E880\",\"#FF97FF\",\"#FECB52\"],\"font\":{\"color\":\"#2a3f5f\"},\"hovermode\":\"closest\",\"hoverlabel\":{\"align\":\"left\"},\"paper_bgcolor\":\"white\",\"plot_bgcolor\":\"#E5ECF6\",\"polar\":{\"bgcolor\":\"#E5ECF6\",\"angularaxis\":{\"gridcolor\":\"white\",\"linecolor\":\"white\",\"ticks\":\"\"},\"radialaxis\":{\"gridcolor\":\"white\",\"linecolor\":\"white\",\"ticks\":\"\"}},\"ternary\":{\"bgcolor\":\"#E5ECF6\",\"aaxis\":{\"gridcolor\":\"white\",\"linecolor\":\"white\",\"ticks\":\"\"},\"baxis\":{\"gridcolor\":\"white\",\"linecolor\":\"white\",\"ticks\":\"\"},\"caxis\":{\"gridcolor\":\"white\",\"linecolor\":\"white\",\"ticks\":\"\"}},\"coloraxis\":{\"colorbar\":{\"outlinewidth\":0,\"ticks\":\"\"}},\"colorscale\":{\"sequential\":[[0.0,\"#0d0887\"],[0.1111111111111111,\"#46039f\"],[0.2222222222222222,\"#7201a8\"],[0.3333333333333333,\"#9c179e\"],[0.4444444444444444,\"#bd3786\"],[0.5555555555555556,\"#d8576b\"],[0.6666666666666666,\"#ed7953\"],[0.7777777777777778,\"#fb9f3a\"],[0.8888888888888888,\"#fdca26\"],[1.0,\"#f0f921\"]],\"sequentialminus\":[[0.0,\"#0d0887\"],[0.1111111111111111,\"#46039f\"],[0.2222222222222222,\"#7201a8\"],[0.3333333333333333,\"#9c179e\"],[0.4444444444444444,\"#bd3786\"],[0.5555555555555556,\"#d8576b\"],[0.6666666666666666,\"#ed7953\"],[0.7777777777777778,\"#fb9f3a\"],[0.8888888888888888,\"#fdca26\"],[1.0,\"#f0f921\"]],\"diverging\":[[0,\"#8e0152\"],[0.1,\"#c51b7d\"],[0.2,\"#de77ae\"],[0.3,\"#f1b6da\"],[0.4,\"#fde0ef\"],[0.5,\"#f7f7f7\"],[0.6,\"#e6f5d0\"],[0.7,\"#b8e186\"],[0.8,\"#7fbc41\"],[0.9,\"#4d9221\"],[1,\"#276419\"]]},\"xaxis\":{\"gridcolor\":\"white\",\"linecolor\":\"white\",\"ticks\":\"\",\"title\":{\"standoff\":15},\"zerolinecolor\":\"white\",\"automargin\":true,\"zerolinewidth\":2},\"yaxis\":{\"gridcolor\":\"white\",\"linecolor\":\"white\",\"ticks\":\"\",\"title\":{\"standoff\":15},\"zerolinecolor\":\"white\",\"automargin\":true,\"zerolinewidth\":2},\"scene\":{\"xaxis\":{\"backgroundcolor\":\"#E5ECF6\",\"gridcolor\":\"white\",\"linecolor\":\"white\",\"showbackground\":true,\"ticks\":\"\",\"zerolinecolor\":\"white\",\"gridwidth\":2},\"yaxis\":{\"backgroundcolor\":\"#E5ECF6\",\"gridcolor\":\"white\",\"linecolor\":\"white\",\"showbackground\":true,\"ticks\":\"\",\"zerolinecolor\":\"white\",\"gridwidth\":2},\"zaxis\":{\"backgroundcolor\":\"#E5ECF6\",\"gridcolor\":\"white\",\"linecolor\":\"white\",\"showbackground\":true,\"ticks\":\"\",\"zerolinecolor\":\"white\",\"gridwidth\":2}},\"shapedefaults\":{\"line\":{\"color\":\"#2a3f5f\"}},\"annotationdefaults\":{\"arrowcolor\":\"#2a3f5f\",\"arrowhead\":0,\"arrowwidth\":1},\"geo\":{\"bgcolor\":\"white\",\"landcolor\":\"#E5ECF6\",\"subunitcolor\":\"white\",\"showland\":true,\"showlakes\":true,\"lakecolor\":\"white\"},\"title\":{\"x\":0.05},\"mapbox\":{\"style\":\"light\"}}},\"xaxis\":{\"anchor\":\"y\",\"domain\":[0.0,1.0],\"title\":{\"text\":\"Gender\"}},\"yaxis\":{\"anchor\":\"x\",\"domain\":[0.0,1.0],\"title\":{\"text\":\"Purchase Amount (USD)\"}},\"legend\":{\"tracegroupgap\":0},\"margin\":{\"t\":60},\"barmode\":\"relative\"},                        {\"responsive\": true}                    ).then(function(){\n",
              "                            \n",
              "var gd = document.getElementById('ff609b9d-2c9d-4816-8f71-cf34dd0e510d');\n",
              "var x = new MutationObserver(function (mutations, observer) {{\n",
              "        var display = window.getComputedStyle(gd).display;\n",
              "        if (!display || display === 'none') {{\n",
              "            console.log([gd, 'removed!']);\n",
              "            Plotly.purge(gd);\n",
              "            observer.disconnect();\n",
              "        }}\n",
              "}});\n",
              "\n",
              "// Listen for the removal of the full notebook cells\n",
              "var notebookContainer = gd.closest('#notebook-container');\n",
              "if (notebookContainer) {{\n",
              "    x.observe(notebookContainer, {childList: true});\n",
              "}}\n",
              "\n",
              "// Listen for the clearing of the current output cell\n",
              "var outputEl = gd.closest('.output');\n",
              "if (outputEl) {{\n",
              "    x.observe(outputEl, {childList: true});\n",
              "}}\n",
              "\n",
              "                        })                };                            </script>        </div>\n",
              "</body>\n",
              "</html>"
            ]
          },
          "metadata": {}
        }
      ]
    },
    {
      "cell_type": "code",
      "source": [
        "px.sunburst(data_frame= df , path = ['Gender' ,'Age_category'] , values='Purchase Amount (USD)')"
      ],
      "metadata": {
        "colab": {
          "base_uri": "https://localhost:8080/",
          "height": 631
        },
        "id": "mYXIn3_SP5Th",
        "outputId": "955c4b79-d849-47cf-f615-7093e922eeac"
      },
      "execution_count": 127,
      "outputs": [
        {
          "output_type": "stream",
          "name": "stderr",
          "text": [
            "/usr/local/lib/python3.11/dist-packages/plotly/express/_core.py:1727: FutureWarning:\n",
            "\n",
            "The default of observed=False is deprecated and will be changed to True in a future version of pandas. Pass observed=False to retain current behavior or observed=True to adopt the future default and silence this warning.\n",
            "\n"
          ]
        },
        {
          "output_type": "display_data",
          "data": {
            "text/html": [
              "<html>\n",
              "<head><meta charset=\"utf-8\" /></head>\n",
              "<body>\n",
              "    <div>            <script src=\"https://cdnjs.cloudflare.com/ajax/libs/mathjax/2.7.5/MathJax.js?config=TeX-AMS-MML_SVG\"></script><script type=\"text/javascript\">if (window.MathJax && window.MathJax.Hub && window.MathJax.Hub.Config) {window.MathJax.Hub.Config({SVG: {font: \"STIX-Web\"}});}</script>                <script type=\"text/javascript\">window.PlotlyConfig = {MathJaxConfig: 'local'};</script>\n",
              "        <script charset=\"utf-8\" src=\"https://cdn.plot.ly/plotly-2.35.2.min.js\"></script>                <div id=\"18fc70fa-0790-4007-b035-8c315d21ee93\" class=\"plotly-graph-div\" style=\"height:525px; width:100%;\"></div>            <script type=\"text/javascript\">                                    window.PLOTLYENV=window.PLOTLYENV || {};                                    if (document.getElementById(\"18fc70fa-0790-4007-b035-8c315d21ee93\")) {                    Plotly.newPlot(                        \"18fc70fa-0790-4007-b035-8c315d21ee93\",                        [{\"branchvalues\":\"total\",\"domain\":{\"x\":[0.0,1.0],\"y\":[0.0,1.0]},\"hovertemplate\":\"labels=%{label}\\u003cbr\\u003ePurchase Amount (USD)=%{value}\\u003cbr\\u003eparent=%{parent}\\u003cbr\\u003eid=%{id}\\u003cextra\\u003e\\u003c\\u002fextra\\u003e\",\"ids\":[\"Female\\u002fchild\",\"Male\\u002fchild\",\"Female\\u002fteen\",\"Male\\u002fteen\",\"Female\\u002fYoung Adults\",\"Male\\u002fYoung Adults\",\"Female\\u002fMiddle-Aged Adults\",\"Male\\u002fMiddle-Aged Adults\",\"Female\\u002fold\",\"Male\\u002fold\",\"Female\",\"Male\"],\"labels\":[\"child\",\"child\",\"teen\",\"teen\",\"Young Adults\",\"Young Adults\",\"Middle-Aged Adults\",\"Middle-Aged Adults\",\"old\",\"old\",\"Female\",\"Male\"],\"name\":\"\",\"parents\":[\"Female\",\"Male\",\"Female\",\"Male\",\"Female\",\"Male\",\"Female\",\"Male\",\"Female\",\"Male\",\"\",\"\"],\"values\":[0,0,1194,2945,17141,35999,28971,58351,27885,60595,75191,157890],\"type\":\"sunburst\"}],                        {\"template\":{\"data\":{\"histogram2dcontour\":[{\"type\":\"histogram2dcontour\",\"colorbar\":{\"outlinewidth\":0,\"ticks\":\"\"},\"colorscale\":[[0.0,\"#0d0887\"],[0.1111111111111111,\"#46039f\"],[0.2222222222222222,\"#7201a8\"],[0.3333333333333333,\"#9c179e\"],[0.4444444444444444,\"#bd3786\"],[0.5555555555555556,\"#d8576b\"],[0.6666666666666666,\"#ed7953\"],[0.7777777777777778,\"#fb9f3a\"],[0.8888888888888888,\"#fdca26\"],[1.0,\"#f0f921\"]]}],\"choropleth\":[{\"type\":\"choropleth\",\"colorbar\":{\"outlinewidth\":0,\"ticks\":\"\"}}],\"histogram2d\":[{\"type\":\"histogram2d\",\"colorbar\":{\"outlinewidth\":0,\"ticks\":\"\"},\"colorscale\":[[0.0,\"#0d0887\"],[0.1111111111111111,\"#46039f\"],[0.2222222222222222,\"#7201a8\"],[0.3333333333333333,\"#9c179e\"],[0.4444444444444444,\"#bd3786\"],[0.5555555555555556,\"#d8576b\"],[0.6666666666666666,\"#ed7953\"],[0.7777777777777778,\"#fb9f3a\"],[0.8888888888888888,\"#fdca26\"],[1.0,\"#f0f921\"]]}],\"heatmap\":[{\"type\":\"heatmap\",\"colorbar\":{\"outlinewidth\":0,\"ticks\":\"\"},\"colorscale\":[[0.0,\"#0d0887\"],[0.1111111111111111,\"#46039f\"],[0.2222222222222222,\"#7201a8\"],[0.3333333333333333,\"#9c179e\"],[0.4444444444444444,\"#bd3786\"],[0.5555555555555556,\"#d8576b\"],[0.6666666666666666,\"#ed7953\"],[0.7777777777777778,\"#fb9f3a\"],[0.8888888888888888,\"#fdca26\"],[1.0,\"#f0f921\"]]}],\"heatmapgl\":[{\"type\":\"heatmapgl\",\"colorbar\":{\"outlinewidth\":0,\"ticks\":\"\"},\"colorscale\":[[0.0,\"#0d0887\"],[0.1111111111111111,\"#46039f\"],[0.2222222222222222,\"#7201a8\"],[0.3333333333333333,\"#9c179e\"],[0.4444444444444444,\"#bd3786\"],[0.5555555555555556,\"#d8576b\"],[0.6666666666666666,\"#ed7953\"],[0.7777777777777778,\"#fb9f3a\"],[0.8888888888888888,\"#fdca26\"],[1.0,\"#f0f921\"]]}],\"contourcarpet\":[{\"type\":\"contourcarpet\",\"colorbar\":{\"outlinewidth\":0,\"ticks\":\"\"}}],\"contour\":[{\"type\":\"contour\",\"colorbar\":{\"outlinewidth\":0,\"ticks\":\"\"},\"colorscale\":[[0.0,\"#0d0887\"],[0.1111111111111111,\"#46039f\"],[0.2222222222222222,\"#7201a8\"],[0.3333333333333333,\"#9c179e\"],[0.4444444444444444,\"#bd3786\"],[0.5555555555555556,\"#d8576b\"],[0.6666666666666666,\"#ed7953\"],[0.7777777777777778,\"#fb9f3a\"],[0.8888888888888888,\"#fdca26\"],[1.0,\"#f0f921\"]]}],\"surface\":[{\"type\":\"surface\",\"colorbar\":{\"outlinewidth\":0,\"ticks\":\"\"},\"colorscale\":[[0.0,\"#0d0887\"],[0.1111111111111111,\"#46039f\"],[0.2222222222222222,\"#7201a8\"],[0.3333333333333333,\"#9c179e\"],[0.4444444444444444,\"#bd3786\"],[0.5555555555555556,\"#d8576b\"],[0.6666666666666666,\"#ed7953\"],[0.7777777777777778,\"#fb9f3a\"],[0.8888888888888888,\"#fdca26\"],[1.0,\"#f0f921\"]]}],\"mesh3d\":[{\"type\":\"mesh3d\",\"colorbar\":{\"outlinewidth\":0,\"ticks\":\"\"}}],\"scatter\":[{\"fillpattern\":{\"fillmode\":\"overlay\",\"size\":10,\"solidity\":0.2},\"type\":\"scatter\"}],\"parcoords\":[{\"type\":\"parcoords\",\"line\":{\"colorbar\":{\"outlinewidth\":0,\"ticks\":\"\"}}}],\"scatterpolargl\":[{\"type\":\"scatterpolargl\",\"marker\":{\"colorbar\":{\"outlinewidth\":0,\"ticks\":\"\"}}}],\"bar\":[{\"error_x\":{\"color\":\"#2a3f5f\"},\"error_y\":{\"color\":\"#2a3f5f\"},\"marker\":{\"line\":{\"color\":\"#E5ECF6\",\"width\":0.5},\"pattern\":{\"fillmode\":\"overlay\",\"size\":10,\"solidity\":0.2}},\"type\":\"bar\"}],\"scattergeo\":[{\"type\":\"scattergeo\",\"marker\":{\"colorbar\":{\"outlinewidth\":0,\"ticks\":\"\"}}}],\"scatterpolar\":[{\"type\":\"scatterpolar\",\"marker\":{\"colorbar\":{\"outlinewidth\":0,\"ticks\":\"\"}}}],\"histogram\":[{\"marker\":{\"pattern\":{\"fillmode\":\"overlay\",\"size\":10,\"solidity\":0.2}},\"type\":\"histogram\"}],\"scattergl\":[{\"type\":\"scattergl\",\"marker\":{\"colorbar\":{\"outlinewidth\":0,\"ticks\":\"\"}}}],\"scatter3d\":[{\"type\":\"scatter3d\",\"line\":{\"colorbar\":{\"outlinewidth\":0,\"ticks\":\"\"}},\"marker\":{\"colorbar\":{\"outlinewidth\":0,\"ticks\":\"\"}}}],\"scattermapbox\":[{\"type\":\"scattermapbox\",\"marker\":{\"colorbar\":{\"outlinewidth\":0,\"ticks\":\"\"}}}],\"scatterternary\":[{\"type\":\"scatterternary\",\"marker\":{\"colorbar\":{\"outlinewidth\":0,\"ticks\":\"\"}}}],\"scattercarpet\":[{\"type\":\"scattercarpet\",\"marker\":{\"colorbar\":{\"outlinewidth\":0,\"ticks\":\"\"}}}],\"carpet\":[{\"aaxis\":{\"endlinecolor\":\"#2a3f5f\",\"gridcolor\":\"white\",\"linecolor\":\"white\",\"minorgridcolor\":\"white\",\"startlinecolor\":\"#2a3f5f\"},\"baxis\":{\"endlinecolor\":\"#2a3f5f\",\"gridcolor\":\"white\",\"linecolor\":\"white\",\"minorgridcolor\":\"white\",\"startlinecolor\":\"#2a3f5f\"},\"type\":\"carpet\"}],\"table\":[{\"cells\":{\"fill\":{\"color\":\"#EBF0F8\"},\"line\":{\"color\":\"white\"}},\"header\":{\"fill\":{\"color\":\"#C8D4E3\"},\"line\":{\"color\":\"white\"}},\"type\":\"table\"}],\"barpolar\":[{\"marker\":{\"line\":{\"color\":\"#E5ECF6\",\"width\":0.5},\"pattern\":{\"fillmode\":\"overlay\",\"size\":10,\"solidity\":0.2}},\"type\":\"barpolar\"}],\"pie\":[{\"automargin\":true,\"type\":\"pie\"}]},\"layout\":{\"autotypenumbers\":\"strict\",\"colorway\":[\"#636efa\",\"#EF553B\",\"#00cc96\",\"#ab63fa\",\"#FFA15A\",\"#19d3f3\",\"#FF6692\",\"#B6E880\",\"#FF97FF\",\"#FECB52\"],\"font\":{\"color\":\"#2a3f5f\"},\"hovermode\":\"closest\",\"hoverlabel\":{\"align\":\"left\"},\"paper_bgcolor\":\"white\",\"plot_bgcolor\":\"#E5ECF6\",\"polar\":{\"bgcolor\":\"#E5ECF6\",\"angularaxis\":{\"gridcolor\":\"white\",\"linecolor\":\"white\",\"ticks\":\"\"},\"radialaxis\":{\"gridcolor\":\"white\",\"linecolor\":\"white\",\"ticks\":\"\"}},\"ternary\":{\"bgcolor\":\"#E5ECF6\",\"aaxis\":{\"gridcolor\":\"white\",\"linecolor\":\"white\",\"ticks\":\"\"},\"baxis\":{\"gridcolor\":\"white\",\"linecolor\":\"white\",\"ticks\":\"\"},\"caxis\":{\"gridcolor\":\"white\",\"linecolor\":\"white\",\"ticks\":\"\"}},\"coloraxis\":{\"colorbar\":{\"outlinewidth\":0,\"ticks\":\"\"}},\"colorscale\":{\"sequential\":[[0.0,\"#0d0887\"],[0.1111111111111111,\"#46039f\"],[0.2222222222222222,\"#7201a8\"],[0.3333333333333333,\"#9c179e\"],[0.4444444444444444,\"#bd3786\"],[0.5555555555555556,\"#d8576b\"],[0.6666666666666666,\"#ed7953\"],[0.7777777777777778,\"#fb9f3a\"],[0.8888888888888888,\"#fdca26\"],[1.0,\"#f0f921\"]],\"sequentialminus\":[[0.0,\"#0d0887\"],[0.1111111111111111,\"#46039f\"],[0.2222222222222222,\"#7201a8\"],[0.3333333333333333,\"#9c179e\"],[0.4444444444444444,\"#bd3786\"],[0.5555555555555556,\"#d8576b\"],[0.6666666666666666,\"#ed7953\"],[0.7777777777777778,\"#fb9f3a\"],[0.8888888888888888,\"#fdca26\"],[1.0,\"#f0f921\"]],\"diverging\":[[0,\"#8e0152\"],[0.1,\"#c51b7d\"],[0.2,\"#de77ae\"],[0.3,\"#f1b6da\"],[0.4,\"#fde0ef\"],[0.5,\"#f7f7f7\"],[0.6,\"#e6f5d0\"],[0.7,\"#b8e186\"],[0.8,\"#7fbc41\"],[0.9,\"#4d9221\"],[1,\"#276419\"]]},\"xaxis\":{\"gridcolor\":\"white\",\"linecolor\":\"white\",\"ticks\":\"\",\"title\":{\"standoff\":15},\"zerolinecolor\":\"white\",\"automargin\":true,\"zerolinewidth\":2},\"yaxis\":{\"gridcolor\":\"white\",\"linecolor\":\"white\",\"ticks\":\"\",\"title\":{\"standoff\":15},\"zerolinecolor\":\"white\",\"automargin\":true,\"zerolinewidth\":2},\"scene\":{\"xaxis\":{\"backgroundcolor\":\"#E5ECF6\",\"gridcolor\":\"white\",\"linecolor\":\"white\",\"showbackground\":true,\"ticks\":\"\",\"zerolinecolor\":\"white\",\"gridwidth\":2},\"yaxis\":{\"backgroundcolor\":\"#E5ECF6\",\"gridcolor\":\"white\",\"linecolor\":\"white\",\"showbackground\":true,\"ticks\":\"\",\"zerolinecolor\":\"white\",\"gridwidth\":2},\"zaxis\":{\"backgroundcolor\":\"#E5ECF6\",\"gridcolor\":\"white\",\"linecolor\":\"white\",\"showbackground\":true,\"ticks\":\"\",\"zerolinecolor\":\"white\",\"gridwidth\":2}},\"shapedefaults\":{\"line\":{\"color\":\"#2a3f5f\"}},\"annotationdefaults\":{\"arrowcolor\":\"#2a3f5f\",\"arrowhead\":0,\"arrowwidth\":1},\"geo\":{\"bgcolor\":\"white\",\"landcolor\":\"#E5ECF6\",\"subunitcolor\":\"white\",\"showland\":true,\"showlakes\":true,\"lakecolor\":\"white\"},\"title\":{\"x\":0.05},\"mapbox\":{\"style\":\"light\"}}},\"legend\":{\"tracegroupgap\":0},\"margin\":{\"t\":60}},                        {\"responsive\": true}                    ).then(function(){\n",
              "                            \n",
              "var gd = document.getElementById('18fc70fa-0790-4007-b035-8c315d21ee93');\n",
              "var x = new MutationObserver(function (mutations, observer) {{\n",
              "        var display = window.getComputedStyle(gd).display;\n",
              "        if (!display || display === 'none') {{\n",
              "            console.log([gd, 'removed!']);\n",
              "            Plotly.purge(gd);\n",
              "            observer.disconnect();\n",
              "        }}\n",
              "}});\n",
              "\n",
              "// Listen for the removal of the full notebook cells\n",
              "var notebookContainer = gd.closest('#notebook-container');\n",
              "if (notebookContainer) {{\n",
              "    x.observe(notebookContainer, {childList: true});\n",
              "}}\n",
              "\n",
              "// Listen for the clearing of the current output cell\n",
              "var outputEl = gd.closest('.output');\n",
              "if (outputEl) {{\n",
              "    x.observe(outputEl, {childList: true});\n",
              "}}\n",
              "\n",
              "                        })                };                            </script>        </div>\n",
              "</body>\n",
              "</html>"
            ]
          },
          "metadata": {}
        }
      ]
    },
    {
      "cell_type": "code",
      "source": [],
      "metadata": {
        "id": "hH6hshHZP8Jj"
      },
      "execution_count": null,
      "outputs": []
    }
  ]
}